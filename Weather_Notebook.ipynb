{
  "nbformat": 4,
  "nbformat_minor": 0,
  "metadata": {
    "colab": {
      "provenance": [],
      "authorship_tag": "ABX9TyPvKXMVxu1qrFM57SrYLFOR",
      "include_colab_link": true
    },
    "kernelspec": {
      "name": "python3",
      "display_name": "Python 3"
    },
    "language_info": {
      "name": "python"
    }
  },
  "cells": [
    {
      "cell_type": "markdown",
      "metadata": {
        "id": "view-in-github",
        "colab_type": "text"
      },
      "source": [
        "<a href=\"https://colab.research.google.com/github/joat26/NLP/blob/main/Weather_Notebook.ipynb\" target=\"_parent\"><img src=\"https://colab.research.google.com/assets/colab-badge.svg\" alt=\"Open In Colab\"/></a>"
      ]
    },
    {
      "cell_type": "markdown",
      "source": [
        "IMPORT LIBRARIES\n"
      ],
      "metadata": {
        "id": "RvcSE8Nd4vV6"
      }
    },
    {
      "cell_type": "code",
      "execution_count": 20,
      "metadata": {
        "id": "dqt1-lDWuXkS"
      },
      "outputs": [],
      "source": [
        "import requests\n",
        "import pandas as pd\n",
        "import numpy as np\n",
        "from sklearn.model_selection import train_test_split\n",
        "from sklearn.preprocessing import LabelEncoder\n",
        "from sklearn.ensemble import RandomForestClassifier, RandomForestRegressor\n",
        "from sklearn.metrics import mean_squared_error\n",
        "from datetime import datetime, timedelta\n",
        "import pytz"
      ]
    },
    {
      "cell_type": "code",
      "source": [
        "API_KEY= '2c00adc9b036ce87b1701367d0de1777'\n",
        "BASE_URL= 'https://api.openweathermap.org/data/2.5/'"
      ],
      "metadata": {
        "id": "FAqEpWt85-od"
      },
      "execution_count": 21,
      "outputs": []
    },
    {
      "cell_type": "markdown",
      "source": [
        "1. Fetch"
      ],
      "metadata": {
        "id": "tMiVIHyk7z9-"
      }
    },
    {
      "cell_type": "code",
      "source": [
        "def get_current_weather(city):\n",
        "  url = f\"{BASE_URL}weather?q={city}&appid={API_KEY}&units=metric\"\n",
        "  response = requests.get(url)\n",
        "  data = response.json()\n",
        "  return{\n",
        "      'city': data['name'],\n",
        "      'current_temp': round(data['main']['temp']),\n",
        "      'feels_like': round(data['main']['feels_like']),\n",
        "      'temp_min': round(data['main']['temp_min']),\n",
        "      'temp_max': round(data['main']['temp_max']),\n",
        "      'humidity': round(data['main']['humidity']),\n",
        "      'description': data['weather'][0]['description'],\n",
        "      'country': data['sys']['country'],\n",
        "      'wind_gust_dir': data[ 'wind']['deg'],\n",
        "      'pressure': data[ 'main'] ['pressure'],\n",
        "      'wind_gust_speed': data[ 'wind']['speed']\n",
        "  }"
      ],
      "metadata": {
        "id": "62nM2Io97xfa"
      },
      "execution_count": 77,
      "outputs": []
    },
    {
      "cell_type": "code",
      "source": [
        "def read_historical_data(filename):\n",
        "  df = pd.read_csv(filename)\n",
        "  df = df.drop_duplicates()\n",
        "  return df"
      ],
      "metadata": {
        "id": "T-1cxyw59TE7"
      },
      "execution_count": 40,
      "outputs": []
    },
    {
      "cell_type": "code",
      "source": [
        "def prepare_data(data):\n",
        "  le = LabelEncoder()\n",
        "  data['WindGustDir'] = le.fit_transform(data['WindGustDir'])\n",
        "  data['RainTomorrow'] = le.fit_transform(data['RainTomorrow'])\n",
        "\n",
        "\n",
        "  X = data[['MinTemp', 'MaxTemp', 'WindGustDir', 'WindGustSpeed', 'Humidity', 'Pressure', 'Temp']]\n",
        "  y = data['RainTomorrow']\n",
        "  return X, y, le"
      ],
      "metadata": {
        "id": "Y0cOeInQ-h8o"
      },
      "execution_count": 41,
      "outputs": []
    },
    {
      "cell_type": "markdown",
      "source": [
        "TRAIN RAIN PREDICTION MODEL"
      ],
      "metadata": {
        "id": "L-nrcW1G_7yv"
      }
    },
    {
      "cell_type": "code",
      "source": [
        "def train_rain_model(X, y):\n",
        "\n",
        "  X_train, X_test, y_train, y_test = train_test_split(X, y, test_size=0.2, random_state=42)\n",
        "\n",
        "  model = RandomForestClassifier(n_estimators=100, random_state=42)\n",
        "\n",
        "  model.fit(X_train, y_train) #train the model\n",
        "\n",
        "  y_pred = model.predict(X_test) #to make predictions on test set\n",
        "\n",
        "  print(\"Mean Squared Error for Rain Model\")\n",
        "\n",
        "  print (mean_squared_error (y_test, y_pred))\n",
        "\n",
        "  return model"
      ],
      "metadata": {
        "id": "DS-UjHhj_wK5"
      },
      "execution_count": 54,
      "outputs": []
    },
    {
      "cell_type": "code",
      "source": [
        "def prepare_regression_data(data, feature):\n",
        "\n",
        "  X,y=[], []\n",
        "\n",
        "\n",
        "\n",
        "  for i in range(len(data) - 1):\n",
        "\n",
        "    X.append(data[feature].iloc[i])\n",
        "\n",
        "    y.append(data[feature].iloc[i+1])\n",
        "\n",
        "  X = np.array(X).reshape(-1, 1)\n",
        "\n",
        "  y = np.array(y)\n",
        "\n",
        "  return X, y"
      ],
      "metadata": {
        "id": "f_9CeCjQBvqP"
      },
      "execution_count": 43,
      "outputs": []
    },
    {
      "cell_type": "code",
      "source": [
        "def train_regression_model(X, y):\n",
        "\n",
        "  model = RandomForestRegressor(n_estimators=100, random_state=42)\n",
        "\n",
        "  model.fit(X, y)\n",
        "\n",
        "  return model"
      ],
      "metadata": {
        "id": "ywXyOsuoDT60"
      },
      "execution_count": 44,
      "outputs": []
    },
    {
      "cell_type": "code",
      "source": [
        "def predict_future(model, current_value):\n",
        "\n",
        "  predictions=[current_value]\n",
        "\n",
        "  for i in range(5):\n",
        "\n",
        "    next_value=model.predict(np.array([[predictions[-1]]]))\n",
        "\n",
        "    predictions.append(next_value[0])\n",
        "\n",
        "  return predictions[1:]\n",
        "\n",
        "  for i in range(5):\n",
        "\n",
        "    next_value=model.predict(np.array([[predictions[-1]]]))\n",
        "\n",
        "    predictions.append(next_value[0])\n",
        "\n",
        "  return predictions [1:]"
      ],
      "metadata": {
        "id": "tflPFM0uDlZP"
      },
      "execution_count": 45,
      "outputs": []
    },
    {
      "cell_type": "code",
      "source": [
        "from datetime import datetime, timedelta\n",
        "import pytz\n",
        "import pandas as pd\n",
        "from time import strftime\n",
        "from dataclasses import replace\n",
        "\n",
        "\n",
        "def weather_view():\n",
        "    city = input('Enter any city name: ')\n",
        "    current_weather = get_current_weather(city)\n",
        "\n",
        "\n",
        "# Load historical data\n",
        "    historical_data = read_historical_data('weather.csv')\n",
        "\n",
        "\n",
        "\n",
        "#prepae and train the rain prediction model\n",
        "\n",
        "\n",
        "    X, y, le = prepare_data(historical_data)\n",
        "\n",
        "    rain_model = train_rain_model(X, y)\n",
        "\n",
        "# Map wind direction to compass points\n",
        "    wind_deg = current_weather['wind_gust_dir'] % 360\n",
        "    compass_points = [\n",
        "      (\"N\", 0, 11.25), (\"NNE\", 11.25, 33.75), (\"NE\", 33.75, 56.25),\n",
        "      (\"ENE\", 56.25, 78.75), (\"E\", 78.75, 101.25), (\"ESE\", 101.25, 123.75),\n",
        "      (\"SE\", 123.75, 146.25), (\"SSE\", 146.25, 168.75), (\"S\", 168.75, 191.25),\n",
        "      (\"SSW\", 191.25, 213.75), (\"SW\", 213.75, 236.25), (\"WSW\", 236.25, 258.75),\n",
        "      (\"W\", 258.75, 281.25), (\"WNW\", 281.25, 303.75), (\"NW\", 303.75, 326.25),\n",
        "      (\"NNW\", 326.25, 348.75), (\"N\", 348.75, 360)\n",
        "]\n",
        "\n",
        "    compass_direction = next(point for point, start, end in compass_points if start <= wind_deg < end)\n",
        "    compass_direction_encoded = le.transform([compass_direction])[0] if compass_direction in le.classes_ else -1\n",
        "\n",
        "# Prepare current data for prediction\n",
        "    current_data = {\n",
        "      'MinTemp': current_weather['temp_min'],\n",
        "      'MaxTemp': current_weather['temp_max'],\n",
        "      'WindGustDir': compass_direction_encoded,\n",
        "      'WindGustSpeed': current_weather['wind_gust_speed'],\n",
        "      'Humidity': current_weather['humidity'],\n",
        "      'Pressure': current_weather['pressure'],\n",
        "      'Temp': current_weather['current_temp'],\n",
        "}\n",
        "\n",
        "    current_df = pd.DataFrame([current_data])\n",
        "    rain_prediction = rain_model.predict(current_df)[0]\n",
        "\n",
        "# Train regression models for temperature and humidity\n",
        "    X_temp, y_temp = prepare_regression_data(historical_data, 'Temp')\n",
        "    X_hum, y_hum = prepare_regression_data(historical_data, 'Humidity')\n",
        "\n",
        "    temp_model = train_regression_model(X_temp, y_temp)\n",
        "    hum_model = train_regression_model(X_hum, y_hum)\n",
        "\n",
        "# Predict future temperature and humidity\n",
        "    future_temp = predict_future(temp_model, current_weather['temp_min'])\n",
        "    future_humidity = predict_future(hum_model, current_weather['humidity'])\n",
        "\n",
        "# Generate future time labels\n",
        "    timezone = pytz.timezone('Asia/Karachi')\n",
        "    now = datetime.now(timezone)\n",
        "    next_hour = now + timedelta(hours=1)\n",
        "    next_hour = next_hour.replace(minute=0, second=0, microsecond=0)\n",
        "    future_times = [(next_hour + timedelta(hours=i)).strftime(\"%H:00\") for i in range(5)]\n",
        "\n",
        "# Display current weather information\n",
        "    print(f\"City: {city}, {current_weather['country']}\")\n",
        "    print(f\"Current Temperature: {current_weather['current_temp']}°C\")\n",
        "    print(f\"Feels Like: {current_weather['feels_like']}°C\")\n",
        "    print(f\"Temp Min: {current_weather['temp_min']}°C\")\n",
        "    print(f\"Temp Max: {current_weather['temp_max']}°C\")\n",
        "    print(f\"Humidity: {current_weather['humidity']}%\")\n",
        "    print(f\"Weather Prediction: {current_weather['description']}\")\n",
        "    print(f\"Rain Prediction: {'Yes' if rain_prediction else 'No'}\")\n",
        "\n",
        "# Display future predictions\n",
        "    print(\"\\nFuture Temperature Predictions:\")\n",
        "    for time, temp in zip(future_times, future_temp):\n",
        "        print(f\"{time}: {round(temp, 1)}°C\")\n",
        "\n",
        "    print(\"\\nFuture Humidity Predictions:\")\n",
        "    for time, humidity in zip(future_times, future_humidity):\n",
        "        print(f\"{time}: {round(humidity, 1)}%\")\n",
        "\n",
        "# Visualize the data\n",
        "weather_view()\n"
      ],
      "metadata": {
        "colab": {
          "base_uri": "https://localhost:8080/"
        },
        "id": "SGxpGw1yIj-n",
        "outputId": "f5884169-670e-4a84-b07b-03df718468e6"
      },
      "execution_count": 79,
      "outputs": [
        {
          "output_type": "stream",
          "name": "stdout",
          "text": [
            "Enter any city name: tokyo\n",
            "Mean Squared Error for Rain Model\n",
            "0.16216216216216217\n",
            "City: tokyo, JP\n",
            "Current Temperature: 8°C\n",
            "Feels Like: 6°C\n",
            "Temp Min: 7°C\n",
            "Temp Max: 9°C\n",
            "Humidity: 54%\n",
            "Weather Prediction: broken clouds\n",
            "Rain Prediction: No\n",
            "\n",
            "Future Temperature Predictions:\n",
            "17:00: 8.7°C\n",
            "18:00: 10.8°C\n",
            "19:00: 12.8°C\n",
            "20:00: 12.9°C\n",
            "21:00: 11.8°C\n",
            "\n",
            "Future Humidity Predictions:\n",
            "17:00: 58.6%\n",
            "18:00: 67.1%\n",
            "19:00: 76.5%\n",
            "20:00: 62.0%\n",
            "21:00: 56.4%\n"
          ]
        }
      ]
    }
  ]
}