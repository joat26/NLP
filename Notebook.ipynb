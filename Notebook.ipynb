{
  "metadata": {
    "kernelspec": {
      "display_name": "Python 3",
      "name": "python3"
    },
    "language_info": {
      "name": "python",
      "version": "3.10.14",
      "mimetype": "text/x-python",
      "codemirror_mode": {
        "name": "ipython",
        "version": 3
      },
      "pygments_lexer": "ipython3",
      "nbconvert_exporter": "python",
      "file_extension": ".py"
    },
    "kaggle": {
      "accelerator": "nvidiaTeslaT4",
      "dataSources": [],
      "dockerImageVersionId": 30805,
      "isInternetEnabled": true,
      "language": "python",
      "sourceType": "notebook",
      "isGpuEnabled": true
    },
    "colab": {
      "provenance": [],
      "gpuType": "T4",
      "include_colab_link": true
    },
    "accelerator": "GPU",
    "widgets": {
      "application/vnd.jupyter.widget-state+json": {
        "2cb3b8c1c29d4089a3b578f899151c42": {
          "model_module": "@jupyter-widgets/controls",
          "model_name": "HBoxModel",
          "model_module_version": "1.5.0",
          "state": {
            "_dom_classes": [],
            "_model_module": "@jupyter-widgets/controls",
            "_model_module_version": "1.5.0",
            "_model_name": "HBoxModel",
            "_view_count": null,
            "_view_module": "@jupyter-widgets/controls",
            "_view_module_version": "1.5.0",
            "_view_name": "HBoxView",
            "box_style": "",
            "children": [
              "IPY_MODEL_ea7aea9443f444dc972d06947c5269af",
              "IPY_MODEL_a9b0115e680f4ea6be78670ab56b4445",
              "IPY_MODEL_3869c3d00a7d42bdb49e7e2bb948b42a"
            ],
            "layout": "IPY_MODEL_6910e160138446c9a3f290eabb70190e"
          }
        },
        "ea7aea9443f444dc972d06947c5269af": {
          "model_module": "@jupyter-widgets/controls",
          "model_name": "HTMLModel",
          "model_module_version": "1.5.0",
          "state": {
            "_dom_classes": [],
            "_model_module": "@jupyter-widgets/controls",
            "_model_module_version": "1.5.0",
            "_model_name": "HTMLModel",
            "_view_count": null,
            "_view_module": "@jupyter-widgets/controls",
            "_view_module_version": "1.5.0",
            "_view_name": "HTMLView",
            "description": "",
            "description_tooltip": null,
            "layout": "IPY_MODEL_1d72c3622b5846c39660cf9f529d5581",
            "placeholder": "​",
            "style": "IPY_MODEL_408c84c8bceb420eb20bd6069d1e51c8",
            "value": "README.md: 100%"
          }
        },
        "a9b0115e680f4ea6be78670ab56b4445": {
          "model_module": "@jupyter-widgets/controls",
          "model_name": "FloatProgressModel",
          "model_module_version": "1.5.0",
          "state": {
            "_dom_classes": [],
            "_model_module": "@jupyter-widgets/controls",
            "_model_module_version": "1.5.0",
            "_model_name": "FloatProgressModel",
            "_view_count": null,
            "_view_module": "@jupyter-widgets/controls",
            "_view_module_version": "1.5.0",
            "_view_name": "ProgressView",
            "bar_style": "success",
            "description": "",
            "description_tooltip": null,
            "layout": "IPY_MODEL_bc8907d20082411abf0c9e7d96e96457",
            "max": 348,
            "min": 0,
            "orientation": "horizontal",
            "style": "IPY_MODEL_925dde195be84ce9a9e4d9a4b0855d31",
            "value": 348
          }
        },
        "3869c3d00a7d42bdb49e7e2bb948b42a": {
          "model_module": "@jupyter-widgets/controls",
          "model_name": "HTMLModel",
          "model_module_version": "1.5.0",
          "state": {
            "_dom_classes": [],
            "_model_module": "@jupyter-widgets/controls",
            "_model_module_version": "1.5.0",
            "_model_name": "HTMLModel",
            "_view_count": null,
            "_view_module": "@jupyter-widgets/controls",
            "_view_module_version": "1.5.0",
            "_view_name": "HTMLView",
            "description": "",
            "description_tooltip": null,
            "layout": "IPY_MODEL_223b89834f544a83a8a0386a1680c7e3",
            "placeholder": "​",
            "style": "IPY_MODEL_2f331aab43b84757ad2653cd5ca96930",
            "value": " 348/348 [00:00&lt;00:00, 9.42kB/s]"
          }
        },
        "6910e160138446c9a3f290eabb70190e": {
          "model_module": "@jupyter-widgets/base",
          "model_name": "LayoutModel",
          "model_module_version": "1.2.0",
          "state": {
            "_model_module": "@jupyter-widgets/base",
            "_model_module_version": "1.2.0",
            "_model_name": "LayoutModel",
            "_view_count": null,
            "_view_module": "@jupyter-widgets/base",
            "_view_module_version": "1.2.0",
            "_view_name": "LayoutView",
            "align_content": null,
            "align_items": null,
            "align_self": null,
            "border": null,
            "bottom": null,
            "display": null,
            "flex": null,
            "flex_flow": null,
            "grid_area": null,
            "grid_auto_columns": null,
            "grid_auto_flow": null,
            "grid_auto_rows": null,
            "grid_column": null,
            "grid_gap": null,
            "grid_row": null,
            "grid_template_areas": null,
            "grid_template_columns": null,
            "grid_template_rows": null,
            "height": null,
            "justify_content": null,
            "justify_items": null,
            "left": null,
            "margin": null,
            "max_height": null,
            "max_width": null,
            "min_height": null,
            "min_width": null,
            "object_fit": null,
            "object_position": null,
            "order": null,
            "overflow": null,
            "overflow_x": null,
            "overflow_y": null,
            "padding": null,
            "right": null,
            "top": null,
            "visibility": null,
            "width": null
          }
        },
        "1d72c3622b5846c39660cf9f529d5581": {
          "model_module": "@jupyter-widgets/base",
          "model_name": "LayoutModel",
          "model_module_version": "1.2.0",
          "state": {
            "_model_module": "@jupyter-widgets/base",
            "_model_module_version": "1.2.0",
            "_model_name": "LayoutModel",
            "_view_count": null,
            "_view_module": "@jupyter-widgets/base",
            "_view_module_version": "1.2.0",
            "_view_name": "LayoutView",
            "align_content": null,
            "align_items": null,
            "align_self": null,
            "border": null,
            "bottom": null,
            "display": null,
            "flex": null,
            "flex_flow": null,
            "grid_area": null,
            "grid_auto_columns": null,
            "grid_auto_flow": null,
            "grid_auto_rows": null,
            "grid_column": null,
            "grid_gap": null,
            "grid_row": null,
            "grid_template_areas": null,
            "grid_template_columns": null,
            "grid_template_rows": null,
            "height": null,
            "justify_content": null,
            "justify_items": null,
            "left": null,
            "margin": null,
            "max_height": null,
            "max_width": null,
            "min_height": null,
            "min_width": null,
            "object_fit": null,
            "object_position": null,
            "order": null,
            "overflow": null,
            "overflow_x": null,
            "overflow_y": null,
            "padding": null,
            "right": null,
            "top": null,
            "visibility": null,
            "width": null
          }
        },
        "408c84c8bceb420eb20bd6069d1e51c8": {
          "model_module": "@jupyter-widgets/controls",
          "model_name": "DescriptionStyleModel",
          "model_module_version": "1.5.0",
          "state": {
            "_model_module": "@jupyter-widgets/controls",
            "_model_module_version": "1.5.0",
            "_model_name": "DescriptionStyleModel",
            "_view_count": null,
            "_view_module": "@jupyter-widgets/base",
            "_view_module_version": "1.2.0",
            "_view_name": "StyleView",
            "description_width": ""
          }
        },
        "bc8907d20082411abf0c9e7d96e96457": {
          "model_module": "@jupyter-widgets/base",
          "model_name": "LayoutModel",
          "model_module_version": "1.2.0",
          "state": {
            "_model_module": "@jupyter-widgets/base",
            "_model_module_version": "1.2.0",
            "_model_name": "LayoutModel",
            "_view_count": null,
            "_view_module": "@jupyter-widgets/base",
            "_view_module_version": "1.2.0",
            "_view_name": "LayoutView",
            "align_content": null,
            "align_items": null,
            "align_self": null,
            "border": null,
            "bottom": null,
            "display": null,
            "flex": null,
            "flex_flow": null,
            "grid_area": null,
            "grid_auto_columns": null,
            "grid_auto_flow": null,
            "grid_auto_rows": null,
            "grid_column": null,
            "grid_gap": null,
            "grid_row": null,
            "grid_template_areas": null,
            "grid_template_columns": null,
            "grid_template_rows": null,
            "height": null,
            "justify_content": null,
            "justify_items": null,
            "left": null,
            "margin": null,
            "max_height": null,
            "max_width": null,
            "min_height": null,
            "min_width": null,
            "object_fit": null,
            "object_position": null,
            "order": null,
            "overflow": null,
            "overflow_x": null,
            "overflow_y": null,
            "padding": null,
            "right": null,
            "top": null,
            "visibility": null,
            "width": null
          }
        },
        "925dde195be84ce9a9e4d9a4b0855d31": {
          "model_module": "@jupyter-widgets/controls",
          "model_name": "ProgressStyleModel",
          "model_module_version": "1.5.0",
          "state": {
            "_model_module": "@jupyter-widgets/controls",
            "_model_module_version": "1.5.0",
            "_model_name": "ProgressStyleModel",
            "_view_count": null,
            "_view_module": "@jupyter-widgets/base",
            "_view_module_version": "1.2.0",
            "_view_name": "StyleView",
            "bar_color": null,
            "description_width": ""
          }
        },
        "223b89834f544a83a8a0386a1680c7e3": {
          "model_module": "@jupyter-widgets/base",
          "model_name": "LayoutModel",
          "model_module_version": "1.2.0",
          "state": {
            "_model_module": "@jupyter-widgets/base",
            "_model_module_version": "1.2.0",
            "_model_name": "LayoutModel",
            "_view_count": null,
            "_view_module": "@jupyter-widgets/base",
            "_view_module_version": "1.2.0",
            "_view_name": "LayoutView",
            "align_content": null,
            "align_items": null,
            "align_self": null,
            "border": null,
            "bottom": null,
            "display": null,
            "flex": null,
            "flex_flow": null,
            "grid_area": null,
            "grid_auto_columns": null,
            "grid_auto_flow": null,
            "grid_auto_rows": null,
            "grid_column": null,
            "grid_gap": null,
            "grid_row": null,
            "grid_template_areas": null,
            "grid_template_columns": null,
            "grid_template_rows": null,
            "height": null,
            "justify_content": null,
            "justify_items": null,
            "left": null,
            "margin": null,
            "max_height": null,
            "max_width": null,
            "min_height": null,
            "min_width": null,
            "object_fit": null,
            "object_position": null,
            "order": null,
            "overflow": null,
            "overflow_x": null,
            "overflow_y": null,
            "padding": null,
            "right": null,
            "top": null,
            "visibility": null,
            "width": null
          }
        },
        "2f331aab43b84757ad2653cd5ca96930": {
          "model_module": "@jupyter-widgets/controls",
          "model_name": "DescriptionStyleModel",
          "model_module_version": "1.5.0",
          "state": {
            "_model_module": "@jupyter-widgets/controls",
            "_model_module_version": "1.5.0",
            "_model_name": "DescriptionStyleModel",
            "_view_count": null,
            "_view_module": "@jupyter-widgets/base",
            "_view_module_version": "1.2.0",
            "_view_name": "StyleView",
            "description_width": ""
          }
        },
        "17168e7559ad402e96afd5f7f16d33b6": {
          "model_module": "@jupyter-widgets/controls",
          "model_name": "HBoxModel",
          "model_module_version": "1.5.0",
          "state": {
            "_dom_classes": [],
            "_model_module": "@jupyter-widgets/controls",
            "_model_module_version": "1.5.0",
            "_model_name": "HBoxModel",
            "_view_count": null,
            "_view_module": "@jupyter-widgets/controls",
            "_view_module_version": "1.5.0",
            "_view_name": "HBoxView",
            "box_style": "",
            "children": [
              "IPY_MODEL_440b0bea82434549971c6b898b45eb6f",
              "IPY_MODEL_bb8fa3dc553b48faa5028fd695ff8474",
              "IPY_MODEL_c289320490c1474b9ce3c2629e86c3dd"
            ],
            "layout": "IPY_MODEL_62300c2e7d1941d1834613ecd8a93bf2"
          }
        },
        "440b0bea82434549971c6b898b45eb6f": {
          "model_module": "@jupyter-widgets/controls",
          "model_name": "HTMLModel",
          "model_module_version": "1.5.0",
          "state": {
            "_dom_classes": [],
            "_model_module": "@jupyter-widgets/controls",
            "_model_module_version": "1.5.0",
            "_model_name": "HTMLModel",
            "_view_count": null,
            "_view_module": "@jupyter-widgets/controls",
            "_view_module_version": "1.5.0",
            "_view_name": "HTMLView",
            "description": "",
            "description_tooltip": null,
            "layout": "IPY_MODEL_e08113ee1ac94ac3bcbcf4280a2ec846",
            "placeholder": "​",
            "style": "IPY_MODEL_e2684db5627842f7a763d14d813fc146",
            "value": "sentences.csv: 100%"
          }
        },
        "bb8fa3dc553b48faa5028fd695ff8474": {
          "model_module": "@jupyter-widgets/controls",
          "model_name": "FloatProgressModel",
          "model_module_version": "1.5.0",
          "state": {
            "_dom_classes": [],
            "_model_module": "@jupyter-widgets/controls",
            "_model_module_version": "1.5.0",
            "_model_name": "FloatProgressModel",
            "_view_count": null,
            "_view_module": "@jupyter-widgets/controls",
            "_view_module_version": "1.5.0",
            "_view_name": "ProgressView",
            "bar_style": "success",
            "description": "",
            "description_tooltip": null,
            "layout": "IPY_MODEL_be489ed020cd45018e2ebdc5ce1c7b78",
            "max": 6337107,
            "min": 0,
            "orientation": "horizontal",
            "style": "IPY_MODEL_167e5a336c73447cab82717c99f4f938",
            "value": 6337107
          }
        },
        "c289320490c1474b9ce3c2629e86c3dd": {
          "model_module": "@jupyter-widgets/controls",
          "model_name": "HTMLModel",
          "model_module_version": "1.5.0",
          "state": {
            "_dom_classes": [],
            "_model_module": "@jupyter-widgets/controls",
            "_model_module_version": "1.5.0",
            "_model_name": "HTMLModel",
            "_view_count": null,
            "_view_module": "@jupyter-widgets/controls",
            "_view_module_version": "1.5.0",
            "_view_name": "HTMLView",
            "description": "",
            "description_tooltip": null,
            "layout": "IPY_MODEL_bdbcaa3a1aed4ca7a5a6a9ca28035450",
            "placeholder": "​",
            "style": "IPY_MODEL_7eae459d70f54b938d5357f3abf24022",
            "value": " 6.34M/6.34M [00:01&lt;00:00, 5.45MB/s]"
          }
        },
        "62300c2e7d1941d1834613ecd8a93bf2": {
          "model_module": "@jupyter-widgets/base",
          "model_name": "LayoutModel",
          "model_module_version": "1.2.0",
          "state": {
            "_model_module": "@jupyter-widgets/base",
            "_model_module_version": "1.2.0",
            "_model_name": "LayoutModel",
            "_view_count": null,
            "_view_module": "@jupyter-widgets/base",
            "_view_module_version": "1.2.0",
            "_view_name": "LayoutView",
            "align_content": null,
            "align_items": null,
            "align_self": null,
            "border": null,
            "bottom": null,
            "display": null,
            "flex": null,
            "flex_flow": null,
            "grid_area": null,
            "grid_auto_columns": null,
            "grid_auto_flow": null,
            "grid_auto_rows": null,
            "grid_column": null,
            "grid_gap": null,
            "grid_row": null,
            "grid_template_areas": null,
            "grid_template_columns": null,
            "grid_template_rows": null,
            "height": null,
            "justify_content": null,
            "justify_items": null,
            "left": null,
            "margin": null,
            "max_height": null,
            "max_width": null,
            "min_height": null,
            "min_width": null,
            "object_fit": null,
            "object_position": null,
            "order": null,
            "overflow": null,
            "overflow_x": null,
            "overflow_y": null,
            "padding": null,
            "right": null,
            "top": null,
            "visibility": null,
            "width": null
          }
        },
        "e08113ee1ac94ac3bcbcf4280a2ec846": {
          "model_module": "@jupyter-widgets/base",
          "model_name": "LayoutModel",
          "model_module_version": "1.2.0",
          "state": {
            "_model_module": "@jupyter-widgets/base",
            "_model_module_version": "1.2.0",
            "_model_name": "LayoutModel",
            "_view_count": null,
            "_view_module": "@jupyter-widgets/base",
            "_view_module_version": "1.2.0",
            "_view_name": "LayoutView",
            "align_content": null,
            "align_items": null,
            "align_self": null,
            "border": null,
            "bottom": null,
            "display": null,
            "flex": null,
            "flex_flow": null,
            "grid_area": null,
            "grid_auto_columns": null,
            "grid_auto_flow": null,
            "grid_auto_rows": null,
            "grid_column": null,
            "grid_gap": null,
            "grid_row": null,
            "grid_template_areas": null,
            "grid_template_columns": null,
            "grid_template_rows": null,
            "height": null,
            "justify_content": null,
            "justify_items": null,
            "left": null,
            "margin": null,
            "max_height": null,
            "max_width": null,
            "min_height": null,
            "min_width": null,
            "object_fit": null,
            "object_position": null,
            "order": null,
            "overflow": null,
            "overflow_x": null,
            "overflow_y": null,
            "padding": null,
            "right": null,
            "top": null,
            "visibility": null,
            "width": null
          }
        },
        "e2684db5627842f7a763d14d813fc146": {
          "model_module": "@jupyter-widgets/controls",
          "model_name": "DescriptionStyleModel",
          "model_module_version": "1.5.0",
          "state": {
            "_model_module": "@jupyter-widgets/controls",
            "_model_module_version": "1.5.0",
            "_model_name": "DescriptionStyleModel",
            "_view_count": null,
            "_view_module": "@jupyter-widgets/base",
            "_view_module_version": "1.2.0",
            "_view_name": "StyleView",
            "description_width": ""
          }
        },
        "be489ed020cd45018e2ebdc5ce1c7b78": {
          "model_module": "@jupyter-widgets/base",
          "model_name": "LayoutModel",
          "model_module_version": "1.2.0",
          "state": {
            "_model_module": "@jupyter-widgets/base",
            "_model_module_version": "1.2.0",
            "_model_name": "LayoutModel",
            "_view_count": null,
            "_view_module": "@jupyter-widgets/base",
            "_view_module_version": "1.2.0",
            "_view_name": "LayoutView",
            "align_content": null,
            "align_items": null,
            "align_self": null,
            "border": null,
            "bottom": null,
            "display": null,
            "flex": null,
            "flex_flow": null,
            "grid_area": null,
            "grid_auto_columns": null,
            "grid_auto_flow": null,
            "grid_auto_rows": null,
            "grid_column": null,
            "grid_gap": null,
            "grid_row": null,
            "grid_template_areas": null,
            "grid_template_columns": null,
            "grid_template_rows": null,
            "height": null,
            "justify_content": null,
            "justify_items": null,
            "left": null,
            "margin": null,
            "max_height": null,
            "max_width": null,
            "min_height": null,
            "min_width": null,
            "object_fit": null,
            "object_position": null,
            "order": null,
            "overflow": null,
            "overflow_x": null,
            "overflow_y": null,
            "padding": null,
            "right": null,
            "top": null,
            "visibility": null,
            "width": null
          }
        },
        "167e5a336c73447cab82717c99f4f938": {
          "model_module": "@jupyter-widgets/controls",
          "model_name": "ProgressStyleModel",
          "model_module_version": "1.5.0",
          "state": {
            "_model_module": "@jupyter-widgets/controls",
            "_model_module_version": "1.5.0",
            "_model_name": "ProgressStyleModel",
            "_view_count": null,
            "_view_module": "@jupyter-widgets/base",
            "_view_module_version": "1.2.0",
            "_view_name": "StyleView",
            "bar_color": null,
            "description_width": ""
          }
        },
        "bdbcaa3a1aed4ca7a5a6a9ca28035450": {
          "model_module": "@jupyter-widgets/base",
          "model_name": "LayoutModel",
          "model_module_version": "1.2.0",
          "state": {
            "_model_module": "@jupyter-widgets/base",
            "_model_module_version": "1.2.0",
            "_model_name": "LayoutModel",
            "_view_count": null,
            "_view_module": "@jupyter-widgets/base",
            "_view_module_version": "1.2.0",
            "_view_name": "LayoutView",
            "align_content": null,
            "align_items": null,
            "align_self": null,
            "border": null,
            "bottom": null,
            "display": null,
            "flex": null,
            "flex_flow": null,
            "grid_area": null,
            "grid_auto_columns": null,
            "grid_auto_flow": null,
            "grid_auto_rows": null,
            "grid_column": null,
            "grid_gap": null,
            "grid_row": null,
            "grid_template_areas": null,
            "grid_template_columns": null,
            "grid_template_rows": null,
            "height": null,
            "justify_content": null,
            "justify_items": null,
            "left": null,
            "margin": null,
            "max_height": null,
            "max_width": null,
            "min_height": null,
            "min_width": null,
            "object_fit": null,
            "object_position": null,
            "order": null,
            "overflow": null,
            "overflow_x": null,
            "overflow_y": null,
            "padding": null,
            "right": null,
            "top": null,
            "visibility": null,
            "width": null
          }
        },
        "7eae459d70f54b938d5357f3abf24022": {
          "model_module": "@jupyter-widgets/controls",
          "model_name": "DescriptionStyleModel",
          "model_module_version": "1.5.0",
          "state": {
            "_model_module": "@jupyter-widgets/controls",
            "_model_module_version": "1.5.0",
            "_model_name": "DescriptionStyleModel",
            "_view_count": null,
            "_view_module": "@jupyter-widgets/base",
            "_view_module_version": "1.2.0",
            "_view_name": "StyleView",
            "description_width": ""
          }
        },
        "43e610bb93384c9bad80f20d1b9032b8": {
          "model_module": "@jupyter-widgets/controls",
          "model_name": "HBoxModel",
          "model_module_version": "1.5.0",
          "state": {
            "_dom_classes": [],
            "_model_module": "@jupyter-widgets/controls",
            "_model_module_version": "1.5.0",
            "_model_name": "HBoxModel",
            "_view_count": null,
            "_view_module": "@jupyter-widgets/controls",
            "_view_module_version": "1.5.0",
            "_view_name": "HBoxView",
            "box_style": "",
            "children": [
              "IPY_MODEL_add638ffa1c64bb8bec230f9f3e1eeca",
              "IPY_MODEL_6707428cde3f468c82de846059c668b7",
              "IPY_MODEL_cab85bb5b5434884b994a0cd4206fab1"
            ],
            "layout": "IPY_MODEL_3ac0529a06fd42648fc45924944c357d"
          }
        },
        "add638ffa1c64bb8bec230f9f3e1eeca": {
          "model_module": "@jupyter-widgets/controls",
          "model_name": "HTMLModel",
          "model_module_version": "1.5.0",
          "state": {
            "_dom_classes": [],
            "_model_module": "@jupyter-widgets/controls",
            "_model_module_version": "1.5.0",
            "_model_name": "HTMLModel",
            "_view_count": null,
            "_view_module": "@jupyter-widgets/controls",
            "_view_module_version": "1.5.0",
            "_view_name": "HTMLView",
            "description": "",
            "description_tooltip": null,
            "layout": "IPY_MODEL_8cee2dc650fe4e4cbcc3a7b81cdec340",
            "placeholder": "​",
            "style": "IPY_MODEL_f6ef027752e745b09b379258a5db4411",
            "value": "Generating sentences split: "
          }
        },
        "6707428cde3f468c82de846059c668b7": {
          "model_module": "@jupyter-widgets/controls",
          "model_name": "FloatProgressModel",
          "model_module_version": "1.5.0",
          "state": {
            "_dom_classes": [],
            "_model_module": "@jupyter-widgets/controls",
            "_model_module_version": "1.5.0",
            "_model_name": "FloatProgressModel",
            "_view_count": null,
            "_view_module": "@jupyter-widgets/controls",
            "_view_module_version": "1.5.0",
            "_view_name": "ProgressView",
            "bar_style": "success",
            "description": "",
            "description_tooltip": null,
            "layout": "IPY_MODEL_2cf69ccc1c6a407db50e811c7e365d4a",
            "max": 1,
            "min": 0,
            "orientation": "horizontal",
            "style": "IPY_MODEL_90f97e655e4449b2a1df5ed0bb0f993c",
            "value": 1
          }
        },
        "cab85bb5b5434884b994a0cd4206fab1": {
          "model_module": "@jupyter-widgets/controls",
          "model_name": "HTMLModel",
          "model_module_version": "1.5.0",
          "state": {
            "_dom_classes": [],
            "_model_module": "@jupyter-widgets/controls",
            "_model_module_version": "1.5.0",
            "_model_name": "HTMLModel",
            "_view_count": null,
            "_view_module": "@jupyter-widgets/controls",
            "_view_module_version": "1.5.0",
            "_view_name": "HTMLView",
            "description": "",
            "description_tooltip": null,
            "layout": "IPY_MODEL_38e97cb182ea4cc688689ffee519a2ef",
            "placeholder": "​",
            "style": "IPY_MODEL_c92f3c6a029345029f33f46d1b864d13",
            "value": " 87785/0 [00:00&lt;00:00, 117207.27 examples/s]"
          }
        },
        "3ac0529a06fd42648fc45924944c357d": {
          "model_module": "@jupyter-widgets/base",
          "model_name": "LayoutModel",
          "model_module_version": "1.2.0",
          "state": {
            "_model_module": "@jupyter-widgets/base",
            "_model_module_version": "1.2.0",
            "_model_name": "LayoutModel",
            "_view_count": null,
            "_view_module": "@jupyter-widgets/base",
            "_view_module_version": "1.2.0",
            "_view_name": "LayoutView",
            "align_content": null,
            "align_items": null,
            "align_self": null,
            "border": null,
            "bottom": null,
            "display": null,
            "flex": null,
            "flex_flow": null,
            "grid_area": null,
            "grid_auto_columns": null,
            "grid_auto_flow": null,
            "grid_auto_rows": null,
            "grid_column": null,
            "grid_gap": null,
            "grid_row": null,
            "grid_template_areas": null,
            "grid_template_columns": null,
            "grid_template_rows": null,
            "height": null,
            "justify_content": null,
            "justify_items": null,
            "left": null,
            "margin": null,
            "max_height": null,
            "max_width": null,
            "min_height": null,
            "min_width": null,
            "object_fit": null,
            "object_position": null,
            "order": null,
            "overflow": null,
            "overflow_x": null,
            "overflow_y": null,
            "padding": null,
            "right": null,
            "top": null,
            "visibility": null,
            "width": null
          }
        },
        "8cee2dc650fe4e4cbcc3a7b81cdec340": {
          "model_module": "@jupyter-widgets/base",
          "model_name": "LayoutModel",
          "model_module_version": "1.2.0",
          "state": {
            "_model_module": "@jupyter-widgets/base",
            "_model_module_version": "1.2.0",
            "_model_name": "LayoutModel",
            "_view_count": null,
            "_view_module": "@jupyter-widgets/base",
            "_view_module_version": "1.2.0",
            "_view_name": "LayoutView",
            "align_content": null,
            "align_items": null,
            "align_self": null,
            "border": null,
            "bottom": null,
            "display": null,
            "flex": null,
            "flex_flow": null,
            "grid_area": null,
            "grid_auto_columns": null,
            "grid_auto_flow": null,
            "grid_auto_rows": null,
            "grid_column": null,
            "grid_gap": null,
            "grid_row": null,
            "grid_template_areas": null,
            "grid_template_columns": null,
            "grid_template_rows": null,
            "height": null,
            "justify_content": null,
            "justify_items": null,
            "left": null,
            "margin": null,
            "max_height": null,
            "max_width": null,
            "min_height": null,
            "min_width": null,
            "object_fit": null,
            "object_position": null,
            "order": null,
            "overflow": null,
            "overflow_x": null,
            "overflow_y": null,
            "padding": null,
            "right": null,
            "top": null,
            "visibility": null,
            "width": null
          }
        },
        "f6ef027752e745b09b379258a5db4411": {
          "model_module": "@jupyter-widgets/controls",
          "model_name": "DescriptionStyleModel",
          "model_module_version": "1.5.0",
          "state": {
            "_model_module": "@jupyter-widgets/controls",
            "_model_module_version": "1.5.0",
            "_model_name": "DescriptionStyleModel",
            "_view_count": null,
            "_view_module": "@jupyter-widgets/base",
            "_view_module_version": "1.2.0",
            "_view_name": "StyleView",
            "description_width": ""
          }
        },
        "2cf69ccc1c6a407db50e811c7e365d4a": {
          "model_module": "@jupyter-widgets/base",
          "model_name": "LayoutModel",
          "model_module_version": "1.2.0",
          "state": {
            "_model_module": "@jupyter-widgets/base",
            "_model_module_version": "1.2.0",
            "_model_name": "LayoutModel",
            "_view_count": null,
            "_view_module": "@jupyter-widgets/base",
            "_view_module_version": "1.2.0",
            "_view_name": "LayoutView",
            "align_content": null,
            "align_items": null,
            "align_self": null,
            "border": null,
            "bottom": null,
            "display": null,
            "flex": null,
            "flex_flow": null,
            "grid_area": null,
            "grid_auto_columns": null,
            "grid_auto_flow": null,
            "grid_auto_rows": null,
            "grid_column": null,
            "grid_gap": null,
            "grid_row": null,
            "grid_template_areas": null,
            "grid_template_columns": null,
            "grid_template_rows": null,
            "height": null,
            "justify_content": null,
            "justify_items": null,
            "left": null,
            "margin": null,
            "max_height": null,
            "max_width": null,
            "min_height": null,
            "min_width": null,
            "object_fit": null,
            "object_position": null,
            "order": null,
            "overflow": null,
            "overflow_x": null,
            "overflow_y": null,
            "padding": null,
            "right": null,
            "top": null,
            "visibility": null,
            "width": "20px"
          }
        },
        "90f97e655e4449b2a1df5ed0bb0f993c": {
          "model_module": "@jupyter-widgets/controls",
          "model_name": "ProgressStyleModel",
          "model_module_version": "1.5.0",
          "state": {
            "_model_module": "@jupyter-widgets/controls",
            "_model_module_version": "1.5.0",
            "_model_name": "ProgressStyleModel",
            "_view_count": null,
            "_view_module": "@jupyter-widgets/base",
            "_view_module_version": "1.2.0",
            "_view_name": "StyleView",
            "bar_color": null,
            "description_width": ""
          }
        },
        "38e97cb182ea4cc688689ffee519a2ef": {
          "model_module": "@jupyter-widgets/base",
          "model_name": "LayoutModel",
          "model_module_version": "1.2.0",
          "state": {
            "_model_module": "@jupyter-widgets/base",
            "_model_module_version": "1.2.0",
            "_model_name": "LayoutModel",
            "_view_count": null,
            "_view_module": "@jupyter-widgets/base",
            "_view_module_version": "1.2.0",
            "_view_name": "LayoutView",
            "align_content": null,
            "align_items": null,
            "align_self": null,
            "border": null,
            "bottom": null,
            "display": null,
            "flex": null,
            "flex_flow": null,
            "grid_area": null,
            "grid_auto_columns": null,
            "grid_auto_flow": null,
            "grid_auto_rows": null,
            "grid_column": null,
            "grid_gap": null,
            "grid_row": null,
            "grid_template_areas": null,
            "grid_template_columns": null,
            "grid_template_rows": null,
            "height": null,
            "justify_content": null,
            "justify_items": null,
            "left": null,
            "margin": null,
            "max_height": null,
            "max_width": null,
            "min_height": null,
            "min_width": null,
            "object_fit": null,
            "object_position": null,
            "order": null,
            "overflow": null,
            "overflow_x": null,
            "overflow_y": null,
            "padding": null,
            "right": null,
            "top": null,
            "visibility": null,
            "width": null
          }
        },
        "c92f3c6a029345029f33f46d1b864d13": {
          "model_module": "@jupyter-widgets/controls",
          "model_name": "DescriptionStyleModel",
          "model_module_version": "1.5.0",
          "state": {
            "_model_module": "@jupyter-widgets/controls",
            "_model_module_version": "1.5.0",
            "_model_name": "DescriptionStyleModel",
            "_view_count": null,
            "_view_module": "@jupyter-widgets/base",
            "_view_module_version": "1.2.0",
            "_view_name": "StyleView",
            "description_width": ""
          }
        },
        "77ed996ddccf491cb72fc76e61185250": {
          "model_module": "@jupyter-widgets/controls",
          "model_name": "HBoxModel",
          "model_module_version": "1.5.0",
          "state": {
            "_dom_classes": [],
            "_model_module": "@jupyter-widgets/controls",
            "_model_module_version": "1.5.0",
            "_model_name": "HBoxModel",
            "_view_count": null,
            "_view_module": "@jupyter-widgets/controls",
            "_view_module_version": "1.5.0",
            "_view_name": "HBoxView",
            "box_style": "",
            "children": [
              "IPY_MODEL_998733a117c34149bedba226f82823c6",
              "IPY_MODEL_85acd53eb7534837a8ecdb6264d797b5",
              "IPY_MODEL_4e3add7e5e2749a18399c4b9288ce4e3"
            ],
            "layout": "IPY_MODEL_1b0ac0d17d8245ab9f99f4c5dc7dc262"
          }
        },
        "998733a117c34149bedba226f82823c6": {
          "model_module": "@jupyter-widgets/controls",
          "model_name": "HTMLModel",
          "model_module_version": "1.5.0",
          "state": {
            "_dom_classes": [],
            "_model_module": "@jupyter-widgets/controls",
            "_model_module_version": "1.5.0",
            "_model_name": "HTMLModel",
            "_view_count": null,
            "_view_module": "@jupyter-widgets/controls",
            "_view_module_version": "1.5.0",
            "_view_name": "HTMLView",
            "description": "",
            "description_tooltip": null,
            "layout": "IPY_MODEL_ee90f63c9bba477381fe7529cde9cbe4",
            "placeholder": "​",
            "style": "IPY_MODEL_a2cfc35c14c14ba6ae975bc26ddc2ada",
            "value": "Filter: 100%"
          }
        },
        "85acd53eb7534837a8ecdb6264d797b5": {
          "model_module": "@jupyter-widgets/controls",
          "model_name": "FloatProgressModel",
          "model_module_version": "1.5.0",
          "state": {
            "_dom_classes": [],
            "_model_module": "@jupyter-widgets/controls",
            "_model_module_version": "1.5.0",
            "_model_name": "FloatProgressModel",
            "_view_count": null,
            "_view_module": "@jupyter-widgets/controls",
            "_view_module_version": "1.5.0",
            "_view_name": "ProgressView",
            "bar_style": "success",
            "description": "",
            "description_tooltip": null,
            "layout": "IPY_MODEL_fc64574e09a64c1d87826db18c0296df",
            "max": 87785,
            "min": 0,
            "orientation": "horizontal",
            "style": "IPY_MODEL_0c62b64f64134baeba0eb50ad35a0c2b",
            "value": 87785
          }
        },
        "4e3add7e5e2749a18399c4b9288ce4e3": {
          "model_module": "@jupyter-widgets/controls",
          "model_name": "HTMLModel",
          "model_module_version": "1.5.0",
          "state": {
            "_dom_classes": [],
            "_model_module": "@jupyter-widgets/controls",
            "_model_module_version": "1.5.0",
            "_model_name": "HTMLModel",
            "_view_count": null,
            "_view_module": "@jupyter-widgets/controls",
            "_view_module_version": "1.5.0",
            "_view_name": "HTMLView",
            "description": "",
            "description_tooltip": null,
            "layout": "IPY_MODEL_4cb90f9a5a6044b1958cdf43cdc7225b",
            "placeholder": "​",
            "style": "IPY_MODEL_52615cd87f6243f787daa76b426e6967",
            "value": " 87785/87785 [00:00&lt;00:00, 206610.95 examples/s]"
          }
        },
        "1b0ac0d17d8245ab9f99f4c5dc7dc262": {
          "model_module": "@jupyter-widgets/base",
          "model_name": "LayoutModel",
          "model_module_version": "1.2.0",
          "state": {
            "_model_module": "@jupyter-widgets/base",
            "_model_module_version": "1.2.0",
            "_model_name": "LayoutModel",
            "_view_count": null,
            "_view_module": "@jupyter-widgets/base",
            "_view_module_version": "1.2.0",
            "_view_name": "LayoutView",
            "align_content": null,
            "align_items": null,
            "align_self": null,
            "border": null,
            "bottom": null,
            "display": null,
            "flex": null,
            "flex_flow": null,
            "grid_area": null,
            "grid_auto_columns": null,
            "grid_auto_flow": null,
            "grid_auto_rows": null,
            "grid_column": null,
            "grid_gap": null,
            "grid_row": null,
            "grid_template_areas": null,
            "grid_template_columns": null,
            "grid_template_rows": null,
            "height": null,
            "justify_content": null,
            "justify_items": null,
            "left": null,
            "margin": null,
            "max_height": null,
            "max_width": null,
            "min_height": null,
            "min_width": null,
            "object_fit": null,
            "object_position": null,
            "order": null,
            "overflow": null,
            "overflow_x": null,
            "overflow_y": null,
            "padding": null,
            "right": null,
            "top": null,
            "visibility": null,
            "width": null
          }
        },
        "ee90f63c9bba477381fe7529cde9cbe4": {
          "model_module": "@jupyter-widgets/base",
          "model_name": "LayoutModel",
          "model_module_version": "1.2.0",
          "state": {
            "_model_module": "@jupyter-widgets/base",
            "_model_module_version": "1.2.0",
            "_model_name": "LayoutModel",
            "_view_count": null,
            "_view_module": "@jupyter-widgets/base",
            "_view_module_version": "1.2.0",
            "_view_name": "LayoutView",
            "align_content": null,
            "align_items": null,
            "align_self": null,
            "border": null,
            "bottom": null,
            "display": null,
            "flex": null,
            "flex_flow": null,
            "grid_area": null,
            "grid_auto_columns": null,
            "grid_auto_flow": null,
            "grid_auto_rows": null,
            "grid_column": null,
            "grid_gap": null,
            "grid_row": null,
            "grid_template_areas": null,
            "grid_template_columns": null,
            "grid_template_rows": null,
            "height": null,
            "justify_content": null,
            "justify_items": null,
            "left": null,
            "margin": null,
            "max_height": null,
            "max_width": null,
            "min_height": null,
            "min_width": null,
            "object_fit": null,
            "object_position": null,
            "order": null,
            "overflow": null,
            "overflow_x": null,
            "overflow_y": null,
            "padding": null,
            "right": null,
            "top": null,
            "visibility": null,
            "width": null
          }
        },
        "a2cfc35c14c14ba6ae975bc26ddc2ada": {
          "model_module": "@jupyter-widgets/controls",
          "model_name": "DescriptionStyleModel",
          "model_module_version": "1.5.0",
          "state": {
            "_model_module": "@jupyter-widgets/controls",
            "_model_module_version": "1.5.0",
            "_model_name": "DescriptionStyleModel",
            "_view_count": null,
            "_view_module": "@jupyter-widgets/base",
            "_view_module_version": "1.2.0",
            "_view_name": "StyleView",
            "description_width": ""
          }
        },
        "fc64574e09a64c1d87826db18c0296df": {
          "model_module": "@jupyter-widgets/base",
          "model_name": "LayoutModel",
          "model_module_version": "1.2.0",
          "state": {
            "_model_module": "@jupyter-widgets/base",
            "_model_module_version": "1.2.0",
            "_model_name": "LayoutModel",
            "_view_count": null,
            "_view_module": "@jupyter-widgets/base",
            "_view_module_version": "1.2.0",
            "_view_name": "LayoutView",
            "align_content": null,
            "align_items": null,
            "align_self": null,
            "border": null,
            "bottom": null,
            "display": null,
            "flex": null,
            "flex_flow": null,
            "grid_area": null,
            "grid_auto_columns": null,
            "grid_auto_flow": null,
            "grid_auto_rows": null,
            "grid_column": null,
            "grid_gap": null,
            "grid_row": null,
            "grid_template_areas": null,
            "grid_template_columns": null,
            "grid_template_rows": null,
            "height": null,
            "justify_content": null,
            "justify_items": null,
            "left": null,
            "margin": null,
            "max_height": null,
            "max_width": null,
            "min_height": null,
            "min_width": null,
            "object_fit": null,
            "object_position": null,
            "order": null,
            "overflow": null,
            "overflow_x": null,
            "overflow_y": null,
            "padding": null,
            "right": null,
            "top": null,
            "visibility": null,
            "width": null
          }
        },
        "0c62b64f64134baeba0eb50ad35a0c2b": {
          "model_module": "@jupyter-widgets/controls",
          "model_name": "ProgressStyleModel",
          "model_module_version": "1.5.0",
          "state": {
            "_model_module": "@jupyter-widgets/controls",
            "_model_module_version": "1.5.0",
            "_model_name": "ProgressStyleModel",
            "_view_count": null,
            "_view_module": "@jupyter-widgets/base",
            "_view_module_version": "1.2.0",
            "_view_name": "StyleView",
            "bar_color": null,
            "description_width": ""
          }
        },
        "4cb90f9a5a6044b1958cdf43cdc7225b": {
          "model_module": "@jupyter-widgets/base",
          "model_name": "LayoutModel",
          "model_module_version": "1.2.0",
          "state": {
            "_model_module": "@jupyter-widgets/base",
            "_model_module_version": "1.2.0",
            "_model_name": "LayoutModel",
            "_view_count": null,
            "_view_module": "@jupyter-widgets/base",
            "_view_module_version": "1.2.0",
            "_view_name": "LayoutView",
            "align_content": null,
            "align_items": null,
            "align_self": null,
            "border": null,
            "bottom": null,
            "display": null,
            "flex": null,
            "flex_flow": null,
            "grid_area": null,
            "grid_auto_columns": null,
            "grid_auto_flow": null,
            "grid_auto_rows": null,
            "grid_column": null,
            "grid_gap": null,
            "grid_row": null,
            "grid_template_areas": null,
            "grid_template_columns": null,
            "grid_template_rows": null,
            "height": null,
            "justify_content": null,
            "justify_items": null,
            "left": null,
            "margin": null,
            "max_height": null,
            "max_width": null,
            "min_height": null,
            "min_width": null,
            "object_fit": null,
            "object_position": null,
            "order": null,
            "overflow": null,
            "overflow_x": null,
            "overflow_y": null,
            "padding": null,
            "right": null,
            "top": null,
            "visibility": null,
            "width": null
          }
        },
        "52615cd87f6243f787daa76b426e6967": {
          "model_module": "@jupyter-widgets/controls",
          "model_name": "DescriptionStyleModel",
          "model_module_version": "1.5.0",
          "state": {
            "_model_module": "@jupyter-widgets/controls",
            "_model_module_version": "1.5.0",
            "_model_name": "DescriptionStyleModel",
            "_view_count": null,
            "_view_module": "@jupyter-widgets/base",
            "_view_module_version": "1.2.0",
            "_view_name": "StyleView",
            "description_width": ""
          }
        }
      }
    }
  },
  "nbformat_minor": 0,
  "nbformat": 4,
  "cells": [
    {
      "cell_type": "markdown",
      "metadata": {
        "id": "view-in-github",
        "colab_type": "text"
      },
      "source": [
        "<a href=\"https://colab.research.google.com/github/joat26/NLP/blob/main/Notebook.ipynb\" target=\"_parent\"><img src=\"https://colab.research.google.com/assets/colab-badge.svg\" alt=\"Open In Colab\"/></a>"
      ]
    },
    {
      "cell_type": "markdown",
      "source": [
        "# **Lab Project on Recurrent Neural Networks**"
      ],
      "metadata": {
        "id": "fmmsNGlV6Ri2"
      }
    },
    {
      "cell_type": "markdown",
      "source": [
        "This lab project is part of the Advanced Natural Language Processing course for the academic year 2024/2025. The objective is to explore and implement Recurrent Neural Network (RNN) models, focusing specifically on text translation between English and Moroccan Darija (a local Arabic dialect). Using a provided dataset available on Hugging Face, we aim to build and compare various LSTM-based models to achieve effective translation.italicized *text*"
      ],
      "metadata": {
        "id": "c8EzemAd6j1o"
      }
    },
    {
      "cell_type": "markdown",
      "source": [
        "\n",
        "\n",
        "---\n",
        "\n",
        "\n",
        "## **Tasks**\n",
        "\n",
        "---\n",
        "\n"
      ],
      "metadata": {
        "id": "ouMbnqz-9Pf3"
      }
    },
    {
      "cell_type": "markdown",
      "source": [
        "### **1.  Dataset**\n",
        "\n",
        "*   The chosen dataset contains paired sentences in English and Darija, sourced from Hugging Face: Darija-English Dataset.\n",
        "*   The dataset allows us to train, validate, and test models for accurate bidirectional text translation.\n",
        "\n"
      ],
      "metadata": {
        "id": "xDvF-JpJ7O7P"
      }
    },
    {
      "cell_type": "markdown",
      "source": [
        "\n",
        "### **2.   Modeling Tasks:**\n",
        "\n",
        "*   Baseline Model: Implement a vanilla LSTM-based model to serve as the benchmark for performance.\n",
        "*   Advanced Models: Experiment with advanced LSTM variations, such as Peephole and Working Memory connections, to improve performance.\n",
        "*   Hyperparameter Tuning: Evaluate the influence of parameters like learning rate, optimizer type, batch size, and initialization strategies on the model's performance.\n",
        "\n",
        "\n",
        "\n"
      ],
      "metadata": {
        "id": "rCXpJYLi79O1"
      }
    },
    {
      "cell_type": "markdown",
      "source": [
        "### **3. Evaluation:**\n",
        "\n",
        "\n",
        "\n",
        "* Performance metrics such as BLEU scores and loss functions are used to assess translation quality.\n",
        "* Comparative analysis of the baseline and advanced models is conducted to highlight improvements."
      ],
      "metadata": {
        "id": "j7ar1YEw89zy"
      }
    },
    {
      "cell_type": "markdown",
      "source": [
        "## **Code**\n",
        "\n",
        "---\n",
        "\n",
        "This notebook demonstrates the process of building and optimizing text translation models using modern NLP tools and techniques while addressing challenges unique to Moroccan Darija.\n",
        "\n",
        "---\n",
        "\n"
      ],
      "metadata": {
        "id": "1flYgaAk9ZCx"
      }
    },
    {
      "cell_type": "code",
      "source": [
        "!pip install datasets"
      ],
      "metadata": {
        "_uuid": "8f2839f25d086af736a60e9eeb907d3b93b6e0e5",
        "_cell_guid": "b1076dfc-b9ad-4769-8c92-a6c4dae69d19",
        "trusted": true,
        "execution": {
          "iopub.status.busy": "2024-12-06T21:49:12.459986Z",
          "iopub.execute_input": "2024-12-06T21:49:12.460247Z",
          "iopub.status.idle": "2024-12-06T21:49:21.637001Z",
          "shell.execute_reply.started": "2024-12-06T21:49:12.460223Z",
          "shell.execute_reply": "2024-12-06T21:49:21.636183Z"
        },
        "colab": {
          "base_uri": "https://localhost:8080/"
        },
        "id": "uM0AligvgwFI",
        "outputId": "b6b6dc70-40de-4c67-f847-759ff0ee93fe"
      },
      "outputs": [
        {
          "output_type": "stream",
          "name": "stdout",
          "text": [
            "Collecting datasets\n",
            "  Downloading datasets-3.1.0-py3-none-any.whl.metadata (20 kB)\n",
            "Requirement already satisfied: filelock in /usr/local/lib/python3.10/dist-packages (from datasets) (3.16.1)\n",
            "Requirement already satisfied: numpy>=1.17 in /usr/local/lib/python3.10/dist-packages (from datasets) (1.26.4)\n",
            "Requirement already satisfied: pyarrow>=15.0.0 in /usr/local/lib/python3.10/dist-packages (from datasets) (17.0.0)\n",
            "Collecting dill<0.3.9,>=0.3.0 (from datasets)\n",
            "  Downloading dill-0.3.8-py3-none-any.whl.metadata (10 kB)\n",
            "Requirement already satisfied: pandas in /usr/local/lib/python3.10/dist-packages (from datasets) (2.2.2)\n",
            "Requirement already satisfied: requests>=2.32.2 in /usr/local/lib/python3.10/dist-packages (from datasets) (2.32.3)\n",
            "Requirement already satisfied: tqdm>=4.66.3 in /usr/local/lib/python3.10/dist-packages (from datasets) (4.66.6)\n",
            "Collecting xxhash (from datasets)\n",
            "  Downloading xxhash-3.5.0-cp310-cp310-manylinux_2_17_x86_64.manylinux2014_x86_64.whl.metadata (12 kB)\n",
            "Collecting multiprocess<0.70.17 (from datasets)\n",
            "  Downloading multiprocess-0.70.16-py310-none-any.whl.metadata (7.2 kB)\n",
            "Collecting fsspec<=2024.9.0,>=2023.1.0 (from fsspec[http]<=2024.9.0,>=2023.1.0->datasets)\n",
            "  Downloading fsspec-2024.9.0-py3-none-any.whl.metadata (11 kB)\n",
            "Requirement already satisfied: aiohttp in /usr/local/lib/python3.10/dist-packages (from datasets) (3.11.9)\n",
            "Requirement already satisfied: huggingface-hub>=0.23.0 in /usr/local/lib/python3.10/dist-packages (from datasets) (0.26.3)\n",
            "Requirement already satisfied: packaging in /usr/local/lib/python3.10/dist-packages (from datasets) (24.2)\n",
            "Requirement already satisfied: pyyaml>=5.1 in /usr/local/lib/python3.10/dist-packages (from datasets) (6.0.2)\n",
            "Requirement already satisfied: aiohappyeyeballs>=2.3.0 in /usr/local/lib/python3.10/dist-packages (from aiohttp->datasets) (2.4.4)\n",
            "Requirement already satisfied: aiosignal>=1.1.2 in /usr/local/lib/python3.10/dist-packages (from aiohttp->datasets) (1.3.1)\n",
            "Requirement already satisfied: async-timeout<6.0,>=4.0 in /usr/local/lib/python3.10/dist-packages (from aiohttp->datasets) (4.0.3)\n",
            "Requirement already satisfied: attrs>=17.3.0 in /usr/local/lib/python3.10/dist-packages (from aiohttp->datasets) (24.2.0)\n",
            "Requirement already satisfied: frozenlist>=1.1.1 in /usr/local/lib/python3.10/dist-packages (from aiohttp->datasets) (1.5.0)\n",
            "Requirement already satisfied: multidict<7.0,>=4.5 in /usr/local/lib/python3.10/dist-packages (from aiohttp->datasets) (6.1.0)\n",
            "Requirement already satisfied: propcache>=0.2.0 in /usr/local/lib/python3.10/dist-packages (from aiohttp->datasets) (0.2.1)\n",
            "Requirement already satisfied: yarl<2.0,>=1.17.0 in /usr/local/lib/python3.10/dist-packages (from aiohttp->datasets) (1.18.3)\n",
            "Requirement already satisfied: typing-extensions>=3.7.4.3 in /usr/local/lib/python3.10/dist-packages (from huggingface-hub>=0.23.0->datasets) (4.12.2)\n",
            "Requirement already satisfied: charset-normalizer<4,>=2 in /usr/local/lib/python3.10/dist-packages (from requests>=2.32.2->datasets) (3.4.0)\n",
            "Requirement already satisfied: idna<4,>=2.5 in /usr/local/lib/python3.10/dist-packages (from requests>=2.32.2->datasets) (3.10)\n",
            "Requirement already satisfied: urllib3<3,>=1.21.1 in /usr/local/lib/python3.10/dist-packages (from requests>=2.32.2->datasets) (2.2.3)\n",
            "Requirement already satisfied: certifi>=2017.4.17 in /usr/local/lib/python3.10/dist-packages (from requests>=2.32.2->datasets) (2024.8.30)\n",
            "Requirement already satisfied: python-dateutil>=2.8.2 in /usr/local/lib/python3.10/dist-packages (from pandas->datasets) (2.8.2)\n",
            "Requirement already satisfied: pytz>=2020.1 in /usr/local/lib/python3.10/dist-packages (from pandas->datasets) (2024.2)\n",
            "Requirement already satisfied: tzdata>=2022.7 in /usr/local/lib/python3.10/dist-packages (from pandas->datasets) (2024.2)\n",
            "Requirement already satisfied: six>=1.5 in /usr/local/lib/python3.10/dist-packages (from python-dateutil>=2.8.2->pandas->datasets) (1.16.0)\n",
            "Downloading datasets-3.1.0-py3-none-any.whl (480 kB)\n",
            "\u001b[2K   \u001b[90m━━━━━━━━━━━━━━━━━━━━━━━━━━━━━━━━━━━━━━━━\u001b[0m \u001b[32m480.6/480.6 kB\u001b[0m \u001b[31m35.7 MB/s\u001b[0m eta \u001b[36m0:00:00\u001b[0m\n",
            "\u001b[?25hDownloading dill-0.3.8-py3-none-any.whl (116 kB)\n",
            "\u001b[2K   \u001b[90m━━━━━━━━━━━━━━━━━━━━━━━━━━━━━━━━━━━━━━━━\u001b[0m \u001b[32m116.3/116.3 kB\u001b[0m \u001b[31m12.2 MB/s\u001b[0m eta \u001b[36m0:00:00\u001b[0m\n",
            "\u001b[?25hDownloading fsspec-2024.9.0-py3-none-any.whl (179 kB)\n",
            "\u001b[2K   \u001b[90m━━━━━━━━━━━━━━━━━━━━━━━━━━━━━━━━━━━━━━━━\u001b[0m \u001b[32m179.3/179.3 kB\u001b[0m \u001b[31m17.0 MB/s\u001b[0m eta \u001b[36m0:00:00\u001b[0m\n",
            "\u001b[?25hDownloading multiprocess-0.70.16-py310-none-any.whl (134 kB)\n",
            "\u001b[2K   \u001b[90m━━━━━━━━━━━━━━━━━━━━━━━━━━━━━━━━━━━━━━━━\u001b[0m \u001b[32m134.8/134.8 kB\u001b[0m \u001b[31m13.5 MB/s\u001b[0m eta \u001b[36m0:00:00\u001b[0m\n",
            "\u001b[?25hDownloading xxhash-3.5.0-cp310-cp310-manylinux_2_17_x86_64.manylinux2014_x86_64.whl (194 kB)\n",
            "\u001b[2K   \u001b[90m━━━━━━━━━━━━━━━━━━━━━━━━━━━━━━━━━━━━━━━━\u001b[0m \u001b[32m194.1/194.1 kB\u001b[0m \u001b[31m20.7 MB/s\u001b[0m eta \u001b[36m0:00:00\u001b[0m\n",
            "\u001b[?25hInstalling collected packages: xxhash, fsspec, dill, multiprocess, datasets\n",
            "  Attempting uninstall: fsspec\n",
            "    Found existing installation: fsspec 2024.10.0\n",
            "    Uninstalling fsspec-2024.10.0:\n",
            "      Successfully uninstalled fsspec-2024.10.0\n",
            "\u001b[31mERROR: pip's dependency resolver does not currently take into account all the packages that are installed. This behaviour is the source of the following dependency conflicts.\n",
            "gcsfs 2024.10.0 requires fsspec==2024.10.0, but you have fsspec 2024.9.0 which is incompatible.\u001b[0m\u001b[31m\n",
            "\u001b[0mSuccessfully installed datasets-3.1.0 dill-0.3.8 fsspec-2024.9.0 multiprocess-0.70.16 xxhash-3.5.0\n"
          ]
        }
      ],
      "execution_count": null
    },
    {
      "cell_type": "markdown",
      "source": [
        "Importing essential libraries from PyTorch"
      ],
      "metadata": {
        "id": "e9V4E7zjZpi0"
      }
    },
    {
      "cell_type": "code",
      "source": [
        "import torch\n",
        "import torch.nn as nn\n",
        "import torch.nn.functional as F\n",
        "import torch.optim as optim\n",
        "\n"
      ],
      "metadata": {
        "trusted": true,
        "execution": {
          "iopub.status.busy": "2024-12-06T21:49:21.639188Z",
          "iopub.execute_input": "2024-12-06T21:49:21.639579Z",
          "iopub.status.idle": "2024-12-06T21:49:24.396066Z",
          "shell.execute_reply.started": "2024-12-06T21:49:21.639540Z",
          "shell.execute_reply": "2024-12-06T21:49:24.395422Z"
        },
        "id": "MWQWPdd8gwFK"
      },
      "outputs": [],
      "execution_count": null
    },
    {
      "cell_type": "markdown",
      "source": [
        " Installs PyTorch and its associated libraries with GPU support (CUDA 11.8)"
      ],
      "metadata": {
        "id": "wCeirvH2ahKg"
      }
    },
    {
      "cell_type": "code",
      "source": [
        "!pip install torch torchvision torchaudio --index-url https://download.pytorch.org/whl/cu118"
      ],
      "metadata": {
        "colab": {
          "base_uri": "https://localhost:8080/"
        },
        "id": "qpmj6arLnNfn",
        "outputId": "833c89c2-8977-443d-f68b-660be59bc174"
      },
      "execution_count": null,
      "outputs": [
        {
          "output_type": "stream",
          "name": "stdout",
          "text": [
            "Looking in indexes: https://download.pytorch.org/whl/cu118\n",
            "Requirement already satisfied: torch in /usr/local/lib/python3.10/dist-packages (2.5.1+cu121)\n",
            "Requirement already satisfied: torchvision in /usr/local/lib/python3.10/dist-packages (0.20.1+cu121)\n",
            "Requirement already satisfied: torchaudio in /usr/local/lib/python3.10/dist-packages (2.5.1+cu121)\n",
            "Requirement already satisfied: filelock in /usr/local/lib/python3.10/dist-packages (from torch) (3.16.1)\n",
            "Requirement already satisfied: typing-extensions>=4.8.0 in /usr/local/lib/python3.10/dist-packages (from torch) (4.12.2)\n",
            "Requirement already satisfied: networkx in /usr/local/lib/python3.10/dist-packages (from torch) (3.4.2)\n",
            "Requirement already satisfied: jinja2 in /usr/local/lib/python3.10/dist-packages (from torch) (3.1.4)\n",
            "Requirement already satisfied: fsspec in /usr/local/lib/python3.10/dist-packages (from torch) (2024.9.0)\n",
            "Requirement already satisfied: sympy==1.13.1 in /usr/local/lib/python3.10/dist-packages (from torch) (1.13.1)\n",
            "Requirement already satisfied: mpmath<1.4,>=1.1.0 in /usr/local/lib/python3.10/dist-packages (from sympy==1.13.1->torch) (1.3.0)\n",
            "Requirement already satisfied: numpy in /usr/local/lib/python3.10/dist-packages (from torchvision) (1.26.4)\n",
            "Requirement already satisfied: pillow!=8.3.*,>=5.3.0 in /usr/local/lib/python3.10/dist-packages (from torchvision) (11.0.0)\n",
            "Requirement already satisfied: MarkupSafe>=2.0 in /usr/local/lib/python3.10/dist-packages (from jinja2->torch) (3.0.2)\n"
          ]
        }
      ]
    },
    {
      "cell_type": "markdown",
      "source": [
        "The code imports the Hugging Face load_dataset function to load the Darija-English dataset, focusing on the \"sentences\" subset for machine translation. This dataset provides source (English) and target (Darija) sentence pairs, organized into train, validation, and test splits. It's ideal for building and evaluating translation models, such as LSTMs or transformers, tailored to a low-resource language like Moroccan Darija."
      ],
      "metadata": {
        "id": "s1bNj7XCauhf"
      }
    },
    {
      "cell_type": "code",
      "source": [
        "from datasets import load_dataset\n",
        "dataset = load_dataset(\"imomayiz/darija-english\", \"sentences\")"
      ],
      "metadata": {
        "trusted": true,
        "execution": {
          "iopub.status.busy": "2024-12-06T21:49:24.397426Z",
          "iopub.execute_input": "2024-12-06T21:49:24.397871Z",
          "iopub.status.idle": "2024-12-06T21:49:28.109120Z",
          "shell.execute_reply.started": "2024-12-06T21:49:24.397835Z",
          "shell.execute_reply": "2024-12-06T21:49:28.108409Z"
        },
        "colab": {
          "base_uri": "https://localhost:8080/",
          "height": 217,
          "referenced_widgets": [
            "2cb3b8c1c29d4089a3b578f899151c42",
            "ea7aea9443f444dc972d06947c5269af",
            "a9b0115e680f4ea6be78670ab56b4445",
            "3869c3d00a7d42bdb49e7e2bb948b42a",
            "6910e160138446c9a3f290eabb70190e",
            "1d72c3622b5846c39660cf9f529d5581",
            "408c84c8bceb420eb20bd6069d1e51c8",
            "bc8907d20082411abf0c9e7d96e96457",
            "925dde195be84ce9a9e4d9a4b0855d31",
            "223b89834f544a83a8a0386a1680c7e3",
            "2f331aab43b84757ad2653cd5ca96930",
            "17168e7559ad402e96afd5f7f16d33b6",
            "440b0bea82434549971c6b898b45eb6f",
            "bb8fa3dc553b48faa5028fd695ff8474",
            "c289320490c1474b9ce3c2629e86c3dd",
            "62300c2e7d1941d1834613ecd8a93bf2",
            "e08113ee1ac94ac3bcbcf4280a2ec846",
            "e2684db5627842f7a763d14d813fc146",
            "be489ed020cd45018e2ebdc5ce1c7b78",
            "167e5a336c73447cab82717c99f4f938",
            "bdbcaa3a1aed4ca7a5a6a9ca28035450",
            "7eae459d70f54b938d5357f3abf24022",
            "43e610bb93384c9bad80f20d1b9032b8",
            "add638ffa1c64bb8bec230f9f3e1eeca",
            "6707428cde3f468c82de846059c668b7",
            "cab85bb5b5434884b994a0cd4206fab1",
            "3ac0529a06fd42648fc45924944c357d",
            "8cee2dc650fe4e4cbcc3a7b81cdec340",
            "f6ef027752e745b09b379258a5db4411",
            "2cf69ccc1c6a407db50e811c7e365d4a",
            "90f97e655e4449b2a1df5ed0bb0f993c",
            "38e97cb182ea4cc688689ffee519a2ef",
            "c92f3c6a029345029f33f46d1b864d13"
          ]
        },
        "id": "QD3ZrALAgwFK",
        "outputId": "63a7037b-a1f1-44dc-854f-48b145044506"
      },
      "outputs": [
        {
          "output_type": "stream",
          "name": "stderr",
          "text": [
            "/usr/local/lib/python3.10/dist-packages/huggingface_hub/utils/_auth.py:94: UserWarning: \n",
            "The secret `HF_TOKEN` does not exist in your Colab secrets.\n",
            "To authenticate with the Hugging Face Hub, create a token in your settings tab (https://huggingface.co/settings/tokens), set it as secret in your Google Colab and restart your session.\n",
            "You will be able to reuse this secret in all of your notebooks.\n",
            "Please note that authentication is recommended but still optional to access public models or datasets.\n",
            "  warnings.warn(\n"
          ]
        },
        {
          "output_type": "display_data",
          "data": {
            "text/plain": [
              "README.md:   0%|          | 0.00/348 [00:00<?, ?B/s]"
            ],
            "application/vnd.jupyter.widget-view+json": {
              "version_major": 2,
              "version_minor": 0,
              "model_id": "2cb3b8c1c29d4089a3b578f899151c42"
            }
          },
          "metadata": {}
        },
        {
          "output_type": "display_data",
          "data": {
            "text/plain": [
              "sentences.csv:   0%|          | 0.00/6.34M [00:00<?, ?B/s]"
            ],
            "application/vnd.jupyter.widget-view+json": {
              "version_major": 2,
              "version_minor": 0,
              "model_id": "17168e7559ad402e96afd5f7f16d33b6"
            }
          },
          "metadata": {}
        },
        {
          "output_type": "display_data",
          "data": {
            "text/plain": [
              "Generating sentences split: 0 examples [00:00, ? examples/s]"
            ],
            "application/vnd.jupyter.widget-view+json": {
              "version_major": 2,
              "version_minor": 0,
              "model_id": "43e610bb93384c9bad80f20d1b9032b8"
            }
          },
          "metadata": {}
        }
      ],
      "execution_count": null
    },
    {
      "cell_type": "markdown",
      "source": [
        "The code defines a function, remove_missing_data, that checks if the darija, eng, and darija_ar fields in each dataset entry are not None. It then uses the .filter() method to apply this function to the \"sentences\" subset of the dataset, removing any rows with missing values. This ensures the dataset contains only complete examples for training and evaluation purposes."
      ],
      "metadata": {
        "id": "rCG288caa1kd"
      }
    },
    {
      "cell_type": "code",
      "source": [
        "def remove_missing_data(example):\n",
        "    return example[\"darija\"] is not None and example[\"eng\"] is not None and example[\"darija_ar\"] is not None\n",
        "\n",
        "dataset = dataset[\"sentences\"].filter(remove_missing_data)"
      ],
      "metadata": {
        "trusted": true,
        "execution": {
          "iopub.status.busy": "2024-12-06T21:49:28.111300Z",
          "iopub.execute_input": "2024-12-06T21:49:28.111991Z",
          "iopub.status.idle": "2024-12-06T21:49:28.441382Z",
          "shell.execute_reply.started": "2024-12-06T21:49:28.111961Z",
          "shell.execute_reply": "2024-12-06T21:49:28.440529Z"
        },
        "colab": {
          "base_uri": "https://localhost:8080/",
          "height": 49,
          "referenced_widgets": [
            "77ed996ddccf491cb72fc76e61185250",
            "998733a117c34149bedba226f82823c6",
            "85acd53eb7534837a8ecdb6264d797b5",
            "4e3add7e5e2749a18399c4b9288ce4e3",
            "1b0ac0d17d8245ab9f99f4c5dc7dc262",
            "ee90f63c9bba477381fe7529cde9cbe4",
            "a2cfc35c14c14ba6ae975bc26ddc2ada",
            "fc64574e09a64c1d87826db18c0296df",
            "0c62b64f64134baeba0eb50ad35a0c2b",
            "4cb90f9a5a6044b1958cdf43cdc7225b",
            "52615cd87f6243f787daa76b426e6967"
          ]
        },
        "id": "Wg_o02DDgwFL",
        "outputId": "efbceebb-4259-4c4d-bd5e-f15adc5dc152"
      },
      "outputs": [
        {
          "output_type": "display_data",
          "data": {
            "text/plain": [
              "Filter:   0%|          | 0/87785 [00:00<?, ? examples/s]"
            ],
            "application/vnd.jupyter.widget-view+json": {
              "version_major": 2,
              "version_minor": 0,
              "model_id": "77ed996ddccf491cb72fc76e61185250"
            }
          },
          "metadata": {}
        }
      ],
      "execution_count": null
    },
    {
      "cell_type": "markdown",
      "source": [
        "The code prepares tokenized input (X) and target (Y) data for machine translation by iterating through the dataset. For each example, it converts the darija and eng sentences to lowercase and splits them into words using .lower().split(). The tokenized Darija words are stored in X_sentence, and the English words in Y_sentence. These tokenized sentences are then appended to the X and Y lists, creating two parallel datasets for training, where X contains Darija sentences and Y contains their corresponding English translations."
      ],
      "metadata": {
        "id": "0PuLmO2ea3fX"
      }
    },
    {
      "cell_type": "code",
      "source": [
        "X = []\n",
        "Y = []\n",
        "\n",
        "for sentence in dataset:\n",
        "    X_sentence = []\n",
        "    Y_sentence = []\n",
        "    X_sentence.extend(sentence[\"darija\"].lower().split())\n",
        "    Y_sentence.extend(sentence[\"eng\"].lower().split())\n",
        "\n",
        "    X.append(X_sentence)\n",
        "    Y.append(Y_sentence)\n"
      ],
      "metadata": {
        "trusted": true,
        "execution": {
          "iopub.status.busy": "2024-12-06T21:49:28.442383Z",
          "iopub.execute_input": "2024-12-06T21:49:28.442639Z",
          "iopub.status.idle": "2024-12-06T21:49:29.308501Z",
          "shell.execute_reply.started": "2024-12-06T21:49:28.442615Z",
          "shell.execute_reply": "2024-12-06T21:49:29.307553Z"
        },
        "id": "PCKuvCuggwFL"
      },
      "outputs": [],
      "execution_count": null
    },
    {
      "cell_type": "markdown",
      "source": [
        "The code computes the size of the Darija vocabulary by first creating a set, darija_vocab, which contains all unique words in the tokenized sentences stored in X, converting each word to lowercase to ensure case-insensitivity. It then calculates the total number of unique words, num_darija, as the length of this set. Finally, it prints the vocabulary size, providing an understanding of the dataset's language variety and word diversity."
      ],
      "metadata": {
        "id": "Hcd_i2f3a_P1"
      }
    },
    {
      "cell_type": "code",
      "source": [
        "darija_vocab = set([word.lower() for sentence in X for word in sentence])\n",
        "num_darija = len(set([word.lower() for sentence in X for word in sentence]))\n",
        "\n",
        "print(\"Darija Vocabulary size: {}\".format(num_darija))"
      ],
      "metadata": {
        "trusted": true,
        "execution": {
          "iopub.status.busy": "2024-12-06T21:49:29.309842Z",
          "iopub.execute_input": "2024-12-06T21:49:29.310568Z",
          "iopub.status.idle": "2024-12-06T21:49:29.338412Z",
          "shell.execute_reply.started": "2024-12-06T21:49:29.310507Z",
          "shell.execute_reply": "2024-12-06T21:49:29.337656Z"
        },
        "colab": {
          "base_uri": "https://localhost:8080/"
        },
        "id": "Kdj0gqBDgwFL",
        "outputId": "67398c9f-4dba-4f09-d0a8-1c6b67b09638"
      },
      "outputs": [
        {
          "output_type": "stream",
          "name": "stdout",
          "text": [
            "Darija Vocabulary size: 17282\n"
          ]
        }
      ],
      "execution_count": null
    },
    {
      "cell_type": "markdown",
      "source": [
        "The code calculates the size of the English vocabulary by creating a set, english_vocab, containing all unique words from the tokenized sentences in Y, with each word converted to lowercase to ensure case-insensitivity. It then determines the total number of unique words, num_english, as the length of this set. Finally, it prints the vocabulary size, providing insight into the diversity of English words in the dataset."
      ],
      "metadata": {
        "id": "zTjbD0dubDAV"
      }
    },
    {
      "cell_type": "code",
      "source": [
        "english_vocab = set([word.lower() for sentence in Y for word in sentence])\n",
        "num_english = len(set([word.lower() for sentence in Y for word in sentence]))\n",
        "\n",
        "print(\"English Vocabulary size: {}\".format(num_english))"
      ],
      "metadata": {
        "trusted": true,
        "execution": {
          "iopub.status.busy": "2024-12-06T21:49:29.339643Z",
          "iopub.execute_input": "2024-12-06T21:49:29.340304Z",
          "iopub.status.idle": "2024-12-06T21:49:29.372387Z",
          "shell.execute_reply.started": "2024-12-06T21:49:29.340263Z",
          "shell.execute_reply": "2024-12-06T21:49:29.371723Z"
        },
        "colab": {
          "base_uri": "https://localhost:8080/"
        },
        "id": "5oTon1OMgwFM",
        "outputId": "fea0cf1b-3b26-4be9-8392-23aba88cba9f"
      },
      "outputs": [
        {
          "output_type": "stream",
          "name": "stdout",
          "text": [
            "English Vocabulary size: 8079\n"
          ]
        }
      ],
      "execution_count": null
    },
    {
      "cell_type": "markdown",
      "source": [
        "The code generates a dictionary, darija_to_ix, that maps each unique word in the Darija vocabulary to a unique numerical index. It iterates through all the words in darija_vocab and assigns an index to any word not already in the dictionary, using the current size of the dictionary (len(darija_to_ix)) as the index. This ensures that every word in the vocabulary has a distinct numeric representation, which is critical for preparing data for machine learning models. Finally, the dictionary is printed to display the word-to-index mappings."
      ],
      "metadata": {
        "id": "dEqZ34nMbJ6i"
      }
    },
    {
      "cell_type": "code",
      "source": [
        "darija_to_ix = {}\n",
        "\n",
        "for word in darija_vocab:\n",
        "  if word not in darija_to_ix:\n",
        "    darija_to_ix[word] = len(darija_to_ix)\n",
        "\n",
        "print(darija_to_ix)"
      ],
      "metadata": {
        "trusted": true,
        "execution": {
          "iopub.status.busy": "2024-12-06T21:49:29.373204Z",
          "iopub.execute_input": "2024-12-06T21:49:29.373446Z",
          "iopub.status.idle": "2024-12-06T21:49:29.391650Z",
          "shell.execute_reply.started": "2024-12-06T21:49:29.373423Z",
          "shell.execute_reply": "2024-12-06T21:49:29.390833Z"
        },
        "colab": {
          "base_uri": "https://localhost:8080/"
        },
        "id": "8qamYf1cgwFM",
        "outputId": "3d7d033e-4e9c-4520-9c23-13f8bbed8c65"
      },
      "outputs": [
        {
          "output_type": "stream",
          "name": "stdout",
          "text": [
            "{'jjayya': 0, 'kay7ell': 1, '9tra': 2, 'jbt': 3, 'khssna': 4, 'lbid': 5, 'ktbt': 6, 'tblagh': 7, 'makaykhdamch': 8, 'sinin': 9, 'ntsenna?': 10, 'lfransawiyin': 11, 'balik': 12, 'ftaslo9': 13, 'mamezyanach': 14, 'mkellekh': 15, 'is3d': 16, 'tlmozari3in': 17, 'botolat': 18, 'drnaha': 19, 'tajarib': 20, 'lou9id!': 21, 'm3rouf': 22, 'nktachfou': 23, 'smiytek': 24, 'barda': 25, 'modmin': 26, 'bddebt': 27, 't3lm8om': 28, 'kanchekrouk': 29, 'ncomandi': 30, 'ddlam?': 31, 'madrribin': 32, 'mata3im': 33, 'ppyano': 34, 'katayeb': 35, 'bkhizo': 36, '7kem': 37, '9ette3ti': 38, 'ja.': 39, 'lmalal': 40, 'sokkan': 41, 'b7alb7al': 42, 'fih.': 43, 'te9der': 44, 'wllaft': 45, 'l5outa': 46, 'nbki!': 47, 'mafhamtch?': 48, 'katmata3': 49, 'anshita,': 50, 'sat7': 51, 'ikhasni': 52, '8a8oma': 53, 'ma3marni': 54, 'lbagage': 55, 'momti3!': 56, '7asan': 57, 'daba.': 58, 'cheta': 59, 'sebbat': 60, 't7emmel': 61, 'b3ida?': 62, 'nf8em': 63, 'ndowwech': 64, 'rrisala?': 65, 'solde': 66, 'mafrasi': 67, 'lla': 68, 'dkhlna': 69, 'nkri': 70, 'kantjasas?': 71, 'barman': 72, '7wayji?': 73, 'lkeswaa': 74, 'chft': 75, 'layla': 76, 'nakl?': 77, 'mokawinat?': 78, 'kafi': 79, 'lmofedala': 80, 'simo': 81, 'yawmiyan': 82, 'kan7tajo': 83, 't3ellem': 84, 'blastek': 85, 't3tini': 86, 'kayna.': 87, 'koula': 88, 'm3ah': 89, '2aamin,': 90, 'lpilotat,': 91, 'majanich': 92, 'chekk': 93, 'ndadr': 94, 'ghaaliban': 95, 'siftat': 96, 'twrini': 97, 'kayblaniw': 98, '3lach!': 99, 'dobb!': 100, 'sm7lia,': 101, 'couzinthom': 102, 'ladrisa': 103, 'mochkil!': 104, 'lak': 105, 'ldessert': 106, 'lbegra': 107, 'mnna,': 108, '5af': 109, 'daba,': 110, 'dnya': 111, 'machine': 112, '9asida': 113, 'aie!': 114, 'ndawzo': 115, 'mnna': 116, 'fyamato': 117, 'fmajal': 118, 'mankhafch': 119, 'nal9aw': 120, '7asasia': 121, 'katiyeb': 122, 'skhon,': 123, 'tl9na.': 124, 'twjjd': 125, 'an9dro': 126, 'kanchreb': 127, 'fl3chiya': 128, 'lbirka': 129, 'y3jbek': 130, 'kaykhonni': 131, 'tilifonk?': 132, 'gals': 133, 'tl7wayj,': 134, 'n9rrik': 135, 'ghansken': 136, 'lkhiyar': 137, 'l5miss': 138, 'biro': 139, 'nrta7.': 140, 'katjassas?': 141, 'tbronza': 142, 'l7ayawanat': 143, 'chamch': 144, 'wllat': 145, 'makay3rfoch': 146, 'makhaybch': 147, 'lkelb!': 148, 'blasa!': 149, 'makamel': 150, 'it7ell': 151, 'khdeem': 152, 'se77.': 153, 'ya9der': 154, 'jrana': 155, 'ewa': 156, 'hadak.': 157, 'bessa7?': 158, 'ntgheddaw': 159, 'wje8': 160, 't7ewwel': 161, 'kaydo99': 162, 'm3ndkch': 163, 'sitou': 164, 'anchita': 165, 'katfkkr': 166, 'snin': 167, 'katferrej?': 168, 'l3ris?': 169, 'wa7id.': 170, 't3ref': 171, 'sserwal': 172, 'had': 173, 'l9nia!': 174, 'kindir': 175, 'm9raj': 176, 'lmoghamarat': 177, 'tirit': 178, 'marketi': 179, 'tjawezti': 180, 'lay3miha': 181, 'lbinaya?': 182, 'fl9ism': 183, 'kanbghi': 184, 'ljarda': 185, 'ma9lia': 186, 'charika,': 187, 'soual': 188, 'ghfla': 189, 'chftha': 190, 'l7akam': 191, 'likandwi': 192, 'kan5afou': 193, 'passpor': 194, 'magalthach': 195, 'nsifto': 196, 'y3rfo': 197, 'wa3ar': 198, '5let': 199, 'ki9ra': 200, 'makaybeddel': 201, 'kan7taj': 202, 'ahalan': 203, 'tafi': 204, 'nwajdo': 205, 'frmaj?': 206, 'machghlich': 207, 'm3gaza': 208, 'katfella': 209, 'tchri?': 210, 'ncommandi': 211, 'blfilm': 212, 'poker?': 213, 'kayaklou': 214, 'tamaman': 215, 'sf7at,': 216, 'makanchof': 217, 'lfaragh': 218, 'makaybghinich': 219, 'msa': 220, '7chman': 221, 'kat5lik': 222, 'doctour?': 223, 'lmgharba': 224, '9rab': 225, 'lmchrobat.': 226, 'karitia': 227, 'hani': 228, 'katne99et': 229, 'ljanib': 230, 'fay9kini': 231, '5la': 232, '3arda': 233, 'b7alla': 234, 'tan7bb8om': 235, 'mokhtalifa.': 236, 'mizmar': 237, '9lle3na': 238, 'nchchettini': 239, 't3arrdi': 240, 'olbaskwit': 241, 'tetkhemt': 242, 'doctor,': 243, 'ma3ndouch': 244, 'katkemelni': 245, 'beya': 246, '7assassiya': 247, 'no9tat': 248, 'magoul': 249, 't8ellaw!': 250, 'ndowr': 251, 'lmal7a!': 252, 'kanfkkr': 253, 'ma3rid': 254, 'l2azma': 255, 'kinememou': 256, 't3ziz': 257, 'it9admo': 258, 'khdar': 259, 'mamchina': 260, 'tkouni': 261, 'lclian': 262, 'blbayd?': 263, 'katkhdem': 264, \"l'informatique\": 265, 'nt8llaw': 266, 'hadshi?': 267, 'tlbso': 268, 'lwalida,': 269, 'kmmel.': 270, 'l9enboul': 271, 'chwia': 272, 'nghani': 273, 'makrehtch': 274, 'matkhwich': 275, 'zwaj': 276, 'tma!': 277, 't3awni': 278, 'mayl9awna': 279, 'mal9itch': 280, 'natija': 281, 'ki7sabna': 282, '5ir': 283, '8na.': 284, 'tafatto7': 285, 'awdiii': 286, 'kay7es': 287, 'souad.': 288, 'da5la': 289, 'm3aya?': 290, 'rasi.': 291, 'bzzaf': 292, 'a7ssn': 293, 'nsafer': 294, 'sadma': 295, 'magahntyyebch': 296, 'chem3at': 297, 'ti9nia': 298, 'n3na3': 299, 'fssba7': 300, 's7abk': 301, 'nkhtaro': 302, 'sddan': 303, '2alwan': 304, 'sma': 305, '3a9la': 306, 'brjo3': 307, '3endhoum': 308, 'benti': 309, 'kadn': 310, 'tterjem': 311, 'bayd': 312, 'kan9ol': 313, 'nas?': 314, 'lotil': 315, 'tkhalas': 316, 'ttwal': 317, 'termos': 318, 'rjlik': 319, 'ntnebe2': 320, 'sla': 321, 'ktabi?': 322, '3al': 323, 'sandra,': 324, 'hadik': 325, 'leghda': 326, 'arbbi.': 327, '9edach': 328, 'lmaterial': 329, 'kat5bet': 330, 'matsali': 331, 'lblasssa': 332, 'layesser': 333, 'tansm3': 334, 'kaykhrj': 335, 'bitina': 336, 'balna.': 337, '9adr': 338, 't3akalt!': 339, 'kbbot': 340, '3ellah': 341, 'kayyakol': 342, '3awenni': 343, 'we9tma': 344, 'l9dim,': 345, 'bida': 346, 'smitha': 347, 'maddeyye3ch': 348, 'kansam3ak': 349, 'wed': 350, 'tchaja3,': 351, '7amda': 352, 'ss7ab': 353, 'dwwezt': 354, 'riyadiyat': 355, 'tlt': 356, 'tkherrejt': 357, 'mzyana?': 358, 'farancia': 359, 'flmadrassa': 360, 'mowadaf': 361, 'matchouf': 362, 'dakira,': 363, 'merrat,': 364, 'makankhdamch': 365, 'turing': 366, 'blaan': 367, 'amina.': 368, 'ddo.': 369, 'sber,': 370, 'jlakha': 371, 'lme3na': 372, 'mo9awil': 373, 't3afa': 374, 'mn8a': 375, 'chifour': 376, 'katdwi?': 377, 'rj3t': 378, 'fwahd': 379, 'takharoj': 380, 'mandiro': 381, 'rja3t': 382, 'ki7sbana': 383, 'tmcha': 384, 'tabi3a': 385, 'lmakiyyaj': 386, 'jihtek?': 387, 'ns8er': 388, 'kaywenessni': 389, 'khft': 390, 'bdit': 391, 'nobti': 392, 'koulchi': 393, 'kasar.': 394, 'lmzaj': 395, 'kaydawz': 396, 'kanrmiw': 397, 'msatya,': 398, 'bismi': 399, '7it,': 400, '9dar': 401, 'mal': 402, 'ghatzewwji?': 403, 'fl5edma': 404, '5ditih': 405, 'khsr': 406, 'flbiban': 407, 'dyafin?': 408, 'l3otal': 409, 'rasskom': 410, 'jjranat': 411, 'lghanyya,': 412, 'l5ouroub': 413, 'ghlid': 414, 'ttrikko': 415, 'wa': 416, 'sder': 417, 'l79i9a': 418, 'ajwibtek': 419, 'takat7ess': 420, \"b'slama\": 421, 'ma3mmrna': 422, 'ssou9': 423, 'gharami': 424, 'toilet?': 425, 'msalkhir': 426, 'nfeker': 427, 'garantie': 428, 'andi': 429, 'kbir?': 430, 'n3awnek?': 431, 'tsafira': 432, '9bal': 433, 'chefti': 434, 'ntjm3ou': 435, 'kayjbd': 436, 'ntchka': 437, 'chwiya': 438, 'tanja': 439, 'kan7edded': 440, 'weldat': 441, 'tgoul': 442, 'ssbban': 443, 'noubtna': 444, 'mnta3ch.': 445, 'ryadyat': 446, 'b9at': 447, 'sellem': 448, 'khddmna': 449, 'ikhlf': 450, 'moudda': 451, 'bsbbatek': 452, 'lsandwich': 453, 'makaykteb': 454, 'katfkker?': 455, 'ttalyan': 456, 'makayji': 457, 'kay3ayi': 458, 'ljemhour': 459, '3rram': 460, 'swweltini': 461, 'wllbar7!': 462, 'lfloka...?': 463, 'l2oghnia': 464, 'wafiyy': 465, 'lsf7a': 466, '12/20': 467, 'oghabi,': 468, 'nsa.': 469, 'monafi9?': 470, 'lmoddat': 471, 'cinema?': 472, 'mo8imm.': 473, 'mahazzch': 474, 'fi9!': 475, 'lmouch': 476, '3eynin': 477, 'lpapillon': 478, 'ljoz2': 479, 't2ttrt': 480, 'tba3o': 481, 'katmnnaw': 482, '3chrani': 483, '9arrero': 484, 'otkherrej': 485, 'talab': 486, 'jerda': 487, 'mktaba': 488, '3arfni': 489, 'maah': 490, 'anta': 491, 'za8ia': 492, 'mchina?': 493, 'zayt': 494, 'l3ewra': 495, 'ngolha': 496, 'mafekerti': 497, 'l9awanin': 498, 'moudakkira': 499, 'insan': 500, '3andna': 501, 'bssa7': 502, 'tirmos': 503, 'tchofihom?': 504, '7sn': 505, 'nsta9l': 506, 'lghoroub,': 507, '3la9al': 508, 'jib': 509, 'dad': 510, 'oul7ejayat': 511, 'akhouna': 512, 'fra7t': 513, 'misaj': 514, 'mri7a': 515, 'khotwa': 516, 'machefna': 517, 'n7addo': 518, 'nwarko': 519, 'khess': 520, 'sbah': 521, 'mtchrrfin': 522, '2alat': 523, 'lkswa?': 524, 'bzzaf!': 525, 'jrebt': 526, 'soya': 527, '8timam': 528, 'mat3am': 529, 'naadira': 530, 'l3otla.': 531, 'lila': 532, 'ghan7etto': 533, 'n3arfo': 534, 'mkhttoba': 535, 'ttiyara': 536, 'bl7afla': 537, '3amra': 538, 'tnafas': 539, 'metweffa': 540, '7adr': 541, 't3edda': 542, 'nt7amal': 543, 'ittijah': 544, 'lkhra': 545, 'wazt': 546, 'l8iwaya': 547, 'lmchrobat,': 548, 'n5edmou': 549, 'nta?': 550, 'drtha.': 551, 'l8ijra': 552, 'momarida': 553, '300': 554, 'lmasi7iyya': 555, 'ji8ti,': 556, 'lhaja,': 557, 'l8andasa,': 558, 'maytchaf?': 559, 'lmonassiba': 560, 'flondon': 561, 'chou8a': 562, 'mwerre9': 563, 'bmotorathom': 564, 'anched': 565, 'nkemmel': 566, 'lmochkil?': 567, 'n3ssa': 568, 'la2i7a': 569, 'm3aweni': 570, 'sa8m': 571, 'jamil': 572, 'manlbs!': 573, 'jor3a': 574, 'lma2': 575, 'tasallo9': 576, 'mouhal': 577, 'produiyat': 578, '3t9ni,': 579, 'lle8ja': 580, 'sa3ada': 581, 'fbalek': 582, 'kfast,': 583, 'lrpoduit': 584, 'ferge3': 585, 'kaybeyyed': 586, 'masa8elch': 587, 's7abek': 588, 'blasa.': 589, 'machrob': 590, 'mbrztin': 591, 'lkanissa': 592, 'lti8ab': 593, 'kanl3ab': 594, 'anas,': 595, 'lmasa': 596, 'alan': 597, 'katfadlo': 598, 'tania?': 599, 'ma3jbnich': 600, 'lihom': 601, 'ghzal,': 602, 'dssba7': 603, '9it3a': 604, 'wina9cho': 605, 'ddi9': 606, 'tllil': 607, 'lrassak': 608, 'charab!': 609, 'braso,': 610, 'nnab': 611, 'khdithom': 612, 'msdoda.': 613, 'samma': 614, 'nnmra': 615, 'yrj3': 616, 'yyamatk?': 617, 'mzowwja': 618, 'sde9ti': 619, 'na3es': 620, 'sirk?': 621, '9ebli': 622, 'tolout': 623, 'jjeld': 624, 'tatawou3i': 625, 'nrmiw': 626, 'was3a!': 627, 'ghanwjjed': 628, 'fanta': 629, 'kaydrr': 630, 'fa8mak': 631, 'tsawr?': 632, 'atfal': 633, 'wahmi': 634, 'namousiyat': 635, 'ma3mrhom': 636, 'fhadchi': 637, '3adi.': 638, 'kat5ad': 639, 'kaygolo,': 640, 'tndif': 641, 'frythme': 642, 'kaytsama': 643, 'makandn': 644, 'kat5rej': 645, 'n9eser': 646, 'ftri9na': 647, 'nobtkoum': 648, 'chchinwa': 649, '5ant3elem': 650, 'lmaths': 651, 'kolchi,': 652, '3afak,': 653, 'isti9ala': 654, 'lfalta': 655, 'terte9': 656, 'ghantyyeb': 657, 'l7emmam?': 658, 'ma7llit8a': 659, 'ya7mina': 660, 'nti9': 661, 'lmzyana': 662, 'moghnni,': 663, 'portable?': 664, 'rrouz': 665, 'yl9aw': 666, 'tabla': 667, '3alamiya': 668, 'seb3i': 669, '3tini': 670, 'dwa': 671, 'd3afiti': 672, 'kayd3i': 673, 'lmalal,': 674, 'bki': 675, 'polo': 676, 'tsme3': 677, 'wij8at': 678, 'kmal': 679, 'mt2eked': 680, 'terbouch': 681, 'tajriba?': 682, 'aha,': 683, 'katokkelhoum?': 684, 'mazggina': 685, 'likaydiro': 686, 'tweled': 687, 't9riban': 688, 'lia.': 689, 'kat9elleb?': 690, 'jjame3': 691, 'ma3na': 692, 'joj?': 693, 'hada,': 694, 'rsem': 695, 'ty99en': 696, 'kayd7ko': 697, '9t3': 698, 'atterfih': 699, 'lmesre7': 700, 'iwa,': 701, 'ddjaj': 702, 'kayn3es': 703, 'l2efkar': 704, 'fotni': 705, 'kat3jbou': 706, 'lkifaya': 707, 'manfkkerch': 708, '85': 709, 'tinis': 710, 'net5adaw?': 711, 'syourha': 712, 'mosta9bal': 713, '5eda': 714, 'ngliz': 715, 'sensla': 716, 'hahya': 717, 'dadd': 718, 'klyan': 719, 'lvideowat': 720, 'frask,': 721, 'da7k,': 722, 'dikssa3': 723, 'n9ezt': 724, 'katy3jbouni': 725, 'ttalab': 726, 'sam7lia,': 727, 'ttri9?': 728, 'ssokkan': 729, 'yaklo?': 730, 'nkhalas': 731, '3awtani?': 732, 'tayaran,': 733, 'tsala': 734, 'ltma,': 735, '3iwa2': 736, 'sbiwha': 737, 'bnnesba': 738, 'kayd7ek': 739, 'kat7ess': 740, 'mal9it': 741, 'jjame3?': 742, 'b3in': 743, '3mrk': 744, 'makayna': 745, '3ellemni': 746, 'ntwasl': 747, 'kay5lik': 748, 'arrosoum': 749, 'ma8azz': 750, 'kayew9af': 751, 'birra': 752, 'nsowllek': 753, 'khata2': 754, 'l7arara': 755, 'l2afkar': 756, 'ki3ebrou': 757, 'mbogs': 758, 'masta3din': 759, 'fbouldan': 760, 'kan3arfo': 761, 'ki3tiwna': 762, 'kaynta9am': 763, 'khdat': 764, 'x?': 765, 'tl3ab': 766, '3ndek,': 767, 'sswid?': 768, 'l9mer': 769, 'hokka': 770, 'wajib': 771, 'ktbha': 772, 'wajed': 773, 'nasa2i7': 774, 'wsl': 775, 'sa7bo?': 776, 'rkhef': 777, 'akatr': 778, 'kani': 779, 'an3awad,': 780, 't3alji': 781, 'nwad': 782, 'tfjija': 783, 'nbddlo8': 784, 'bba8': 785, 'matchofch': 786, 'chjer': 787, 'rrtila': 788, 'aswa2': 789, 'chfran': 790, 'lalarm.': 791, 'bonya?': 792, 'ma3yitich?': 793, 'khra': 794, 'tahia': 795, 'm2akad': 796, 'likayna': 797, 'lwalida': 798, 'lbat': 799, '3afak!': 800, 'l9arasina.': 801, 'charf': 802, 'bghani': 803, 'mbrouka': 804, 'anb3d': 805, 'chokran.': 806, 'mat9ll9ch': 807, 'lmalakiyan': 808, 'katfekker': 809, 'madam': 810, 'nchofk!': 811, 'paris?': 812, 'l3chran': 813, 'y3jbek.': 814, 'lkhdma': 815, 'aflam,': 816, 'lmoudakkira': 817, 'lkhdma,': 818, 'yawm': 819, 'tkhdm': 820, 'anjrrbo': 821, 't3zal': 822, 'leekends': 823, 'jtima3.': 824, 'bra8ch,': 825, '9der': 826, 'anrsmk': 827, 'f8emni': 828, '3afia': 829, 'dkhlti': 830, 'lblassage': 831, 'yabss': 832, 'l2amniya': 833, 'chet7at': 834, 'ddwaw': 835, 't7as': 836, 'tkhtabr': 837, 't7at': 838, 'kan7essou': 839, 'ttomobil': 840, 'njrreb': 841, 'lourti?': 842, '9riba,': 843, 'nacht.': 844, 'wajda': 845, 't9sed': 846, 'mcharji?': 847, 'matyabch': 848, 'mat9derch': 849, 'nafsa8': 850, 'tsarfi': 851, 'che3ri': 852, 'john': 853, 'lmochkil,': 854, '9blek': 855, 'risotto': 856, 'tsami8a': 857, 'aakhar': 858, 'babonj': 859, 'fer9ti!': 860, 'mamta2akdch': 861, 'mat3atfa': 862, 'm3llem': 863, 'an3ichou': 864, 'ddra': 865, 'mohal': 866, 'mntachr': 867, 'hadshi': 868, 'nassa2i7': 869, 'kaybrztoni': 870, 'njibhoum': 871, '5fifa': 872, 'bssah': 873, 'marta7': 874, 'n3tes': 875, 'da3awat.': 876, 'kobbchlabaqich': 877, 'wst': 878, 't3ttelti': 879, 'kiysfer': 880, 'mgermel': 881, 'tetouan': 882, 'm3a8?': 883, 'n9edrou': 884, 'chdakchi?': 885, 'moka3ab': 886, 'mnddminha,': 887, 's7ablik': 888, 'ma9oula': 889, 'm8dden': 890, 'aghrad': 891, 'lkhata2,': 892, 'ysta3mo': 893, 'l3asafir,': 894, 'ttrjem': 895, 'msafer': 896, 'bdel': 897, 'kay7as': 898, 'blm39ol.': 899, 'said': 900, 'daz': 901, 'khassa.': 902, 'nt8dden': 903, 'njereb': 904, 'nkmiw': 905, 'ha!': 906, 'ta3atof': 907, 'nt5edaw': 908, 'flftour?': 909, 'l7ell?': 910, 'sd9ou': 911, 't9il': 912, 'rabi7': 913, 'yarbi,': 914, 'ba9i!': 915, 'mn8om': 916, 'bl3om9': 917, 'fles': 918, 'b3d': 919, 'katfo': 920, 'omazal': 921, 'ntla9ak': 922, 'ssi7i': 923, 'fliyam': 924, 'tseffe9': 925, 'mamjro7inch': 926, 'makand9droch': 927, 'katkhdem?': 928, 'kalit': 929, 'tchrbhom.': 930, '3endhom': 931, 'ghattkhelles?': 932, 'nts7ni': 933, 'mse7': 934, 'm3ahoum': 935, '3lina!': 936, 'nemchiw': 937, 'jahzin': 938, 'kanchofha': 939, 'inchalah': 940, 'itijah': 941, 'kola': 942, 'kan2amen': 943, 'kayziynou': 944, 'tikraran': 945, 'bchi': 946, '50': 947, 'l9isa': 948, 'tkemmel': 949, 'assara7a': 950, 'idik': 951, 'stmt3ti': 952, 'jirani': 953, '9e8wa': 954, 'sskar': 955, 'lit3ti?': 956, 'lproduit': 957, 'njrebou': 958, 'kan7as': 959, 'rja3t!': 960, 'lla8': 961, 'mrrat': 962, 'dowwerti': 963, 'tlakina': 964, 'iti7': 965, 'llo3ab': 966, 'kantajro': 967, 'ssghira': 968, 'bchchta': 969, 'ddour': 970, 'kliyeb': 971, 'oblkhosos': 972, 'tghsal': 973, 'tfaraj': 974, 'asya': 975, 'mirikan?': 976, 'naja7': 977, 'makan9darch': 978, 's3iba,': 979, '3adim.': 980, 'nglizi': 981, 'emma': 982, 'daba': 983, 'ssi': 984, 'oustad': 985, 'fatora': 986, 'forsa,': 987, 'ssadi9': 988, 'fsite': 989, 'basira': 990, 'tkhlli': 991, '7fidk.': 992, 'flmath,': 993, 'ra2yk': 994, '8rastini!': 995, 'omnsach': 996, 'choukran': 997, 'kant': 998, 'dak': 999, 'a7sen': 1000, '5amsa': 1001, 'matakhodch': 1002, 'aww': 1003, 'ma3rfti': 1004, 'mawa3id': 1005, '5aywe93': 1006, 'george': 1007, 'sa7ebti': 1008, 'nt3edou': 1009, 'ngolik': 1010, 'dar,': 1011, '3liya,': 1012, 'mofida?': 1013, 'iyesser': 1014, 'kbira!': 1015, 'lbritania': 1016, 'lbnt': 1017, 'ttyara': 1018, 'euros?': 1019, 'toucan': 1020, 'me3roud': 1021, 'makhessekch': 1022, 'nbedel/n9yess': 1023, 'chab': 1024, 'sba7': 1025, 'skhoun': 1026, 'tlkhdma': 1027, 'lfkarn?': 1028, 't9achrek?': 1029, 'taxi': 1030, 'ghaykber?': 1031, 'fer7a': 1032, 'mouterjim': 1033, 'lelghaba': 1034, 'lil2ihtimam?': 1035, 'lbwata': 1036, 'ntmacha': 1037, 'silsila': 1038, 'tkhalto': 1039, 'lard': 1040, 'n3ss': 1041, 'tmnya': 1042, 'fdakchi': 1043, 'kaybtasm': 1044, 'yreb7ou': 1045, 'm3llm': 1046, 'lmadrasa': 1047, 'olkhdar': 1048, 'sinyal': 1049, 'rasoul': 1050, 'tga3': 1051, 'taf9na?': 1052, 'ghaydoz': 1053, 'laykhellik.': 1054, '9bel?': 1055, '7timalia': 1056, 'einstein': 1057, 'l7ayat.': 1058, 'kaysam3o': 1059, 'raki': 1060, 'yfltou': 1061, 'jedda': 1062, 'chakhsia!': 1063, 'flbit': 1064, 'nkhelikom': 1065, 'olmakla,': 1066, 'flmghrib?': 1067, 'alb7er': 1068, 'kat9tar7': 1069, 'finahoma': 1070, 'rrizo?': 1071, 'imken': 1072, 'ghan8bto': 1073, 'jjappon': 1074, 'tsellef': 1075, 'tjme2': 1076, 'na9tara7': 1077, 'lalaa!': 1078, 'fkarn': 1079, 'l7adi9a,': 1080, 'skaat,': 1081, 'mt5yel': 1082, 'lmosawat': 1083, 'bghat8a': 1084, 'kan.': 1085, 'katn3es?': 1086, 'flakhar': 1087, 'yddi': 1088, 'ywerri': 1089, 'kayyakhod': 1090, 'ot3rdi': 1091, 't9sser': 1092, 'jeannine': 1093, '7biba': 1094, 'may9derch': 1095, '9dafna': 1096, 'chofo': 1097, 'lmchi': 1098, 'wellbar7': 1099, 'mzwj': 1100, 'law3r': 1101, 'si7i': 1102, 'nt3chaw': 1103, 'smyt': 1104, 'fl9isem': 1105, 'batatan.': 1106, 'coupe': 1107, 'flmti7an': 1108, 'masme3tch': 1109, 'jje8d': 1110, 'fjarda': 1111, 'documentaires': 1112, '7lib...?': 1113, 'hdra': 1114, 'd8eb': 1115, 'medrasa': 1116, 'kantsnak': 1117, 'an3rfk': 1118, 'mtekki': 1119, 'fr9': 1120, 'ngad': 1121, 'rajlak?': 1122, 'rkhisa': 1123, '3awnni': 1124, 'ppay': 1125, 'mafihch': 1126, 'labre7': 1127, '3ndak': 1128, 'lwach': 1129, 'thdar': 1130, 'alps': 1131, '3a2iltek': 1132, 'ma3raftch': 1133, 'y3en9ouni': 1134, 'choufa': 1135, 'fhadi': 1136, 'ndowzo': 1137, 'kaynse7ni': 1138, 'charika?': 1139, 'fwa7d': 1140, 'likan': 1141, 'kaml': 1142, 'amrica': 1143, 'minjara': 1144, 'matatchrebch': 1145, 'kan7ss': 1146, 'flbenka': 1147, 'yeddik?': 1148, 'safli': 1149, 'n3ayat': 1150, 'lgelss': 1151, 'oh!': 1152, 'mafiach': 1153, 'anrebi': 1154, 'jddi,': 1155, 'dakchi.': 1156, 'km': 1157, 'l7aka': 1158, 'monasibin': 1159, 'ifran': 1160, '2akhisa2i': 1161, 'tla9itih': 1162, 'm3ahom': 1163, 'kayt9dda': 1164, '3tinaha': 1165, 'katir': 1166, 'barhouch': 1167, 'maf8mt': 1168, 'blfosta9': 1169, 'tawa7d': 1170, 'talj,': 1171, 'lmodda': 1172, 'm3ebbes': 1173, 'ma7taj': 1174, 'agatha': 1175, 'kat9addar': 1176, 'bogos?': 1177, 'na7ia': 1178, 'finahia': 1179, 'tsana!': 1180, 'mnasbek': 1181, 'mat3rafch': 1182, 'anch3l': 1183, 'kay3ejbou': 1184, 'ghouroub': 1185, 'kan9elleb': 1186, 'kanjri,': 1187, 'flkhdma.': 1188, 'bayn': 1189, 'siftt': 1190, 'sardin': 1191, 'mam7tajch': 1192, 'jddaba': 1193, 'chibh': 1194, 'galiya': 1195, 'fabor!': 1196, 'motabadal': 1197, 'kantsa2l...': 1198, 'char7': 1199, 'safrna': 1200, 'kat3ejbek?': 1201, 't8addan': 1202, 'l3kar': 1203, 'lkhout?': 1204, 'ttalta': 1205, 'ke7lin': 1206, 'anjib': 1207, 'chra7t': 1208, 'fyya': 1209, 'lmosta9balna': 1210, 'ma3rfch': 1211, 'instagram': 1212, 'kbro': 1213, 'ma9ritch': 1214, 'm3ah?': 1215, 'dou3aba': 1216, 'wakhkha': 1217, 'madrasa': 1218, 'moujoud': 1219, 'ched': 1220, 'l7e99': 1221, 'annho': 1222, 'ttlj': 1223, 'likom': 1224, 'lwlado': 1225, 'l5assm': 1226, 'jhdi.': 1227, 'khmsa': 1228, 'koul': 1229, 'mousaba9a': 1230, 'i7timal': 1231, 'katfred': 1232, 'lbachariya': 1233, '3endo': 1234, 'mangoul': 1235, 'appel': 1236, 'jrbti': 1237, 'glti?': 1238, 'hadaf': 1239, 'l5yar': 1240, 'indonisi?': 1241, 'zwina,ta9dar': 1242, 'llondon': 1243, 'madinat': 1244, 'lmo3awana': 1245, 'ma3radtha': 1246, 'dawazt': 1247, '5ass': 1248, 'ttani': 1249, 'bchi7ja': 1250, 'mo3jiza,': 1251, 'tfddel.': 1252, 'madlem': 1253, 'bdeltou': 1254, 'matgouwelnich': 1255, 'ghant7rrek': 1256, 'katdan': 1257, 'ssrf?': 1258, 'kaydiroha': 1259, 'kaytne99lou': 1260, 'tay9o': 1261, 'bdina': 1262, 'njme3': 1263, 'kat8dar': 1264, 'ktterti': 1265, 'td7ek': 1266, 'nifou': 1267, 'angeles,': 1268, '9hwa': 1269, 'ki7ekni': 1270, 'dyalk?': 1271, 'kat3awdi?': 1272, 'slides': 1273, 'daqiqa': 1274, 'l3tidar': 1275, 'lbe3diyatna': 1276, '5ayb': 1277, 'skhn': 1278, 'kidayr?': 1279, 't7ayd': 1280, 'majerebti': 1281, 'f8emti?': 1282, 'tfakar!': 1283, 'lrassi': 1284, 'i7rk': 1285, 'dkhla': 1286, 'ykhrej': 1287, 'jahanam': 1288, 'sma.': 1289, 'fo9': 1290, 'tgollih': 1291, 'mberre3': 1292, 'hbet': 1293, 'knlbes': 1294, 'makanste7melch': 1295, 'bzerba.': 1296, 'noubti': 1297, 'kat5ars': 1298, 'nwerrih': 1299, 'd9i9a.': 1300, 'mt9a3ed': 1301, 'rimaya?': 1302, 'moufadala': 1303, 'dado': 1304, 't9adamha': 1305, 'fllil': 1306, 'ya7tafal': 1307, 'nn9zo': 1308, 'tobis?': 1309, 'simana,': 1310, 'tab9a': 1311, 'tl9ani': 1312, 'sma7lia,': 1313, 'lmalak': 1314, 'rchan': 1315, 'l9a2ima': 1316, '3ammatan': 1317, 'ddiyaf': 1318, 'lconcert': 1319, 'lmouchkil.': 1320, 'drari?': 1321, 'maderbouch': 1322, 'liya9a': 1323, 'tzglo8a': 1324, 'nti': 1325, 'katbghihom': 1326, 'wa7f': 1327, 'kan3oum': 1328, 'howwa?': 1329, 'ddekhla!!': 1330, 'tswwlni': 1331, 'masm3at': 1332, 'kan8z': 1333, 'jaweb': 1334, '3otla?': 1335, 'mazyana': 1336, 'kayjreb': 1337, 'tn3s,': 1338, 'lmafahim': 1339, 'itmmaw': 1340, 'fibrayr': 1341, 'houma?': 1342, 'm7taj!': 1343, 'klb8om': 1344, 'bsa3ada': 1345, 'madame.': 1346, 'w9t.': 1347, 'ncha3al': 1348, 'natwasal': 1349, 'y9adro': 1350, 'katghewwet?': 1351, 'kandan': 1352, 'kayballia': 1353, 'fog': 1354, 'zwin!': 1355, 'nt7mmlak': 1356, 'l9adia': 1357, 'lit3awal': 1358, 'asasiya': 1359, 'katsnna': 1360, 'khrj': 1361, 'kangolo': 1362, 'kay7wlo': 1363, 'jdida,': 1364, 'nde7kou': 1365, 'tanawiya': 1366, 'kat3aradni': 1367, '3endek': 1368, '8iyya': 1369, 'sme3ni': 1370, 'lbirowat': 1371, 'me5lou9': 1372, 'nkhadmo': 1373, 'kandirha!': 1374, 'iddina': 1375, 'daraja?!': 1376, 'lli': 1377, 'larbe3': 1378, 'taba9': 1379, 'glissa': 1380, 'nsoniw': 1381, 'rask': 1382, 'mjamda': 1383, '3odwani': 1384, 'ghaby?': 1385, 'lmoucha': 1386, 'katfddlo': 1387, 'ma7ddi': 1388, 'sgher...': 1389, 'achaniya': 1390, 'ngoulek': 1391, 'o7ayawnat': 1392, 'ssinyal': 1393, 'bita9at': 1394, 'yfham': 1395, 'tosl?': 1396, 'ta7tarm': 1397, 'bl7alwa': 1398, 'maydiro': 1399, 'achni': 1400, 'kanjri': 1401, 'n3ask': 1402, 'moutawa77ich': 1403, 'ljournal': 1404, 'maddirch': 1405, 't8ala': 1406, 'galtiha': 1407, 'lfikra': 1408, 'makanchaja3ch': 1409, 'kanfi9': 1410, 'tensa': 1411, 'lk7el?': 1412, 'mou5amara': 1413, 'tawa9ou3at': 1414, 'kantkhl3': 1415, 'maw9if': 1416, 'italbo': 1417, 'ykhsona': 1418, 'tebla': 1419, 'doda': 1420, 'rottweiller': 1421, 'ddo,': 1422, 'wayeh,': 1423, '3awn': 1424, 'tomobilti': 1425, 'twjj8': 1426, 'n3awed': 1427, 'kad7ek?': 1428, 'yt9dda': 1429, 'ntewwer': 1430, 'frisbee!': 1431, '3inina': 1432, '2la': 1433, 'ghanmoto': 1434, 'ghanjib': 1435, 'flma7al': 1436, 'a5or': 1437, 'fayt': 1438, 'jjam3': 1439, 'b7ala': 1440, 'katwejed': 1441, 'lmsba7': 1442, 'mot99af': 1443, 'imta?': 1444, 'nerta7': 1445, 'n7yydo': 1446, 'ssbbat': 1447, 'nnabatat': 1448, 'yt9esmou': 1449, '39balik': 1450, 'khoya,': 1451, 'saferna': 1452, 'ra2i3.': 1453, '5an3ichou': 1454, 'kaytll3oha': 1455, '9hiwa': 1456, 'chappo': 1457, 'wakha!': 1458, 'mabghithach': 1459, 'bit': 1460, 'byot': 1461, 'majrebti': 1462, 'jtima3': 1463, 'bejjehd,': 1464, 'kays7abni': 1465, 'me9tou3': 1466, 'bighitini': 1467, 'makhlla': 1468, '3a9l': 1469, 'matla9itch': 1470, 'tmenia': 1471, 'jre7': 1472, 'tla9ito': 1473, 'amoulay': 1474, 'katchedd': 1475, 'ghaydouz': 1476, 'onchof': 1477, 'l9ar3a?': 1478, 'sbbat': 1479, 'tayaran,wakha': 1480, 'lgharad': 1481, 'liyam': 1482, 'lwalid': 1483, '3id': 1484, 'whd': 1485, 'makhdit': 1486, 'lmousta9bal': 1487, 'mama!': 1488, 'jra7t': 1489, 'lse9': 1490, 'ay': 1491, 't3rad': 1492, 'mnhom': 1493, 'talyaniya': 1494, 'zwinat...': 1495, 'ghefla': 1496, 'makrehch': 1497, 'blastha?': 1498, 'yosl': 1499, 'ltarf': 1500, 'wata2i9i': 1501, 'si7riya': 1502, '39lti': 1503, 'factoura': 1504, 'sa7bu': 1505, 'mj8oud': 1506, 'nift?': 1507, 'naktab': 1508, 'kigoulou': 1509, '7ayawnat': 1510, 'kifekrou': 1511, 'l9at': 1512, 'm3art': 1513, 'lmn7ous': 1514, 'kandkhol': 1515, '5anmchiw': 1516, 'bwa7ed': 1517, 'd3if': 1518, 'makandirch': 1519, 'science': 1520, 'dhs': 1521, 'bsse7': 1522, 'nkhaliwha': 1523, 'mod7ik': 1524, 'ghan3tabrha': 1525, 'ignatius': 1526, 'kat9sad': 1527, 'rjj3tina': 1528, 'khibra': 1529, 'lbotonat': 1530, 'tounes': 1531, 'kobbchlaba9ich': 1532, 'izyyen': 1533, 'fikrat': 1534, '7tta': 1535, 'mlyou7n': 1536, 'mokawinat': 1537, 'kad7ek': 1538, 'flmadrasa,': 1539, 'a7sse': 1540, 'maf8mtch': 1541, 'bessa7?!': 1542, 'kaml!': 1543, 'myat': 1544, 'kay3jbak': 1545, 'mkalakh,': 1546, 'bidoun': 1547, 'histiriya': 1548, 'ngalza?': 1549, 'nsbben': 1550, 'lktichaf': 1551, 'adouk': 1552, 'fik,': 1553, 'tybat': 1554, 'alam': 1555, 'f3otla': 1556, 'f3mro': 1557, 'lwe9t': 1558, 'w9ef': 1559, 'katst3mel': 1560, 'nowanbir': 1561, 'm7tajk': 1562, 'stilo': 1563, 'msdoudin': 1564, 'tilifoni,': 1565, 'f7ali': 1566, 'lma': 1567, 'matensach': 1568, 't5rej': 1569, 'la': 1570, 'tban': 1571, 'ach?': 1572, 'yfowej': 1573, 'kantsnna': 1574, 'katb3ak?': 1575, 'yrado': 1576, 'chaghlak?': 1577, 'ki7tarmou': 1578, 'ya8': 1579, 'sso9our': 1580, 'fttyab': 1581, 'kaybi3': 1582, 'lframj': 1583, 'khososan': 1584, 'tew7ima': 1585, 'itmalmlo.': 1586, '9ra': 1587, 'imma': 1588, '3red': 1589, 'hania?': 1590, 'ajwiba': 1591, 'hmmm,': 1592, 'garrou': 1593, 'lbssa': 1594, 'moufadal': 1595, 'dfer': 1596, 'aktkoun': 1597, 'chwya': 1598, 'n3rad': 1599, '9ahwa,': 1600, 'kaykhasni': 1601, 'y3i9o': 1602, 'pause': 1603, 'akhiran': 1604, 'mjemmda...': 1605, 'khddamin': 1606, 'fl98wa': 1607, 'kayjerr': 1608, 'anaka': 1609, 'lina': 1610, 'ra3d': 1611, 'mou7rij': 1612, 'nkhellik': 1613, 'tdaf3': 1614, '3jbatou': 1615, 'mat7amsa': 1616, 'gump.': 1617, 'darbni': 1618, 'khatti7': 1619, 'mytghawat': 1620, 'n7afd': 1621, 'chinwa': 1622, 'nchoufhoum': 1623, 'makentch': 1624, 'tbal7is': 1625, 'lmosa3ada?': 1626, '3eyyit': 1627, 'kay9elleb': 1628, 'lhamdolilah': 1629, 'msian,': 1630, 'blasstek': 1631, 'malinehoum': 1632, 'tai3a': 1633, 'kandiro': 1634, 'lkhayr!': 1635, 't3rf': 1636, '7adi9a': 1637, 'sadma?': 1638, 'chorba': 1639, 'sre3': 1640, 'tnazah': 1641, 'chwia.': 1642, 'tiyara': 1643, 'dialo': 1644, 'tari9a.': 1645, 'mrbot': 1646, 'misr': 1647, 'anana': 1648, '3a2i9': 1649, 'lmafasil': 1650, 'matalan': 1651, 'ywslo': 1652, 'ki5eltou': 1653, 'sttef': 1654, 'walo?': 1655, 'ttbla': 1656, 'milado': 1657, 'l5atir': 1658, 'kay3awnni': 1659, 'lhna,': 1660, 'hanya': 1661, '9erd': 1662, '9rayti': 1663, 'wnsifto': 1664, 'hmmmm!': 1665, 'l7alwa': 1666, 'ogalo': 1667, 'ftta': 1668, 'ok': 1669, 'reservaw': 1670, 'karshi': 1671, '8azza': 1672, 'mkellekh,': 1673, 'kwiyess': 1674, 'mattaklouch': 1675, 'mti7an,': 1676, 'nchte7': 1677, '3inih,': 1678, 'je8dek': 1679, 'lkhtwat': 1680, 'm3ak?': 1681, 'rfe3': 1682, 'ghaliban!': 1683, 'khesna': 1684, 'laykhellik': 1685, 'ntmennaw': 1686, 'lih.': 1687, 'bash': 1688, '70': 1689, 'blaka': 1690, 'mt8derch': 1691, 'olkhdma': 1692, 'katban': 1693, '79i9i': 1694, 'm3ettel?': 1695, 'sa7afi,': 1696, 'lghoror': 1697, '2oroppa': 1698, 'ghanwled': 1699, 'bou7dek': 1700, 'doz': 1701, 'ta7t': 1702, 'ziton': 1703, '7san?': 1704, 'lpandas': 1705, 'makattsame7ch': 1706, 'gwaro': 1707, 'matchri8ch': 1708, 'ossod': 1709, 'l3chiya?': 1710, 'lblasa': 1711, 'lyouma!': 1712, 'mobtadi2?': 1713, 'kt3ref': 1714, 'nbrak': 1715, '9adima.': 1716, 'ant7ewel': 1717, 'bslama': 1718, 'sikiriti,': 1719, 'katsma3': 1720, 't8rab': 1721, 'tghenni': 1722, 'katkhallini': 1723, 'nrkab': 1724, 'i9di': 1725, 'nkhelles': 1726, 'kchifa': 1727, 'glace': 1728, 'texas?': 1729, 'ttyab': 1730, 'l7ot': 1731, 'kafini.': 1732, 't9adam': 1733, 'chkal': 1734, 'do8oun': 1735, 'b8ad': 1736, 'doross': 1737, 'tlwa9t': 1738, 'remla': 1739, 't9edit': 1740, 'mame3roufch': 1741, 'no9ta': 1742, 'katwa3d?': 1743, 'kaygolia': 1744, 'ndkhol': 1745, 'dialk,': 1746, 'ollala?': 1747, 'atta9am': 1748, 'cha3iri': 1749, 'ijini': 1750, '3reft.': 1751, '9aws': 1752, 'dilana': 1753, 'ke77el8a': 1754, 'f33alin': 1755, 'lkolon': 1756, 'momtaza.': 1757, 'br8och': 1758, 'ki5niw': 1759, 'anisa': 1760, 'saxophone': 1761, 'l5ouh': 1762, 'flila': 1763, 'tbdal': 1764, '3inik': 1765, 'dyalkom?': 1766, 'akid': 1767, 'z7am': 1768, 'ldad.': 1769, 'fatt?': 1770, 'trsem': 1771, 'm9ermech': 1772, 'm5erbe9': 1773, '9atila': 1774, '5adma': 1775, 'rassak': 1776, 'ljanob': 1777, 'kayde77ek': 1778, 'n3awen': 1779, 'ochftha': 1780, 'ba3dyatna.': 1781, 'sfara': 1782, 'kan7lef': 1783, 'kat9emmer?': 1784, 'khllef': 1785, 'l7arara?': 1786, 'kelma.': 1787, '7na!': 1788, 'makhassekch': 1789, 'sabr': 1790, 'balid': 1791, 'n5eliwha': 1792, 'jayya': 1793, 'olghna': 1794, 'mmoskha': 1795, 'y3awnouk': 1796, 'katfker': 1797, 'teknolojya': 1798, 'i9dr': 1799, 'khasa8': 1800, 'lappisin': 1801, 'fre7': 1802, 't3adelna': 1803, 'makafyach': 1804, 'tsennet': 1805, '9re3': 1806, 'lon': 1807, 'mbekhkher': 1808, 'mazyana.': 1809, 'mo7zin': 1810, '3otal': 1811, 'okhra': 1812, 'mani3': 1813, 'l3rada': 1814, 'gelt8a': 1815, '7sabk': 1816, 'maklthom': 1817, 'biro.': 1818, 'ylbes': 1819, 'jihti,': 1820, 'lwlad': 1821, 'kay3ejbo': 1822, 'l2almaniyya': 1823, 'ziton?': 1824, 'kay7ml': 1825, 'l2aghliabia': 1826, 'kan7afdo': 1827, 'n9essi': 1828, 'tanhder': 1829, 'knyytek?': 1830, 'aziz': 1831, 'l7rir': 1832, 'hadi': 1833, 'kayfehmouni': 1834, 'nzarrbak': 1835, 'mrida': 1836, 'commande': 1837, 'nbdlha': 1838, '3ref?': 1839, 'lsanek': 1840, 'kidayr': 1841, 'fclouzina': 1842, 'dyawl': 1843, 'charge': 1844, 'kan7drak,': 1845, 'blays': 1846, 'fnafs': 1847, 'cha8adat': 1848, 'salsa': 1849, 'nnou3': 1850, '39elti': 1851, 'ljamos!': 1852, 'mmaline': 1853, 'atkon': 1854, 'kaygolo.': 1855, 'smithoum.': 1856, 'kaybghi': 1857, 'takhad': 1858, '3liya?': 1859, 'yanis': 1860, '8dar': 1861, 'tbal7iss': 1862, 'lglace': 1863, 'ddajij': 1864, '3aych': 1865, 'ihssan,': 1866, 'ghanwrri8': 1867, 'm9elle9?': 1868, 'mat3ref': 1869, 'zyada?': 1870, 'lmatchat': 1871, 'sara7atan,': 1872, 'lwa9t,': 1873, 'makaychfe3ch': 1874, 'conversationns': 1875, 'kay9r9bo': 1876, 'mochkil?': 1877, 'manmchi': 1878, 'tobisat.': 1879, 'lmo3adalat': 1880, 'tsma3': 1881, 'ma7dak': 1882, 'makhssch': 1883, 'kan3ich': 1884, 'ktab?': 1885, 'hadi,': 1886, 'tennis': 1887, 'l7a9': 1888, 'me9boul': 1889, 'idan': 1890, 'nghetti': 1891, 'fauteuil?': 1892, 'terwa': 1893, 'mtbo3.': 1894, '7sab': 1895, 'mabghah': 1896, 'tghouwet': 1897, 'kay3oum': 1898, 'gless': 1899, 'i7tel': 1900, 'tmma!': 1901, 'mankonch': 1902, 'lbit': 1903, 'katsennet': 1904, 'jban': 1905, 'gdditi': 1906, 'joz': 1907, 'hrrbni': 1908, 'kayjiwna': 1909, 'll9ta': 1910, 'tamwin': 1911, 'fhamt!': 1912, 'fkkerti': 1913, 'rassk': 1914, 'chwa': 1915, '3eni': 1916, 'lycee': 1917, 'fia': 1918, 'fl3amalia': 1919, 'rch9at': 1920, 'lfenni': 1921, 'sta3mel': 1922, 'tsana': 1923, 'machft': 1924, '5andir': 1925, '3ella9ell': 1926, 'lkhddama': 1927, 'hania.': 1928, 'makansm3kch': 1929, 'a8ammia': 1930, '3andkom...?': 1931, 'mamezyanch': 1932, 'okatsmmam': 1933, 'rrof9a': 1934, 'na9cho': 1935, 'tmarka': 1936, 'lyali': 1937, 'npparki': 1938, 'anchark': 1939, 'haza': 1940, 'na3rfoh': 1941, 'llard': 1942, 'khddem': 1943, 'argentine': 1944, 'joww': 1945, 'makannakolch': 1946, 'madouz': 1947, 'i9der': 1948, 'lmohimm': 1949, 'tabsili!': 1950, 'tgol': 1951, 'ra9s': 1952, 'almotatllabat': 1953, 'l3am?': 1954, 'seba': 1955, 'kayberztni': 1956, 'tjowwjo': 1957, 't3awanini': 1958, 'kaydwzo': 1959, 'lbatal': 1960, 'tdwwz': 1961, 'lmlayn': 1962, 'lmajalat': 1963, 'ki3jbni': 1964, 'lil,': 1965, 'wajba': 1966, 'ktabha': 1967, 'itfhmou': 1968, 'sou9i': 1969, 'kdbti': 1970, 'sir,': 1971, 'wajhak': 1972, 'london': 1973, '39lt': 1974, '3amra?': 1975, '3amar': 1976, 'thai?': 1977, '3odw!': 1978, 'rebit': 1979, 'andriha': 1980, 'nttelle9': 1981, 's3ab?': 1982, 'tlabti': 1983, 'likan3raf': 1984, 'kantl3o': 1985, 'm3ya': 1986, 'nabatiyin,': 1987, 'mchemmech': 1988, 'kan9tar7': 1989, 'kay9ad': 1990, '8ada': 1991, 'lmodirin': 1992, 'bo7dha,': 1993, 'mziyrin,': 1994, 'mo7adada?': 1995, 'dialha.': 1996, 'tkhaf': 1997, 'sbboura': 1998, 'nmtass': 1999, 'toddrna': 2000, 'jak': 2001, 'b9araya': 2002, 'ndirhoum': 2003, 'bou7dek,': 2004, 'tlab': 2005, 'khasna': 2006, 'nabati.': 2007, 'twajad': 2008, 'kant,': 2009, 'matmchich': 2010, 'tmmak': 2011, 'ma3erni': 2012, 'mha': 2013, 'walidina': 2014, 'lma3alim': 2015, 'cocktailat': 2016, 'l8odou3': 2017, 'bz9ol': 2018, '9a3at': 2019, 'balak': 2020, 'tari5iyan': 2021, 'na3tik': 2022, 'sayeb': 2023, 'kadenn': 2024, 'kayti7': 2025, 'lmadina': 2026, 'khessni': 2027, 'btari9a': 2028, 'mouchkil': 2029, 'l7issa': 2030, 'tbel7is': 2031, 'ma3zz': 2032, 'mcharji': 2033, 'lkhata2': 2034, 'motatallabat': 2035, '9la3': 2036, 'ghdda?': 2037, 'lkolchi': 2038, 'tsm3': 2039, 'sffara': 2040, 'kaysouni': 2041, 'lkarati': 2042, 'bzit': 2043, 'mwalfa': 2044, 'bzaf!': 2045, 'onl3bo': 2046, 'lkhowf': 2047, 'li7tina': 2048, 'cream?': 2049, 'ddo': 2050, 'kaynfe3': 2051, 'mamsawbach': 2052, 'laguira': 2053, 'bsiftak': 2054, 'kanst3ml': 2055, 'nsbegh': 2056, 'jjdida!': 2057, 'kat9blo': 2058, 'tsna,': 2059, 'khassa,': 2060, 'a3tadir,': 2061, 'kantsnna8': 2062, 'amakin': 2063, 'majebtch': 2064, 't3errfo.': 2065, 'nraj3o': 2066, 'tyarat': 2067, 'mnouna': 2068, 'l5edma': 2069, 'chehrayn,': 2070, 'lma3arid': 2071, 'hahaha,': 2072, 'katsewer': 2073, 'kharita.': 2074, 'ghanakhdo': 2075, 'allah': 2076, 'makmmeltch': 2077, 'fatou': 2078, 'tweffat': 2079, 'chiwa2': 2080, 'kay3ejbel': 2081, 'wa3rin': 2082, 'waldi': 2083, '5asm': 2084, 'lso9': 2085, 'ssa3a...': 2086, 'nfhem': 2087, 'mberrerin.': 2088, 'ktachf': 2089, 'walo.': 2090, 'tlbess': 2091, 'l9iwa': 2092, 'dghya': 2093, 'makaybanch': 2094, 'sard': 2095, 'ke7la': 2096, 'ma3mmrek': 2097, 'l3ochcha9': 2098, 'sarbi': 2099, 'i7sas': 2100, 'n5elsou': 2101, 'ttibgh': 2102, 'kay7mini': 2103, 'motir': 2104, 'kanftarad': 2105, 'kokiyyajat': 2106, 'lioma': 2107, 'nass,': 2108, '3amra!': 2109, 'na3ti': 2110, 'douwz': 2111, 'kat3jbak': 2112, 'doyof': 2113, 'tahoa': 2114, 'lfi2a': 2115, 'dyalek': 2116, 'mr7ba': 2117, 'dwi': 2118, 'che3rek': 2119, 'ib9a': 2120, 'tss3in': 2121, 'tewrat': 2122, 'bou7dha': 2123, 'kaytir': 2124, 'adna': 2125, 'kat3rfhoum?': 2126, 'l3wdan': 2127, 'nkhells': 2128, 'l7assassiyat': 2129, 'b7ytak': 2130, 'kikat7essi': 2131, 'liktchbah': 2132, 'ta5oud': 2133, 'drtouha': 2134, 'flmadrasa': 2135, 'lbenka': 2136, 'hnaya.': 2137, 'katkhddamna': 2138, 'fte7t': 2139, 'chmakriya': 2140, '8ezz': 2141, 'gles!': 2142, 'lhdra': 2143, 'na3s,': 2144, 'bro8ab': 2145, 'chedou': 2146, 'babbaghawat.': 2147, 'juj': 2148, 'flkhlas': 2149, 'tosl': 2150, 'makhayfch.': 2151, 'mayoslo': 2152, 'kay3jbhoum': 2153, 'dalafin': 2154, 'jbed': 2155, 't5amira': 2156, 'kayakhd': 2157, 'sba7lkhir': 2158, 'tasllo9': 2159, 'kay3aniw': 2160, '7dach': 2161, 'tbdlat': 2162, 'lhadya': 2163, 'okat7taj': 2164, 'mtkhasas': 2165, 'ga3.': 2166, 'khouya': 2167, 'cha8r': 2168, 'jawni': 2169, 'aykhsni': 2170, 'l9amar': 2171, 'ikhassni': 2172, 'nherbou': 2173, 'hadik?': 2174, 'jami3i': 2175, 'kandir': 2176, 'ascenseur': 2177, 'ttbib': 2178, 'kaya3yet': 2179, 'mjemmda,': 2180, 'ch8er': 2181, '26': 2182, '7alwa': 2183, 'matla9awch': 2184, 'lbdaya': 2185, 'attention': 2186, '3chiyya': 2187, 'ntrini': 2188, 'tekhfid?': 2189, 'khassek': 2190, 'mou3ad': 2191, 'btabi3t': 2192, 'kan7esdek': 2193, 'dyalk': 2194, 'rabi7!': 2195, 'ncherfo': 2196, 'tst3ml': 2197, 'mital': 2198, 'n3tihom': 2199, 'a5ra': 2200, 'rasha': 2201, 'bla': 2202, 'dwwrat': 2203, 'ta8oa.': 2204, 'katf8em': 2205, 'ghanbda': 2206, 'kberna': 2207, 'masma3t': 2208, 'dakchchi': 2209, 'tbl7is': 2210, 'fchkal': 2211, 'zina': 2212, 'walidin,': 2213, 'm9abla': 2214, 'l2ihtimam': 2215, 'mafrassi': 2216, '9soura': 2217, 'mouldar': 2218, 'makan9blouch': 2219, 'khanza': 2220, 'kimya2ia': 2221, 'knti': 2222, 'fotha': 2223, 'wllbare7': 2224, 'njaweb': 2225, 'okatrmi': 2226, 'walidih': 2227, '9dim': 2228, '3achra': 2229, 'y3zef': 2230, 'masalit': 2231, 'tsawar': 2232, 'bano': 2233, 'adir': 2234, 'rajlik': 2235, 'l7ammam': 2236, 'daro': 2237, 'ntkherrej': 2238, 'sbaa': 2239, 'chfti': 2240, 'kdba': 2241, 'mathlina': 2242, 'ssghir?': 2243, 'frota': 2244, 'daye3': 2245, 'fa5our': 2246, 'saa7a': 2247, 'soutek': 2248, 'momtaz': 2249, 'i': 2250, 'akhrin': 2251, 'l8adm': 2252, 'flowl': 2253, 'tijaria': 2254, 'rtila': 2255, 'ncommandiw': 2256, 'dfarou': 2257, 'ta8jaj': 2258, 'l3tibar': 2259, 'l5edra': 2260, 'bdaya': 2261, 'kado': 2262, 'tajriba': 2263, 'gltiha,': 2264, 'nktbou': 2265, 'ghetti': 2266, 'l2a3rad': 2267, '3andha': 2268, 'tchri': 2269, 'b7alk': 2270, 'l2alam': 2271, '3ndhomch': 2272, 'ghangollik': 2273, 'toulab': 2274, '3arfin,': 2275, 'kadirha': 2276, 'lyamat': 2277, 's7abou': 2278, 'oness': 2279, 'l7oulm': 2280, 'srbi': 2281, 'm3ak!': 2282, 'matkhdem': 2283, 'm3ah,': 2284, 'armagnac': 2285, 'zwaj,': 2286, 'ma3mmrni': 2287, 'ysta8el': 2288, 'safi.': 2289, 'doble': 2290, 'dakhlin': 2291, 'bjoj,': 2292, 'annana': 2293, 'chahada': 2294, 'nkhwiw?': 2295, 'lkeswa': 2296, 'mrat': 2297, 'khsert': 2298, 'de7ka': 2299, 'idouz': 2300, 'ndir8a': 2301, 'l7sad': 2302, 'kibriw': 2303, 'bnt.': 2304, 'khtifa2': 2305, 'llebsa?': 2306, 'kizbel,': 2307, 'l7orria': 2308, 'bojm3a': 2309, 'tbra': 2310, 'makat7asich': 2311, 'kaytzad': 2312, 'kokh': 2313, 'oustada': 2314, 'dikra': 2315, 'mchhour': 2316, 'tn3s': 2317, 'kbir,': 2318, 'ndbber': 2319, 'lapissin.': 2320, 'i3tamad': 2321, 'mazyana!': 2322, 'l7afila,': 2323, 'kolna': 2324, 'llouz': 2325, 'dakchi?': 2326, 't9dar': 2327, 'kan9emmer': 2328, 'nt9ayya': 2329, 'nnasa2i7.': 2330, 'ymarkiw': 2331, '8ada?': 2332, 'nwrrek': 2333, 'katwazn': 2334, 'polo,': 2335, 'se7tek': 2336, 'ndewech': 2337, 'kat7ekkem': 2338, 'irti3ach': 2339, 'likaykon': 2340, 'tarja3': 2341, 'kayji': 2342, 'tal3': 2343, 'red': 2344, 'n9errer!': 2345, 'anna': 2346, 'lfaracha': 2347, 'l7afida': 2348, 'thania': 2349, 'tayara': 2350, 'mberztek?': 2351, 'l9e8wa,': 2352, 'layskher,': 2353, 'loustadthom': 2354, 'assi': 2355, 'daroriat': 2356, 'ward,': 2357, 'yatbadal': 2358, 'ladrissa': 2359, 'kay5liw': 2360, 'awwel': 2361, 'lbni': 2362, 'lma3lomat': 2363, 'i8ada2na.': 2364, 'obghit': 2365, 'fa8m': 2366, 'thela': 2367, 'wselna': 2368, 'khasek': 2369, 'tansteslem.': 2370, 'sme7t': 2371, 'ta8owa': 2372, 'wayli!': 2373, 'kol': 2374, 'tl9': 2375, 'lddar': 2376, 'wkhellani': 2377, 'mab9itich': 2378, 'homa': 2379, 'bdde7k,': 2380, 'mabghat': 2381, 'ra2isiya': 2382, 'l7abs?': 2383, 'katfakr': 2384, 'msa7b': 2385, 'drok,': 2386, 'ffilm': 2387, 'ri7': 2388, '9a9dr': 2389, 'welleft': 2390, 'kay3omo': 2391, 'mblokayin': 2392, 'bdar': 2393, 'tabi3iya': 2394, 'l2alat!': 2395, 'l9ira2a': 2396, 'injaz': 2397, 'rta7.': 2398, 'selliti': 2399, 'kaygol': 2400, 'awalan,': 2401, '9yma': 2402, 'mo7awala': 2403, 'l7lib,': 2404, 'mo8imm': 2405, 'tbib?': 2406, '5ayzel9ou': 2407, 'mol': 2408, 'katgoul,': 2409, '2atlasi': 2410, 'nt2adaw': 2411, 'awwal': 2412, 'ljamal': 2413, 'alfan': 2414, 'lbyad,': 2415, 'tekka': 2416, 'lmzyanin': 2417, 'l3ibat': 2418, 'jbti': 2419, 'lsi7a': 2420, 'bessa7.': 2421, 'facebook?': 2422, 'tkhiyel': 2423, 'macherkti': 2424, 'b9imti': 2425, 'nnift': 2426, 'tani.': 2427, 'lmektaba': 2428, 'fmizaj': 2429, 'skout': 2430, 'khfif': 2431, 'llisriya': 2432, 'morahom': 2433, 'msawweb': 2434, 'rassi.': 2435, 'ziyara': 2436, 'nkhad': 2437, '9ba7': 2438, 'srbay': 2439, 'tts3oud': 2440, 'n9dro': 2441, 'ghedda?': 2442, '3ndhom?': 2443, 'y3taref': 2444, 'simanat': 2445, 'ma3mrek': 2446, 'tickeyat': 2447, 'l8awa,': 2448, 'tt3ta': 2449, 'matkhellestch': 2450, 'la?': 2451, 'monasib': 2452, 'lor,': 2453, 'btayara': 2454, 'b3adiyat8om': 2455, 'nsowl?': 2456, 'ryye7': 2457, 'kayl3ab': 2458, 'na9es': 2459, 'ib9aw': 2460, 'flidd': 2461, '3arfa': 2462, 'ddissir': 2463, 'lbi2a?': 2464, 'sse7ra': 2465, '5assm': 2466, 'bjahd.': 2467, 'mebli': 2468, 'flmakla': 2469, 'kikayjik': 2470, 'si77i!': 2471, 'la,': 2472, 'msdod': 2473, 'mafikch': 2474, 'carolin,': 2475, 'khserti': 2476, 'bseta': 2477, 'emails,': 2478, 'zwiwen!': 2479, '8aja': 2480, 'lhna?': 2481, 'matrdadch': 2482, 't9addi': 2483, 'mech8our': 2484, 'fat': 2485, 'ghanredd': 2486, 'docteur,': 2487, 'ra7tek': 2488, 'man3tiwhomch': 2489, 'jiddiya': 2490, 'yjiw': 2491, 'salam!': 2492, '9ta3': 2493, 'ytiro': 2494, 'rkhisa,': 2495, '3rafti': 2496, 'flos': 2497, 'makrehtch.': 2498, 'rb7o': 2499, 'syasiya': 2500, 'tsmak,': 2501, 'swwl': 2502, 'sb3k': 2503, 'mojrim': 2504, 'ligat': 2505, 'lsafariyat': 2506, '7tarem': 2507, 'tabakhin!': 2508, 'tba3ad': 2509, 'bchkal': 2510, 'yrje3': 2511, 'whiskey': 2512, 'm3ndakch': 2513, 'brra?': 2514, 'kayjik': 2515, 'msmoum!': 2516, 'n3erref': 2517, 'nadin': 2518, 'manadir': 2519, 'ma3merha': 2520, 'lfom': 2521, 'makmml': 2522, 'nnamima': 2523, 'tafadol': 2524, 'smitek?': 2525, 'nmtwa93.': 2526, 'tfkar': 2527, '3tinahomm?': 2528, 'lkbar': 2529, '7ett': 2530, 'kaynin,': 2531, 'mnhoum': 2532, 'mita': 2533, 'sme3ti': 2534, 'driyat': 2535, '8iyya..': 2536, 'tomobil?': 2537, 'lithuania,': 2538, 'wijhat': 2539, 'jdid?': 2540, '9alab': 2541, 'nbddel': 2542, 'kaytll3ha': 2543, 'ktar': 2544, 'mkat7mlnich': 2545, 'bsit': 2546, 'tsennet,': 2547, 'kaybiyno': 2548, 'lsa7el': 2549, 'b3da?': 2550, 'ghantwasl': 2551, 'nmchi!': 2552, 'idik!': 2553, 'pikala?': 2554, 'm3lle9': 2555, 'kanstkhdmo': 2556, 'lwajba': 2557, 'flkhr?': 2558, 'ya8oudi': 2559, '7chmt': 2560, '9bal!': 2561, 'ajjaya': 2562, 'tbki': 2563, 'yttemdegh': 2564, '3wachr': 2565, 'nchofha': 2566, 'be3diyathom': 2567, 'tbal': 2568, 'aykhasan': 2569, '7issass': 2570, 'khmis': 2571, 'ltri9': 2572, 'katwesel': 2573, '3andi.': 2574, 'kay3awad': 2575, 'lfarmliat': 2576, '8adchchi': 2577, 'lmodafi3': 2578, 'khrajtha': 2579, 'wathani': 2580, '3jbtiha?': 2581, 'mosta7il': 2582, 'l8i8?': 2583, 'tat7as?': 2584, 'jeld': 2585, 't7ett.': 2586, 'chad': 2587, 't7tt': 2588, 'kantmana': 2589, 'ntfkkro': 2590, 'tawtor': 2591, 'nste5louhoum': 2592, 'mchiti': 2593, 'ntmata3': 2594, 'lbiban': 2595, 'mbrr3a.': 2596, 'ma5an9bl': 2597, 'tanamor': 2598, 'mslou9': 2599, '39lani': 2600, 'hakka?': 2601, 'l8ip': 2602, 'akter': 2603, 'mdinti': 2604, 'ghatwerrini': 2605, 'cupcake': 2606, 'nod,': 2607, 'ghatl9a8': 2608, 'mabdit': 2609, 'mnno.': 2610, 'tlj': 2611, 'mchach': 2612, 'weekends': 2613, 'zzmer.': 2614, 'ljme3a': 2615, 'tlamed': 2616, 'mamezianch': 2617, 'ma': 2618, 'social': 2619, 'tserf9ou': 2620, 'nfsi': 2621, 'mno?': 2622, 'nstakhdmo': 2623, 'ntkhayal': 2624, 'lwad?': 2625, 'klitha': 2626, 'nmerto?': 2627, 'we93o': 2628, 'anya': 2629, 'chwiyya': 2630, 'setta': 2631, 'kikat': 2632, 'hadchi': 2633, 'm3ndnach!': 2634, 'yghatti': 2635, 'yteyyeb': 2636, 'ojouj': 2637, '5aybda': 2638, 'y3zaf': 2639, 'ba9in': 2640, 'etages': 2641, 'ma3ndk': 2642, 'makla,': 2643, 'da7k': 2644, 'l2imti7an': 2645, 'ayah': 2646, 'akhoya!': 2647, 'fl9ss?': 2648, 'kanftakhr': 2649, 'matb9aych': 2650, 'tswlo': 2651, 'chta': 2652, 'snani': 2653, 'kayghani': 2654, 'sansour!': 2655, 'biyya': 2656, 'bzef.': 2657, '3refti8?': 2658, 'makandnnch': 2659, 'makan7mlouch': 2660, 'lmariyou': 2661, 'sou9ek': 2662, 'n9tar7': 2663, 't3bber': 2664, 'l7add': 2665, 'ntnaddmo': 2666, 'awalan': 2667, 'kanchejj3ek': 2668, 'f2a5ir': 2669, 't9edrou': 2670, 'bsa7tna': 2671, 'madame': 2672, 'tl7odor': 2673, 'tkbar': 2674, 'l7amdo': 2675, 'bachra': 2676, 'kat3ichi': 2677, 'chekhsiyya': 2678, 'kitra?': 2679, 'tnodi': 2680, 'tsenna,': 2681, 'l7lib': 2682, 'kat9tar7?': 2683, 'w9ita?': 2684, 'tsow9t.': 2685, 'mabghitoch': 2686, 'klaw': 2687, 'nal3ab': 2688, 'nsewwlek?': 2689, 'telecommande': 2690, 'likaybghiha': 2691, 'jooo3': 2692, 'lo3ba': 2693, '5ra': 2694, 'miyat': 2695, 'khawyin': 2696, 'kter?': 2697, 'nt9edda.': 2698, 'lewl': 2699, 'rbe7na': 2700, 'kaybghik?': 2701, 'kaytkhassas': 2702, 'mtkki': 2703, 'ttaja3id': 2704, 'kayswa?': 2705, 'fl7awd?': 2706, 'bsa77a': 2707, 'mzeyrin': 2708, 'kenna': 2709, 'kay3tamd': 2710, 'ydiya': 2711, 't9na3ni': 2712, 'tana.': 2713, '6': 2714, 'ytzadou': 2715, 'wakwakk': 2716, 'f7awd': 2717, 'khobz': 2718, 'dezti': 2719, 'moch3wid': 2720, 'maw9a3': 2721, 'd7ek!': 2722, 'l7ri9': 2723, 'ta9afat': 2724, 'jjou3': 2725, 'sansour': 2726, 't8dar': 2727, 'l9aros': 2728, 'tterbouch?': 2729, 'onsawbo': 2730, 'bia...': 2731, 'huwa': 2732, 'lmeghribi': 2733, '200': 2734, 'ty9llbo': 2735, 'dérangement': 2736, 'najma': 2737, 'nsawal': 2738, 'chaftak\"': 2739, 'ljddat': 2740, 'smito': 2741, 'kitaflou': 2742, 'mchhourin': 2743, 'l3radat.': 2744, 'kibi3': 2745, 'tliddin.': 2746, '9alam?': 2747, 'nsawlo!': 2748, 'tkhles': 2749, 'ddoub': 2750, '8rresto': 2751, 'matloum': 2752, 'nsog': 2753, 'flosi': 2754, 'oqsem': 2755, 'naadi': 2756, '5assni': 2757, 'njerbou': 2758, 'dmaghk,': 2759, 'sbanyoliya': 2760, 'ddirha,': 2761, 'lghosn': 2762, '9ous9oza7': 2763, 'tyye9tek.': 2764, 'radio,': 2765, 'bida?': 2766, 'nbarmjoha': 2767, 'makayghselch': 2768, 'lki': 2769, 'makay3jebnich': 2770, 'ldrari': 2771, 'i3yyet': 2772, '8akka': 2773, 'sghr': 2774, 't3awdo?': 2775, 'lkozina?': 2776, 'ijerroh': 2777, 'n9adro': 2778, 'banlik': 2779, 'sa7bek?': 2780, 'yeddi': 2781, 'l2oughniya': 2782, 'tchbak': 2783, 'ighnniw': 2784, 'aando': 2785, 'mrra.': 2786, 'ssada': 2787, 'logha': 2788, 'omachi': 2789, 'b3da!': 2790, 'kay3ich': 2791, 'le3bou': 2792, '3elmatna': 2793, 'flkhr': 2794, 'beztami': 2795, 'mamt2ekkedch': 2796, 'nft7oha': 2797, 'yre7mo': 2798, 'iwa....': 2799, 'telj': 2800, 'zwiwnin': 2801, 'sseff': 2802, 'n7afdo': 2803, 'lijina': 2804, 'sa3id': 2805, 'daniel,': 2806, 'kantwaslou': 2807, 'lkhir.': 2808, 'sandra:': 2809, 'fli': 2810, 'ldar': 2811, 'it3amel': 2812, 'mali': 2813, 'lgrammir': 2814, 'ljarf': 2815, 'almany,': 2816, 'o3achra': 2817, 'mdewwra': 2818, 'lawla': 2819, 'l7la9': 2820, 'snartou': 2821, 'de7k': 2822, '3endk': 2823, 'sserf': 2824, 'mzewwej?': 2825, 'katgol?': 2826, 'flousou': 2827, 'blfrancia': 2828, 'tddini': 2829, 'nl9awha': 2830, 'l9irch': 2831, '3ellah,': 2832, 's3ib': 2833, 'rappork': 2834, 'aicha': 2835, 'n9echcher': 2836, 'esther': 2837, 'tlb': 2838, 'likaydarni': 2839, 'bsmlah!': 2840, 'tebbe3': 2841, 'maytchrb?': 2842, 'lmo7tamal': 2843, 'lbnia': 2844, 't8adan,': 2845, 'familti': 2846, 'd5elni': 2847, 'kantaf9': 2848, 'ri7t': 2849, 'tiri': 2850, 'werd': 2851, 'bghit.': 2852, 'sa8lan': 2853, 'blmet7ef': 2854, 'nbeddel': 2855, 'fl8aykal,': 2856, 'l3rch': 2857, 'kanf9ad': 2858, 'ma3reftich': 2859, 'khassa': 2860, 'nkmlo?': 2861, 'oghniya': 2862, 'tchofhom?': 2863, 'wa9ila': 2864, 'y3awnek?': 2865, 'lyawmi': 2866, 'llowwla.': 2867, 'ghi': 2868, 'aykhashom': 2869, 'tsafar': 2870, 'tmobil': 2871, 'bechra': 2872, 'kanou': 2873, 'amoulay,': 2874, '7amla': 2875, 'amazon': 2876, 'maklit': 2877, 'mjmo3at': 2878, 'chokolata': 2879, 'nje7,': 2880, 'f3a2iltkom?': 2881, 'kandkhal': 2882, 'msad3ak?': 2883, 'nchriw': 2884, 'tanaso9': 2885, 'tan9as': 2886, 't3errefti': 2887, '2a8lan': 2888, 'daki': 2889, '15': 2890, 'ddasrin': 2891, 'l3odwani': 2892, 'nghatiw': 2893, 'kidayrin': 2894, 'wakwak': 2895, 'almo9abilat?': 2896, 'ch3ro': 2897, 'fsalam': 2898, 'mou3jab': 2899, 'ghanttsewwer': 2900, 'daroria!': 2901, 'safar': 2902, 'kaykhalik': 2903, 'ma3raft8ach': 2904, 'nwrrko': 2905, 'miser': 2906, 'taykhle3': 2907, 'lghwwasa': 2908, 'ma3ndakch': 2909, 'khaskom': 2910, 'lsa7bi?': 2911, 'likaydor': 2912, 'kayderrni': 2913, 'fl2aw9at': 2914, 'garro.': 2915, 'stylo': 2916, '3atchan?': 2917, 'lbortoghaliyya': 2918, 'yngro': 2919, 'nchofek': 2920, 's5erna': 2921, 'mo8ndis': 2922, 'l7d': 2923, 'njoum': 2924, '3ll2a9al': 2925, 'fer9': 2926, 'tel': 2927, 'mr7ba,': 2928, 'nnas': 2929, '9sadt': 2930, '5atwsef': 2931, '3awntini!': 2932, 'kat7arak': 2933, 'i3tik': 2934, 'lkhadma': 2935, 'hiya.': 2936, 'katghayer': 2937, 'rbet': 2938, 'lktaba?': 2939, 'lghaba2': 2940, 'mchkok': 2941, 'laoura9': 2942, 'khdmatak': 2943, 'tl3a': 2944, 'hada': 2945, '3aychin': 2946, 'lfitr': 2947, 'ma3emrou': 2948, 'fwa7ad': 2949, 'brnamaj': 2950, 'rddat': 2951, 'tlbtt': 2952, 'tgolliya': 2953, 'dda3m': 2954, 'tre3': 2955, 'bjouj.': 2956, 'katzda8er': 2957, 'l2i3tidar': 2958, 'kandenn': 2959, 'monikat': 2960, 'yojdo': 2961, 'jdida': 2962, 'khdam': 2963, 'mbrre3,': 2964, 'kankhdem': 2965, 'cherraf.': 2966, 'kolla': 2967, 'mni': 2968, 'ssmo7at': 2969, 'mtaf9a': 2970, 'wlakin': 2971, 'driya': 2972, 'balk': 2973, 'twladna': 2974, 'lil': 2975, 'lboukm': 2976, 'ljaras': 2977, 'ttran?': 2978, 'jaffin': 2979, 'lbabonj,': 2980, 'yyamek': 2981, 'katsme3hom': 2982, '5aydir': 2983, 'ktar,': 2984, 'diplome': 2985, 'nou3': 2986, 'fewwej': 2987, 'ma9sedch': 2988, 'lbaramij': 2989, 'li8': 2990, 'lkado': 2991, 'ballik,': 2992, '3awttani': 2993, 'l9adam': 2994, 'za3fan': 2995, 'frakba': 2996, 'lghaba': 2997, 'hdak': 2998, '3zzi': 2999, 'mte2kda': 3000, 'i8bto': 3001, 'tmet3i': 3002, 'b3da': 3003, 'chaftak': 3004, 'fdlam,': 3005, 'blakat': 3006, 'm5erb9in': 3007, 'dchchems': 3008, 'whiskey?': 3009, 'khyeb': 3010, 'lba7t': 3011, '7yatak,': 3012, 'l2ijtima3': 3013, 'ntkhtabro': 3014, 'ghir': 3015, 'kayakhdo': 3016, 'tchehit': 3017, '3rdti': 3018, 'lotf': 3019, '9tara7ti,': 3020, 'lmobarat': 3021, 'kaysm7o': 3022, 'bntk': 3023, 't9lid': 3024, 'mabghawch': 3025, 'ma3emrek': 3026, 'l7ajja': 3027, 'makantch': 3028, 'l7ala,': 3029, 'fljarda': 3030, 'bghat': 3031, 'oqsmayn': 3032, 'lbrd': 3033, 'mkrippi': 3034, 'chafawiayn': 3035, 'ghaymchi': 3036, 'kay8amak': 3037, 'bedel': 3038, 'nlbas': 3039, 'dewwez': 3040, 'makhasnich': 3041, 'mam9adach': 3042, 'tlabha': 3043, 'l2istina3iya': 3044, 'drayaf': 3045, 'bihoum!': 3046, '9derna': 3047, '98wa': 3048, 'burou': 3049, 'achnahoa': 3050, 'ondarbo8om?': 3051, 'howwa': 3052, 'dhar': 3053, '3ouloum': 3054, '8a8oa': 3055, 'bekri': 3056, 'fadi7a!': 3057, 'james.': 3058, 'makankhllsekch': 3059, 'drri': 3060, 'flmakla?': 3061, 'tilifonk': 3062, 'nwejdou': 3063, 'ana': 3064, 'd9i9a': 3065, 'tbrzt?': 3066, 'stock': 3067, '3jebna': 3068, 'tmanya': 3069, 'neffakha': 3070, 'nwamr8om': 3071, 'kaystakhdamna': 3072, 'ntlbo': 3073, 'rro3b': 3074, 'sm3tiha': 3075, 'lostad': 3076, 'tawator': 3077, '3e9li?': 3078, 'modifa': 3079, 'na9der': 3080, 'bghiti?': 3081, 'sfar': 3082, 'ah.': 3083, 'lik.': 3084, 'mab3idch': 3085, '9dart': 3086, 'lkelma': 3087, 'isrbiwnni': 3088, 'msdoum': 3089, 'kaybbalik': 3090, 'ttllaja': 3091, 'ljarda?': 3092, 'hal3ar,': 3093, '3awnoni': 3094, 'dib?': 3095, 'kaysbben': 3096, 'ghbour': 3097, 'tdkhol': 3098, 'chfenja': 3099, '5assek': 3100, 'ikhdm.': 3101, 'kanfakar': 3102, 'zitoune': 3103, 'kijiwni': 3104, '9nia!': 3105, 'dati,': 3106, 'l9adiyya': 3107, 'mjmo3a': 3108, 'tbozi': 3109, 'sef9a': 3110, 'batteriat?': 3111, '5anbda': 3112, 'jdida!': 3113, 'syyda': 3114, 'khwatat': 3115, 'lfo9': 3116, '9ta3na': 3117, 'fbalk': 3118, 'on7al': 3119, 'l7aja': 3120, 'gaddit': 3121, 'lala': 3122, 'may9e3': 3123, 'mchghoulin': 3124, 'y3t9na': 3125, '9a3': 3126, 'salle?': 3127, 'tsn3at': 3128, 'safra,': 3129, 'lkhayal': 3130, 'tchri8a': 3131, 'fach': 3132, 'lmostach': 3133, 'bghitk': 3134, 'machiti': 3135, '3esseb8a': 3136, 'lghorfa': 3137, 'zbel!': 3138, 'n7bes?': 3139, 'l9odra': 3140, 'tanbkiw': 3141, 'l7asasia': 3142, 'khawya': 3143, 'tyor': 3144, 'ghatsafer?': 3145, 'faylasouf': 3146, 'flmariyou': 3147, '3jboni': 3148, 'llsa9': 3149, 'khoya': 3150, 'bghit': 3151, 'mrtk?': 3152, 'n9ado': 3153, 'rjlihom': 3154, 'sir!': 3155, 'makntich': 3156, 'ntsala9': 3157, 'n3awnek': 3158, 'toppings': 3159, '7lwa': 3160, 'walidia': 3161, 'nrja3': 3162, 'ostada': 3163, 'fl3cha': 3164, 'lmara7il': 3165, 'kathdro?': 3166, 'mskhskh': 3167, 'bikhir': 3168, 'dik': 3169, '9bi7': 3170, 'twerrini': 3171, 'de5l': 3172, 'de5ya': 3173, 'm3aya.': 3174, 'itghddaw.': 3175, 'jazz': 3176, 'l9niyya': 3177, 'nrfa3': 3178, 'lrasi': 3179, 'polo?': 3180, 'mayfot': 3181, 'fostan': 3182, 'o9smayn': 3183, 'mouslim': 3184, 'maryam': 3185, 'khliwna': 3186, 'lbess': 3187, 'lkhat': 3188, 't3ttlti': 3189, 'lmofaja2a': 3190, 'khtek,': 3191, 'makankra8ch': 3192, 'l9oroun': 3193, 'bsbabha': 3194, '3jbatni': 3195, 'mazwinach': 3196, 'chcherjem': 3197, 'mayla7doch': 3198, 'lba7riya': 3199, 'annaha': 3200, '9as7!': 3201, 'nfkkr': 3202, 'n8dro': 3203, 'nghowet': 3204, 'darti': 3205, 'charfa': 3206, 'kht': 3207, 'aykhali': 3208, 'franciya': 3209, 'lmonasib!': 3210, 'sawb': 3211, 'ma3arfach': 3212, 'siktour?': 3213, 'katrowwen': 3214, 'ma3mmro': 3215, '39lia': 3216, 't5tar': 3217, 'wa7alt': 3218, 'fchmch': 3219, '9r3a': 3220, 'train': 3221, 'katghir': 3222, 'ot3ti': 3223, 'li8a?': 3224, 'miytin': 3225, 'kayseweb': 3226, '7it': 3227, 'jmiaa,': 3228, 'bghir': 3229, 'tamatil,': 3230, 'nsadd3ak': 3231, 'ta3': 3232, 'nnta3ch': 3233, 'master': 3234, 'rras': 3235, 'tle3na': 3236, 'katchof,': 3237, 'ittija8at.': 3238, 'kandarbou': 3239, 'ghanrj3': 3240, 'ddwira': 3241, 'nhari': 3242, 'lkhibra': 3243, '9siyyes': 3244, 'makhlanich': 3245, '9sira?': 3246, 'l3afw': 3247, 'lblays!': 3248, 'chr7at': 3249, '3mmrhom': 3250, 'tamanat': 3251, 'tfekker': 3252, 'k7wayawanat': 3253, 'b5ina': 3254, 'kaytferej': 3255, 'zwina': 3256, '3li8': 3257, 't3awnni': 3258, 'kayghre9': 3259, 'hado,': 3260, 'segt': 3261, 'touma!': 3262, '3ala9tek': 3263, 'babagha2': 3264, 'tfker': 3265, 'chftini': 3266, 'rri3aya': 3267, 'bssa7.': 3268, 'sket': 3269, 'itla9an!': 3270, 'fih': 3271, 'kriti': 3272, 'nkon': 3273, 'lliser': 3274, 'tfekri': 3275, 'kayli9': 3276, 'mnnek': 3277, 'ballati': 3278, 'yo3ido': 3279, 'kat2amen': 3280, 'ystafdo': 3281, 'sma3t': 3282, 'nod': 3283, 'mamt2akadch': 3284, 'bejjehd': 3285, 'jbe8tou': 3286, 'se77et8a': 3287, 'mrra,': 3288, 'mochjji3a': 3289, 'passat': 3290, 'lmamarat': 3291, 'chakhsiya': 3292, 'wslt': 3293, 'lmacha': 3294, 'tla7iti': 3295, 'fchkeel': 3296, 'mchbbek': 3297, 'hakdak': 3298, 'fblast': 3299, 'izid': 3300, 'ghanmout': 3301, 'lbonniyin': 3302, 'hamza': 3303, 'biyya?': 3304, 'jahez': 3305, 'yr7em': 3306, 'ntsnna?': 3307, 'wahd.': 3308, 'chab,': 3309, 'kanjedded': 3310, 'masbbe9tich': 3311, 'maghaydozch': 3312, 'li...': 3313, 'mam3rofch': 3314, 't5aylti': 3315, '9odorat': 3316, 'twldat': 3317, 'm7tota': 3318, 'mada3tch': 3319, 'lblan': 3320, 'mod7ikin': 3321, 'flmadi': 3322, 'lmarfa2': 3323, 'ma9liya': 3324, 'itniw': 3325, 'achban': 3326, '2a5ani': 3327, 'ok,': 3328, 'drt?': 3329, 'lmstya': 3330, 'jacketek': 3331, 'l9ahwa!': 3332, '10': 3333, 'wla': 3334, '3liya': 3335, 'ma9alat': 3336, 'kay3iyyet': 3337, 'kay9dir': 3338, 'makhskch': 3339, 's3ab': 3340, 'flmostawa': 3341, 'choghli': 3342, 'l3ab': 3343, 'wasla': 3344, 'masi7i': 3345, 'ikhl9': 3346, 'll': 3347, '2i7ssass': 3348, 'sara': 3349, 'kti2ab': 3350, 'wld8a': 3351, 'njrrbo': 3352, 'yddik': 3353, 'y9erri': 3354, 'ghadi': 3355, 'bessa7,': 3356, 'i3awn.': 3357, 'lmasa2il': 3358, 'kanjar': 3359, '38elti': 3360, 'khra.': 3361, 'l7ayawan': 3362, 'sahlan': 3363, 'ssanssour': 3364, '7biba?': 3365, '2ach': 3366, 'tsowwel': 3367, 'chrajem': 3368, 'tt3tal,': 3369, '3andi': 3370, 'rkhas': 3371, 'hadi2': 3372, 'mf99ess': 3373, 'ts3oud': 3374, 'capitaine': 3375, 'khoutwa': 3376, 'smiyto': 3377, 'bchad': 3378, 'makhasch': 3379, 'vous': 3380, 'mounasaba': 3381, '3araf': 3382, 'kat5le3': 3383, 'darore': 3384, 'l3bt': 3385, 'rroppo': 3386, 'i3awna': 3387, 'bo7dhom': 3388, 'lagouira': 3389, 'atar?': 3390, 'chfer': 3391, 'lkuntur': 3392, 'taylandi': 3393, 'mojod': 3394, 'plastik,': 3395, 'magaddinch': 3396, 'ljissm': 3397, 'mokhif': 3398, '9al?': 3399, 'mn': 3400, 'wa3ra!': 3401, '2azya2': 3402, 'ijibo': 3403, 'hdert': 3404, 'n9ra': 3405, 'mardditch': 3406, 'kan3s': 3407, 'l2elwan': 3408, 'ta8wa?': 3409, 'brask!': 3410, 'socio': 3411, 'ongaddo': 3412, 'menu': 3413, 'kaymerredni': 3414, 'direct': 3415, 'frweyda': 3416, 'zen9a': 3417, 'katjme3': 3418, 'ma3reftch.': 3419, 'lktoba': 3420, '3tini...': 3421, 'lfrach': 3422, 'hemi': 3423, 'nji': 3424, 'l5er': 3425, 'kayghliwh': 3426, 'kanchof': 3427, 'fatet': 3428, 'caputshino?': 3429, 'katreje3': 3430, 'imkn,': 3431, 'lhbila': 3432, 'n9ata3': 3433, '5ancommandi': 3434, 'sa3ida': 3435, 'tta7addi': 3436, 'onkhdm': 3437, 'darou': 3438, 'ghanb9a': 3439, 'l3afia.': 3440, 'jdda!': 3441, 'khaliti': 3442, 'l2oropa': 3443, 'ghay3awnk?': 3444, 'nswwlo.': 3445, 'llila,': 3446, 'n3oum': 3447, 'tsta9bal?': 3448, 'mesdoud': 3449, 'ma3reft': 3450, 'ssogan': 3451, 'chyer': 3452, ';lmachakil': 3453, 'nakel': 3454, '7edd': 3455, 'safrt': 3456, 'kantaf9ou': 3457, 'jjrida': 3458, 'ndowro': 3459, 'wa9i': 3460, 'sghar,': 3461, 'talyaniyin': 3462, 'khota': 3463, 'lwara9i': 3464, 'fihoum': 3465, 'kannsa': 3466, 'llewwel': 3467, 'fchkara': 3468, 't3ttlt': 3469, 'n9awm': 3470, 'kanden...': 3471, 'nt3tl': 3472, 'ghatzewwej?': 3473, 'l7fra': 3474, 'hsen': 3475, 'bs77a,': 3476, 'so9': 3477, 'riyadi': 3478, 'khdmtk': 3479, 'awwn': 3480, 'kaykhato': 3481, 'msbiter?': 3482, 't7na,': 3483, 'l9rib': 3484, '98iwtk': 3485, '3amalia': 3486, 'maskranch,': 3487, 'gltlik': 3488, 'tri9at': 3489, 'nglas': 3490, 'ma9drnach': 3491, 'flghda': 3492, 'zzhar': 3493, 'tomobilat': 3494, 'terkiz': 3495, 'ttlgha': 3496, 'kan3elmek,': 3497, 'barmil': 3498, 'lbrazil': 3499, 'fot': 3500, 'sold': 3501, 'mafihach': 3502, 'yawmayn': 3503, '3a9al?': 3504, 'mod8ich!': 3505, 'khdemtek?': 3506, 'f2ay': 3507, 'tantmenna': 3508, 'rddoni': 3509, 'mama8': 3510, 'nni8aya': 3511, 'lmodir': 3512, 'maytkal': 3513, 'mater': 3514, 'fch7al': 3515, 'aj8iza': 3516, 'lksayd': 3517, 'bse7a': 3518, 'tfare9na': 3519, 'fremchat': 3520, 'twlli': 3521, 'tkerfiss': 3522, '3ed': 3523, 'lmmagana': 3524, 'blli': 3525, 'lmerra': 3526, '7bas': 3527, 'ljji8a': 3528, 'm9erin': 3529, 'makr8tch': 3530, 'kay3jboh': 3531, 'khalitk': 3532, 'kay3jabhom': 3533, 'liyya': 3534, 'kifesh': 3535, 'romansiya': 3536, 'nt3llem': 3537, 'lmma3en': 3538, 'chanta': 3539, 'maytlbbe9': 3540, 'lmazid': 3541, 'trico': 3542, 'ntw993o': 3543, 'vegan?': 3544, 'picchu': 3545, 'flmjerr': 3546, 'mkantch': 3547, 'katnte9': 3548, 'mrettbin': 3549, 'khanni': 3550, 'safi': 3551, 'nsaliw': 3552, 'sebbar': 3553, 'zedt': 3554, 'lkhrin': 3555, 'lgarro': 3556, '3mmr': 3557, 'blach.': 3558, 'nnje7': 3559, 'lmirikan': 3560, 'lfronsi': 3561, 'ma7asitch': 3562, 'nadia': 3563, 'lbab': 3564, 'ma3arid': 3565, 'jebt': 3566, 'jtima3i': 3567, 'kan9sed': 3568, 'louis': 3569, 'sffe9': 3570, 'tglbha': 3571, '2iman': 3572, 't3elemtih': 3573, 'l3ota': 3574, 'tout': 3575, 'ndowwro?': 3576, 'ddoud.': 3577, 'l3zaz': 3578, 'jami3iyya': 3579, 'diksa3?': 3580, 'tl3b8a': 3581, '3lihoum': 3582, 'ttbrzit': 3583, 'semana': 3584, 'nblniw': 3585, 'ka': 3586, '3ndo': 3587, 'imkn?': 3588, 'semmem': 3589, 'mouskha': 3590, 'l9ahwa': 3591, 'lla7da': 3592, '7yatk': 3593, 'kamla...': 3594, 'trf': 3595, 'sma3ti': 3596, 'yo9fo': 3597, 'alfania': 3598, 'kaycharbo': 3599, 'sikteur': 3600, 'thadri': 3601, 'dafi': 3602, 'smo7at': 3603, \"l'ascenseur\": 3604, 's5oun': 3605, 'sret': 3606, 'nredo': 3607, 'besse7!': 3608, 'choja3': 3609, 'hakka': 3610, 'nta...': 3611, 'lvirni': 3612, 'ycalmini': 3613, 'katfadlha?': 3614, 'n3br': 3615, '9sira': 3616, 'libghiti': 3617, 'mayfout': 3618, 'cache': 3619, 'hou': 3620, 'baset8a': 3621, 'diali.': 3622, 'tel3at': 3623, 'kankhatat': 3624, 'tchji3': 3625, 't9ad': 3626, 'machton': 3627, 'lmizmar': 3628, 'dayra': 3629, 'f7alna.': 3630, 'jra': 3631, 'sbab': 3632, 'tlwe9t': 3633, 'kayakol': 3634, 'ftandim\"': 3635, 'kayderanjiw': 3636, 'zwiwna.': 3637, 't9ol': 3638, 'kayteleb': 3639, 'kaden': 3640, 'nder': 3641, 'houma': 3642, 'm7bous': 3643, 'sansour,': 3644, 'ngolihom': 3645, 'l3a2ila': 3646, 'ndir.': 3647, 'so2al.': 3648, 'kay7ama9!': 3649, 'fr7t': 3650, 'mdereb': 3651, 'tyartak': 3652, 'f3mer': 3653, 'w9f': 3654, '3ilm': 3655, 'so3oba': 3656, 'kantmna': 3657, 'kofitir': 3658, 'ndir': 3659, 't39el': 3660, 'mt7amach': 3661, 'fabor': 3662, 'tter9iyya': 3663, 'ghanmchiw': 3664, 'ssyam': 3665, 'jarda': 3666, '3eyn?': 3667, 'gha+': 3668, 'no9at!': 3669, 'dayrin': 3670, 'skhouna?': 3671, 'chftak,': 3672, 'kanktb': 3673, 'fi3lan': 3674, 'sse8d': 3675, 'matkhraj': 3676, 'lhobot.': 3677, 'sovgard': 3678, 'tnachch': 3679, 'dreb': 3680, 'bard': 3681, 'bitho': 3682, 'mockil': 3683, 'lrba7': 3684, 'tjer2ti': 3685, 'frassek': 3686, 's8it': 3687, 'tla9it': 3688, 'nchdha': 3689, 'kanfeddel': 3690, 'loun': 3691, 'ghbrat': 3692, 'nn3es': 3693, 'bakia': 3694, 'bengrir': 3695, 'of3owaniya': 3696, '9atar': 3697, '9ddami': 3698, 'ndower': 3699, 'kantfkr': 3700, 'ra7imaka': 3701, 'tgolli8': 3702, 'mohimm.': 3703, 'layi': 3704, 'khtibar.': 3705, 'twsef': 3706, 'kanchofk': 3707, 'mat3ettelch': 3708, 'mwrre9': 3709, 'salaw': 3710, 'ibark': 3711, 'aachia': 3712, 'katteyyeb': 3713, 'dinia!': 3714, 'mn...': 3715, 'likayt3ala9': 3716, 'lmchach!': 3717, 'mathilde': 3718, 'ba9i': 3719, 'm3na': 3720, 'ch3ero': 3721, 'l2isppaniyya': 3722, 'yatim': 3723, 'kayfekker': 3724, 'khellini': 3725, 'hziti': 3726, 'n7ebb': 3727, 'blastha': 3728, 'ma3rdtich': 3729, 'tsafer': 3730, 'chre7t': 3731, 'd9t': 3732, 'lmohima': 3733, 'nadi?': 3734, 'lmoufadal': 3735, 'fl5eyma': 3736, 'dyalna': 3737, '3azizi': 3738, 'llongli': 3739, 'ondwiw': 3740, 'tarou': 3741, '3reft8a': 3742, 'ssalama!': 3743, 'nkhlles': 3744, 'lfo9,': 3745, 'lma3adin?': 3746, 'tjrrbo': 3747, 'ghay3awnoni': 3748, 'nzggiw': 3749, 'tbasal': 3750, '3ssbtini': 3751, 'rdd': 3752, 't2elemtihom': 3753, 'tarikhi': 3754, 't9dro': 3755, 'ghat3awnni': 3756, 'nlebes': 3757, 'khllit': 3758, 'toubiss?': 3759, 'nichan': 3760, 'ykhrj.': 3761, 'l3ilaj?': 3762, 'lwje3': 3763, 'kan3ed': 3764, 'flowl:': 3765, 'mrat?': 3766, 'karim': 3767, 'ballia': 3768, 'ta7alib': 3769, '14': 3770, 'hado': 3771, 'l3imara?': 3772, 'ttani.': 3773, '3yyet': 3774, 'tabi3ia': 3775, 'rrimaya': 3776, 'l7lib?': 3777, 'biti.': 3778, 'njri': 3779, 'maklitihch,': 3780, 'ddimo9ratia': 3781, 'd9ay9.': 3782, 'tsta5lou': 3783, 'ma3ndha': 3784, 'khss9k': 3785, 'kat3jbek': 3786, 'ntl3o': 3787, 'mra...!': 3788, 'lweda': 3789, 'documentaire': 3790, 'nkono': 3791, 'l3chyat': 3792, 'kan9eleb': 3793, 'kat5dem': 3794, 'bhad': 3795, 'daym': 3796, 'takhssosat': 3797, 'zar': 3798, 'ykhlliw8a': 3799, 'bachtb9a': 3800, 'maw3id?': 3801, 'lmo7itat': 3802, 'lmenu': 3803, 'ourab3in': 3804, 'fl3otla.': 3805, 'chi3riyya': 3806, '7dak': 3807, 'katjib': 3808, 'moutajammid': 3809, 'it3awd': 3810, 'kaysytro': 3811, 'nbe33ed': 3812, 't9achrou': 3813, 'tdowwer': 3814, 'katchbb8i': 3815, 'w9t': 3816, 'n7adro': 3817, 'rremla': 3818, 'hawaii.': 3819, '7der': 3820, 'fl7a9i9a': 3821, 'maghantyyboch': 3822, 'atb9a': 3823, 'mamchiti': 3824, 'syad': 3825, 'tsenna': 3826, 'nne99zo?': 3827, 'makaygolch': 3828, 'ddit8oum': 3829, 'makand7akch': 3830, '3araf,': 3831, '9errebt': 3832, 'n3sti': 3833, 'l7da': 3834, 'tolab?': 3835, 'mostqbal': 3836, 'zdti': 3837, 'kat3elemk': 3838, 'lmokawin': 3839, 'y9der': 3840, '5anjbed': 3841, 'gwarowat': 3842, 's5or': 3843, 'l2achjar?': 3844, 'a5ir': 3845, 'mate9derch': 3846, 'mya': 3847, '7afla': 3848, 'mal9itich': 3849, 'makan9chbl': 3850, 'mala3ib': 3851, 'sb3a': 3852, 'y9ra': 3853, 'kat3echa': 3854, 'makan3rafch': 3855, 'hnaya?': 3856, 'l9asir': 3857, 'tl3t': 3858, 'wah!': 3859, 'f7al8om': 3860, 'kanfhm': 3861, 'tsway3': 3862, 'nkhbbi': 3863, 'fabor.': 3864, 'sam7lia.': 3865, 'kan9sad,': 3866, 'partma': 3867, \"d'attente\": 3868, 'nd7ek': 3869, 'dewwech': 3870, 'jedati': 3871, 'b3echrin': 3872, 'mty9': 3873, 'nakhoud': 3874, 'lchafa9a': 3875, '3alaam!': 3876, 'tkhtar': 3877, 'nrj3o': 3878, 'kat3jbo': 3879, 'l8i8!': 3880, 'khdemti': 3881, 'makay3jbakch': 3882, 'tlmosi9a': 3883, 'retteb': 3884, 'dab': 3885, 'nawras': 3886, 'sos,': 3887, 'thdr': 3888, 'jotat': 3889, 'makayl3bouch': 3890, '7tajiti': 3891, 'makay3jabnich': 3892, 'ketfek': 3893, 'khlina': 3894, 'jayyin': 3895, 'syada': 3896, 'bss7a': 3897, 'ikhssk': 3898, 'min': 3899, 'kandir.': 3900, 'nwrrek.': 3901, 'msikina,': 3902, 'ngoul!': 3903, 'cocktails': 3904, 'nw9af': 3905, 'kahraba2ia': 3906, 'kayt7errek': 3907, 'ncharbo': 3908, 'kanbdaw': 3909, 'bayna': 3910, 'ghat9lle3': 3911, 'aymout.': 3912, 'n5tar': 3913, 'tktab': 3914, 'lblsa': 3915, 'khbar': 3916, 'maghay8tmch': 3917, 'malika': 3918, '7bs': 3919, 'bchwia': 3920, 'lmantouj': 3921, 'waah': 3922, 'khle3tini?': 3923, 'makay3nich': 3924, 'ltma?': 3925, 'lvolley?': 3926, 'chlla': 3927, 'hada...?': 3928, 'l2a3sab': 3929, 'fyawm': 3930, 'tfrej': 3931, 'be3d,': 3932, 'ddiro,': 3933, 'syadna': 3934, 'nghsl': 3935, 'lmdina?': 3936, 'ma3ndnach': 3937, 'chawya': 3938, 'lb7er?': 3939, 'mazyan,': 3940, 'sot': 3941, 'ittija8': 3942, 'blo7om': 3943, 'katwejdou': 3944, 'fdeuxieme': 3945, 'm5byaha': 3946, 'coctailat': 3947, 'darek': 3948, 'fl9r3a?': 3949, 'mdowwi': 3950, 'lli9a2': 3951, '3lmni': 3952, 'y3awen': 3953, 't7amar': 3954, '3lih.': 3955, 'mt7emess': 3956, '3arfha!': 3957, 'garo,': 3958, 'kanwa3dek.': 3959, 'dart': 3960, 'limn': 3961, 'tsrraf': 3962, \"'la',\": 3963, 'lbayda.': 3964, 'lkhotowat': 3965, 'jiti?': 3966, 'ljamahir': 3967, 'mazaj': 3968, 'khditi8?': 3969, 'sakhif': 3970, 'uhhhh,': 3971, 'khawar': 3972, 'lfotouy': 3973, 'tay7awlo': 3974, 'was2il': 3975, 'katkhiyyet': 3976, 'ssrbay': 3977, 'so2alek?': 3978, 'blasa': 3979, 'makaydkhlch': 3980, 'tgolha': 3981, 'cliant': 3982, 'nadwa': 3983, 'lkhobz?': 3984, 'ytyeb': 3985, 'ttiyyara?': 3986, 'mrtaa7,': 3987, 'nt8ddn': 3988, 'wjoh': 3989, 'ghida2ia': 3990, 'makatbanch': 3991, 'kant3ellem': 3992, 'adwa2': 3993, 'ghayo93?': 3994, 'n7ess': 3995, 'm3amen': 3996, 'lqualite': 3997, 'tatjbbed': 3998, 'l5asm': 3999, 'njrrbha': 4000, 'tayban': 4001, 'katfekker?': 4002, 'mwaf9': 4003, 'tazyin,': 4004, 'l9ebbiyat': 4005, 'mfete7': 4006, 'l8na': 4007, 'mjmo3in:': 4008, 'laglas': 4009, 'twa7acht': 4010, 'lmchia': 4011, 'moselsalat...?': 4012, 'lbechra': 4013, 'khalini': 4014, '5ouk': 4015, 'lik!': 4016, 's7abi': 4017, 'scottish': 4018, 'fkkrna': 4019, 'kan7ess,': 4020, 'nji?': 4021, 'lmosinin': 4022, 'lkariti': 4023, 'jou3?': 4024, 'flwe9t': 4025, 'wslti': 4026, 'risala?': 4027, 'janibia': 4028, 'makandwiha': 4029, 'lwasfa,': 4030, 'makre8tch': 4031, 'kanfkker': 4032, 'wigoul': 4033, 'l5ss': 4034, 'ddini': 4035, 'kat3arfo?': 4036, 'blan': 4037, 'kmlt': 4038, 'sabab': 4039, '9as7a,': 4040, 'ttahowwa': 4041, 'rrizo': 4042, 'fazga': 4043, 'alywmiya?': 4044, 'dewwezti': 4045, 'khalfia': 4046, 'chourou9': 4047, 'kaykhle3!': 4048, 'erm,': 4049, '7lib?': 4050, 'pilot,': 4051, 'ttann': 4052, 'yseyyed': 4053, 'far7ana': 4054, 'kanste3mel': 4055, 'tfewwe8': 4056, 'lbard': 4057, 'lyom!': 4058, 'mannsach': 4059, 'kaywejdou': 4060, '3adasat': 4061, 'maygoul': 4062, 'ghaykhss': 4063, 'raya': 4064, '8na?': 4065, 'ta9a3od': 4066, 'noubtek': 4067, 'nawiya': 4068, 'n3eyyto': 4069, 'dobl': 4070, 'chrab?': 4071, 'ssekkar': 4072, 't7malni.': 4073, 'gddit': 4074, 'likaychriw': 4075, 'takhtit': 4076, 'ndewez': 4077, 'jrit': 4078, 'kay3jboni': 4079, 'lbidaya': 4080, 'katfakar': 4081, 'n3awn': 4082, 'mbedel': 4083, 'lkhcheb': 4084, 'rock': 4085, 'ywlli': 4086, 'mansawch': 4087, '9e8wiyyin': 4088, 'nhzzk': 4089, 'chaja3a': 4090, 'chet': 4091, 'kamlin,': 4092, 'hezz': 4093, 'baseball': 4094, 'sabra': 4095, 'lflos.': 4096, 'fl9ima': 4097, 'msalya': 4098, '5adda': 4099, 'katwakalhom...achno': 4100, 'ljawab': 4101, '7ttitih?': 4102, 'ssads,': 4103, 'kenti': 4104, 'rrasi.': 4105, 'nyya': 4106, '7sabi': 4107, '3abit': 4108, 'dawla': 4109, 'matkhal3ich': 4110, 'l8alat': 4111, 'wa3r': 4112, 'jre7t': 4113, 'm3a8oum': 4114, 'bida,': 4115, 'anakl': 4116, 'kayjiwk': 4117, '3a2iliya,': 4118, 'rri7la': 4119, '3nadak': 4120, 'morafi9': 4121, 'matatsme3ch': 4122, 'hani,': 4123, '3abit.': 4124, 'tiyara!': 4125, 'li9ritoha': 4126, 'jtima3ya': 4127, 'b7ozn': 4128, 'moumilla': 4129, 'fnadari.': 4130, 'kan3zek': 4131, '7afda': 4132, 'lbyed': 4133, 'l7amdolah': 4134, 'tant3ellem': 4135, 'tmma': 4136, 'l9e8wa': 4137, 'l2a3chab': 4138, 'lmrra': 4139, 'kay3jebni': 4140, 'ltolab': 4141, 'kanchofo': 4142, 'dme3': 4143, 'nfekker': 4144, 'te5lita': 4145, 'ra': 4146, 'msiana': 4147, 'wld': 4148, 'golli': 4149, 'bl7jer': 4150, 'itda3eb': 4151, 'rta7itch': 4152, 'knt': 4153, 'lmdina': 4154, 'l3ars!': 4155, 'flblasa': 4156, 'bl7ot': 4157, 'smiyta': 4158, 'ntmchaw?': 4159, 'ghatmchi': 4160, 'mt3am': 4161, 'kan3rf': 4162, 'ikfini': 4163, 'l3amma!': 4164, 'rejlik': 4165, 'lyoum...': 4166, \"nta'\": 4167, 'kheyyett': 4168, 'maaya': 4169, 'lmo9adassa': 4170, 'bota': 4171, 'rottweiler,': 4172, 'malou': 4173, 'lhiwaya': 4174, 'l3lou,': 4175, 'tsayab': 4176, 'tlw9t?': 4177, 'jarna': 4178, '5dit': 4179, '7ssat': 4180, 'ntchaf': 4181, '3omar': 4182, 'katseb': 4183, 'kharita': 4184, 'modhich': 4185, 'mmoussekh': 4186, 'bjje8d?': 4187, 'ma3aljoch': 4188, 'kantmanaw': 4189, 'mat7ell': 4190, 'l8na.': 4191, 'msdoudine...': 4192, 'lb7er': 4193, 'haja.': 4194, 'mat9emmer': 4195, 'kayseb': 4196, 'mender': 4197, 'julie!': 4198, 'ldaba': 4199, 'b7a': 4200, 'achnahia.': 4201, 'dakchi!': 4202, 'mital?': 4203, 'nsifthom': 4204, 'ndrabha': 4205, 'l7jer': 4206, 'dyalek?': 4207, 'lkoursi': 4208, 'mchwi': 4209, 'tamarod': 4210, 'fllil?': 4211, 'loubna': 4212, 'ta7taj': 4213, 'tajin': 4214, 'lmasra7': 4215, 'matwasaltch': 4216, 'lgharad?': 4217, 'annani': 4218, 'lmouswwir': 4219, 'nmchi': 4220, 'khaso': 4221, 'i3awnek': 4222, 'kantsnnaha': 4223, 'darija': 4224, 'kmmlti': 4225, 'kancharji': 4226, 'matcharbouch': 4227, 'ddar.': 4228, 'ftajriba': 4229, 'wa3datni': 4230, 't8edde2': 4231, 'snanha': 4232, 'khawar!': 4233, 'sh7al': 4234, 'mor8i9': 4235, 'ndiroha!': 4236, 'nlbbso': 4237, 'safaria': 4238, 'orba3': 4239, 'da2ira': 4240, 'chnahya': 4241, 'jjayyin?': 4242, 'lmous': 4243, 'lfra9i': 4244, 'chadin': 4245, 'diniya': 4246, 'l7ad?': 4247, 'syda': 4248, 'maydoub': 4249, 'l7ta': 4250, 'ntchawfou': 4251, 'sre3na': 4252, 'madirouch': 4253, 'kikay3ejbek': 4254, 'kayna?': 4255, 'khlito': 4256, 'tomobil': 4257, 'blayes': 4258, 'salamo3alaykom': 4259, 'makatb9ach': 4260, 'kan7awl': 4261, 'abadan!': 4262, 'lbsi': 4263, 'li3tak.': 4264, '9alti': 4265, 'ou5nia': 4266, 'tcommandi': 4267, 'jam3a': 4268, 'kay5el3ouni': 4269, 'kaytsmma': 4270, 'sakhif,': 4271, 'lpicnic': 4272, 'meziana?': 4273, 'ghayrj3o': 4274, 'mouchkiltek?': 4275, '5erja': 4276, '7wayjha': 4277, 'katbghini': 4278, 'chohor': 4279, 'mowafa9': 4280, 'chayf': 4281, 'makaymchich': 4282, 'meziana!': 4283, 'y3tiwna': 4284, 'f7alna': 4285, 'il9a': 4286, 'njib': 4287, 'kayskhon': 4288, 'kayyakhoud': 4289, 'lmeska': 4290, 'fhmt.': 4291, 'lml7a': 4292, 'ssma': 4293, 'matndamch': 4294, 'm3ttel?': 4295, 'lija': 4296, 'rajel': 4297, 'l3asal!': 4298, 'tnse7': 4299, 'nkafa7': 4300, 'dyalna.': 4301, 'finahoa': 4302, 'gelbi': 4303, 'aafak?': 4304, 'katkeb': 4305, 'kat3awen': 4306, 'l3bti': 4307, 'khizzo': 4308, 'lmal3ab': 4309, 'lafad2': 4310, '2a7lami': 4311, 'tta7di': 4312, 'bream': 4313, 'ykhrjo': 4314, 'lso7ba': 4315, 'dayma': 4316, 'rkbti': 4317, 'kay8dr?': 4318, '3rfti?': 4319, 'tsken': 4320, 'bakhoch': 4321, 'ysta9ar': 4322, 'daba?': 4323, 'kane9i': 4324, '9tane3t': 4325, '3ayat': 4326, 'makay3jbekch': 4327, 'chrab.': 4328, 'aygoul': 4329, 'berbbouch.': 4330, 'lghays': 4331, 'sirr': 4332, 'fterti?': 4333, 'mzeyyit': 4334, 'makhddamach': 4335, 'chchan': 4336, '3zawi': 4337, 'chri': 4338, 'ronpoin': 4339, 'y3oum': 4340, 'awamir': 4341, 'ys7ab': 4342, 'chfa': 4343, 'n7ell': 4344, 'tkhroj,': 4345, 'plizir?': 4346, 'dwzt': 4347, 'bso8oula': 4348, 'goul': 4349, 'l9raya!': 4350, 'imskhek': 4351, 'kayste3mlou': 4352, 'alifa': 4353, 'anchef': 4354, 'makatderrni': 4355, 'bdayt': 4356, 'chkonahowa': 4357, '9ariban,': 4358, 'kankhrej': 4359, 'tahowa?': 4360, 'ddirha': 4361, 'tta9afa': 4362, 'l7ay?': 4363, 'matf9dch': 4364, '9arn': 4365, 'nihaya': 4366, 'likaychrbo': 4367, 'lmet3am?': 4368, 'tobis': 4369, 'ma3labalich': 4370, 'lbesti': 4371, '2i7sas': 4372, 'tl3chiya': 4373, '7mer': 4374, 'lsani': 4375, 'fi3lan,': 4376, 'khda': 4377, 'i9bal?': 4378, 'lbare7': 4379, 'katrta7': 4380, '7san,': 4381, 'momkiin': 4382, 'takhasos': 4383, 'l9dima': 4384, 'ljanobiya': 4385, 'lwrd?': 4386, 'ntyybo!': 4387, 'ta7cham': 4388, 'radikali!': 4389, 'msatya!': 4390, 'lmo7adirin': 4391, 'kat7ell?': 4392, 'khditi': 4393, 'we9t': 4394, '3atinha': 4395, 'so3orat': 4396, 'twadrat': 4397, 'ntfar9o': 4398, '5alat': 4399, 'lalarm': 4400, 'limoun?': 4401, 'bnin': 4402, 'khdit': 4403, 'lia': 4404, 'wiski?': 4405, 'chftiha': 4406, 'demm?': 4407, 'kaywlli': 4408, 'dl7em': 4409, 'm8ewwer': 4410, 'l9arasina': 4411, 'lays3dlmasa': 4412, 'lbriyed': 4413, 'anans': 4414, '3ajbo': 4415, 'tla9a': 4416, 't9atlat': 4417, 'ddaya.': 4418, 'kat9ra?': 4419, 'jo3,': 4420, 'mangddch.': 4421, 'cava': 4422, '5lakom': 4423, 'katchrab': 4424, 'chrat': 4425, 'jdatha': 4426, 'saghira': 4427, 'smith': 4428, 'macha3ir': 4429, 'y3awed': 4430, 'fl3asir': 4431, '3ers': 4432, '3inik?': 4433, 'mabaynach': 4434, 'l7ayawia': 4435, 'mamt2akd': 4436, 'bir7t': 4437, 'sta3malna': 4438, 'bchcwiyya': 4439, 'makay2etterch': 4440, 'l8amm': 4441, 'anglais.': 4442, 'mrid,': 4443, '9oz9oza7': 4444, 'lbawsala...': 4445, 'hakka,': 4446, 'tfa7': 4447, 'trofa': 4448, 'otmata3na': 4449, 'maghselch': 4450, 'dowz': 4451, 'd8ri': 4452, 'dilaha': 4453, 'aykhas': 4454, 'dorat': 4455, 'mchiti?': 4456, 'mosta3ar,': 4457, 'aykoun': 4458, 'ntfiw': 4459, 'msdoda,': 4460, 'kayakkol': 4461, 'fnas': 4462, 'kikoun': 4463, 'boj3ran': 4464, 'l9elbek': 4465, 'lbar7?': 4466, 'ghabiyya': 4467, 'ma7atta': 4468, 'ghykhssna': 4469, 'yseyed': 4470, 'ghatosl': 4471, 'ma3ndkch': 4472, 'yonyo': 4473, 'onb9aw': 4474, 'kankteb': 4475, 'ttali3a': 4476, 'katsweb': 4477, 'sewweltini': 4478, 'daroria': 4479, 'ngueddo': 4480, '9chchabto': 4481, 'lppidza': 4482, '15h': 4483, 'kanghsel': 4484, 'kantlab': 4485, 'nsllfk': 4486, '3lamen': 4487, 'kanzre3': 4488, '3titiha': 4489, 'likant': 4490, '7lliti': 4491, 'mo2akharan': 4492, 'wa7ad': 4493, 'fmaw9a3': 4494, 'bih': 4495, 'ghele9t': 4496, 'leksida': 4497, 'wata2i9...': 4498, 'i9la3?': 4499, 'transport,': 4500, '3afaaak!': 4501, 'kontabli': 4502, 'twakal': 4503, 'sandwich?': 4504, 'nw9f': 4505, 'ra7a': 4506, 'jiran?': 4507, 'jjay': 4508, 'm3gaz': 4509, 'telbes': 4510, 'katgol': 4511, 'nje7ti': 4512, 'nobtk': 4513, 'lwahida': 4514, 'bda': 4515, '9ssir': 4516, 'makn3rfch': 4517, 'dyalk,': 4518, 'l9ten': 4519, 'bancaire': 4520, 'tawabi9': 4521, 'machdditch': 4522, 'maydiwch': 4523, 'zayton': 4524, 'kay7awlo': 4525, '9a8wa': 4526, 'kadrrni': 4527, 'l2injil?': 4528, '9ism': 4529, 'lma7al?': 4530, 'm9loubin': 4531, 'kaml?': 4532, 'law9of': 4533, 'jami3': 4534, '5aliban': 4535, 'man9drch': 4536, 'mrebi': 4537, 'kay9alab': 4538, 'nr7l': 4539, 'nbadlo': 4540, 'onta': 4541, 'ktobi': 4542, '93': 4543, 'nmot': 4544, 'kidayer': 4545, 'sedma': 4546, 'lmoste9bal': 4547, 'nrdd': 4548, 'khesso': 4549, 'anya,': 4550, 'kol7al,ana': 4551, 'ttyyeb': 4552, 'hahahaha': 4553, 't3tader': 4554, 'bordeaux': 4555, 'kits7ab': 4556, 'haz': 4557, 'katjma3': 4558, 'dyali?': 4559, 'kansawlak': 4560, 'dghya.': 4561, 'bessa7': 4562, 'ttaf9na': 4563, 'lmarra': 4564, 'fatima': 4565, 'mdwwr': 4566, 'a5rad': 4567, 'tandiro': 4568, 'rajlek': 4569, 'wlla': 4570, 'of': 4571, 'lidawzti,': 4572, 'arthur': 4573, 'tblokiti': 4574, 'n9adhoum': 4575, 'katswa': 4576, 'twli': 4577, '3emdhoum': 4578, 'yalllah': 4579, 'aymchiw': 4580, 'b7ajar': 4581, 'f3id': 4582, 'disir': 4583, 'likanbghi': 4584, '9riti': 4585, 'kat8dr': 4586, 'kharej': 4587, 'lbest': 4588, 'jini': 4589, 'mykon': 4590, 'bs7a': 4591, 'mamtafe9ch': 4592, 'kayn?': 4593, 'lcocktail': 4594, 'chadd': 4595, 'fih,': 4596, 'kand7ak!': 4597, 'ndirou': 4598, 'tsnnet': 4599, 'l8i8.': 4600, 'mamridch': 4601, 'jabt': 4602, 'boita': 4603, 'lbola': 4604, 'fkol': 4605, 'brazil': 4606, 'wlk': 4607, 'fljem3a': 4608, 'njarbha': 4609, 'mst3d?': 4610, 'lkhatar': 4611, 'ghzala': 4612, 'moulat': 4613, 'lmoghenni?': 4614, 'kay8dro': 4615, 'ysog': 4616, '3wwlti': 4617, 'ttyyarat': 4618, 'katb3ou': 4619, 'sdma': 4620, 'tadla?': 4621, 'l2ittisal': 4622, 'kent': 4623, 'lwalida.': 4624, 'fhamti': 4625, 'stta': 4626, 'makansme3ch': 4627, 'tahoma': 4628, 'ddib': 4629, 'ftelfaza': 4630, 'dyal': 4631, 'maghadich': 4632, 'bnti': 4633, '7afa.': 4634, 'ybano': 4635, '5ari9a': 4636, 'm7tajin8om': 4637, 'kaydlam': 4638, 'i7tajo': 4639, 'lboulissi': 4640, 'lakhrin': 4641, 'nkoun': 4642, 'mo8ayminin': 4643, 'khima': 4644, 'jjeb8a': 4645, 'isini': 4646, 'tdwi': 4647, 'n9tabas': 4648, 'takhd': 4649, 'cookies': 4650, '3arfah': 4651, 'bzrba!': 4652, '9ll9smayn': 4653, 'rum': 4654, 'tachrab': 4655, 'bentk?': 4656, 'ra9i': 4657, 'lmecanissyan': 4658, 'mzyana': 4659, '7wayej': 4660, 'tsqi': 4661, 'tneddem': 4662, 'maymknch!': 4663, 'gelti': 4664, 'ssoum3a': 4665, 'njawab': 4666, '3jbek': 4667, 'lbouliss': 4668, 'smiti': 4669, 'mt7amas?': 4670, 'taj': 4671, 'l9rab.': 4672, 'fl2otro7a.': 4673, 'lasal': 4674, 'f8adchi': 4675, 'faransiya': 4676, 'khdina': 4677, 'bztami': 4678, 'n3almo': 4679, 'la7edt': 4680, 'lpatron': 4681, 'lijtima3': 4682, 'tghedditi?': 4683, 'no3': 4684, 'mnaseb': 4685, 'tcommandiha': 4686, 'noubtk': 4687, 'ma3rftihach?': 4688, 'fl2ada2': 4689, 'modadat': 4690, 'khrin?': 4691, 'kat3yyi': 4692, 'ikono': 4693, 'tawasol': 4694, 'lghaba,': 4695, 'darah': 4696, 'ghatn3es': 4697, 'ykounou': 4698, 'lmoudarib': 4699, 'kayn3so': 4700, 'yadi': 4701, 'tlfakher.': 4702, 'wldo': 4703, '2asatida': 4704, 'mrid': 4705, 'ice': 4706, 'machfnaha': 4707, 'lboudiyya': 4708, 'mkhasnich': 4709, 'nfkker': 4710, 'kit7e9ou': 4711, 'ayjriw': 4712, 'ttir': 4713, 'weld': 4714, 'las9a': 4715, 'rra9m': 4716, 'ddrari,': 4717, 'fl9edd': 4718, 'tiknolojya': 4719, 'khasa': 4720, 'diri': 4721, 'ch8our': 4722, 'mod7ika': 4723, 'lmn': 4724, 'lbagaj': 4725, 'fik': 4726, 'tmanin': 4727, 'mofddalin': 4728, 'tachi': 4729, 'ssghar': 4730, 'n3awnk?': 4731, 'kan7es': 4732, 'maraton': 4733, 'bl3rasat': 4734, 'kawkaw': 4735, 'twedde7': 4736, 'nchofo,': 4737, 'mamyessra': 4738, '-': 4739, 'gharib': 4740, 'fi8oum': 4741, 'nda9': 4742, 'osb39sam': 4743, 'ghantilicharji8': 4744, 'gddach?': 4745, 'glsi': 4746, 'derti': 4747, 'chara2i7': 4748, 'ana8o': 4749, 'msdoud': 4750, 'lnadwa': 4751, 'amina': 4752, 'l7er9a': 4753, 'da7kin': 4754, 'lboutoun': 4755, 'lgliyya': 4756, 'kikounou': 4757, 'bar': 4758, 'xx': 4759, 'bzzaf?': 4760, 'tlmosa3ada': 4761, 'lmatch': 4762, '??': 4763, 'fer9tel': 4764, 'lpossession': 4765, 'sghir': 4766, 'achna8ia': 4767, 'jwabo': 4768, 'kat3jebhom': 4769, '9ima': 4770, 'mazal?': 4771, 'sri': 4772, 'mghribi': 4773, 'yrtab': 4774, 'kayt3ala9': 4775, 'te7t': 4776, 'kat3rfni': 4777, 'dewla': 4778, 'lkridi': 4779, 'jjilali?': 4780, 'n8arek': 4781, 'kaydwiw': 4782, 'mzyan?': 4783, 'maw3id': 4784, 'taykon': 4785, 'chkl': 4786, 'caise': 4787, 'far7anin': 4788, 'lm5asmat': 4789, 'matkounch': 4790, 'y9dar': 4791, 'tsawer.': 4792, 'kifach?': 4793, 'chrjem': 4794, 'ghanji': 4795, 'ma3mrk': 4796, 'katmechcha': 4797, 'tran?': 4798, '5assna': 4799, 'ghangollihom': 4800, 'likandir': 4801, 'ttomobilat': 4802, 'mt2kad': 4803, 'makat3jbnich': 4804, 'khdamt': 4805, 'bawsala': 4806, '8zzit': 4807, 'raj3ni': 4808, '5eddm': 4809, 'l8adaya': 4810, 'marhaba': 4811, 'mou7al': 4812, 'lmo8ajirin': 4813, 'man3yye9': 4814, 'ssber': 4815, 'ghanmred!': 4816, 'nweli': 4817, 'aykon': 4818, 'flmobadara': 4819, 'bddo': 4820, 'kay3arfoni': 4821, 'katbedel': 4822, 'testahel': 4823, 'l7ad': 4824, 'mekta2b': 4825, 'lmat': 4826, 'm3ndich': 4827, 'reflex': 4828, 'lmochkil.': 4829, 't3leb': 4830, 'bsah': 4831, 'makaygolliyya': 4832, 'tfrj': 4833, 'tsowlni': 4834, 'nab9a': 4835, 'tkhelles': 4836, 'ghan3ref': 4837, 'kilometre': 4838, 'l2ijtima3iyya': 4839, 'wash': 4840, 'l7amad.': 4841, 'lmkhedda': 4842, 't3echa': 4843, 'd5el': 4844, 'kan3awnek': 4845, 'mkant7arko.': 4846, 'tsfar': 4847, 'mdalla?': 4848, 'guelt': 4849, 'kayt9en': 4850, 'nachatat': 4851, 'kadden': 4852, 'assia,': 4853, 'tffa7a': 4854, 'decharja': 4855, 'bjehd': 4856, 'jmil.': 4857, 'mjrou7a': 4858, 'sstta': 4859, 'ghanstemt3o': 4860, 'tl9ah.': 4861, 'do8niya': 4862, 'mat7ettouch': 4863, '3ib': 4864, 'kiktachef': 4865, 'olfrmliat': 4866, 'gps': 4867, '3tithom': 4868, 'ljazira': 4869, 'tnnas?': 4870, 'tebsil': 4871, 'm7roumin': 4872, 'nsit': 4873, 'n3awad': 4874, 'lbe3wid': 4875, 'yt9ad': 4876, 'nsllm': 4877, 'jar7a': 4878, 'dra3o': 4879, 'lrjliya': 4880, 'kat3tina': 4881, 's77a': 4882, 'raha': 4883, 'yke77el8a': 4884, 'nlta79': 4885, 'hadchi!': 4886, 'taddir': 4887, 'ntghddaw': 4888, 's5on?': 4889, 'l8iwayat': 4890, 'mofri7a': 4891, 'llb7err': 4892, 'wellat': 4893, 't3rd': 4894, 'makaygoliya': 4895, 'nssa3a': 4896, 'jyab': 4897, 'besa7': 4898, 'kat3rfi': 4899, 'fboldan': 4900, 'chrabi': 4901, 'hdr': 4902, 'nat7arko': 4903, 'majaych': 4904, 'b3idd': 4905, 'hadok': 4906, 'rroz': 4907, '3tit': 4908, 'sbegh': 4909, 'lfasl': 4910, 'katfkker': 4911, 'mabghitsh': 4912, 'glt': 4913, 'nchofk': 4914, 'n3amasidi': 4915, 'fwa7ed': 4916, '3amaliyya': 4917, 'rimaya': 4918, 'rbi3': 4919, 'nrj3o.': 4920, '3e9lek': 4921, 'l7oub': 4922, 'kifac': 4923, 'le3b': 4924, 'makat3awnch': 4925, 'makan7emlouch': 4926, 'ta7ed?': 4927, 'mouckila': 4928, '3liha,': 4929, 'lrrousiyya': 4930, 'ddamawi': 4931, 'lmoutawadi3': 4932, 'bikhiir': 4933, 'bernamej': 4934, 'station': 4935, 'ka2iba': 4936, 'nkhaymo': 4937, 'ma9adarch': 4938, 'as2ila,': 4939, 'champignons?': 4940, 'mzwja': 4941, 'nre7lo': 4942, 'kanl9a': 4943, 'n7ello': 4944, 'gnaza': 4945, 'jay': 4946, 'lbasla?': 4947, 'safrat': 4948, 'otb9a': 4949, 'gleb': 4950, '9ssar': 4951, 'lhadchi': 4952, 'piscine': 4953, 'mafkkrtch': 4954, 'makayn': 4955, 'fnnafs': 4956, 'mjehda': 4957, 'n9lleb': 4958, 'yaqdar': 4959, 'judy': 4960, 'nskhno': 4961, 'lburger': 4962, 'lwad': 4963, 'assimana': 4964, '7essass': 4965, 'atmchi': 4966, 'khmmel': 4967, 'matfat7': 4968, 'sidi': 4969, 'l9otbiya': 4970, 'makhsekch': 4971, 'nfkkro': 4972, 'kaybiynou': 4973, 'lmjmo3a': 4974, 'mkllekh?': 4975, 'katweed': 4976, 'mat9dar': 4977, 'achno': 4978, 'katsannani': 4979, 'minspiri': 4980, 'ddisir.': 4981, 'bedia': 4982, 'fiha': 4983, 'niytek': 4984, 'wrj3': 4985, 'nsawbo': 4986, 'melyoun': 4987, 'bjo3': 4988, 'chkonahoa': 4989, 'o3la': 4990, 'onchouf': 4991, 'bezzaf!': 4992, 'bni': 4993, 'matkhasin': 4994, 'n3omo': 4995, 'nfekh': 4996, 'dyali!': 4997, 'mwejdin': 4998, 'ta7fiz': 4999, '3endi': 5000, 'ddramiyya': 5001, 'molawit': 5002, 'fle5er': 5003, 'kaybtasem': 5004, 'l2asbab': 5005, 'khyria': 5006, 'tra': 5007, 'kaynsa': 5008, 'ma9aderch': 5009, 'y3awn?': 5010, 'liya.': 5011, 'sanawat': 5012, 'tkeffess': 5013, 'ms2oul': 5014, 'tyab8a': 5015, 'widrab': 5016, 'srbaya': 5017, 'york': 5018, 'ybrad': 5019, '8drtak': 5020, 't9rir': 5021, 'kayghniw': 5022, 'ttgal': 5023, 'fhem': 5024, 'mafto7': 5025, 'm8tam': 5026, 'wa8': 5027, 'pakistan': 5028, 'nzido': 5029, 'ttaloun': 5030, 'ykono': 5031, 'ddwa': 5032, 'kanhdro,': 5033, 'l3erss': 5034, 'dazou': 5035, 'lklab?': 5036, 'bm3na': 5037, 'ghaygol': 5038, 'mab5ach': 5039, 'yamkn': 5040, 'tben': 5041, 'ta9lidia,': 5042, 'kayghewwet': 5043, 'l9raya': 5044, 'youlyouz': 5045, 'collectionner': 5046, 'l3chia?': 5047, '7adra': 5048, 'ntbarzat': 5049, 'l7jar': 5050, 'sara7atan': 5051, 'njerrebo': 5052, 'ayy': 5053, 'nkhatmo': 5054, 'mkle5': 5055, 'n3ichha': 5056, 'lmasra7?': 5057, 'flma!': 5058, 'jihtak': 5059, 'ankon': 5060, 'katsr9': 5061, 'a77sen': 5062, '9sbat': 5063, 'chips,': 5064, 'd9ay9': 5065, 'o7na': 5066, 'zaz': 5067, 'ldid': 5068, 'lma.': 5069, 'b7alha!': 5070, 'fkkarti': 5071, 'khlla': 5072, 'mota2alli9': 5073, 'wa7ed?': 5074, '3am': 5075, 'kanfekrou': 5076, 'kantarkha': 5077, 'mchrou3': 5078, 'lmoda': 5079, 'sbbora': 5080, 't7na': 5081, 'makanhderch': 5082, 'kay9emmer': 5083, 'akhra?': 5084, 'lforma': 5085, 'nnod,': 5086, 'skar': 5087, 'kanrkeb': 5088, 'lmjmo3a.': 5089, 'flmdina': 5090, 'nta9alti': 5091, 'barnamaj.': 5092, 'ma3rafch': 5093, 'chftek': 5094, 't8alla': 5095, 'cadeau': 5096, 'ntayab': 5097, 'kat7essen': 5098, 'mabda2': 5099, '5bar': 5100, 'l3ya': 5101, 'naklo': 5102, 'kay3awen': 5103, 'twaselt': 5104, 'warakt': 5105, 'katnasbak': 5106, 'choclat,': 5107, 'dwira': 5108, 'omn': 5109, 'kay3jbek': 5110, '2imti7anat': 5111, 'ji3an': 5112, 'haha,': 5113, 'mansitch': 5114, 'lostad,': 5115, '7anout': 5116, 'n2adihom': 5117, '3chr': 5118, '3rft8a': 5119, 'tawa9o3at?': 5120, '5arib': 5121, 'l7edd': 5122, 'kantsa2l': 5123, 'l9issass': 5124, 'kantlb': 5125, 'taliani': 5126, 'kanta9l': 5127, 'baghi': 5128, 'ma3ndoch': 5129, '8ojoumi': 5130, 'katwrrini': 5131, 'l7ajat': 5132, 'mstrissi': 5133, 'ntfada': 5134, 'lblays': 5135, '3a2iliya': 5136, 'zwina!': 5137, 'fmi': 5138, '2aman!': 5139, 'poker.': 5140, 'ntfrejou': 5141, 'fo9ach': 5142, 'missaj': 5143, 'flmandil?': 5144, 'ban': 5145, 'ntghdda': 5146, 'ssout?': 5147, 'mskin.': 5148, '3inia': 5149, 'imakan': 5150, 'krafs': 5151, 'bka': 5152, 'b7almahokdaya': 5153, 'kafyin': 5154, 'llbit': 5155, 'ywali': 5156, '3asir': 5157, 'mchia': 5158, 'n7ayad': 5159, 'smiyat': 5160, 'msianin': 5161, 'machu': 5162, 'fidik': 5163, 'lkelb,': 5164, 'l9dima?': 5165, 'maychri': 5166, '5tek': 5167, 'tkhrbi9.': 5168, 'm39ol!': 5169, 'madkich': 5170, 'nnozala2': 5171, '799e9t': 5172, 'hatim,': 5173, 'fi8': 5174, 'lkalimat': 5175, '7ayawanat?': 5176, 'kayyakoul': 5177, 'kaygoulia': 5178, 'lkhir': 5179, 'mamtwatarch,': 5180, 'mamt2kadch': 5181, 'mafiyach': 5182, '9ase7': 5183, 'doros': 5184, 'tmenyat': 5185, 'l7arariya,': 5186, 'tastafad': 5187, 'mary': 5188, 'amr': 5189, 'ddin': 5190, 'kanokkelhoum': 5191, 'khalit': 5192, 'teb5i': 5193, 'a5ba': 5194, 'lfo9.': 5195, 'difa3': 5196, 'frassi.': 5197, 'temdegh': 5198, '8reb': 5199, 'tjriba': 5200, 'sa3a?!': 5201, 'skranin': 5202, 'ma9lob?': 5203, 'nteyyeb': 5204, 'kanchofhom': 5205, 'ktichafat': 5206, 'hadouk': 5207, 'mab3idach': 5208, 'tlfaza': 5209, 'ghaykhess': 5210, 'dalafin?': 5211, '3awamil': 5212, 'mziyer': 5213, 'llmti7an': 5214, 'kayzid': 5215, 'tandimat': 5216, 'yallah': 5217, 'i9dro': 5218, '9lila': 5219, 'libgha?': 5220, 'ghat7essen': 5221, 'l7adi9a': 5222, 'bch7al?': 5223, 'tta7addiyat': 5224, 'kant7emmel': 5225, 'khasni': 5226, 'rwina': 5227, 'katn3ess': 5228, 'sda3,': 5229, 'atay.': 5230, 'kan39al': 5231, 'kanmoutou': 5232, 'cher7at': 5233, 'rissala': 5234, '9': 5235, 'man9darch': 5236, 'mokalama.': 5237, 'mokhtalif': 5238, 'yanayir': 5239, '5lana': 5240, 'fddar': 5241, 'lmosinnin.': 5242, '3ndna.': 5243, 'talf': 5244, 'b5a': 5245, 'avril': 5246, 'talib': 5247, 'ysbi': 5248, 'khsak': 5249, 'makandench': 5250, 'rkht': 5251, 'bl7wayj': 5252, 'indar': 5253, 'mansa': 5254, 'bloulou': 5255, 'mtaf9,': 5256, 'rask?': 5257, 'kan9lleb': 5258, 'mawa9i3': 5259, 'kanttsalek': 5260, 'tl7rira': 5261, 'wekkel': 5262, 'ddoud': 5263, 'ta7adiyat': 5264, 'lmosa3ada!': 5265, 'wsef': 5266, 'chchems': 5267, 'lmarat': 5268, 'bghitha': 5269, 'mini-bus': 5270, 'nchofoh,': 5271, 'ghwwas': 5272, 'kat3ti': 5273, 'ztt': 5274, 'annak': 5275, 'n9edti': 5276, 'blkhosous!': 5277, 'chbe3t': 5278, 'n7ol': 5279, 'muda': 5280, 'sehd': 5281, 'mayghr9och': 5282, 'ghankono': 5283, '9nt,rak': 5284, 'pc': 5285, 'mbrztek?': 5286, '2akhor': 5287, '39el,': 5288, 'maghaddch': 5289, 'condors': 5290, '5eddam?': 5291, 'ibda': 5292, 'l2oghniya': 5293, 'l7oudoud': 5294, '5ansre3': 5295, 'tfkerha': 5296, 'manmchich': 5297, 'lyuma': 5298, 'kan5admo': 5299, 'lwalidin': 5300, 'yallaho': 5301, 'kaykoun': 5302, 'nkamlo': 5303, 'ilagik': 5304, 'litzidhom': 5305, 'hamdollah,': 5306, 'ghans8er': 5307, 'finma': 5308, 'tchtarak': 5309, 'kay3ayer': 5310, 'nkteb,': 5311, 'khl3kom': 5312, 'basla': 5313, 'na3es.': 5314, 'fmousta9bal': 5315, 'ta9tar7': 5316, 'zr9in': 5317, 'rwayd': 5318, 't3ti': 5319, 'makanakolch': 5320, 'brra!': 5321, 'twalitat': 5322, 'gal': 5323, 'moujoudine': 5324, 'khayba,': 5325, 'bi2aman!': 5326, '7at': 5327, 'nnzoul': 5328, 'msta3dda': 5329, '3awdi': 5330, 'tayara?': 5331, 'nhar': 5332, 'ta3li9': 5333, 'kolchi?': 5334, 'ma3arft': 5335, 'nzerbo,': 5336, 'ljtima3': 5337, 'nokta': 5338, 'sandwichat': 5339, 'nwajad': 5340, 'flwa9t': 5341, 'ma3mmrk': 5342, 'kayle3bou': 5343, 'flmatc': 5344, 'klmat': 5345, 'aw': 5346, 'l3jaj': 5347, 'ghadia?': 5348, 'takamol': 5349, 'flmas3ad': 5350, 'kannakhd.': 5351, 'makan3rf': 5352, '3aref.': 5353, 'nabdaw?': 5354, 'l2azwaj': 5355, 'twe7echtha!': 5356, 'ghay7ello': 5357, 'flkhar': 5358, 'fl3ada': 5359, 'tada3iyat': 5360, 'lcliane': 5361, 'makan7mlch': 5362, 'l9itni': 5363, 'katsken': 5364, 'bmi8na': 5365, 'm3roud?': 5366, 'fta7aja': 5367, 'bra7alati': 5368, 'lkika': 5369, '7biba,': 5370, 'khouk?': 5371, 'rass': 5372, 'l3otlat': 5373, 'ms3oud': 5374, 'kheddamin': 5375, 'salina': 5376, 'chrbt': 5377, 'rasm': 5378, 'ssbitar?': 5379, 'ttekhmam': 5380, 'keswa': 5381, 'wakha,': 5382, 'sara7a': 5383, 'ttabi3a': 5384, 'brbbouchat': 5385, 'lfara7': 5386, 'weekend': 5387, '3mmro': 5388, 'l2omor': 5389, 'l7al?': 5390, 'lmar7ala': 5391, 'ygouliyya': 5392, 'khayb!': 5393, 'rje3': 5394, 'sda3': 5395, 'drari': 5396, '9effert8a': 5397, 'lalla': 5398, 'ghayr': 5399, 'wiji': 5400, 'mohima': 5401, 'molsa9at': 5402, 'moulay': 5403, 'lkharj': 5404, 'kanstaghal': 5405, 'wgfna.': 5406, 'jllaba': 5407, 'jaffa': 5408, 'mamadich': 5409, 'anchofk': 5410, 'l3ama': 5411, 'lmachrobat': 5412, 'bmoujarad': 5413, 'ssi7ria': 5414, 'dib': 5415, 'l9ada': 5416, 'lnamosiya': 5417, 'meshri': 5418, 'noslo': 5419, 'lmota3alimin': 5420, 'mstressi,': 5421, 'kan7adrak,': 5422, 'lbal.': 5423, 'nswwlek': 5424, 'tzid8a': 5425, 'kabous.': 5426, 'la!': 5427, 'a7ya2': 5428, 'fl7arara': 5429, 'ttwil': 5430, 'lpermis': 5431, 'ntsena': 5432, 'aham': 5433, 'dart,': 5434, 'ddora': 5435, 'kattle3': 5436, 'de99a': 5437, '9echabto': 5438, 'imred': 5439, 'hab': 5440, 'iji': 5441, 'tabadol': 5442, 'makan9drch': 5443, 'khout': 5444, 'lwikand': 5445, 'me3na': 5446, 'katib.': 5447, 'nkhdam': 5448, 'ghaykono': 5449, 'b3diyatna.': 5450, 'n9admo8': 5451, 'lkher': 5452, 'msllekni': 5453, 'katfekrek': 5454, 'ajhiza': 5455, 'f3ilm': 5456, 'l7lwa.': 5457, 'khayf': 5458, 'hossam': 5459, 'inta9doni': 5460, 'bnadm,': 5461, 'm7taja': 5462, 'onl3ab': 5463, 'lbgar': 5464, 'wa9e3?': 5465, 'ntseta': 5466, 'khtwa': 5467, 'makanti9ch': 5468, 'maghanwerrikch': 5469, 'mafr7anch': 5470, 'nghit': 5471, 'flbirka': 5472, 'kaykteb': 5473, 'nchra7': 5474, 'l2a7wal,': 5475, 'mt9essef': 5476, 'mes2ouliyytek': 5477, 'flmedrasa': 5478, 'ssnin': 5479, 'zzman': 5480, 'katchofha': 5481, 'lmomayaz': 5482, 'chabab': 5483, 'lmo7adata': 5484, 'batat': 5485, 'katmrredni': 5486, 'khok': 5487, 'kiweliw': 5488, 'btab3,': 5489, '3refti': 5490, 'ghankhelles': 5491, 'fchams': 5492, 'sema\\\\': 5493, '5aysali': 5494, 'l3odr': 5495, '9a2ima': 5496, 'tajine': 5497, 'zwiwna,': 5498, '9asira': 5499, '3ar.': 5500, 'onhar': 5501, 'saf7at': 5502, 'jabek': 5503, 'tatfdl': 5504, 'tsb7': 5505, 'bezzaf?': 5506, 'kayzll9o': 5507, 'kay3tiwni': 5508, 'nhark': 5509, 'tweli': 5510, 'diali?': 5511, 'tjahlni': 5512, '3emmrek': 5513, 'fchkel.': 5514, '3arf!': 5515, 'mamt2akedch': 5516, 'tredd': 5517, '7efla': 5518, 'tsiwrat': 5519, 'f7ayat': 5520, '7achara': 5521, '3lach': 5522, 'tstamta3': 5523, 'ssebboura': 5524, 'jald': 5525, 'dyaf': 5526, 'flakhor?': 5527, 'sghikkrin': 5528, 'ani9a!': 5529, 'btata': 5530, 'sondwitch': 5531, 'lghda!': 5532, 'chakhsyan,': 5533, 'yt9echer': 5534, 'lb7ar?': 5535, 'katsedd?': 5536, 'ma3ndekch': 5537, 'diro': 5538, 'lfar9': 5539, 'm9li': 5540, '7awelt': 5541, 'tte9rir': 5542, 'makayti9ch': 5543, 'njerbo!': 5544, 'lminta9a': 5545, 'l2ijtima3at': 5546, 't3ayti': 5547, 'khaybat': 5548, 'l2ostad': 5549, 'tiyarat': 5550, 'inglatira': 5551, 'narta7.': 5552, 'kat3ani': 5553, 'ibarztona': 5554, '2assaf': 5555, 'kayttsta3ml?': 5556, 'lojik': 5557, 'dialkom': 5558, 'njreb': 5559, 'lel': 5560, 'jadad': 5561, 'nkhasar8a': 5562, 'tfa': 5563, 'ma3jbnich.': 5564, 'istina3iyin': 5565, 'gollih': 5566, 'yarbi': 5567, 'salaire': 5568, 't77ouwel': 5569, 'katkhrj': 5570, 'kayskr': 5571, '3atifi': 5572, 'l7ana': 5573, 'llogha?': 5574, 'm9tan3': 5575, 'youmayn': 5576, '3frit': 5577, 'tkka,': 5578, '3bed': 5579, 'baz9ol': 5580, 'flousi': 5581, 't7re9': 5582, 'blkharita': 5583, 'moghni.': 5584, 'llaw3lm': 5585, 'congé': 5586, 'ma8owwach': 5587, 'fekkerni': 5588, 'l2atmina': 5589, '3ini': 5590, 'l7wayj': 5591, 'katfhem?': 5592, 'mora8i9': 5593, 'galiha': 5594, 'anak': 5595, 'chher,': 5596, 'onsma3': 5597, 'lghalt': 5598, 'likayn.': 5599, '3layach': 5600, 'makandnch': 5601, 'latif': 5602, 'kayamchi': 5603, 'nakhod?': 5604, 'ochof': 5605, 'lklab': 5606, '7erb': 5607, 'lclyan': 5608, 'bzarba': 5609, 'makla': 5610, 'kats9i': 5611, '3tes': 5612, 'mo7tmal': 5613, '5altkom': 5614, 'tafasil': 5615, 'kandekkrek': 5616, 'l2oustada': 5617, 'flijtima3': 5618, 'twaslna': 5619, 'daddi,': 5620, 'raso': 5621, '5an7el': 5622, '7adat': 5623, 'tkhdmo': 5624, '3yyit': 5625, 't9acher': 5626, 'macharkti': 5627, 'kleet': 5628, 'kay3jebha': 5629, 'mosi9i': 5630, 'chambre': 5631, 'ghanwessel': 5632, 'guide': 5633, 'jew': 5634, 'makan7melch': 5635, 'b3d,': 5636, 'marion': 5637, 'mat3emmerch': 5638, 'chti7': 5639, 'fchkarti': 5640, 'nmra': 5641, 'ttertib': 5642, 'tt3aml': 5643, 'tkhali': 5644, 'ktbti': 5645, 'blaach': 5646, 'ndiro?': 5647, 'batt': 5648, 'chal?': 5649, 'larb3': 5650, 'mchina!': 5651, 'mfelles': 5652, '3ndkom': 5653, 'ntla9a': 5654, 'mofadal': 5655, 'makanfi9ch': 5656, 'kantfaraj': 5657, 'nnemch': 5658, 'te5yir': 5659, 'kikankhdm': 5660, 'lchi': 5661, 'mangol': 5662, 'bass': 5663, 'mini': 5664, 'l2adab,': 5665, 'nsamiwha': 5666, 'taydir': 5667, 'kanfadl': 5668, 'ndowwer': 5669, 'aslan!': 5670, 'tskr': 5671, 'kattnsa': 5672, 'marrakech': 5673, 'likayb9a': 5674, 'l9rda': 5675, '9as7a': 5676, 'wslti?': 5677, 'anakoul': 5678, 'katsme3': 5679, 'm3rof': 5680, 'balizat': 5681, 'tkhellina': 5682, 'katt3amel': 5683, 'zwin?': 5684, 'mo7al': 5685, '9aditi': 5686, 'bde7k': 5687, 'terf': 5688, 'l3ach': 5689, 'flmjmo3a': 5690, 'an7taj': 5691, 'mt2akd': 5692, 'bou3ou': 5693, 'chefthoum.': 5694, 'lhadi2': 5695, '3mmri': 5696, 'matfi9ch': 5697, 'lmsla7a': 5698, 'lekhmis': 5699, 'mam8tamch': 5700, 'walou': 5701, 'lays3dssaba7': 5702, 'kis7ab': 5703, 'ndbbro': 5704, 'katkhdm': 5705, 'lmota7arrish': 5706, 'l2ard,': 5707, 'almas': 5708, 'ooooh': 5709, 'i3tani': 5710, 't3elemna': 5711, 'lmomtaza': 5712, 'it7ssnou': 5713, 'tchr7i': 5714, 'nadawat': 5715, 'dawzti': 5716, 'kaykhtet': 5717, 'm399d': 5718, 'nt2ked': 5719, 'madamch': 5720, 'film,': 5721, 'tkharbi9': 5722, 'y5dem': 5723, 'mossi9a': 5724, 'y5let': 5725, 'ttiki': 5726, 'nta/nti': 5727, '3tat': 5728, 'tani?': 5729, 'l9tout?': 5730, 'trje3!': 5731, 't3yyet': 5732, 'djajat': 5733, 'meltzem': 5734, 'dyalk!': 5735, 'lloun': 5736, 'nsali': 5737, '9arart': 5738, 'cocktail': 5739, 'ghanhdro': 5740, 'o7ssen': 5741, 'khsra': 5742, 'ntkhlla': 5743, 'makaybanoch': 5744, 'lioma...': 5745, 'rjal': 5746, 'nadya': 5747, 'l2alaf': 5748, 'achballik': 5749, 'bl7oub': 5750, 'chchta': 5751, 'kanfadalhom': 5752, '7lo,': 5753, 'kidirou': 5754, 'b7alek': 5755, 'kayl3eb': 5756, 'riyadiyat?': 5757, 'bira': 5758, 'sa7bk...': 5759, 'charayin': 5760, 'l2ou5niya': 5761, 'kan3gez': 5762, 'aykhasha': 5763, 'l2azya2!': 5764, 'kano': 5765, 'ladyari': 5766, 't7t': 5767, 'sokar?': 5768, 'ozid': 5769, 'betty': 5770, 'ma3mer': 5771, 'kaysma3': 5772, 'tl3na': 5773, 'jazilan': 5774, 'haha': 5775, 'fkelma': 5776, 'mssafer': 5777, 'mwalaf': 5778, 'bentou': 5779, 'zawjiyya': 5780, '3jbni': 5781, 'mrigl': 5782, '2a7dat': 5783, 'nl9a': 5784, 'lbasita': 5785, 'kanwa3dak': 5786, 'ta8rrob': 5787, 'kheft': 5788, 'ghaybdaw': 5789, 'lmofadal': 5790, 'fayet': 5791, 'b39li': 5792, 'serf?': 5793, 'sbitar': 5794, 'makltek': 5795, 'beljika': 5796, 'cheklat': 5797, 'swebna': 5798, 'ighalb': 5799, 'maf8emtich?': 5800, 'choughlek': 5801, 'salama!': 5802, 'mat7chmch': 5803, 'chewwaya': 5804, 'tajira': 5805, 'ma3jebatnich': 5806, 'klab': 5807, '5asshom': 5808, 'mzyaan': 5809, 'flmo2assasa': 5810, \"'hey,\": 5811, '9at3in': 5812, 'n7allo': 5813, 'message': 5814, 'kan3lmek,': 5815, 'ttla9a': 5816, 'ltawttor': 5817, 'kayt3llem': 5818, 'bba8a': 5819, 'mnnach': 5820, '5naw': 5821, 'jjayya.': 5822, 'sakhifa': 5823, 'fl2mar': 5824, 'drayfa': 5825, 'hmm,': 5826, 'l5aba': 5827, 'ftiran': 5828, 'ghrib': 5829, 'l3ajaza': 5830, 'chafou': 5831, '7al.': 5832, 'devlopmon': 5833, 'l7dat': 5834, 'chbka': 5835, 'ms2alat': 5836, 'mnha': 5837, 'fo9itt': 5838, 'ta9yidi': 5839, 'modirra': 5840, 'kmelt': 5841, 'tb9a': 5842, 'tanchkrouk': 5843, 'kwiysat': 5844, 'ftonobil': 5845, '9edna': 5846, 'al3ab': 5847, 'lmodifa!': 5848, 'mttaf9': 5849, 'kat9ra': 5850, 'ba3dyatna': 5851, 'fl3mar': 5852, 'ls7ar': 5853, 'ttamarin': 5854, 'mkarfsin': 5855, 'ktbti?': 5856, 'fhemt.': 5857, '7drt': 5858, 'walidik?': 5859, 'khditihom': 5860, 'o9sem': 5861, 'ttelekomond': 5862, 'parachute': 5863, 'anshita.': 5864, 'guelna': 5865, 'lma3loumat': 5866, 'swy3at': 5867, 'ki3jebni': 5868, '5alya': 5869, 'ddara2ib': 5870, 'sat': 5871, 'msowe9': 5872, 'kayjini': 5873, 'lkofitir': 5874, 'isti9bal.': 5875, 'msmoum': 5876, 'm3elem': 5877, '3adi': 5878, 'qsam': 5879, 'ssbt': 5880, 'kan3ebdek': 5881, 'tlbas': 5882, 'dllil': 5883, 'modir': 5884, 'tam': 5885, 'g3od': 5886, 'kan3re9': 5887, 'tkllm': 5888, 'ma3endek': 5889, 'fl3a2ila': 5890, 'ankouno': 5891, 'l7sab': 5892, 'nsito': 5893, 'lkhamja': 5894, 'lkoula': 5895, 'lkanz\"': 5896, 'ma3nedi': 5897, '3yan': 5898, 'fnefss': 5899, 'lista': 5900, 'kayghni': 5901, 'makan3rfch.': 5902, 'joz2': 5903, 'flloun': 5904, 'tchre7': 5905, 'lcrema': 5906, 'achkal': 5907, 'guichet': 5908, 'chmch': 5909, 'ji3anin!': 5910, 'makaychddch': 5911, 'tatkon': 5912, 'katbani': 5913, 'ne9i': 5914, 'maghaysllfonich': 5915, 'l3tech?': 5916, 'komontir': 5917, '3iyan': 5918, 'malakiya': 5919, 'bjojna': 5920, 'supermarche': 5921, 'm9ell9ek?': 5922, 'dki': 5923, '3ta8a': 5924, 't7e9e9': 5925, 'sabon': 5926, 'blmw3id': 5927, 'msawba': 5928, 'ra8oa': 5929, 'lmarathon': 5930, 'lmmaj': 5931, 'ntchowech': 5932, 'lesey': 5933, 'kankr8': 5934, '3lih!': 5935, 'nofoud': 5936, 'youtube': 5937, 'lghalat.': 5938, 'martini': 5939, 'sa7': 5940, 'to9a3': 5941, 'kay3jebna': 5942, 'ssara7a': 5943, 'lbiro': 5944, 'tsawb': 5945, 'la5er': 5946, 'dewwer': 5947, 'kador': 5948, 'ghatn3es?': 5949, 'm3ttlin?': 5950, 't3tina': 5951, 'khasrna': 5952, 'kan9ette3': 5953, '7bes': 5954, 'khwit': 5955, 'ktar?': 5956, 'katsafer': 5957, 'l8odou2': 5958, 'flghda.': 5959, 'lkhdami': 5960, 'kni': 5961, 'jadibiya,': 5962, '3awena': 5963, 'lra2y': 5964, 'tsabt': 5965, 'ndeddo': 5966, 'jerrebt': 5967, 'f9raytek': 5968, 'lparasol': 5969, 'settat': 5970, 'fs5er?': 5971, 'reservatio': 5972, 'tchofi': 5973, 'mo799i9': 5974, 'kantir': 5975, 'sseppor': 5976, 'tkhtari,': 5977, '9tte3': 5978, 'tatst3mlo': 5979, 'fbalk,': 5980, 'ghanghttiw': 5981, 'kat7reg!': 5982, 'katrkeb': 5983, 'drafa': 5984, 'katdahar': 5985, 'dakchi': 5986, 'a8daf': 5987, 'mtb3inhom': 5988, 'mabghitouch': 5989, 'kan9ra': 5990, 's7abli': 5991, 'kmmel': 5992, 'nabki': 5993, 'rra7a': 5994, 'ttbsil': 5995, 'n9lbo': 5996, 'sme7': 5997, 'a3lam': 5998, 'spotify?': 5999, 'mttaf9,': 6000, 'ch8eb': 6001, 't9der': 6002, 'katlhemni': 6003, 'kaytjasas': 6004, 'maki3jbounich': 6005, 'ywellef': 6006, 'kan7awal': 6007, 'tan5tarou': 6008, '7wayjkom': 6009, 'knfddl': 6010, '5ti': 6011, 'nkhrjo': 6012, 'lghwat?': 6013, 'chmen': 6014, 'kaydouz': 6015, 'limon?': 6016, 'mafhmech': 6017, 'hi': 6018, 'kande77ekhom': 6019, 'lihom,': 6020, 'simana': 6021, 'ki3ejbek': 6022, 'nnif': 6023, 'a9l': 6024, 'y3eyyet': 6025, '7dd?': 6026, 'ttrf': 6027, 'skhon?': 6028, '2almanya': 6029, 'motor': 6030, 'makayn?': 6031, 'mnkhouda,': 6032, 'mat2kad': 6033, 'anakom': 6034, 'khayf?': 6035, 'f3a2ila': 6036, 'tamarin': 6037, 'sbat?': 6038, 'mre7ba': 6039, 'kteb': 6040, '5lawna': 6041, 'khassni': 6042, '7e9i': 6043, 'fransa?': 6044, 'zbbala': 6045, 'sma7': 6046, 'ndwwro': 6047, 'kankhellet': 6048, 'l2atlas': 6049, 'msafrin': 6050, 'makatd7ekch?': 6051, 'mblani': 6052, 'katjrrb,': 6053, 'fl7it': 6054, 'a': 6055, 'tddi8om': 6056, 'stage': 6057, '5rjou': 6058, 'ktabk?': 6059, 'mreffe7': 6060, 'l7efla,': 6061, 'kay2eter': 6062, 'ilti8ab': 6063, 'alkarta.': 6064, 'l7outa': 6065, 'mesra7': 6066, '-khessni': 6067, '9ddem': 6068, 'twabi9': 6069, 'rrosol': 6070, '7wayjna': 6071, 'likatbghi': 6072, 'scallops.': 6073, 'hadche': 6074, 'mr7ba.': 6075, 'ssyasa': 6076, '9yydtha,': 6077, 'jadid': 6078, 'i3tida2': 6079, 'beyda': 6080, 'bladkom': 6081, 'kaylomo': 6082, 'gadd': 6083, 'kobchlaba9ich': 6084, '7lef': 6085, 'ma3amri': 6086, '9lil': 6087, 'tmchiw': 6088, 'b7la': 6089, 'tchark': 6090, 'kanrta7,': 6091, 'lamkla': 6092, 'haka': 6093, '7da8': 6094, 'lmosi9a?': 6095, 'matmchi': 6096, 'fbotola': 6097, 'ttlatin': 6098, 'tzid': 6099, 'l9issm': 6100, 'bdabt?': 6101, 'mosi9ia': 6102, '3redti': 6103, 'l3ilaj': 6104, '3ndna': 6105, 'kaymchi': 6106, 'l7yota': 6107, 'khayeb': 6108, 'ghatzewej': 6109, 'flplilantiyat': 6110, 'kan3ta9ad': 6111, 'lmamrat': 6112, 'l2aghani': 6113, 'modirin': 6114, 'so9i': 6115, 'masma3tch': 6116, 'bssekkar': 6117, '7asab': 6118, 'ttinis?': 6119, 'n9rah,': 6120, 'ngoulik': 6121, 'mdrassa': 6122, 'kankre8': 6123, 'fdi7a': 6124, 'ykhrj': 6125, 'myyek': 6126, 'o3ndha': 6127, 'a5er?': 6128, 'tzoud': 6129, 'makayajich': 6130, 'desserat': 6131, 'kaykhliwk': 6132, 'kanwffro': 6133, 'ittisalat': 6134, 'tkhser': 6135, 'mnghir': 6136, 'kan9sad': 6137, 'chamal': 6138, 'pikala.': 6139, 'mskina,': 6140, 's7i7a': 6141, 'chji3a': 6142, 'nsed3ek': 6143, 'mamzyaninch': 6144, 'sendala': 6145, 'la5ra': 6146, 'rtaf3at': 6147, 'n3tik': 6148, 'l3am': 6149, 'l7alat': 6150, 'fink': 6151, 'nb33do': 6152, 'nrkkzo': 6153, 'tsla7ha': 6154, 'chrit': 6155, '7adi9at': 6156, 'lbant': 6157, 'as5af': 6158, 'la7': 6159, 'bllati...': 6160, 'ml7a': 6161, 'ghankhelli': 6162, 'yselliw': 6163, 'twil?': 6164, 'lyoga': 6165, 'britani': 6166, '3eyyet': 6167, 'ltej': 6168, 'nta7rat': 6169, 'ji': 6170, '7issa': 6171, 'nsawboh': 6172, 'matwatar': 6173, '7chmatek': 6174, 'chnou': 6175, 'nkhdmo': 6176, 'ti99en': 6177, 'katswwelni': 6178, 'mosiba': 6179, 'mnach': 6180, 'bellati': 6181, '10:30': 6182, 'kan3es': 6183, 'tghyir': 6184, 'nss': 6185, 'kidazt': 6186, 'nachet.': 6187, 'b9aw': 6188, 'bou7di': 6189, 'kay3jbni': 6190, 'n3icho': 6191, 'hamdolilah': 6192, 'kikan': 6193, 'risala': 6194, 'mateka': 6195, 'llo3ba!': 6196, 'dar!': 6197, 'mer7ba,': 6198, 'kaydewwech': 6199, 'film': 6200, 'lmliar': 6201, '9ll9sm': 6202, 'wijha': 6203, 'flmorja3a': 6204, 'n3eyt': 6205, 'nfham': 6206, 'baslin': 6207, 'hassan': 6208, 'lmohimin': 6209, 'adulte': 6210, 'maghankhllich': 6211, 'wmaticha': 6212, 'choukran,': 6213, 'fekkertini,': 6214, 'kan3ref': 6215, 'lmo7akama': 6216, 'mo9rach': 6217, 't8der': 6218, 'kifack': 6219, 'ytferrj': 6220, 'waz': 6221, '3a9lin': 6222, 'njerreb': 6223, 'chftk,': 6224, 'maymkench!': 6225, 'bidaya': 6226, '3an': 6227, 'les': 6228, '3ziz': 6229, 'ysaybo': 6230, 'y3emerha': 6231, 'flwer9a': 6232, 'dentiste': 6233, 'ftorek?': 6234, 'nnjoum.': 6235, 'lwa7ida': 6236, 'iwa': 6237, 'lurgence': 6238, '5antferej': 6239, 'jow': 6240, 'satre': 6241, 'kamal': 6242, 'achman': 6243, 'mohimma': 6244, 'flmdiba,': 6245, 'imkan': 6246, 'nkhesrek': 6247, 'mdina': 6248, 'whach': 6249, 'mirikanya': 6250, '3awntini': 6251, 'cream': 6252, 'ddrs': 6253, 'jism': 6254, 'nsarraf?': 6255, 'twadart': 6256, '5ayf': 6257, 't3llm': 6258, 'makan3rfch': 6259, 'ha': 6260, 'lcontrattack': 6261, 'tnach': 6262, 'ljtima3i': 6263, 'nna7ia,': 6264, 'tayaran.': 6265, 'de9tha.': 6266, 'msa7bin': 6267, 'lfya9': 6268, 'tahdar': 6269, 'tbi3hom': 6270, 'makaykonch': 6271, 'sakna': 6272, 'matpanikich': 6273, \"'sa7bi'\": 6274, 'mnedem': 6275, 'lftour': 6276, 'bchchwiyya': 6277, 'ntfahmou': 6278, 'maymknch': 6279, 'smya': 6280, '3la...': 6281, 'lkhitab': 6282, 'sbagha': 6283, 'jenb': 6284, 'l9ont': 6285, '9ouza7': 6286, 'reservi': 6287, '7add': 6288, 'l2i7timalat': 6289, 'kay3ta9d': 6290, 'le9ta': 6291, 'lwe7da': 6292, 'wrat': 6293, 'khod': 6294, 'maswet': 6295, 'ma3alim': 6296, 'i8bat': 6297, 'wlad': 6298, 'ji8tek': 6299, 'nabid': 6300, 'ntoma?': 6301, 'chri3': 6302, 'tferrej': 6303, 'taghayor': 6304, 'y9edrou': 6305, 'momillin': 6306, 'hdarthom,': 6307, 'mar7ba': 6308, 'kanadan': 6309, 'lma?': 6310, '3mrhoum': 6311, 'tdd9ay9': 6312, '8a': 6313, 'chftak!': 6314, 'ljew': 6315, 'ghaykounou': 6316, 'naklou?': 6317, 'todderna': 6318, 'l7tta': 6319, 'mfere9': 6320, 'nfakhat': 6321, 'l8indiyya': 6322, 'mat7tajch': 6323, 'nsla7': 6324, 'yste8el': 6325, 't3ayet': 6326, 'ssalat': 6327, 'kafia': 6328, 'i7sal': 6329, 'amricano?': 6330, 'l98wi': 6331, 'chakhsiyan': 6332, 'korsi': 6333, 'lmghrib': 6334, 'stamta3': 6335, 'lppissi': 6336, '3awedna': 6337, 'kan9olo': 6338, 'kayaklo': 6339, 'llekhkher': 6340, 'f7yatek': 6341, 'n7tafad': 6342, 'bghiti.': 6343, '3emi': 6344, 'katchark': 6345, 'tkoni': 6346, 'kayknniw': 6347, 'lbasket': 6348, 'jjerda': 6349, 'blfi3l!': 6350, 'lesse9': 6351, 'n8ajer': 6352, 'vanilla': 6353, 'tma': 6354, '3ndna!': 6355, 'lnew': 6356, 'b9a,': 6357, 'tabi3t': 6358, 'aw9at': 6359, '9imroun': 6360, 'fdkchi': 6361, 'sghar': 6362, 'kathdro': 6363, 'mzyana,': 6364, 'n9ddem': 6365, 'jari': 6366, 'tayballia': 6367, 'sohoula': 6368, 'ferre7ni': 6369, 'sarbina': 6370, 'chebka': 6371, 'maths?': 6372, 't7mass': 6373, 'kan3e99em': 6374, 'l2adawat': 6375, 'ndwzou': 6376, 'tgadd.': 6377, 'dyalo': 6378, 'talabat': 6379, 'chek!': 6380, 'loronj': 6381, 'l5arim': 6382, 'kayb9aw': 6383, 'ml3oba': 6384, 'tl7ari9': 6385, 'ljow': 6386, 'klit': 6387, 'l3otla': 6388, 'kaytflaw': 6389, 'nn3so': 6390, '2i3ada': 6391, 'mnfa3a': 6392, 'kansawbo': 6393, 'nsedde9': 6394, 'wa9thoum': 6395, 'momkin.': 6396, 'makrhtch': 6397, 'kay7emm9o': 6398, '39li': 6399, 'khayfa': 6400, 'bghi': 6401, 'safer': 6402, 'ghadyin?': 6403, 'l3ilmi': 6404, 'll3wer': 6405, 'khwadri': 6406, 'fdarkom': 6407, 'lwifi?': 6408, '3lihom': 6409, 'jjiha?': 6410, 'olwa9t': 6411, 'aykhasak': 6412, 'zwinin,': 6413, 'taksi': 6414, 'l2a5ani': 6415, 'ddjin,tichourt': 6416, 'sba7!': 6417, 'kayt3awd': 6418, 'kaychofo': 6419, 'chakour': 6420, 'kan7ass': 6421, 'lcream': 6422, 'chefnak.': 6423, '8aa': 6424, 'l7am': 6425, 'lmodo3': 6426, 'khouya,': 6427, 'mat5yelti': 6428, 'manb9awch': 6429, 'sso3oba': 6430, 'o,': 6431, '3l': 6432, 'matsifthomch': 6433, 'gollia': 6434, '7fla': 6435, 'lma7alat': 6436, 'makeltek': 6437, 'chokran!': 6438, 'mara7abch': 6439, '9amija': 6440, 'khoutta': 6441, 'nchrbha': 6442, 'wagf': 6443, 'bira?': 6444, 'soukaina': 6445, 'tw993o': 6446, 'mamtw93ach': 6447, 'natbat': 6448, 'sartre': 6449, 'ta9a': 6450, 'jay,': 6451, 'tay9ddmo': 6452, 'orb3': 6453, 'serf': 6454, 'maticha': 6455, 'monasiba?': 6456, 'chmandar?': 6457, 'll8awia': 6458, 'msno3': 6459, 'ntmchcha': 6460, 'l3ajil.': 6461, 'diali': 6462, 'bsla': 6463, 'jemhour': 6464, 'flpartma!': 6465, 'ma3mrni': 6466, 'tyab?': 6467, '8derti': 6468, 'kikat7ess': 6469, 'klassour': 6470, '7eyyed': 6471, '/': 6472, 'sttati,': 6473, 'nt8dden?': 6474, 'tta9wim': 6475, 'lfilm': 6476, 'gin': 6477, 'ljeww?': 6478, 'kidewzou': 6479, 'm9elle9': 6480, 't8dri': 6481, 'nba8rt': 6482, 'kter': 6483, 'ka3oumou': 6484, '3afak.': 6485, '7ajat': 6486, '3imartna': 6487, 'kra8t': 6488, 'isti9bal': 6489, 'amyal': 6490, 'machro3': 6491, 'kadwi': 6492, 'mchtoun': 6493, '5lat': 6494, 'lteybou': 6495, 'tlmid': 6496, 'kata5oud': 6497, 'goud': 6498, 'lbatl': 6499, 'lkhdr,': 6500, 'bno3': 6501, '7enkou': 6502, 'lmktaaba': 6503, 'kan9ef9ef': 6504, 'kat9dri': 6505, 'ssella.': 6506, 'mala7dti': 6507, 'kateyyeb': 6508, 'gnawa,': 6509, 'l7afla?': 6510, 'makat7mlch': 6511, '7rgto': 6512, 'kaystresse': 6513, 'sm3i,': 6514, 'nakhod': 6515, 'lmoghaniyin?': 6516, 'ijtima3iya?': 6517, 'khlli8a': 6518, 'm5alet,': 6519, 'cha5ssi': 6520, 'mamennekch': 6521, 'ada7ak': 6522, 'ldwayer': 6523, 'ssot': 6524, 'khadma': 6525, 'kand7ek': 6526, 'fil': 6527, 'y7as': 6528, 'tazaj,': 6529, 'lkrafs,': 6530, 'n5eless': 6531, 'masra7iya': 6532, 'julian?': 6533, 'w9ita': 6534, 'l7adir': 6535, 'benn8ar': 6536, 'makansbeghch': 6537, 'nt7arko': 6538, 'ssarout': 6539, 'tteb9a': 6540, 'wad7in.': 6541, 'wassia': 6542, 'sebba3at!': 6543, 'tmarki': 6544, 'w9e3,': 6545, '9tel': 6546, 'l7fla': 6547, 'jehdo': 6548, 'serwalou': 6549, 'likayban': 6550, 'njbed': 6551, 'decor': 6552, 'maradich': 6553, 'batfhm': 6554, 'lkswa': 6555, 'ma3loma': 6556, 'makaybtasemch': 6557, 'fraso': 6558, 'tolotsa3a': 6559, 'katsawb': 6560, 'nchoufouk!': 6561, 'mzyanin?': 6562, 'isrbiwni': 6563, 'flgaraj': 6564, 'khasshom': 6565, 'lmas3ad': 6566, 'jjarda?': 6567, 'wrrekt': 6568, 'lbesla': 6569, 'tanz': 6570, 'ghandir?': 6571, 'tyab': 6572, '9witi': 6573, 'khaybin!': 6574, 'tti9ar': 6575, 'sport?': 6576, 'makanbghich': 6577, 'lhnoud.': 6578, '7asla': 6579, 'gharib!': 6580, 'cheft8a': 6581, 'bazaf': 6582, 'matnsawch,': 6583, 'kadiri': 6584, 'a9t': 6585, 'mo7rij': 6586, '7emmer': 6587, 'itl3ou': 6588, 'bohdak': 6589, 'lbsti': 6590, 'fchta': 6591, 'fssa3a?': 6592, 'ntsellef': 6593, 'ytmcha': 6594, 'maa': 6595, 'nebdaw': 6596, 'ntsat7o': 6597, 'mn7ous': 6598, 'li7ma9': 6599, 'm9loub.': 6600, 'ghan8dro': 6601, 'chicago': 6602, 'nasi7a': 6603, 'kbar': 6604, 'sddit': 6605, '8annina': 6606, 'mti99en!': 6607, '7a9i9a': 6608, 'lahoa3lam': 6609, 'zbal': 6610, 'htta': 6611, 'ntalbo': 6612, '7assa': 6613, 'zlafa': 6614, 'ghladiti': 6615, 'mostach': 6616, 'kanchakk': 6617, 'l9dd': 6618, 'lkhir!': 6619, 'm3aa': 6620, 'ana,bsnan': 6621, 'lbare7?': 6622, 'u': 6623, 's7ara': 6624, 'choklat': 6625, 'bo7dna?': 6626, '9edou': 6627, 'chfnak': 6628, 'l5barat': 6629, 'kan9admoha,': 6630, 'lkhayb': 6631, '3afak?': 6632, 'lmonakh': 6633, 'jrreb': 6634, 'tobiss': 6635, 'achanhiya': 6636, 'lm3da': 6637, 'makanmchich': 6638, 'rteb': 6639, 'kay9ette3': 6640, 'l7anot': 6641, 't9dert': 6642, 'njibo': 6643, 'marche': 6644, 'l9asa7': 6645, 'lma3da': 6646, '5altha': 6647, 'bġit': 6648, 'mode': 6649, 'lbyad?': 6650, 'ntoma': 6651, 'tti9nia': 6652, 'lfr9a': 6653, 'monaasaba': 6654, 'ma3emro': 6655, 'cousina,': 6656, 'lmaryo': 6657, 'khsrat': 6658, 'ssrwal': 6659, 'ncmhiw': 6660, 'l7em!': 6661, 'o': 6662, 'akhona': 6663, 'magddinach': 6664, 'huma': 6665, 'lel7efla': 6666, 'koka.': 6667, 'makay3jbnich': 6668, 'kanstemte3': 6669, '3ilaj': 6670, 'yberztek': 6671, 'wakha?': 6672, 'ras8om': 6673, 'kaza': 6674, 'ssac': 6675, 'matant7rrkoch.': 6676, 'ntba3': 6677, 'tmchcha': 6678, 'i9dder': 6679, 'mar7aban': 6680, 'makadir': 6681, '7ayawn': 6682, 'f3mrek': 6683, 'lmi3maria': 6684, 'tarkha': 6685, 'a8lan': 6686, 'fih?': 6687, 'iliktroniya': 6688, 'khir,': 6689, 'kantl3': 6690, 'kandwiw': 6691, 'daght?': 6692, 'saf9a': 6693, 'kolliya': 6694, 'lalla,': 6695, 'wyak': 6696, 'fkkar': 6697, '2aflam': 6698, '7daha': 6699, 't9ddmni': 6700, 'tazyin': 6701, 'aktar': 6702, 'sbe7ti?': 6703, 'tahoa.': 6704, 'tddi': 6705, 'kadderek.': 6706, 'n7awlo,': 6707, 'chrab...': 6708, 'le5er': 6709, 'l2aw9at': 6710, 'annakhod': 6711, 'fwe9tek': 6712, 'katkhlina': 6713, 'lmawadi3': 6714, 'kayn!': 6715, 'kmmelti': 6716, 'wldek': 6717, 'isawb': 6718, 's7i7a!': 6719, 'nddem': 6720, 'oli': 6721, 'kaykhatto': 6722, 'mdina?': 6723, 'tchfer': 6724, 'nwsl.': 6725, 'lrasak': 6726, 'daniels.': 6727, 'ghandoz': 6728, 'kayt7rrek': 6729, 'fdar': 6730, 'rtifa3': 6731, 'laa!': 6732, 'kimya2iya': 6733, 'anisa,': 6734, 'drief,': 6735, 'tti7': 6736, 'finmma': 6737, 'lfrmasyan': 6738, 'kamlo?': 6739, '7o9o9': 6740, 'mansitkch': 6741, 'chafti': 6742, 'jtam3to?': 6743, 'l7mr': 6744, 'mat9ll9ch,': 6745, 'ofat': 6746, 'n8ezzek': 6747, 't7etiti': 6748, 'dialhom': 6749, 'lchara2i7': 6750, 'lglis': 6751, 'lwit': 6752, 'bsawt': 6753, 'chokouk': 6754, '3yalat': 6755, 'l9tira7': 6756, 'fetra': 6757, 'tsawal': 6758, 'tkharbiq': 6759, 'fjenb': 6760, 'tarikhk': 6761, 'jrra': 6762, 'kay7k': 6763, 'tinnis': 6764, 'fl9arib': 6765, 'bi5ir': 6766, 'bi8': 6767, 's5un': 6768, 'lmes2ouliyya': 6769, 'makay3awnch': 6770, 'jeghma': 6771, 'l7amam.': 6772, 'tab3': 6773, 'larba3': 6774, 'fakkerni': 6775, 'merta7': 6776, 'fl3la9': 6777, 'l9sirat': 6778, 'trat': 6779, 'l3ers?': 6780, 'twe99e3t': 6781, 'lhoujoum': 6782, 'dyalha': 6783, 'ghzal.': 6784, 'nchark': 6785, 'be3edt': 6786, 'bghaw': 6787, 'kayl3b': 6788, 'stira7a': 6789, 'bzef...': 6790, 'amina?': 6791, 'mhewya': 6792, 'slam': 6793, 'tbe3na': 6794, 'lparc': 6795, 'yblani': 6796, 'sswaye3': 6797, '9er3a': 6798, '39elt': 6799, 'meghrib': 6800, 'blmar9a': 6801, 'crtat': 6802, 'bakri': 6803, '7afl': 6804, 'bezzerba': 6805, 'douaa,': 6806, 'kayzar3o': 6807, 'oma3a': 6808, 'l7alwa,': 6809, 'tyyara?': 6810, 'lbondou9iyya': 6811, '7wayj': 6812, 'matn3esch': 6813, 'jawab': 6814, 'tsayb': 6815, 'ssa3oudiya': 6816, 'ghai': 6817, 'tbghi': 6818, 'kant5les': 6819, 'rta7': 6820, 'bhadchi': 6821, 'zwina,': 6822, 'ghaytghlaw': 6823, 'ttarikh': 6824, 'lbrhouch': 6825, 'menno': 6826, 'tot': 6827, 'ktir': 6828, '9wiyya': 6829, 'fatna': 6830, 'l3ziza': 6831, 'mana5oud': 6832, 'la3b': 6833, 'tanfkker': 6834, '3amal': 6835, 'me3rouf': 6836, 'jjouj': 6837, 'serbi': 6838, 'ma9drtch': 6839, 'marcel,': 6840, 'zwina?\"': 6841, 'bddaroura': 6842, 'katbghi': 6843, 'koulni': 6844, 'ttakoul8a': 6845, 'momil': 6846, 'dawa3i': 6847, 'bz9oul': 6848, 'bmachakil': 6849, 't3awnak': 6850, 'maytin,': 6851, 'li8a': 6852, 'chnahoa?': 6853, 'wlit': 6854, 'ghdda': 6855, 'lpc': 6856, 'etage': 6857, 'nchri': 6858, 'khotta': 6859, 'l2a7wal': 6860, 'njarbo': 6861, 'lmatch?!': 6862, 'z3ma,': 6863, 'kalbak': 6864, 'l2ikhtiyyar': 6865, '3lihom?': 6866, 'lay7fdk': 6867, 'tfou,': 6868, 'ddaght': 6869, 'kaydowwer?': 6870, '3lach?': 6871, 'makaychedch': 6872, 'dowwez': 6873, 'ma9ribach': 6874, 'matkhafch': 6875, 'mtcharrfin': 6876, 'kay9raw?': 6877, 'hadi!': 6878, 'mtewe3': 6879, 'mori7in': 6880, 'ghsel': 6881, 'lgraffouz': 6882, 'miladi,': 6883, 'lghsil': 6884, 'l9ararat': 6885, 'matji': 6886, 'mahzzitch': 6887, '8ani': 6888, 'paul': 6889, 'dialk?': 6890, 'nnmer': 6891, 'fl2makin': 6892, 'nsber': 6893, 'matskhkhench': 6894, 'wednik': 6895, 'ghanrje3': 6896, 'nttasel': 6897, 'kharj.': 6898, 'nt3cha': 6899, '5ayriy': 6900, 'kihemek': 6901, 'ahlan!': 6902, 'l9niyat': 6903, 'nmartak': 6904, 'romassi': 6905, 'nberdo': 6906, 'onchofak': 6907, 't3awed': 6908, 'ntmtt3o': 6909, 'mkhlo9at': 6910, 'tfarnisa': 6911, 'stress': 6912, 'wa7d': 6913, 'nrjj3o': 6914, 'trja3': 6915, 'ri7to': 6916, 'lnjoum': 6917, 'thala': 6918, 'tb3ni': 6919, 'kay9dro': 6920, 'lmouchri9': 6921, 'lmousnaada': 6922, 'achef,': 6923, 'lmama': 6924, 'okhososan': 6925, 'mosaba9a': 6926, 'chrika': 6927, 'kanteleporta': 6928, 'darni': 6929, 'gddab': 6930, 'lisr': 6931, 'sma7li!': 6932, 'fsfer?': 6933, 'maydozch': 6934, 'chddato': 6935, 'ghatbda': 6936, 'kan7athom': 6937, 'tayballik': 6938, 'tkoun': 6939, 'man9adroch': 6940, 'mtabe3': 6941, '3mar': 6942, 'wsafi': 6943, 'mokalamat': 6944, 'chwiya,': 6945, 'bila': 6946, 'kaydozo': 6947, '3andak,': 6948, 'kniyat': 6949, 'khdmti.': 6950, 'lassanssour': 6951, 'l7a9i9ia?': 6952, 'fblasa': 6953, 'blfi3l': 6954, 'kiban': 6955, 'makadirch': 6956, 'l2amar': 6957, 'mkalmi.': 6958, 'masafrti': 6959, 'tlfaza.': 6960, 'lnti9ad': 6961, 'lba9i': 6962, 'ddkora': 6963, 'mt2ekked?': 6964, 'maria!': 6965, 'flminta9a': 6966, 'kaydor': 6967, 'lma3ez': 6968, 'mozdawaja?': 6969, 'flkhdma': 6970, 'mfrg3!': 6971, 'maswaltoch': 6972, 'makay8emnich': 6973, 'lkalb': 6974, 'l2a3mal': 6975, 'kafia.': 6976, 'ta9yim': 6977, 'rrechwa': 6978, 'l7amd!': 6979, 'tlat': 6980, 'l9yas': 6981, 'khizo': 6982, '8naya.': 6983, 'ppisin': 6984, 'n5less': 6985, '9echchabto': 6986, 'lkatib': 6987, 'ssmou7at': 6988, 'kay7taj': 6989, 'frisbee': 6990, 'f3a9lak': 6991, 'ljadid': 6992, 'kankono': 6993, 'l3asir': 6994, 'ykhesser': 6995, 'lktouba': 6996, 'lmosi9a!': 6997, '7erb?': 6998, 'kijbk': 6999, '3li8a': 7000, '3lia?': 7001, 'mosi9i,': 7002, 'btata.': 7003, 'tri9na,': 7004, 'kanakhd': 7005, 'khasra': 7006, 'lblayss': 7007, 'kaykon': 7008, 'l9niyyat': 7009, 'tchad': 7010, '8rres': 7011, 'kan3erfouch': 7012, 'mihna': 7013, 'm3ana?': 7014, 'ewa?': 7015, 's9et': 7016, 'ntfekrou': 7017, 'lmadarib': 7018, 'ghatkon': 7019, 'lyoma?': 7020, 'chella': 7021, '9ette3': 7022, 'dama': 7023, 'lmakla?': 7024, 'likhas': 7025, 'mel7a': 7026, 'nokta.': 7027, 'te3ni9a': 7028, 'n8dr': 7029, 'm3a8': 7030, 'yt3almo': 7031, 'lwje8': 7032, 'lkoumisariyya?': 7033, 'mebrouk': 7034, 'makankhaf': 7035, 'magana': 7036, 'chou8a!': 7037, '7mra': 7038, 'bramla': 7039, 'khirek': 7040, 'de3f': 7041, 'chfti,': 7042, 'mori7': 7043, 'waw': 7044, 'tnedem': 7045, 'ra2isia': 7046, 'tfre9t': 7047, 'l2asasiya': 7048, 'matf8emnich': 7049, 'mkhllsa': 7050, 'klamk': 7051, 'tsakhen': 7052, 'lkhedma': 7053, 'mskin': 7054, 'ikhrj': 7055, 'jardinyi': 7056, 'ima': 7057, 'lmachrobat,': 7058, 'inna': 7059, 'we9tek': 7060, 'rendez': 7061, 't9dda': 7062, 'lmatar': 7063, 'saket': 7064, 'makay7tajch': 7065, 'jjna7': 7066, 'tstmte3': 7067, 'makankhdmch': 7068, 'iwssl': 7069, 'obttab3': 7070, '3ndhom': 7071, 'dars': 7072, 'itjnnbo': 7073, 'kaml!!': 7074, 'tathder': 7075, 'nrj3o?': 7076, 'nsowwlo': 7077, 'tnf3na': 7078, 'bawsala?': 7079, 'jawbatek': 7080, '3ajbna': 7081, 'n3awdo': 7082, 'mo7ami?': 7083, 'mjhhed.': 7084, 'meblanin': 7085, 'kan7lem': 7086, 'sehran': 7087, 'lberd': 7088, 'tbadal': 7089, 'ghayntahi': 7090, 'mal9itoch': 7091, 'taliba': 7092, 'l8oudou2': 7093, 'lmajlis,': 7094, 'djaj': 7095, 'ma3emerek': 7096, 'trisyan': 7097, 'souppirmarchi': 7098, 'nwjad': 7099, 'lmohim,': 7100, 'n3tiwha': 7101, '5atar': 7102, 'maliar': 7103, '3omrek': 7104, 'kan9tare7': 7105, 'lga3': 7106, 'khabit': 7107, 'matfata7,': 7108, 'nbki': 7109, 'nti7ari,': 7110, 'ssansour,': 7111, 'nsali,': 7112, 'ppil.': 7113, 'haja': 7114, 'khachabi': 7115, 'charaf': 7116, 'ta7': 7117, 'swlti': 7118, 'chekhsiyyan': 7119, 'charef': 7120, '9sir': 7121, 'n7et': 7122, 'tabghiha': 7123, 'magal': 7124, 'ina9ch': 7125, 'mo8aymanin': 7126, 'sidi!': 7127, 'mmi': 7128, 'ttndim,': 7129, 'ikhssna': 7130, 'ya': 7131, 'ghatsafer': 7132, 'chkrat': 7133, 'blanat': 7134, 'aykhasna': 7135, 'nsam3k': 7136, 'ankhki': 7137, 'igollia': 7138, 'ki7r9ouni': 7139, 'serbina': 7140, 'tsana,': 7141, 'manlawoto': 7142, 'khdithom?': 7143, 'katbi3o?': 7144, 'f5demtek': 7145, 'lblabla.': 7146, '7di': 7147, 'kansm3ek': 7148, 'n7arbo': 7149, 't2adi': 7150, 'nkteb': 7151, 'kayt3elem': 7152, 'dyalou': 7153, 'trta7?': 7154, 'makaykhalihch': 7155, 'ttir!': 7156, 'b7alo': 7157, 'dyal...': 7158, 'mjmou3at': 7159, 'ssella': 7160, 'ma7ssen': 7161, 'm3esba': 7162, 'matfrejti': 7163, 'fiha.': 7164, 'kaydowwez': 7165, 'zine,': 7166, 'nr7al': 7167, 'karawasa': 7168, '2ifri9ya': 7169, 'l7issa?': 7170, 'lkawkabna!': 7171, 'kansali': 7172, 'james?': 7173, 'orkistra': 7174, 'brbbochat': 7175, 'lmin9ala': 7176, 'kan7ebbek': 7177, 'kay3awenni': 7178, 'bo7dna': 7179, '9dam': 7180, 'd': 7181, 'kankhalsak': 7182, 'kat3jbk': 7183, 'm3ak,': 7184, 'mod8il!': 7185, 'ttaman': 7186, 'mdegh': 7187, 'lou3ab': 7188, 'tjbed': 7189, 'tsta9bl': 7190, 'maychrbo': 7191, '9ritiha?': 7192, 'lghriba': 7193, 'lbernamej': 7194, 'mabi8ch': 7195, 'haja?': 7196, 'lbarakin': 7197, 'kayhdro': 7198, 's8el': 7199, '3andek': 7200, 'malami7': 7201, 'kijatek': 7202, 'ddkhkhan': 7203, 'kantmnna': 7204, 'chwiya!': 7205, 'onchar7o': 7206, 'ntakka': 7207, 'ntsab9': 7208, 'tbbouzi': 7209, 'west': 7210, 'to93!': 7211, 'llmosi9a,': 7212, 'lclassikia': 7213, 'ykhalih': 7214, '8:00': 7215, '9issa': 7216, 'ra8ib?': 7217, '9rib': 7218, '3andak!': 7219, 'ne7s!': 7220, 'ta3raf': 7221, 'madertch': 7222, 'lpuzzles': 7223, 'takhdhom?': 7224, 'mo8rrij!': 7225, 'kat7mad': 7226, 'lbagri': 7227, 'tmaninat,': 7228, 'simana.': 7229, 'lgleb': 7230, 'lwer9a': 7231, 'katbddel': 7232, 'tab3an,': 7233, 'lihoum': 7234, 'fmo7akama?': 7235, 'derouni': 7236, 'komik': 7237, 'sou2al': 7238, 'chi7aja': 7239, 'ajjayya': 7240, 'nda9o': 7241, '3ndo.': 7242, 'ma3jbatnich': 7243, 'kay7taflo': 7244, 'mawdo3': 7245, 'litajat': 7246, '7ttal': 7247, 'kbira': 7248, 'l9ar3a!': 7249, 'likatban': 7250, 's3ib!': 7251, 'katkhafi': 7252, 'l9ahwa?': 7253, 'him': 7254, 'kanfekker': 7255, 'saken': 7256, 'wahd,': 7257, 'lmotor': 7258, 'cheffar': 7259, 'bdebt': 7260, 'achkhas': 7261, 'threb': 7262, 'ro7': 7263, '3endkom': 7264, 'khoudou': 7265, 'khddama': 7266, 'hippy': 7267, 'kayakl': 7268, 'frran': 7269, 'nkhllso': 7270, 'lfondo9': 7271, 'trad': 7272, 'ghdban': 7273, 'lghaba.': 7274, 'yf8em': 7275, 'y3ich': 7276, 'l7mad?': 7277, 'nhar,': 7278, 'mrewwen': 7279, 'ftyab': 7280, 'tadakir': 7281, 'kat3amel': 7282, 'tchof': 7283, 'ndirha.': 7284, 'lmouhima': 7285, 'kamla!': 7286, 'mars': 7287, 'lma2wa': 7288, 'tand7ko': 7289, 'motir.': 7290, 'kanfre7': 7291, 'makra8tch': 7292, 'talawot?': 7293, 'njma3': 7294, 'ghatkoun': 7295, 'makla!': 7296, 'mo3alim': 7297, 'hahoa,': 7298, 'kansayb': 7299, 'tankhdm': 7300, 'fzegt': 7301, 'nrja3!': 7302, '9ll3na,': 7303, 'nrmi': 7304, 'ghay3tina': 7305, 'ssabab': 7306, 'l2amad': 7307, 'commandi': 7308, 'asdi9a2': 7309, 'klma': 7310, 'nktachfo': 7311, '3reft': 7312, 'howa...': 7313, 'gallia': 7314, '9ar3at': 7315, 'olt7t': 7316, '3arfo': 7317, 'n3awnk': 7318, 'jatek': 7319, 'm3akom': 7320, 'ssif': 7321, 'flkhallat?': 7322, 'ro9': 7323, 'chetranj': 7324, 'l2a7san': 7325, 'walaysa': 7326, 'tterte9': 7327, 'darkom': 7328, 'lkhalis,': 7329, 'tzorni': 7330, 'kadan': 7331, 'kat7lam': 7332, 'll3iba': 7333, 'tkber': 7334, 'nsift': 7335, 'katba3ad': 7336, '3cha': 7337, 'snan': 7338, 'kayt9ette3': 7339, 'l2asaf': 7340, 'katre33ed,': 7341, 'kifmab7alma8okdaya': 7342, 'lwifi': 7343, 'swa': 7344, 'man9issou': 7345, '9imtek': 7346, 'n7ila': 7347, '5ay3jbohom': 7348, 'msafra': 7349, 'mowadafin': 7350, 'lma7ata': 7351, 'tnguer': 7352, 'salam,': 7353, 'tswirtek?': 7354, 'jrrebto': 7355, 'ma3nd8a': 7356, 'ychouf': 7357, 'l7efla': 7358, 'email': 7359, 'kiselmou': 7360, 'howa': 7361, 'mwdou3': 7362, 'm9adarch': 7363, 'kolkom': 7364, 'lmafrod': 7365, 's5on': 7366, 'b3d.': 7367, 'njm3ou': 7368, 'l3etsa': 7369, 'lwahd': 7370, 'masadir': 7371, 'tsennani': 7372, 'mra.': 7373, 'kan39el': 7374, 'b9ina': 7375, 'oghadi': 7376, 'b7al.': 7377, 'tslam': 7378, 'drtih': 7379, 'limon': 7380, 'lmout': 7381, 'l9it': 7382, 'fr9ti': 7383, 'kan3icho': 7384, 'aykhso': 7385, 'tangol': 7386, 'jari.': 7387, 'nzerbou': 7388, 'brassek': 7389, 'kaychjj3ouk?': 7390, 'sa3at': 7391, 'ljanobiya?': 7392, 'ndadro': 7393, '7rirti': 7394, 'ayam': 7395, '8wa': 7396, 'ni9ach.': 7397, 'nttred': 7398, 'swarti': 7399, 'masme3tekch': 7400, 'tayara.': 7401, 'l7bbat': 7402, 'kanakoul': 7403, 'bra7a': 7404, 'kat9sed': 7405, 'flbab': 7406, '9riba?': 7407, 'shta': 7408, 'chamch,': 7409, 'makandennch': 7410, 't3oum?': 7411, 'doujanbir': 7412, '3lah': 7413, 'ouch!': 7414, 'lbirka?': 7415, 'o9tmma': 7416, 'nkhlls': 7417, 'oktobr': 7418, 'matan7essch': 7419, 'b8odo2': 7420, 'flous8a': 7421, 'a7,': 7422, 'merrakch': 7423, 'nobt8om': 7424, 'katden': 7425, 'ayah,': 7426, 'wach': 7427, 'facebook': 7428, 't9ddam?': 7429, 'a5rin': 7430, 'makan2amen': 7431, 'lbsla?': 7432, 'kafi?': 7433, 'darb': 7434, 'arrossoum.': 7435, 'khayb,': 7436, 'kaytam2an': 7437, 'wech': 7438, 't9adri': 7439, 'makay3jbhomch': 7440, 'ma3mmr': 7441, 'w93at?': 7442, 'lloughat': 7443, 'nobtek': 7444, 'baba8': 7445, 'l9a': 7446, '5ask': 7447, 'fre7t': 7448, 'kikatjik': 7449, 'iddik': 7450, 'kanbni': 7451, 'flbiro': 7452, 'ghatjm3': 7453, 'fpremier': 7454, 's3iba!': 7455, 'hadikch.': 7456, 'roz!': 7457, 'm3etel': 7458, 'flbalkon': 7459, 'khllestini': 7460, 'regime': 7461, 'ni3ma': 7462, 'leghta': 7463, '3azzi': 7464, 'lrpdouit': 7465, 'wrrani': 7466, 'a9al': 7467, 'zrri3a': 7468, 'hicham?': 7469, 'rba3': 7470, 'tchemmecht': 7471, 'n3ayto': 7472, 'wahd?!': 7473, 'billa': 7474, 'mchat!': 7475, 'kankhtaro': 7476, 'boutoun': 7477, 'tob': 7478, 'mtll9in': 7479, 'driss': 7480, 'fse5rek': 7481, 'ra7tk': 7482, 'y9ablek.': 7483, 'walo,': 7484, 'ch8or': 7485, 'bricolat': 7486, 'nsrbi': 7487, 'zabda': 7488, 'dmaghi.': 7489, 'wa9ef': 7490, '8na!': 7491, 'hadi.': 7492, 'nbddelha.': 7493, '3la': 7494, 'fl2akhbar': 7495, 'lnasss': 7496, 'galss': 7497, 'nbtazohom': 7498, 'bayt': 7499, 'bou7dou': 7500, 'libot': 7501, 'fsa3at': 7502, 'khdemtk': 7503, 'kad7ak': 7504, 'redlbal': 7505, 'bo7dk,': 7506, 'tyara?': 7507, 'kan7dr': 7508, 'fhamt': 7509, 'kighadi': 7510, 'ichtirakat': 7511, 'chriti': 7512, 'kangoul': 7513, 'fial': 7514, 'mzwja?': 7515, 'byed': 7516, 'tswar': 7517, 'wakha.': 7518, 'faris': 7519, 'saliti': 7520, 'zzmer': 7521, '2akbar': 7522, 'dert8a': 7523, 'maghatchrabch': 7524, 'madaroch': 7525, 't9dim': 7526, 'khddam?': 7527, 'l3aiba': 7528, 'ldik': 7529, 'katch3el': 7530, 'fl2erd': 7531, 'makhadamch': 7532, '9dd': 7533, 'fina8owwa': 7534, 'maghriba,': 7535, 'mantbarzatch': 7536, '9bl': 7537, 'makhellsch': 7538, 'chrif.': 7539, 'kat3essebni': 7540, 'ydir': 7541, 'n3llmk': 7542, 'lfaranci,': 7543, 'okaybano': 7544, 's9ata?': 7545, 'kat7as': 7546, 'fjibi': 7547, 'houdou2': 7548, 'tahiya!': 7549, 'i7rik': 7550, 'm3ahom,': 7551, 'i3wwed': 7552, 'makan7ess': 7553, 'kana5dam': 7554, 'l9hwa': 7555, 'ma3ndkoumch': 7556, 'safya': 7557, 'kayt3arad': 7558, 'ayi': 7559, 'nwafa9': 7560, 'lkouriyya': 7561, 'blad': 7562, 'kijik': 7563, 'mabghitich': 7564, 'domin': 7565, 'amir': 7566, 'bez9ol': 7567, 'supermarchi': 7568, 'trje3': 7569, 'n8aro': 7570, 'l7lwa': 7571, 'lmejmou3': 7572, 'l7ali?': 7573, 'tmenya': 7574, '9sm': 7575, 'smiya': 7576, 'sam3': 7577, 'dyali\"': 7578, 'a7fad': 7579, 'lcookies': 7580, 'makan8derch': 7581, 'msnou3': 7582, 'a9lam': 7583, 'sa3tayn': 7584, 'ltranat': 7585, 'hijrat': 7586, '5ansah': 7587, '3aadatan': 7588, '7aja...': 7589, 'modminin': 7590, 'tamyiz': 7591, 'charfa,': 7592, 'lmondim': 7593, 't9edri': 7594, 'mkteb': 7595, 'tsafirat': 7596, 'tche88it': 7597, 'nnamousiyya': 7598, 'jayyin!': 7599, '8anya': 7600, 'kana': 7601, 'mobachara': 7602, 'tale3': 7603, '3arram': 7604, 'ljjame3': 7605, '9tar7ti': 7606, 'blm39oul': 7607, 'ghantla9a8': 7608, 'katle3': 7609, 'waa9i3i': 7610, 'dryef.': 7611, 'kalb': 7612, 'inchallah': 7613, 'kantsenaw': 7614, 'nsa7ab!': 7615, 'lbi2a': 7616, 'kannakol': 7617, 'l3iwdan': 7618, 'lkappa': 7619, 'ki3jbouna': 7620, 'mojrim!': 7621, 'aghlabya': 7622, 'makaybghi': 7623, 'niha2i': 7624, 'ml7a.': 7625, 'nawa7i': 7626, 'm3owwja': 7627, 'tllaja': 7628, 'dorof': 7629, 'moraha,': 7630, 'kitma': 7631, 'lmolah': 7632, 'gles': 7633, 'nadm': 7634, 'fl9a2ima.': 7635, 'ltizam': 7636, '3titini': 7637, 'mawdo3at': 7638, 'lelmasjid': 7639, 'makatkounch': 7640, 'irmiw8': 7641, 'dyalna,': 7642, 'tatgadd': 7643, 'tzidni': 7644, 'brrad': 7645, 'kaytsalek?': 7646, 'itru': 7647, 'mpressi': 7648, 'cart': 7649, 'deghya': 7650, 'shopping/t9edya': 7651, 'twadrou': 7652, 'siyasia?': 7653, 'fikra': 7654, 'jjellaba': 7655, '9eleb': 7656, 'ki9adou': 7657, 'n3ichhoum': 7658, 'sghar?': 7659, 'm9lle9': 7660, 'fihom': 7661, 'lmagana': 7662, 'fost': 7663, 'ltawdi7': 7664, 'tmma?': 7665, 'lil2ihtimam': 7666, 'waili': 7667, 'tlkhobz': 7668, 'kavyar': 7669, 'nchrob': 7670, 'ila7d': 7671, 'kanhder': 7672, 'kan3rfo,': 7673, 'yjibo': 7674, 'ra2i3': 7675, 'blogha': 7676, 'nadiroh': 7677, 'lmakla!': 7678, 'tghatiha': 7679, 'nkemlou?': 7680, 'tatkhala': 7681, 'kanfeker': 7682, 'drahem': 7683, '3ando': 7684, 'trikkoya?': 7685, 'l2itijah': 7686, 'chal': 7687, 'mawjadtch': 7688, 'na5dou': 7689, 'ma3mmerha': 7690, 'miladek?': 7691, 'tokkelhom': 7692, 'ki3jbk': 7693, 'sstilo': 7694, 'tahia.': 7695, 'ma9rrert': 7696, 'tsawbo': 7697, 'd9ay9!': 7698, 'lblassa': 7699, 'jjrana': 7700, 'kan39l': 7701, '7dd': 7702, 'm': 7703, 'mat7errekch': 7704, \"l'anglais\": 7705, 'l3rg': 7706, 'lyad.': 7707, 'lfkarn': 7708, 'khask,': 7709, 'makhsskch': 7710, 'kay9der': 7711, 'taxi?': 7712, 'l3cha': 7713, 'bnisba': 7714, '2akhir': 7715, 'ttimsa7': 7716, 'tal9ha': 7717, 'was5oun': 7718, '9dach': 7719, 'ghanrkeb': 7720, 'dyalo,': 7721, 'onsombl': 7722, 'niytek,': 7723, 'makankounouch': 7724, 'lfari9': 7725, 'fkker': 7726, 'naklhoum!': 7727, 'lmosajil!': 7728, 'donc': 7729, 'sslogyya': 7730, 'wiski,': 7731, 'lkhadma,': 7732, 'ghayjawbna.': 7733, 'mawdou3,': 7734, 'rappor': 7735, 'chakhsiyan,': 7736, 'lbeznass': 7737, 'llewel': 7738, 'fikra.': 7739, 'flmdina!': 7740, 'nhark?': 7741, 'mocha': 7742, 'lwataniya': 7743, 'amina,': 7744, 'dyalmen': 7745, 'lay7afdak': 7746, 'lmas3ad,': 7747, 'l9sir': 7748, 'l2amr': 7749, 'ntyeb': 7750, 'sa7btk?': 7751, 'lkhdama': 7752, 'kay3ani': 7753, 'l9orsan?': 7754, '2alifa': 7755, 'f8ad': 7756, 'lflsafa': 7757, 'fetna': 7758, '9mecht': 7759, 'mo2amara': 7760, 'tasma3': 7761, 'hdahoum': 7762, '3aliya': 7763, 'ljomla': 7764, 'mala7edt': 7765, 'njik': 7766, 'mazyan!': 7767, 'bchwiya': 7768, 'ihder': 7769, 'ma3riftek': 7770, 'mktaba...': 7771, 'ghalia': 7772, 'takol?': 7773, 'makanakolsh': 7774, 'l9ism': 7775, 'daraja.': 7776, 'bjouj!': 7777, '2islami': 7778, '3lik.': 7779, '3alam': 7780, 'do8on': 7781, 'llowlin': 7782, 'kaysaybo?': 7783, 'lidarti': 7784, 'likankhaf': 7785, 'lmojrimin': 7786, 'kanmout': 7787, 'jay?': 7788, 'tter7.': 7789, 'manga': 7790, 'rosom': 7791, 'ki7taflou': 7792, 'dwzti': 7793, 'lmktab': 7794, 'l2insan': 7795, 'makla?': 7796, '3taw': 7797, 'kay3jbek?': 7798, 'ta7tafd': 7799, 'mnfoukhin': 7800, 'mbrre3.': 7801, 'lya': 7802, 'jbal.': 7803, 'mrekkez': 7804, 'jjay!': 7805, 'tal': 7806, 'litkhdat': 7807, '8drt': 7808, 'dyal8o': 7809, 'tt9acher?': 7810, 'l2a7ya2': 7811, 'ghan7ma9': 7812, '8der': 7813, 'ali': 7814, 'swat': 7815, 'afrad': 7816, 'ghanchouf': 7817, '3amali': 7818, 'kaytferrej': 7819, 'keddab': 7820, 'khaf': 7821, 'galti': 7822, 'wslatou': 7823, 'an': 7824, 'dorat?': 7825, 'nngliz': 7826, 'khas?': 7827, 'monasaba,': 7828, 'lmechkhara': 7829, 'drtha': 7830, 'makad7ekch': 7831, 'khayba?': 7832, 'tghnni!': 7833, 'fahem?': 7834, '3end': 7835, 'ityab': 7836, 'wat9': 7837, 'ltaj': 7838, 'fel': 7839, 'b9iti': 7840, 'heron': 7841, 'kokiz': 7842, 'thlla': 7843, 'zman': 7844, 'ktabk': 7845, 'nkml': 7846, '3chirtha': 7847, 'it9aren': 7848, 'hada?': 7849, 'tlktouba': 7850, 'brassk': 7851, 'l3ayba': 7852, 'brebbi': 7853, 'kswa': 7854, 'nkhdem': 7855, 'syyda,': 7856, 'tkherrejna': 7857, 'm3akw': 7858, 'lb7ar': 7859, 'maya': 7860, 'lmabadi2': 7861, 'mnnkom': 7862, 'lmo7adir': 7863, 'nachat': 7864, 'kanmot': 7865, 'nacht': 7866, 'mafkkrtich': 7867, 'fnn8ar': 7868, 'romansi': 7869, 'l9rjota': 7870, 'mitr': 7871, 'hammam': 7872, 'charb': 7873, 'bzaaf': 7874, 'an9ddmo': 7875, 'ndewzou': 7876, 'chemm': 7877, 'dsnin': 7878, 'kora': 7879, 'lstina3i': 7880, 'kaybriw': 7881, 'andir': 7882, 'ma3awen': 7883, '9alam': 7884, '3andak': 7885, 'lghida2ia.': 7886, 'naje7': 7887, 'idrabat.': 7888, 'anani': 7889, 'katkhrba9,': 7890, 'ga3?': 7891, '9ell': 7892, 'lmonassaba,': 7893, 'liyya?': 7894, 'tlat,': 7895, 'yarbbi,': 7896, 'ta8ia?': 7897, 'maknbghich': 7898, 'nnichan': 7899, 'tomobil,': 7900, 'nzlo': 7901, 'llaroub': 7902, 'bezzaf,': 7903, 'ttelgha': 7904, 'manbrkoch': 7905, '5lini': 7906, 'matghamerch': 7907, 'dweztiha': 7908, 'mafhemtch': 7909, 'olah': 7910, 'likaykhlik': 7911, 'kandnn...': 7912, 'tyyara.': 7913, 'taba9.': 7914, '3awed': 7915, 'matfrej': 7916, 'srbayat': 7917, 'mafemtch': 7918, 'bsa7,': 7919, '12': 7920, 'madaris': 7921, 'mskhskha': 7922, 'makay3awnna': 7923, 'dima.': 7924, 'kantf88em': 7925, 'lfraise': 7926, 'lwez': 7927, 'nwarikom': 7928, 'klb': 7929, 'cheti': 7930, 'robo3': 7931, 'kanel3eb': 7932, '3ma8a': 7933, 'dara2ib': 7934, 'mer7ba.': 7935, 'fer9a': 7936, 'ra8': 7937, 'tfara9ti': 7938, '3ta9!': 7939, 'mab9itch': 7940, 'ba3d': 7941, 'manzidch': 7942, 'mwejed': 7943, 'tilifounk?': 7944, 'lmochkil': 7945, 'kammal,': 7946, 'kheddemti': 7947, 'n7a9e9o': 7948, 'ts3eud': 7949, 'bsa7': 7950, 'ba9yin': 7951, 'kanswel': 7952, 'nakhdo': 7953, 'flbni,': 7954, 'chwiyya?': 7955, 'kay3ejbek': 7956, 'charab': 7957, 'khesni': 7958, 'lhaja.': 7959, 'mnno': 7960, 'blma3icha': 7961, 'sra3': 7962, 'mask': 7963, 'l2adab': 7964, 'zher': 7965, 'lapisin.': 7966, 'ihsan.': 7967, 'sayf': 7968, 'kaykhla3': 7969, 'jebti8a': 7970, 'koulna': 7971, 'ma7sen': 7972, 'l2akhbar?': 7973, 'mesdouda': 7974, '9etta': 7975, 'ma3emerni': 7976, 'w93?': 7977, 'lkhrja?': 7978, '!': 7979, '3ref': 7980, 'liman': 7981, 't3awadi': 7982, 'tania': 7983, 'm9ele9': 7984, 'akhor?': 7985, 'mjbbed': 7986, 'l3chiya': 7987, 'makaynin': 7988, 'nteyye9': 7989, 'tansm3o': 7990, 'chof,': 7991, 'tlata': 7992, 'i9la3': 7993, 'skoti': 7994, 'madyin': 7995, 'fdifa3': 7996, 'ttinis': 7997, 'kibynou': 7998, 'bkol': 7999, 'yrbe7': 8000, 'matwattra': 8001, 'kaydrrek?': 8002, '5ter': 8003, 'kaykhasak': 8004, 'mj88ed': 8005, 'katsaweb': 8006, 'ghan8ajer': 8007, 'lklma?': 8008, 'loghawiyin': 8009, 'new2': 8010, 'yawmia': 8011, 'zrda': 8012, 'pizza,': 8013, 'tro9an': 8014, '5wadria': 8015, 'sf7a': 8016, 'ostad': 8017, '9sedti': 8018, 'sm3t': 8019, 'mayt5tar': 8020, 'ktouba': 8021, '5ali': 8022, 'twwelti': 8023, 'fara8': 8024, '9ararat': 8025, 'mamomkinch': 8026, 'kan3ya': 8027, 'tferjti': 8028, 'ncheddo': 8029, 'l7akim': 8030, 'ghandewwech': 8031, '7tiram': 8032, 'lsa7bi,': 8033, 'lwe9tek': 8034, 'lwanat': 8035, 'dmaghi': 8036, 'nakhd': 8037, 'l9ayloulat': 8038, 'momarasat': 8039, 'n9dd': 8040, 'tbda': 8041, 'katchbah': 8042, 'ansab': 8043, 'tfaddal': 8044, 'iila': 8045, 'aghani': 8046, 'katzid': 8047, 'dders': 8048, 'dayer?': 8049, 'l9raya?': 8050, 'lbyad': 8051, 'baskit': 8052, 'l2ayyam': 8053, 'lmana3a': 8054, 'makhasskch': 8055, 'ma5edamch': 8056, 'bkoll': 8057, 'zwin': 8058, '30': 8059, 'de8bi': 8060, 'khayb?': 8061, 'tjereb': 8062, 'mbloki': 8063, 'a5ani': 8064, 'nour': 8065, 'lberd.': 8066, '9sam': 8067, 'dialk!': 8068, 'l2i7sa2iyat': 8069, 'mch77er': 8070, 'mojoud': 8071, 'achn8oma': 8072, '5arita': 8073, '2amrika': 8074, 'hasna': 8075, 'mori7in,': 8076, 'derss': 8077, 'ti9nia!': 8078, 'l2ijtima3?': 8079, 'frakh': 8080, 'mne3ne3': 8081, 'kaysbe9': 8082, 'l7jr?': 8083, 'ntwe77ech': 8084, '3liha': 8085, 'snanou': 8086, 'chikhat...': 8087, 'bra2y': 8088, 'ala.': 8089, 'lmaydan': 8090, 'lghta': 8091, 'bnadm': 8092, 'kaygoulo': 8093, '3liyya': 8094, 'matbkich': 8095, 'mouss': 8096, 'n5eymou': 8097, 'ngher9o': 8098, 'ra2yi': 8099, 'sauce': 8100, 'yeddi8': 8101, 'drna8a': 8102, 'rebb3at': 8103, 'ntla9aw?': 8104, 'tankon': 8105, 'kfes': 8106, 'dima?': 8107, 'baba': 8108, 'lmossi9a': 8109, 'katfadel': 8110, 'l3iba': 8111, 'lil2asaf': 8112, '2akfas': 8113, 'tleft': 8114, '8anya?': 8115, 'fla': 8116, 'n3tiwhom': 8117, 'w9ila': 8118, 'rond-point': 8119, 'zaydin': 8120, 'kansougou': 8121, 'tji': 8122, '8na': 8123, 'lk7lin.': 8124, 'fhamt.': 8125, 'ochwiya': 8126, 'laa': 8127, 'ab3ad': 8128, 'ondaderi': 8129, 'makanoch': 8130, 'partamti': 8131, 'programat': 8132, 'o8na': 8133, 'ssber...': 8134, 'lbalkon': 8135, 'nsowwwlo': 8136, 'walou,': 8137, 'al7out': 8138, 'chek': 8139, 'n5alas': 8140, 'msdoud?': 8141, 'l3imara': 8142, 'lfr7a': 8143, 'siftti': 8144, 'ls7abi': 8145, 'tdrb': 8146, 'sre9t': 8147, 'kat7ess,': 8148, 'mamsta3dd': 8149, 'ftri9': 8150, 'chchorraf,': 8151, 'binatna': 8152, 'cherjem': 8153, 'bitou': 8154, 'yrsem': 8155, 'kay3yyet': 8156, 'lmousahama': 8157, 'khybin': 8158, 'mt2ekked': 8159, 'lidawazt': 8160, 'si7iy': 8161, 'pissi': 8162, 'safina': 8163, 'ghankhemmel': 8164, 'lkafa2a': 8165, 'tlebt': 8166, 'moutadayyin': 8167, 'miladi': 8168, 'ma3ndhoumch': 8169, 'n7taflou': 8170, 'ddar': 8171, '3arf,': 8172, 'kafya': 8173, 'maytchaf.': 8174, 'na3s': 8175, 'twaslti': 8176, 'mrrakch': 8177, '8adik': 8178, 'khdmtou': 8179, 'tchedd': 8180, 'lkdoub': 8181, 'msdoumin': 8182, 'ma5ddamach': 8183, 'ykhsni': 8184, 'maghanmchich': 8185, 'l7adi9at': 8186, 'ljanobia': 8187, 'kantfham': 8188, '7a9a2i9': 8189, 'jtima3ak': 8190, 'lfoular,': 8191, 'laho3lm': 8192, '8rrest': 8193, 'uh,': 8194, 'ykhasni': 8195, '3adat': 8196, 'drna': 8197, 't7afed': 8198, 'rra2y': 8199, 'l2azra9': 8200, 'makan7essch': 8201, 'a7wal': 8202, 'dohr': 8203, 'lkhfifa?': 8204, 'bsh7al': 8205, 'tay7sso': 8206, 'lmaw3id': 8207, 'hahoa': 8208, 'nna9l,o': 8209, 'namousia': 8210, 'katakl': 8211, 'kanl3bo': 8212, 'ankhellik': 8213, 'ttbou8el': 8214, 'ttakharrouj': 8215, 'sda9': 8216, 'mzowwej': 8217, 'maddir': 8218, 'ssikteur.': 8219, 'bech7al': 8220, 'senti7a': 8221, 'carte': 8222, 'ta3tini': 8223, 'lih': 8224, 'makay3jbokch': 8225, 'nzgl8a.': 8226, '3tawni?': 8227, 'la7ti': 8228, 'lamia.': 8229, 'lkhlat': 8230, 'fa9at': 8231, '5an5yeb': 8232, 'plastik': 8233, 'lihom?': 8234, 'loubna.': 8235, 'nchof': 8236, 'dam': 8237, 'jm3e3': 8238, '8owa': 8239, 'lmarikh': 8240, 'omghadich': 8241, '9iwa': 8242, 'lbiran': 8243, 'forrest': 8244, 'mer7ba': 8245, 'romanssiya': 8246, 'kan': 8247, 'lmanet': 8248, 'matskhenhomch': 8249, 'jeldi': 8250, 'm3ana': 8251, 'tsllfni': 8252, 'ghamid': 8253, 'ydia': 8254, 'sadi9': 8255, 'katgolik': 8256, 'chtranj!': 8257, 'lih?': 8258, 'kati7': 8259, 'saki': 8260, 'toum': 8261, 'maw93at': 8262, 'lb5rir/msemen': 8263, 'alf': 8264, 'hakka.': 8265, 'jjou3!': 8266, 'y7aso': 8267, 'tfkkrni?': 8268, 'menni,': 8269, 'lmodir?': 8270, 'lmalal?': 8271, 'dwayat': 8272, 'kaness7ek': 8273, 'ol': 8274, 'tferjeti': 8275, 'mabghitch': 8276, 'sweb': 8277, 'makan7tajch': 8278, 'a5yab': 8279, 'ndwiw': 8280, 'kanhdr': 8281, 'lweekend': 8282, 'meni': 8283, 'baghia': 8284, 'da3m': 8285, 'katsta8el': 8286, 'dajij': 8287, 'asli': 8288, 'brabbi': 8289, 'nderbo': 8290, 'khlana': 8291, 'zaja,': 8292, '7eb': 8293, 'ta3ti': 8294, 'ssaya': 8295, 'i3mmerha': 8296, '9:00': 8297, 'mirikanyin.': 8298, 'jjwayh': 8299, 'dowezt': 8300, 'wi': 8301, 'y9emmer': 8302, 'to9oss': 8303, 'lit3llemni!': 8304, 'lyouma.': 8305, 'lmo3ali9': 8306, 'kan7s': 8307, 'a7jar': 8308, '7rira': 8309, 'kaykhaf': 8310, 'fdik': 8311, 'jarima': 8312, 'ndiro.': 8313, 'wzen': 8314, 'y3mro': 8315, '3rida': 8316, 'lmilad': 8317, '9te3': 8318, '5le3ni': 8319, 'nserbi': 8320, 'ttb9a': 8321, 'nghiti': 8322, 'kaytla7d': 8323, '7madet': 8324, 'l7imaya': 8325, 'l7oria': 8326, 'n7eyyed': 8327, 'obtaba3': 8328, '8adchi..': 8329, 'nchoufek': 8330, 'ntmat3o': 8331, 'm8erres': 8332, 'riyada': 8333, 'lmodira': 8334, 'lme5rib': 8335, 'kanb9a': 8336, '2a7sen': 8337, 'teb8edt': 8338, 'isla7': 8339, 'l3adab?': 8340, 'oana': 8341, 'bbak': 8342, '8na,': 8343, 'staghl': 8344, \"'l3yon\": 8345, 'stt': 8346, 'lghiyar': 8347, 'ba7ra': 8348, 'le3bat': 8349, 'lfkarn!': 8350, 'njrbo?': 8351, 'blati,': 8352, 'l5arij': 8353, 'l2aghlabia': 8354, 'lpressing': 8355, 'lfa8d': 8356, 'ntferej': 8357, '5at9lih': 8358, 'lmajmo3a': 8359, 'matzid': 8360, 'rask,': 8361, 'l7ench': 8362, 'khssni': 8363, 'nmdegh': 8364, 'kdoub': 8365, 'y3ta9na': 8366, 'kanchbe3': 8367, 'maymkanch': 8368, 'ghanddik': 8369, 'mamti99ench': 8370, 'hadachi': 8371, 'hakkak': 8372, '9rib?': 8373, 'narta7': 8374, 'sma7liya.': 8375, 'dahri': 8376, 'ttmnya': 8377, 'nari': 8378, 'tan7taj': 8379, 'sbt': 8380, 'fri3': 8381, 'majach': 8382, '5i': 8383, 'flabo': 8384, 'hahia': 8385, 'liya,': 8386, '3adim!': 8387, 'l2al3ab': 8388, 'mo7ammis': 8389, 'kayferre7,': 8390, 'coquillajat': 8391, 'matkhemmemch': 8392, 'kolhom.': 8393, 'makayw9a3ch!': 8394, 'twe7cht': 8395, 'katmettel': 8396, 'llwe9t': 8397, 'lherba': 8398, 'tlatin': 8399, 'wlat': 8400, 'ddarija': 8401, 'lbatt,': 8402, '100': 8403, 'tta': 8404, 'llour': 8405, 'choklat,': 8406, 'inchaallah': 8407, 'twledt': 8408, 'yakol': 8409, 'l3rosa': 8410, 'makhzona': 8411, 'charjitih': 8412, 'tlpikala': 8413, 'jbadto': 8414, 'n7etto?': 8415, '3inih': 8416, 'charab?': 8417, 'kandwi': 8418, 'makhtalfa,': 8419, 'itjyyef': 8420, '3and8a': 8421, 'ddisir,': 8422, 'yedi': 8423, 'bas': 8424, 'nzr3': 8425, 'bedlat': 8426, 'tilicomande': 8427, 'likatbghiha': 8428, '5aydar': 8429, 'lmonto': 8430, 'stamta3ti': 8431, 'zga': 8432, 'mat9drch': 8433, 't3tamd': 8434, 'ghabat': 8435, 'tyyara': 8436, 'bikhir,': 8437, 'mdayrin': 8438, 'ychri': 8439, 'almrat?': 8440, 'ski': 8441, 'hada.': 8442, 'ftorek': 8443, 'lapplication': 8444, 'katba': 8445, 'lkhoda3': 8446, 'kadde7ek': 8447, 'kwiyyes?': 8448, 'lflous,': 8449, 'sawt': 8450, 'ssa7i7': 8451, 'tabi3at': 8452, 'masm3tch': 8453, 'wldk!': 8454, 'siftha': 8455, 'lyouma,': 8456, 'tomobiltk': 8457, 'khrejti': 8458, 'bbou7dou': 8459, 'fout': 8460, 'klina': 8461, 'ykheyym': 8462, 'da': 8463, 'khsar': 8464, 'lm3ey9a': 8465, 'lsse77a': 8466, 'katgolo': 8467, 'lia?': 8468, 'lw9t,': 8469, 'ama': 8470, 'gdd': 8471, 'ghayo93': 8472, 'ontmnnaw': 8473, 'kay3tiwna': 8474, 'sfer': 8475, 'kay3ichou': 8476, 'nass': 8477, 'ssifara': 8478, 'i3tina': 8479, 'm3ata': 8480, 'tkbr': 8481, 'katsweb?': 8482, 'natla9aw': 8483, 'chrina': 8484, 'rb3a?': 8485, 'i3tiwna': 8486, 'makltna': 8487, 'ghriba': 8488, 'hakak': 8489, 'kankhalas': 8490, 'beydin': 8491, 'sse77a': 8492, 'wana': 8493, 'ttouma': 8494, 'dilou': 8495, 'ki9drou': 8496, 'l3yalat': 8497, 'ttobis': 8498, 'flmada9': 8499, 'ddisir?': 8500, 'nsoug': 8501, 'blmonasaba.': 8502, 'bikhir!': 8503, 'technology': 8504, 'sif,': 8505, 'ppikala': 8506, 'wlado': 8507, 'mkta2b': 8508, 'bsita': 8509, 'kantmata3': 8510, 'nawi': 8511, '3oumouman': 8512, 'rryada': 8513, '5aweslou': 8514, 'lent': 8515, 'kalma': 8516, 'lakav': 8517, 'louz': 8518, 'lche3ri': 8519, 'zlayf': 8520, 'almota9ti3a': 8521, 'l3adat': 8522, 'lklb': 8523, 'hrbana': 8524, 'weliti': 8525, 'mayojd': 8526, 'lma9lab': 8527, 'l3asifa': 8528, 'kantmana,': 8529, 'kayghsel': 8530, 'ngadd': 8531, 'lmkla': 8532, 'ddlam': 8533, 'safi!': 8534, 'contacti': 8535, 'jjiha': 8536, 'l2istibtan': 8537, 'sba3': 8538, 'lmafto7': 8539, 'lfre7a': 8540, 'nrad': 8541, 'chamal?': 8542, 'katb9ay': 8543, 'ntmechaw': 8544, 'rijim': 8545, 'fnihaya': 8546, 'moha': 8547, 'mala7dtich': 8548, '9ser': 8549, 'fl5outa': 8550, 'kansta3melo': 8551, 'tabi3iyya': 8552, 't9am': 8553, 'charik': 8554, 'solok': 8555, 'm39oula.': 8556, 'dyal8a': 8557, 'karaoke': 8558, 'de8ri': 8559, 'britanya': 8560, 'chifra': 8561, 'hak': 8562, 'dlmosi9a': 8563, 'katfr7ek': 8564, 'ndkhlo': 8565, 'badyin': 8566, 'a7ssen': 8567, 'bzouj': 8568, 'kbrti': 8569, 'i3awna?': 8570, 'lanka': 8571, 'iktter': 8572, 'original': 8573, 'karosa': 8574, 'ykon,': 8575, 't7ti': 8576, 'rej3': 8577, 'b7ra': 8578, 't3raf': 8579, '5aykoun': 8580, 't7mina': 8581, '7fla,': 8582, 'kaykono': 8583, '7assasia': 8584, 'tafham': 8585, 'katdir': 8586, 'chra': 8587, 'lloghat': 8588, 'flb7er': 8589, 'tbzaz': 8590, 'l3afow': 8591, 'l3ala9at': 8592, 'ma3endouch': 8593, 'lkhmsa': 8594, 'idiro': 8595, 'glee': 8596, 'weldi': 8597, 'ja8nnamia': 8598, 'nt7emmel': 8599, 'khir': 8600, 'ma3dnach': 8601, 'man9ll3o?': 8602, '7otam': 8603, 'class': 8604, 'gueddo': 8605, 'lmada9!': 8606, 'makandirhach': 8607, 'ta9lidiya': 8608, 'mou7awalat': 8609, 'lwra9': 8610, 'derangini': 8611, 'f9t': 8612, 'skkar?': 8613, 'katgles': 8614, 'b7aloka': 8615, '3iniyya': 8616, 'ghatlbes?': 8617, 'teyeb': 8618, 'taklha': 8619, 'kankamlo': 8620, 'lbarnamaj': 8621, 'kanbghik': 8622, '7or': 8623, 'lgaro': 8624, 'dima': 8625, 'ma3eloum': 8626, 'l9ehwa': 8627, 'l3ebti': 8628, '7dertih': 8629, 'n7chm?': 8630, 'zwiwen.': 8631, 'kay3tik': 8632, 'katsta7e99': 8633, 'f7alat': 8634, 'bagha': 8635, '9bal,': 8636, 'twerrini?': 8637, 'khouk': 8638, 'pparfan': 8639, 'laarbi': 8640, 'ntfaraj': 8641, 'fo9ara2!': 8642, 'kaygolo': 8643, 'tghddit': 8644, 'sme3t?': 8645, '3ndk?': 8646, 'ndwwez': 8647, 'khditha': 8648, 'mbrzat': 8649, 'mnk': 8650, 'ikhellik': 8651, 'moudmin': 8652, 'tbsil': 8653, 'maglti': 8654, 'bga3': 8655, 'mkan': 8656, 'khayef': 8657, 'wra9i': 8658, '5abiy': 8659, 'l3ajaza,': 8660, 'katchreb': 8661, 'andik': 8662, 'ppil': 8663, 'bit?': 8664, 'kimmakan': 8665, 'lid': 8666, '3ich': 8667, 'kat7lem': 8668, 'dyalmmn': 8669, 'bach': 8670, 'sdat': 8671, 'lmawhiba': 8672, 'kandourou': 8673, 'tlwe9t,': 8674, 'mchowech': 8675, 'ddlam,': 8676, 'lhem': 8677, 'wjah': 8678, 'attawazon': 8679, 'ykdeb': 8680, 'derham': 8681, 'tan8der': 8682, 'batri': 8683, 'mjebbed': 8684, 'ttbib.': 8685, 'lfa2izin': 8686, 's77ar': 8687, 'nnezla.': 8688, '3lia': 8689, 'sinima2i': 8690, '3otla,': 8691, 'tta9alid': 8692, 'so2al': 8693, 'google...': 8694, 'fliste': 8695, '3aychi': 8696, 'gyydni': 8697, 'tafadoliya': 8698, 'matkhafch,': 8699, 'f3a9lak?': 8700, 'jbha': 8701, 'ghansafer': 8702, 'n7ssn': 8703, 'videowat': 8704, 'mat9der': 8705, 'iddiwha,': 8706, 'chafawian?': 8707, 'ftonobilto': 8708, 't9te3': 8709, 'mamwaf9ach': 8710, 'dderri': 8711, 'jerrebti': 8712, 'kay3tes': 8713, 'l7isa': 8714, 'mrati': 8715, 'tayti7': 8716, 'nfkar': 8717, 'dafya': 8718, 'fchkel': 8719, 'kandekrek': 8720, 't3atlat?': 8721, 'flmatchat': 8722, 'fkhat': 8723, 'ghan8der': 8724, 'tcherrft': 8725, 'kadhak': 8726, 'kat3yi': 8727, 'hti': 8728, '9ll': 8729, '3yet': 8730, 'kaytferrj': 8731, 'ma7taja': 8732, 'flmaryo': 8733, 'idan?': 8734, 'bddel': 8735, 'lmouchkil?': 8736, 'ta3etini': 8737, 'lbday': 8738, 'bremla': 8739, 'n3lmk': 8740, 'fetna,': 8741, 'l3in': 8742, 'nechchef': 8743, 'al3chran': 8744, 'ire7mo': 8745, 'misyadat': 8746, 'swwelti': 8747, 'yweselni': 8748, 'fchkal,': 8749, 'chafawi': 8750, 'fl2amakin': 8751, 'nachri': 8752, 'hhhh': 8753, 'ana5oud': 8754, 'lal3a2ila': 8755, 'nchd': 8756, 'ljoghrafiyya': 8757, 'labes': 8758, 'rj3at!': 8759, 'ttiyara!': 8760, 'bnan!': 8761, 'chhiwat': 8762, 'na9sa': 8763, 'tberre3t': 8764, 'molay': 8765, 'tyye98a': 8766, 'baslama,': 8767, 'chefchaouen': 8768, 'mou7ami': 8769, 'n3tiw': 8770, 'kadhder': 8771, 'faragh': 8772, 'flch9a': 8773, 'likad77ak': 8774, 'zrba': 8775, 'oba9i': 8776, 'tiran': 8777, 'mtnas9in': 8778, 'lghwat': 8779, 'kantwejje3': 8780, 'lfakiha': 8781, '3jbk': 8782, 'l2ard': 8783, 'kant7daw': 8784, 'ppartma': 8785, 'katgoli': 8786, 'lbayd': 8787, 'matjibch': 8788, 'mdrasa': 8789, 'n9dar': 8790, 'tana,': 8791, 'ghabiy': 8792, 'sama': 8793, 'fldakhl,': 8794, 'fsbbat': 8795, 'ahya,': 8796, 'kayn': 8797, 'lmokwinat': 8798, 'afkar?': 8799, 'makanch': 8800, 'lma9al': 8801, '9darti': 8802, 'zarni': 8803, '7da': 8804, 'lbarba': 8805, 'lyom?': 8806, 'llfrran': 8807, 'makat3alamnach': 8808, 'nadi': 8809, 'dyour': 8810, '8adi': 8811, 'dwzat': 8812, 'makay9rich': 8813, 'blasa?': 8814, 'tll7em?': 8815, 'lmes2ouliyat': 8816, 'lmen': 8817, 'tkhayal': 8818, 'kon': 8819, 'kay3awn': 8820, 'chr7': 8821, 'nja': 8822, 'lyoma': 8823, 'llil': 8824, '3liha?': 8825, 'l8adi': 8826, 'shwiya': 8827, 'kaat3mr': 8828, 'l39el?': 8829, 'ntkalma': 8830, 'mas2ol?': 8831, 'zreg': 8832, 'wajd.': 8833, 'msian': 8834, 'al3ab,': 8835, 'wldi': 8836, 'fcha8r': 8837, 'bintna': 8838, 'moulatdar': 8839, 'lvidio': 8840, 'fenna': 8841, '7all': 8842, 'i9dd': 8843, 'n3iyet': 8844, 'rf9a.': 8845, 'kanden': 8846, 'tl2ajyal?': 8847, 'lrpduit': 8848, 'yamkan': 8849, 'katwllef': 8850, '9rreb': 8851, 'sm7liya': 8852, 'barhoch': 8853, 'katb9a': 8854, 't3ardat': 8855, 'ma3amro': 8856, 'fddar.': 8857, 'ananas': 8858, 'lma7all': 8859, 'tjreb': 8860, 'as8al?': 8861, 'mzroub': 8862, 'n3awlo': 8863, 'flparc': 8864, 'style': 8865, 'makaytjm3och': 8866, 'monasaba': 8867, 'takol': 8868, 'wa9t': 8869, 'krwassa': 8870, 'wahd': 8871, 'isla7at': 8872, 'kelbha': 8873, 'at7aj': 8874, 'ndmt': 8875, 'lkhdma?': 8876, 'lfarancia': 8877, 'magahdich': 8878, '3llimen': 8879, 'hdarti': 8880, 'lfilmat': 8881, 'lbet,': 8882, 'te3tini': 8883, 'lfadl': 8884, 'so9or': 8885, 'chttha': 8886, 'bel3ani': 8887, 'ntsnnaw.': 8888, 'kheddamch': 8889, 'lou3ba': 8890, 'swltini': 8891, 'tasaloul': 8892, 'tan8dr': 8893, 'tma.': 8894, 'stylowat': 8895, 't3awenni?': 8896, 'australia,': 8897, 'awddi,': 8898, 'be33ed': 8899, 'badaniyan': 8900, 'yalla8!': 8901, 'nit': 8902, 'mnnek.': 8903, 'mango': 8904, 'ghechchit!': 8905, 'nswebou': 8906, 'lbandouch': 8907, 'lmo5aniyin': 8908, 'lagouma': 8909, 'chwikkik': 8910, 'ntsna': 8911, 'lwesfa': 8912, 'babak?': 8913, 'lchati2,': 8914, 'blm39oul?': 8915, 'dl5out': 8916, 'haka?': 8917, 'ttlata': 8918, 'nakol': 8919, 'kay9ra': 8920, 'kherrej': 8921, '3adiya': 8922, 'james': 8923, 'jjdad': 8924, 'n3raf': 8925, 'wesfa': 8926, 'lmoust9bal': 8927, 'nwjjdhoum': 8928, 'bchwiyya': 8929, 'kayddiw': 8930, 'mochta99at': 8931, 'ikhliwk': 8932, 'nt9adou': 8933, 'lko7ol?': 8934, 'khabira': 8935, 'yzid': 8936, 'kan8der': 8937, 'lmorahi9': 8938, 'kan7tarmek': 8939, 'ttran': 8940, 'mat9rrbch': 8941, 'chakhs': 8942, '7dacher': 8943, 'nakhdoh': 8944, 'batched': 8945, 'l98wa,': 8946, 'men': 8947, 'khle3tini': 8948, 'lach': 8949, 'm9al9a': 8950, 'nnhar': 8951, '5an5rj': 8952, 'ssrf': 8953, 'wa3dtek': 8954, 'films': 8955, 'tbiba': 8956, 'janibi': 8957, 'ayty9ou': 8958, 'na9ra': 8959, 'ma3rftch': 8960, 'makanns7ekch': 8961, 'ijtima3iya': 8962, 'lou9id': 8963, 'katkono': 8964, 'flwa9t,': 8965, 'lmoumatil': 8966, 'ljjrda': 8967, 'ftour?': 8968, 'taw9it': 8969, 'ghanched': 8970, 'bera': 8971, 'ou': 8972, 'fchichkel': 8973, 'tsedmat': 8974, 'lmdella': 8975, 'ki7afdou': 8976, 'nnsa': 8977, 'oman': 8978, 'nch3el': 8979, 'tayddi': 8980, 'daght': 8981, '7emmam': 8982, 'mamt2kdech': 8983, 'aykhaso': 8984, 'mangoulikch': 8985, 'mosta3ar': 8986, 'nbniw8a': 8987, 'moura8': 8988, 'fr9a': 8989, 'lm9ess': 8990, 'lfirma': 8991, '5lah': 8992, 'kwaffoura?': 8993, 'fkkert': 8994, 'okifach': 8995, 'mancherbo.': 8996, 'tolanti': 8997, '7mar': 8998, 'kanghelli': 8999, 'inodo': 9000, '8a8ya': 9001, 'lghiss': 9002, 't7rek': 9003, 'lapisin': 9004, 'maskina': 9005, 'lbzaf': 9006, 'produit': 9007, 'ghech': 9008, 'l2mal': 9009, 'tkhelli': 9010, 'lfalsafa': 9011, 'btkhbia,': 9012, 'miladk,': 9013, 'ghatwllefha!': 9014, 'villaj.': 9015, 'rakitat': 9016, 'ntkhbbaw': 9017, 'mechcha': 9018, 'kat7effezni': 9019, 'tahoa?': 9020, '9erer': 9021, 't9dya': 9022, 't7ett': 9023, 'mamt3elem': 9024, 'ch3ria': 9025, 'ntmnna': 9026, 'bsse7.': 9027, 'l9ina': 9028, 'galsin': 9029, 'tan8dro': 9030, 'wa9e3': 9031, 'likoum': 9032, 'ikhsar': 9033, 'sa7.': 9034, 'ri7a': 9035, 'lw9ita': 9036, 'b3diyathom': 9037, 'mt2keda': 9038, 'kankhdmo': 9039, 'l7afla': 9040, 'n3es': 9041, 'nessa3a': 9042, 'lmot': 9043, 'werdat': 9044, 'le2b': 9045, 'lkhmis': 9046, 'chia': 9047, 'ibddlo': 9048, 'awal': 9049, '9smayn': 9050, 'nt9edda': 9051, 'blassa': 9052, 'm5talf': 9053, 'bllati!': 9054, 'tta9a': 9055, '7aja?': 9056, 'makayninch': 9057, 'mamgadd.': 9058, 'fdakchi.': 9059, 'l7emmam': 9060, 'tbla': 9061, 'rb3': 9062, 'lyoussfi': 9063, 'ssobba': 9064, 'blast': 9065, 'katghoch!': 9066, 'te5mam': 9067, 'mbedla': 9068, 'nrkb': 9069, 'frask.': 9070, 'ja8': 9071, 'tastamta3': 9072, 'may9dr': 9073, 'l3iba?': 9074, 'chams?': 9075, 'l3tach?': 9076, 'saloun': 9077, 'dewezti': 9078, 'ngless': 9079, 'jlodhom': 9080, 'nkhtabr': 9081, '9alabt': 9082, 'jmil': 9083, 'kansta3mlo': 9084, 'n3sr': 9085, 'khali': 9086, 'nt3elmou': 9087, 'nadi.': 9088, 'law3lm': 9089, 'khounifra?': 9090, 'n3tarf': 9091, 'lkora': 9092, 'nchoufek.': 9093, 'ba5i': 9094, 'lfotoy': 9095, 'daw9': 9096, '2azma': 9097, 'matba3i': 9098, 'ramliya': 9099, 'kan9sd,': 9100, 'kat7awel': 9101, 'wallbare7': 9102, 'fihom?': 9103, 'ssbou3a': 9104, 'nselliw': 9105, 'otarja3': 9106, 'doweztha': 9107, 'bezzaf': 9108, 'onta?': 9109, 'ma3mri': 9110, 'mghribia?': 9111, 'l7a9i9a': 9112, 'nadfaw': 9113, 'jeb8a': 9114, 'wsf': 9115, 'lmouchkil': 9116, 'bihoum?': 9117, 'um...': 9118, '7flat': 9119, 'bzzerba!': 9120, 'tlil': 9121, 'lmossi9a?': 9122, '9ererna': 9123, 'tahwa,': 9124, 'noubtkom': 9125, 'y3awni': 9126, 'la7adat': 9127, 'nahdar': 9128, 'mansali': 9129, 'l3onwan': 9130, '9adi': 9131, 'tter7': 9132, 'kay3raf': 9133, 'sos': 9134, 'nfa9do': 9135, 'jjben': 9136, '9elleb': 9137, 'rb7': 9138, 'dowaliya': 9139, 'bjojhom': 9140, 'ijabi': 9141, 'ddryfa': 9142, 'makanteyyebch': 9143, 'her': 9144, 'tiyara.': 9145, 'ybda': 9146, 'tmak': 9147, 'sya7': 9148, 'tadrni': 9149, 'ttabkh': 9150, 'kaytsad': 9151, 'da5el': 9152, 'wajhtih': 9153, '2cha': 9154, '5asni': 9155, 'lb3diyathom': 9156, 'fbali': 9157, 'fta7adiyat': 9158, 'sonat': 9159, 'lmen?': 9160, 'a3da2': 9161, 'ko7oliya': 9162, 'dialha': 9163, '3amrak': 9164, '3iyyan': 9165, '5demtek': 9166, 'program': 9167, 'sle7': 9168, 'tfrnisa': 9169, 'lcouzina': 9170, 'fl7yat': 9171, 'kamla': 9172, 'tossel': 9173, 'jay\"': 9174, 'tawakhir?': 9175, '3ziza': 9176, 'lmachakil': 9177, 'hdana': 9178, 'makaybghich': 9179, 'sma7lia': 9180, 'lb77ara': 9181, 'zadouni': 9182, 'nt9ebbel': 9183, 'ngaddo': 9184, '15.': 9185, 'thella': 9186, 'mabaghich': 9187, 'fkkrni': 9188, 'lhobz': 9189, 'kefta': 9190, 'khotat': 9191, 'n9di': 9192, 'tri9o': 9193, 'nawyin': 9194, 'chemch.': 9195, 'ljor3a': 9196, 'kaykhalini': 9197, '3awnouna': 9198, '5demtna': 9199, 'ta9s': 9200, 'sac.': 9201, 'lghda?': 9202, 'lmakhawif?': 9203, 'rahoa': 9204, 't3ber': 9205, 'original!': 9206, 'zwinin?': 9207, 'nsift...': 9208, '39ba': 9209, 'temchi': 9210, 'onji': 9211, 'sa3a': 9212, 'bhadchi?': 9213, 'tjme3': 9214, 'tsedd': 9215, 'chchappo': 9216, 'ghaykonou': 9217, 'yomayn': 9218, 'leon': 9219, 'mouda': 9220, 'katchekk': 9221, 'matti7ch': 9222, 'btta': 9223, 'nbdel': 9224, '7osn': 9225, 'ysen3ou': 9226, 'l7anout': 9227, 'makanchrebch': 9228, 'terjama': 9229, 'lit9dar': 9230, 'sif': 9231, 'l7amd.': 9232, 'pissine.': 9233, 'bssa7,': 9234, 'lforas': 9235, 'nnamous': 9236, 'media': 9237, 'achnahiya': 9238, '9tisadia': 9239, 'tab3an!': 9240, 'nt2akad': 9241, 'chof': 9242, 'kat7ell': 9243, 'internet': 9244, '3awdtani': 9245, 'lmelja2': 9246, 'makaytsenne3ch': 9247, 'zif': 9248, 'tel3a': 9249, 'taf9na': 9250, 'chno?': 9251, '2ou5niya': 9252, 'rach9ach': 9253, 'rassna': 9254, 'mrato': 9255, '3raft': 9256, 'khlitha': 9257, 'fi3lan!': 9258, 'mchro3': 9259, 'lrestorat': 9260, 'manfokha': 9261, 'kaml,': 9262, 'onchofo': 9263, 'sgher': 9264, 'lbnitat': 9265, 'lmod7ika...': 9266, 'berat': 9267, 'nkhliw': 9268, 'li8oum': 9269, 'kaybghiw': 9270, 'chm3a': 9271, 'l7ed': 9272, 'ls7abek?': 9273, 'katkdeb?': 9274, '9issis': 9275, 'tari5iya': 9276, 'bditi': 9277, 'ahlan': 9278, 'aykhssna': 9279, 'kat3yyet': 9280, 'n7essnou': 9281, 'tom': 9282, 'l3afia': 9283, 'kakhali': 9284, 'nkhbiha': 9285, 'ksirat': 9286, '3ndek': 9287, 'kando9': 9288, 'tbeznisa': 9289, 'katsenani': 9290, 'llila': 9291, 'nt3atal': 9292, 'nchett': 9293, 'jdid': 9294, 'b3d?': 9295, 'ncht7o!': 9296, 'makhasnach': 9297, 'ostadk': 9298, 'ddissir?': 9299, 'matmedghoch': 9300, 'ma3endo': 9301, 'kamel': 9302, '3ndak?': 9303, 'isawbo,': 9304, 'ghttl3': 9305, 'kay8dmo': 9306, 'nefss': 9307, 'mazyan.': 9308, 'yl3b': 9309, 'dbbrna': 9310, 'flkhadma?': 9311, 'flgrade': 9312, 'lmawadd': 9313, 'hir': 9314, 'n3ess': 9315, 'tatgoul': 9316, 'fre7tini': 9317, 'yb9aw': 9318, '3jebni': 9319, 'mratek?': 9320, 'omour': 9321, '5at7der': 9322, 'makanloumekch.': 9323, 'mnni': 9324, 'nnafa9a': 9325, 'cha3rak': 9326, '3yit': 9327, 'kifmab7almahokdaya': 9328, 'katkhalini': 9329, 'rassi!': 9330, 'm3owwel': 9331, 'ikhttik.': 9332, 'sobba,': 9333, 'mjmou3in?': 9334, 'khassak': 9335, 'fhadchi?': 9336, 'osbo3': 9337, 'lboton': 9338, 'fl9ahwa': 9339, 'bse77a': 9340, 'sac': 9341, 'taba9a': 9342, 'lla.': 9343, 'darori!': 9344, 'khayfin': 9345, '3mri': 9346, 'lghalta': 9347, 'lile': 9348, 'mara': 9349, 'bzeef': 9350, 'w7dania': 9351, 'tat3jebna.': 9352, 'l9or2an': 9353, 'makayfker': 9354, '3adia,': 9355, 'fsimana': 9356, 'n3a9do': 9357, 'mrewen': 9358, 'an9lb': 9359, 'masdod': 9360, 'tilifounk': 9361, 'ma3emmerni': 9362, 'sdari': 9363, '3ala9a': 9364, 'momkin,': 9365, 'm8woos': 9366, 'kaylbas': 9367, 'akhor': 9368, '25': 9369, '9ariban?': 9370, 'tmmer': 9371, 'kaybki': 9372, 'ynf3ni': 9373, '9ad': 9374, '9tta': 9375, 'ir7m': 9376, 'kan9dr': 9377, 'naw3': 9378, 'nkherrejhoum': 9379, 'lmosa3ada.': 9380, 'dwit': 9381, 'lhaja': 9382, 'makhssekch': 9383, 'an9t3': 9384, 'm3ak': 9385, 'blla8': 9386, 'kanshrou': 9387, 'kat3tamed': 9388, 'makat3ref': 9389, 'tchta7': 9390, 'banka': 9391, 'dyalk.': 9392, 'bzzaf,': 9393, 'l9ess': 9394, 'twadar': 9395, 'kamlin': 9396, 'khddam': 9397, 'wa9fa': 9398, 'ttofoula': 9399, 'ssir': 9400, 'ndepaniw': 9401, 'momti3a': 9402, 'lmoghanyin!': 9403, 'kanbanou': 9404, 'mousi9a': 9405, 'ghaybda': 9406, 'katkteb': 9407, '7olm': 9408, 'oghnia': 9409, 't3ttal': 9410, 'na3na3': 9411, 'lmokhadirat': 9412, '3yyto': 9413, '3adil': 9414, 'lbarriya': 9415, 'l3ssa': 9416, 'ghayji': 9417, 'kat3wankom': 9418, 'bl3rbia': 9419, 'monassiba': 9420, 'l7aja,': 9421, 'lbayt': 9422, 'dbab...': 9423, 'ra7na': 9424, 'katsken?': 9425, 'njm3oh': 9426, 'makansma7och': 9427, 'dewwez8a': 9428, 'wstnhar': 9429, 'tantir': 9430, 'kaytllef.': 9431, 'tfham': 9432, 'ma9arich': 9433, 'longli': 9434, 't7emmest': 9435, 'dirasa': 9436, '9elbi': 9437, 'blmat3am': 9438, 'lwalo.': 9439, 'khessek': 9440, 'lkhayb,': 9441, 'katsowwel': 9442, 'fire': 9443, '--': 9444, 'lkhkhout?': 9445, 'khrajti': 9446, 'kandewwez': 9447, 'lbatt': 9448, 'dorigin': 9449, 'flbrazil': 9450, 'ghatsali': 9451, 'fkrti': 9452, 'lboldan': 9453, 's7abna?': 9454, 'serto': 9455, '7re9t': 9456, 'saraha,': 9457, 'y3awn!': 9458, 'chkel': 9459, 'ssot.': 9460, 'mzyan...': 9461, 'tellah': 9462, 'ikhssni': 9463, 'mandirou.': 9464, 'zzerbia': 9465, 'bl7obb': 9466, 'madirch': 9467, 'wgef,': 9468, '8adiyya': 9469, 'lkhrin.': 9470, 'l9owa': 9471, 'lmakhtalfa': 9472, 'tsba7': 9473, 'lfar': 9474, 'mche3ra': 9475, 'sowt': 9476, 'nkhorjo': 9477, '3o9balik': 9478, 'swira': 9479, 'khelli': 9480, 'wasila': 9481, 'basket?': 9482, 'yadwi': 9483, 'presentation': 9484, 'aandkom': 9485, 'ndrb': 9486, 'biskwit': 9487, 'l3olya': 9488, 'a3sab': 9489, 'nkmele': 9490, 'tma,': 9491, '7esit': 9492, 'kat5tar': 9493, 'marsh,': 9494, 'retba': 9495, 'bdaw': 9496, 'bar,': 9497, 'kat3eyechek': 9498, 'makay7ssch': 9499, 'kabouss': 9500, 'prduiyat': 9501, 'w93at': 9502, 'katghoch': 9503, 'kansrbi': 9504, 'mrrdni': 9505, 'kan9ra,': 9506, 'makay9derch': 9507, '7jbani': 9508, 'kathalla': 9509, 'pissin,': 9510, 'yakhod': 9511, 'nt7ekmou': 9512, 'nbowwe9': 9513, 'kanktab': 9514, 'ijiw': 9515, 'bbo7do': 9516, 'hoa': 9517, 'ti9a?': 9518, 'machakil': 9519, 'katji': 9520, 'zze3loula?': 9521, 'lfrakh': 9522, 'cha3al': 9523, 'jem3ou': 9524, 'bsbab': 9525, 'makaywe93ou': 9526, 'brandy.': 9527, 'nfs': 9528, 'lpilotat': 9529, 'm7bousin': 9530, '39al': 9531, 'asa7bi': 9532, 'n9ad': 9533, 'mberr3a': 9534, 'lktab,': 9535, 'l3dem': 9536, 'nta,': 9537, 'tkhlliha': 9538, 'ssoutyan': 9539, 'otmchi': 9540, 'zid': 9541, 'bar?\"': 9542, 'skhoun?': 9543, 'lbger': 9544, 'fsayf': 9545, 'merr': 9546, '9bli': 9547, 'dmmar': 9548, 'mazyana,': 9549, 'faya9': 9550, 'flmdina?': 9551, 'lou5at': 9552, 'l7rira': 9553, 'fermaj': 9554, 'tlkhdma,': 9555, 'b7er': 9556, 'l9araya': 9557, 'lhimri': 9558, 'lghorilla': 9559, 'n3amas': 9560, 'salama': 9561, 'yolyoz': 9562, 'man9di': 9563, 'miraran': 9564, 'talyani': 9565, 'zfta.': 9566, 'chb3t': 9567, 't9riban,': 9568, 'lmotour': 9569, 'madit8a': 9570, '7ota': 9571, 'ma3andi': 9572, 'brasou': 9573, 'mat3awed8ach': 9574, 'sadi9a': 9575, 'village': 9576, 'ka7il': 9577, 'fkart': 9578, 'lch3ri': 9579, 'ddenya?': 9580, 'aandhom': 9581, 'tfoul': 9582, '8adchi?': 9583, 'vilaj': 9584, 'kant3lem': 9585, 'makatkhalich': 9586, 'sskhouniya': 9587, 'lwa7ad': 9588, '3aysh': 9589, 'kanfedel': 9590, 't9eleb': 9591, 'lmoghenni': 9592, 'tchwi': 9593, 'anmchiw': 9594, 'kaykhali': 9595, 'kaychriw': 9596, 'bnadam': 9597, 'ghal9aw': 9598, 'tjarabha!': 9599, 'n9der': 9600, 'nwerrek': 9601, 'nt3echa': 9602, 'chwia!': 9603, 'll7em': 9604, 'kanfdel': 9605, 'tte9ti3a': 9606, 'sway3': 9607, 'frassna': 9608, 'rkabna': 9609, 'matra': 9610, 'rkebt': 9611, 'l9arart': 9612, 'matchof': 9613, 'caiprinha!': 9614, 'lmktaba': 9615, 'mokalama': 9616, 'mankhayboch': 9617, 'l3mer': 9618, '7bessna': 9619, 'ndadrk': 9620, 'ndwi': 9621, 'ttellaja': 9622, 'ajarakoum': 9623, 'mota7arika,': 9624, 'kayballik': 9625, 'fjo9': 9626, 'hadchi,': 9627, 't7e99e9': 9628, 't3ya': 9629, 'fraise': 9630, 'wj8ek': 9631, 'w9afa': 9632, 'chantilly?': 9633, 'mamr77ebch': 9634, 'lhih?': 9635, 'fakhor': 9636, 'mraya': 9637, 'smitk': 9638, 'wej8i': 9639, 'oula': 9640, '7ssit': 9641, 'm9ete3': 9642, 'l2ila8': 9643, 'jm3at': 9644, 'lbtt': 9645, 'l9ddam': 9646, 'makan9admo': 9647, 'aandha': 9648, 'caipirinha,': 9649, '7al,': 9650, 'njerrbo': 9651, 'l7afalat': 9652, 'l7em': 9653, '7bibi': 9654, 'maraje3tch': 9655, 'tlkhtyarat': 9656, 'sbbati': 9657, 'lbanka': 9658, 'melli': 9659, 'n9adha?': 9660, 'pilanti': 9661, 'fkhbarek?': 9662, 'wellbar7!': 9663, 'ze3loula': 9664, 'fwe9t': 9665, 'hamdollah': 9666, 'fari9': 9667, 'mllit': 9668, 'nshri': 9669, 'twila,': 9670, 'skkar.': 9671, 'mamchit': 9672, 'b9it': 9673, 'llklab.': 9674, 'ba3diyatna': 9675, 'fokaha': 9676, 'm3a8a': 9677, 'ikhlles': 9678, 'lmadi': 9679, 'lboulat': 9680, 'l2aflam': 9681, 'jami3iya': 9682, 'sm3ti': 9683, 'ndirha': 9684, 'l8adaf': 9685, 'bot': 9686, 'saknin': 9687, 'nlas9o': 9688, 'brhouch!!': 9689, 'gddam': 9690, 'tzrab': 9691, 'alat': 9692, '7fadi': 9693, 'kaynin?': 9694, 'lcamera': 9695, 'awddi': 9696, 'mchemmech,': 9697, '8ak': 9698, 'mafhemtich?': 9699, 'lberd?': 9700, '8op': 9701, 'mitali': 9702, 'staghll': 9703, 'mo7ami': 9704, 'da9t': 9705, 'wakha': 9706, 'lmraya': 9707, 'n8zzek?': 9708, 'ntmechchaw': 9709, 'dwwer': 9710, 'foug': 9711, 'ssif,': 9712, 'dow': 9713, 'lmacha3ir': 9714, 'jameson?': 9715, 'li3andi': 9716, 'nlbs?': 9717, 'ssak': 9718, 'llamba': 9719, 'khassa8': 9720, 'fl7el9a': 9721, 'l3otla?': 9722, 'l9arya\"': 9723, 'achn': 9724, 'tr9iya': 9725, 'mzwj?': 9726, '...l7em': 9727, 'oh...l2amr': 9728, 'makatbghi8ch?': 9729, 'na5od': 9730, 'katkhaf': 9731, 'kant3eda': 9732, '7ssiti': 9733, 'ki3ejbouk': 9734, 'cage': 9735, 'hnaya!': 9736, 'afkar,': 9737, 'l9ala9': 9738, '9tira7': 9739, 'atm?': 9740, 'tkob': 9741, 'oh?': 9742, 'lnnas': 9743, 'hna,': 9744, 'lbaliza': 9745, 'nnadi': 9746, 'bghina...': 9747, 'mostaqbal': 9748, 'ji8a': 9749, 'flproduiyat': 9750, 'nadir': 9751, 'tla9': 9752, 'falsafa?': 9753, 'ghatji': 9754, 'telj.': 9755, 'fin': 9756, 'lwerd': 9757, 'fmo2asasa': 9758, 'hakka!': 9759, 'foular': 9760, 'tchouf,': 9761, 'man9derch': 9762, 'nkhtar': 9763, 'kaychad': 9764, 'kansejjel': 9765, 'tankreh': 9766, 'fm29zak': 9767, 'la,5raj': 9768, 'khdma': 9769, 'ysabab': 9770, '3li8?': 9771, 'l7wayej': 9772, 'l3arbiyya': 9773, 'flcouzina': 9774, 'safi,': 9775, 'ngol': 9776, 'ta9lidiyin': 9777, 'nnidam': 9778, 'ondiro': 9779, '3atya': 9780, 'tkhraj': 9781, 'menni': 9782, 'mo2khkharan': 9783, 'lmghrib.': 9784, 'lmal7a': 9785, 'sarbay': 9786, 'ghay3awnni': 9787, 'olyed': 9788, 'lhiha': 9789, '9herhom': 9790, 'reb3a': 9791, 'tar9iya': 9792, 'ykhal3o': 9793, 'kont': 9794, 'bsar7a,': 9795, 'lwachom,': 9796, '3ibadlah': 9797, 'ijabi?': 9798, 'kan3tadr': 9799, 'asatida': 9800, 'ndadar?': 9801, 'n7awlo': 9802, 'gha': 9803, 'mafsroch': 9804, 'il3ab': 9805, 'tfrtit': 9806, 'fchi': 9807, 'kijawk': 9808, 'nabati': 9809, '799o': 9810, 'olldida': 9811, 'jabak': 9812, 'trj3': 9813, 'mdewrin': 9814, 'm3wa9': 9815, 'onbda': 9816, 'makrehtich': 9817, 'téléphone': 9818, 'kat7afed': 9819, '9ali9': 9820, 'jjdid': 9821, 'mtcherrfin': 9822, 't7mlha': 9823, 'chahiya': 9824, 'mabitich': 9825, '8nnina': 9826, 'kanteyyeb': 9827, 'conneksion.': 9828, 'hya?': 9829, 'kantsana': 9830, 'van': 9831, 'lghda': 9832, 'nde9': 9833, 'mamt2akdach': 9834, 'nachat?': 9835, 'flmas3ad,': 9836, 'lmo7ami': 9837, 'salamo3laikom': 9838, 'ta9afi': 9839, 'l7amas': 9840, 'tsawbat': 9841, 'mnin': 9842, 'modhil': 9843, 'l2a3yad': 9844, 'mkatle3': 9845, 'dini': 9846, 'anna8a': 9847, '2afkar': 9848, 'kbira...': 9849, 'mat3awennich': 9850, 'lidaz': 9851, 'nle3bo': 9852, 'ta7sl': 9853, 'tstaslem': 9854, 'motanawwi3.': 9855, 'n9diw': 9856, 'fnhar': 9857, 'spaghetti': 9858, 'darbtou': 9859, 'lfdol': 9860, 'mattakolch': 9861, '3iyyana': 9862, 'khms': 9863, 'takhdha': 9864, 'tmnia': 9865, 'mla9yin': 9866, 'lbrnamaj': 9867, 'kat3amlou': 9868, 'toddrat': 9869, 'walakin,': 9870, 'kaddwi': 9871, 'khasrat': 9872, 'lglssa': 9873, 'nne7s': 9874, 'lms2ala': 9875, 'twichia': 9876, 'nbdloha': 9877, 'awdi': 9878, 'maba5ich': 9879, 'kaytsnnawna': 9880, 'l7m': 9881, 'jjoj': 9882, 'llimen': 9883, 'ddoura': 9884, 'lfactoura': 9885, 'rachid': 9886, 'khantkheses': 9887, 'blmarad': 9888, '9niat,': 9889, '3anda': 9890, 'tl3ab?': 9891, 'lmakyaj': 9892, 'chirashi?': 9893, 'iglso': 9894, 'mkhchi': 9895, 'jjmel': 9896, 'bttisa3': 9897, 'ss7abat': 9898, 'kisan': 9899, 'fl5na': 9900, 'remmana': 9901, 'kiderti': 9902, 'ghdda,': 9903, 'lfota': 9904, '3adam': 9905, 'chahia': 9906, 'de3wa': 9907, 'irtiya7': 9908, 'l7e9': 9909, 'kay9iss': 9910, 'l3ouman': 9911, 't3llemtiha?': 9912, 'mar77abch': 9913, 'is3ed': 9914, 's7i7!': 9915, 'lmche3rin': 9916, 'makat3refch': 9917, 'tffa7at': 9918, 'lddar.': 9919, 's77,': 9920, 'kantmechcha': 9921, 'fwedniha': 9922, 'nt3echaw': 9923, 'sehranin': 9924, 'nakhtar': 9925, 'dailk': 9926, 'idowwer': 9927, 'chayfo': 9928, 'tn3as': 9929, 'ga3dakchi': 9930, 'ghlat': 9931, 'kat3atbni': 9932, 'lkezz': 9933, '3amer': 9934, 'byad': 9935, 'wow': 9936, 'nbdaw': 9937, '9sem': 9938, 'kayt7rak': 9939, 't3tiha': 9940, 'ntfrjou': 9941, 'taylandiyin': 9942, 'l3alim': 9943, 'nekhtar?': 9944, 'fjibou': 9945, 'ldar?': 9946, '9riban': 9947, 'intiwa2i': 9948, 'bddem': 9949, 'lmasbana?': 9950, 'tyeb': 9951, 'kayhder': 9952, 'makay7mlch': 9953, 'dialo?': 9954, 'mabghach': 9955, 'kat3jbni': 9956, 'tswa': 9957, 'te9ti3a': 9958, 'mod8ich': 9959, 'frasi': 9960, 'tswira': 9961, 'l7nach': 9962, 'ij88zna': 9963, 'knfadal': 9964, 'lgaraj': 9965, 'mo2akhkharan?': 9966, 'thder': 9967, 'limachi': 9968, 'n9smo': 9969, 'nhder': 9970, 'llekher': 9971, 'sondwich': 9972, 'lbolis': 9973, 'kaysoug': 9974, 'mghettyin': 9975, 'kaytghyyer': 9976, 'kilo': 9977, '3endna': 9978, 'kanb5i': 9979, '8bel': 9980, 'ol9ahwa': 9981, 'lgoal': 9982, 'ssi7ia': 9983, 'ah': 9984, 'ktabt': 9985, 'skso?': 9986, 'miksik': 9987, 'mouchkl': 9988, 'nrj3': 9989, 'lmandar': 9990, 'mchghoul': 9991, 'lakhra,': 9992, 'lbaladi': 9993, 'n9abl': 9994, 'lmowadafin': 9995, 'akhor.': 9996, 'nbdalo': 9997, 'sa7bak?': 9998, 'reddo': 9999, 'ghariba.': 10000, 'ykhalik': 10001, 'fuha': 10002, 'ntriniw': 10003, 'lil2ihtimam.': 10004, 'm3sseb': 10005, 'm9rach': 10006, 'katti7': 10007, 'flma5rib': 10008, 'katbi3ou': 10009, '9adar': 10010, 'kayhezzou': 10011, 'ki3jbek': 10012, '12:30': 10013, 'lfaranci': 10014, 'mskina': 10015, 'lfer9a': 10016, 'tri9na': 10017, 'ntkka?': 10018, 'l7ariss': 10019, 'machfnak': 10020, 'jara2id': 10021, 'manghawtoch?': 10022, 'lmasasat,': 10023, 'fbiti': 10024, 'kaydkhl': 10025, 'ftaman.': 10026, 'walla?': 10027, '2000': 10028, 'kandyy3o': 10029, 'sba7,': 10030, 'blasa,': 10031, 'wedni8': 10032, '8awa2iyya': 10033, 'tari5': 10034, 'l9erda': 10035, 'wsalt': 10036, 'n9iyya': 10037, 'm3za': 10038, 'nste3mlou': 10039, 'lyouma': 10040, 'mje8da': 10041, 'kayda7ko': 10042, 'wdd7na': 10043, 'mat7af': 10044, 'jina,': 10045, 'nmchiw': 10046, 'frasek': 10047, 'maydrbnach': 10048, 'flghalib,': 10049, 'rra2i3a': 10050, 'memnou3': 10051, 'ze9ram': 10052, 'ma5ankounch': 10053, 'n7ddr8om': 10054, 'nakhwi': 10055, 'katderni': 10056, 'mitro': 10057, 'fmalja2': 10058, 'ano': 10059, 'liyamat.': 10060, 'ktr': 10061, '260': 10062, 'chfto': 10063, 'makan2amench': 10064, '3ard': 10065, '9errert': 10066, 'maymkench': 10067, 'ybark': 10068, '3ndkoum': 10069, 'lay7afdek': 10070, 'bzf': 10071, '3asabi': 10072, 'katb9aw': 10073, 'kaml.': 10074, 'm9cheb': 10075, 'taykhllini': 10076, 'na9dar': 10077, '2a9all': 10078, '5lass': 10079, 'ktbtha': 10080, 'tltazem': 10081, 'kherj': 10082, 'kangol': 10083, 'lkhar.': 10084, '7tal': 10085, 'aa': 10086, 'ma3endich': 10087, 'tbarzit': 10088, '3a2ilatna': 10089, 'maktabti': 10090, 'zwinin!': 10091, 'lmaryou': 10092, 'kanisa': 10093, 'meziana': 10094, 'rigbi': 10095, 'lgharbi': 10096, '3andi,': 10097, 'mchrob': 10098, 'tmetel': 10099, 'ki3jbouk': 10100, 'nwali': 10101, 'chwia,': 10102, 'wajdin': 10103, 'twsel?': 10104, 'twali': 10105, 'nsere3': 10106, 'jbel': 10107, 'rajliya': 10108, 'n8zzha': 10109, 's7i7': 10110, 'ghayjrriw': 10111, '2aditk...': 10112, 'lmasba7': 10113, '5assou': 10114, 'mt2akad?': 10115, 'b7al': 10116, 'wadifa': 10117, 'yo9a3': 10118, 'koul8oum': 10119, 'kan9lab': 10120, 'mat7arkoch': 10121, 'kay3jbke': 10122, 'ssimana': 10123, 'niha2iyan,': 10124, 'l3bat': 10125, 'accordion,': 10126, 'i3ada': 10127, 'ma9al': 10128, 'djaj,': 10129, 'goliya': 10130, 'makaygoulch': 10131, 'makhddamch': 10132, 'lmaskin': 10133, 'daroriyya': 10134, 'toyor': 10135, 'miladk': 10136, 'kandiroha': 10137, 'diro?': 10138, 'b7alek?': 10139, 'kankhasro': 10140, 'lblad': 10141, 'm8errsa': 10142, 'rad': 10143, 'blado': 10144, 'kaybniw': 10145, 'katfdel?': 10146, 'tsalit': 10147, 'achanhowa': 10148, 'n9ssem': 10149, 'kay3ed?': 10150, 'kantsa2al': 10151, 'kharjat': 10152, 'dfran': 10153, 'kat9leb': 10154, 'ssalir?': 10155, 'taniya,': 10156, '7ma9iti?': 10157, 'tanta!': 10158, 'n3ref': 10159, '3aridat': 10160, 'dyali.': 10161, '2oustad': 10162, 'mghemmed': 10163, 'rjlih,': 10164, 'l2isti9laliya': 10165, 'rrb3a': 10166, 'katyye9': 10167, 'kaydiro!': 10168, 'alarm': 10169, 'nsafr': 10170, 'kter.': 10171, 'nsiftoh': 10172, 'nselli': 10173, 'rri7': 10174, '7d': 10175, 'lhadra': 10176, 'nkhlih': 10177, 'bkri!': 10178, 'hamdolah,': 10179, 'kay3jbok': 10180, 'tmn3ak': 10181, 'katchouf.': 10182, 'diawlek': 10183, 'mitali!': 10184, 'chhar!': 10185, 'chirrira?': 10186, 'fack': 10187, 'lkhamsa': 10188, 'limen': 10189, 'ghber': 10190, 'yoga': 10191, 'lrayon': 10192, 'a7ra,': 10193, 'ghay7adro': 10194, 'vosges.': 10195, 'lijtima3at': 10196, 'tlamd': 10197, '5erjat': 10198, 'talamid': 10199, 'tchoufni?': 10200, 'dirikt': 10201, 'n8der': 10202, 'mzyan': 10203, 'onass': 10204, 'bou3wid': 10205, 'nkhalih': 10206, 'blkrima?': 10207, 'makan3ref': 10208, 'lma,': 10209, '9asd': 10210, 'chekhsiya': 10211, 'salam.': 10212, 'kan9raw': 10213, 'lcar': 10214, 'mti7an': 10215, 'dialou': 10216, 'zwinin...': 10217, 'llewla': 10218, 'nkhrej': 10219, 'za2id': 10220, 'ndrab': 10221, 'ma9li': 10222, 'jjou3?': 10223, 'f8emt': 10224, 'kanda7ko': 10225, 'kankhtef': 10226, 'aykhsna': 10227, 'nsma3': 10228, 'wayli?': 10229, 'kantmenna.': 10230, 'tilifouni': 10231, 'walidya': 10232, 'l98wa': 10233, 'kanti9': 10234, '7dah': 10235, 'chmn': 10236, '3endou': 10237, 'nrje3': 10238, 'yakloh': 10239, 'majmoa3at': 10240, 'moussa3id': 10241, 't3oum': 10242, 'mkanfhamch': 10243, '7sb': 10244, 'sari7': 10245, 'lcravata': 10246, 'kayb5iw': 10247, 'ndiroh': 10248, 'ndirha,': 10249, 'cds': 10250, 'jamila': 10251, 'sweltini': 10252, 'yemken': 10253, 'lkmala': 10254, 'kanmil': 10255, 'fhar': 10256, 'lbawsala.': 10257, 'dirha?': 10258, 'nktchafou': 10259, 'i8ezz': 10260, 'arjontin': 10261, 'dazt': 10262, 'blklab': 10263, 'rrajl': 10264, 'kaylbes': 10265, 'n7taflo': 10266, 'zzbel': 10267, 'ntlab': 10268, 'rondivo?': 10269, 'khala': 10270, 'as2ila': 10271, 'lelmedrasa': 10272, '3tatha': 10273, 'lpiano': 10274, 'onkhod': 10275, '3ala9at': 10276, 'ne9ra': 10277, 'bghitek': 10278, 'mat7elch': 10279, '5asshoum': 10280, '7sen?': 10281, 'n9ssiw': 10282, 'ipad': 10283, 'a7asis': 10284, 'tathdr?': 10285, 'wit7etto': 10286, 'lifiha': 10287, 'wladhom': 10288, 'tendif': 10289, 'lwa7id': 10290, 'tfakarni': 10291, 'makan9elleb': 10292, 'kaddenn': 10293, 'nkhddem': 10294, 'khas': 10295, 'nchoufouk': 10296, 'fl7amam': 10297, 'garro': 10298, 'bjje8d': 10299, 'katl3eb': 10300, 'ghayjina': 10301, 'kidayra?': 10302, 'flwa9i3': 10303, '7ala9at': 10304, 'kaydreb': 10305, 'kat9sd': 10306, 'jani': 10307, 'coctail': 10308, 'lbkhoch': 10309, 'aykhssni': 10310, 'cheghlek': 10311, 'boton': 10312, 'jiran': 10313, 'li9sadt': 10314, 'ji3an?': 10315, 'jiti': 10316, 'lcoumissariat': 10317, 'kan9arri': 10318, 'linglziya': 10319, 'tlyouma': 10320, 'ssalir': 10321, 'ijtima3?': 10322, 'bia': 10323, 'ntla3': 10324, 'khona': 10325, 'mnkhoud': 10326, 'kidewezti': 10327, 'rachid...': 10328, 'l9lib,': 10329, 'salit': 10330, 'n7al!': 10331, 'smyyti': 10332, 'ssalama?': 10333, 'llogha': 10334, 'tmrin': 10335, 'l7arra': 10336, 'kayb9a': 10337, 'rasmiyyin': 10338, 'droj': 10339, 'brassi': 10340, '3ndou': 10341, 'we9tmma': 10342, 'chotanbir': 10343, 'mghribia': 10344, '3liha.': 10345, 'chchortat': 10346, 'driyfine.': 10347, 'lou5a': 10348, 'ljara2id': 10349, 'hal3ar': 10350, 'fl9r3a': 10351, 'naima': 10352, 'dima,': 10353, 'lib9a': 10354, 'lmakla': 10355, 'ttnin': 10356, 'sobba': 10357, 'zzarafa': 10358, '7lowa,': 10359, 'mnouwer!': 10360, 'kayjri': 10361, '9ferti8a': 10362, 'cha7al': 10363, 'chokan': 10364, 'ttwil.': 10365, 't3atel': 10366, 'fchkel,': 10367, 'mamt2kkdch': 10368, 'bdabt,': 10369, 'm7dodin': 10370, 'kat3jbni!': 10371, 'fassa': 10372, 'ttswira?': 10373, 'rekkezti': 10374, 'khanz': 10375, '3jebha': 10376, 'fuikra': 10377, 'l7al': 10378, '9tira7.': 10379, 'mat9ala9ch,': 10380, 'flmatar': 10381, 'dyalhom?': 10382, 'kants2al': 10383, 'makan': 10384, 'kaychreb': 10385, 'mat3raf!': 10386, 'biikhir': 10387, 'nketter': 10388, 'yab9aw': 10389, 'sa7bi': 10390, '8ennina': 10391, '3ink': 10392, 't8zzek': 10393, 'w': 10394, 'kaylbs': 10395, 'ghorfa': 10396, 'achawa': 10397, 'mdewrina': 10398, 'khssert': 10399, 'jme3ti': 10400, 'nadi,': 10401, '7wayji,': 10402, 'fouad,': 10403, 'ttelj': 10404, '7fyan': 10405, 'lb7r': 10406, 'kayen': 10407, '2insan': 10408, 'tawsila': 10409, 'l7it': 10410, 'mdewi': 10411, 'kamlo': 10412, 'jnanat': 10413, 'khrin': 10414, 'isawbo': 10415, 'sahbi': 10416, 'wkha': 10417, 'opera': 10418, 'galess': 10419, 'lmaw9if': 10420, 'abril': 10421, 'mo9arar': 10422, 'dwazt': 10423, 'wd3ia': 10424, 't9rrar!': 10425, 'lgana': 10426, 'carta': 10427, 'makat9elle9': 10428, 'mchghol': 10429, 'khas8om': 10430, 'ghalat': 10431, '5it': 10432, 'sbitar?': 10433, 'ttisa3': 10434, 'kimmia': 10435, 'ysar9ona': 10436, 'lmazyan': 10437, 'mat9ra': 10438, 'zedti': 10439, 'limoun.': 10440, 'tab38a': 10441, 'wbink': 10442, 'lkhawf': 10443, 'f9ra': 10444, 'chefna': 10445, '9ern': 10446, 'ijabia': 10447, '3atia': 10448, 'kolchi!': 10449, 'jwaj8a': 10450, 'lkamanja': 10451, 'wa9af!': 10452, 'twfi': 10453, 'rkhis': 10454, 'koutoubia?': 10455, 'ntsara': 10456, 'guitar!': 10457, 't3adha?': 10458, 't3enni': 10459, 'rassou': 10460, 'riwaya': 10461, 'malaki': 10462, 'masaferti': 10463, 'ma5aty9nich': 10464, 'lkharita.': 10465, 'wedert': 10466, 'matla9iti': 10467, 'asi7ia': 10468, 't3awdi': 10469, '3regt.': 10470, 'ndouz': 10471, 'likat9lab': 10472, 'ma5tessti': 10473, 'nefs': 10474, 'kant7rrek': 10475, 'nadar': 10476, 'tjrab': 10477, 'kantsennet': 10478, '7rb': 10479, 'dayz': 10480, 'mli': 10481, 'twila': 10482, 'nkhaliha': 10483, 'dwa?': 10484, '3arfin': 10485, 'bch7al': 10486, 'malik': 10487, 'tsnna!': 10488, 'ra2i3a!': 10489, 'lmohandissin': 10490, 'ba7riya': 10491, '3adatan': 10492, 'lppanda': 10493, 'ngolo': 10494, 'fchkeel,': 10495, 'was3a': 10496, 'wa7d!': 10497, '2a9dam': 10498, 'nffakhat': 10499, 'mona...': 10500, 'likat9sad,': 10501, 'chchitan': 10502, 'nemchi': 10503, '7yatek': 10504, 'an3awed': 10505, 'msta9el': 10506, 'nari.': 10507, 'l3emna': 10508, 'lbrocolie': 10509, 'ikon': 10510, 'sosit?': 10511, 'kay3ref': 10512, '3mmrk': 10513, 'atwal': 10514, 'jito': 10515, 'ghatr7el?': 10516, 'tn9ess': 10517, 'ta7ed': 10518, '7ttit': 10519, 'nfsani': 10520, 'tlmakla': 10521, 'atri9a': 10522, 'lachmn': 10523, 'ssb3a': 10524, 'bo7dek': 10525, 't3ayat': 10526, 'ttorkiyya': 10527, 'wa7da': 10528, 'nsowlo': 10529, 'bna9s': 10530, 'zinine': 10531, '5watat': 10532, 'mkhtalfin': 10533, 'l7ikma': 10534, 'ba3ed': 10535, 'ljardinier': 10536, 'majawbtinich,': 10537, 'hiwaya': 10538, 'msekhsekh': 10539, 'b3id': 10540, 'skhouna': 10541, 'argan': 10542, 'katjesses': 10543, 'kansma3': 10544, 'lkhidma': 10545, 'casa': 10546, 'bdde7k': 10547, 'lmistara': 10548, 'binma': 10549, '3adia.': 10550, 'bzaf,': 10551, 'fsbah': 10552, 'mat9isch': 10553, 'mr3oud': 10554, 'jeddi': 10555, 'ghankhtmo8a': 10556, 'mziyrin': 10557, 'ybiyyen': 10558, '3awtani': 10559, 'nbtazzohom': 10560, 'nadarya': 10561, 'lwad3': 10562, 'dari': 10563, 'ndwzhom': 10564, 'lfrmliat': 10565, 'lah': 10566, 'lplombi': 10567, '7alian': 10568, 'ma7ali': 10569, 'douche': 10570, '9arasina?': 10571, 'ftra': 10572, 'tbrrd': 10573, 'mza7m': 10574, 'skotlanda': 10575, 'tonobila': 10576, 'dora': 10577, 'tatban': 10578, 'n9lab': 10579, 'sions': 10580, 'matkonch': 10581, 'fiha!': 10582, 'mazyan?': 10583, 'l8na?': 10584, 'b9ll': 10585, '3ll': 10586, 'lkamyowat': 10587, 'daya': 10588, 'rrouj': 10589, 'kifach': 10590, 'jibal': 10591, 'lel3cha': 10592, 'ichara': 10593, 'zwina.': 10594, 'ism': 10595, 'rrotoba': 10596, '9bl...': 10597, 'flmatch': 10598, 'jiddi': 10599, 'may': 10600, 'nlbes': 10601, 'kan9sd?': 10602, 'kayla3bo': 10603, 't3enfij': 10604, 'lkhamis': 10605, 'ooh,': 10606, 'fatima,': 10607, 'ghan3a9bek': 10608, 'hresst': 10609, 'ntweddro': 10610, 'mahara': 10611, 'kaykhdam': 10612, 'fblastha?': 10613, 'ndeddel': 10614, 'labas?': 10615, 'drayfin': 10616, 'kate3jebni': 10617, 'fa2id,': 10618, 'n9lb': 10619, 'si7iya': 10620, 'cha3ri': 10621, '9yassat': 10622, 'l9ita3': 10623, 'l9riba?': 10624, 'lba7ara': 10625, 'kan2ml': 10626, 'ntwaslo': 10627, 'compte': 10628, 'chjra': 10629, 'l3asa2ir': 10630, 'har': 10631, 'l2asdi9a2.': 10632, '3adim,': 10633, 's3iba.': 10634, 'kikayjiwk': 10635, 'kayrje3na': 10636, 'mabanch': 10637, '3lik': 10638, 'sima': 10639, 'la7da': 10640, 'madda': 10641, 'mab9a': 10642, 'dd8eb': 10643, 'his': 10644, 'dlktouba': 10645, 'm9ad': 10646, 'tbe3ni': 10647, 'lih,': 10648, 'lmoustawa': 10649, 'n99ez,': 10650, 'man9blch,': 10651, 'sef7a?': 10652, 'wa7din': 10653, 'nrkeb': 10654, 'mo7alch': 10655, 'nihayat': 10656, 'mghribya': 10657, 'nsalih': 10658, 'ywaklo': 10659, 'ch8r': 10660, 'ra2i3a.': 10661, 'kat9tare7?': 10662, 'salam': 10663, 'njina': 10664, 'matfekertch': 10665, 'itlb8om': 10666, 'sahel': 10667, 'isla7atat': 10668, 'ngollik': 10669, 'kansma38om': 10670, 'rba3mia': 10671, 'serwal': 10672, 'lhnoud,': 10673, 'fnngliz': 10674, 'kantfrrjo': 10675, 'tgheyyeb': 10676, 'l7ayat?': 10677, 'lmoujtama3': 10678, 'ir7mo': 10679, 'tzour': 10680, 'b3id?': 10681, 'matwatar?': 10682, 'marhba,': 10683, 'na5oud': 10684, 'tnbbe2': 10685, 'ikhrjona': 10686, 'do': 10687, 'dwz': 10688, 'chta.': 10689, 'yallah8': 10690, 'lvilaj': 10691, 'lmti7an': 10692, 'khditi?': 10693, 'kamlin?': 10694, 'mosi9a,': 10695, 'l8adchchi?': 10696, 'n3as.': 10697, 'lmcha': 10698, 'lmosa3ada': 10699, 'l3adasat': 10700, 't3tik': 10701, 'tkhaylti': 10702, 'zfta': 10703, 'conji.': 10704, 'picnic': 10705, 'dde7ka': 10706, 'wayli': 10707, '3omoman': 10708, 'awwalan.': 10709, 'moul7id': 10710, 'khsshom': 10711, '3oma': 10712, 'nl3bo': 10713, 'tamrin': 10714, 'google': 10715, 'kliti?': 10716, 'safrti': 10717, 'bsse7!': 10718, 'ghantlb': 10719, 'monasiba': 10720, 'lwasfa': 10721, 'l7mmam': 10722, 'mstressi': 10723, 'tchdd': 10724, 'brassak': 10725, 'ayb9a': 10726, 'mkhalini': 10727, 'mchaw': 10728, 'nraj3': 10729, 'l3awd': 10730, '9rayet': 10731, 'l8awa2': 10732, 'remdan': 10733, 'lpanda': 10734, 'ten3es': 10735, 'katwjed': 10736, 'a7san': 10737, 'ma3merek': 10738, 'lkoktel.': 10739, 'l3ajaza?': 10740, 'ramla': 10741, 'ydawzo': 10742, 'maytrach': 10743, 'sefra': 10744, 'mtchewe9': 10745, 'lbsla': 10746, 'dyalhom': 10747, 'khssk': 10748, 'l9ila3': 10749, 'lkhtiyar,': 10750, 'lmost3jalat': 10751, 'ta2khirat': 10752, 'l3afia!': 10753, 'na9s': 10754, 'atba9': 10755, 'merra': 10756, 'mkhtalfa': 10757, 'klian': 10758, 'atar': 10759, 'hdaya': 10760, 'ls7ab': 10761, '7essent': 10762, 'bali': 10763, 'ozwnin...': 10764, '3ami9': 10765, 'drhem': 10766, '2ettro': 10767, '9olti?': 10768, 'nraje3': 10769, 'na3ess': 10770, 'katmecha': 10771, 'lkhdar': 10772, 'drbt': 10773, 'kanla3bou': 10774, 'lkelb...': 10775, 'dyalna?': 10776, 'drbek': 10777, '3ndi!': 10778, 'bs77a': 10779, 'matl3ebch': 10780, '3la9all': 10781, 'l3ali!': 10782, 'ma3louma': 10783, 'lchta': 10784, 'wlidat': 10785, 'tsrkila': 10786, 'knti?': 10787, 'kan3ch9ek': 10788, 'ghadi?': 10789, 'most9bal': 10790, 'tlma?': 10791, 'nstafdo': 10792, 'katwe3et': 10793, 'wrrkt': 10794, 'aji': 10795, 'katderrek': 10796, '3ibad': 10797, 'baghaw': 10798, 'niha2i?': 10799, 'flbar': 10800, 'nbddlo': 10801, 'bimo...': 10802, 'lawa8': 10803, 'nserref': 10804, 'dissir': 10805, 'vincent': 10806, 'wase3': 10807, 'tdir?': 10808, 'lmota9ati3a': 10809, 'llarob': 10810, 'n3ti': 10811, 'roma': 10812, 'nneffakha?': 10813, 'octopussy.': 10814, 'e-mail': 10815, 'doub': 10816, 'ykouno': 10817, 'wa7da!': 10818, 'rajlina': 10819, 'manwslo': 10820, 'ssalama;': 10821, 'nwrrik': 10822, 'zhar': 10823, '7wayjk': 10824, 'lbar': 10825, 'l9iti?': 10826, 'kantsalek': 10827, 'arrosoum,': 10828, 'kat9dar': 10829, 'diha': 10830, 'wsal': 10831, '3ddan': 10832, 'mnak.': 10833, 'dewr': 10834, 'mskouna': 10835, 'dri': 10836, 'masme3ti': 10837, 'tamdid?': 10838, 'lkodia': 10839, 'l9ima': 10840, 'fjbal': 10841, 'ryada?': 10842, 'klbo': 10843, 'ssyyad': 10844, 'tafassil': 10845, '7mr': 10846, 'makanhtamch': 10847, 'sa7i7.': 10848, 'moghamara': 10849, 'b3diyatna': 10850, 'kookiz,': 10851, 'kiti7ou': 10852, 'l2a7fad': 10853, 'ghlett': 10854, 't7bes': 10855, 'tscani': 10856, 'tedwach': 10857, 'l5ater?': 10858, 'ghasoul': 10859, 'bnaw': 10860, 'nswwl': 10861, 'ma3ndich': 10862, 'bnt': 10863, 'l7osn': 10864, 'fahm': 10865, 'kayftakher': 10866, 'ba3': 10867, 'otl9a': 10868, 'dakhiliyya': 10869, 'manwa9foch': 10870, 'katsmi': 10871, 'matgoul8ach': 10872, 'jaya,': 10873, 'ma3nawiyan': 10874, 'chmata': 10875, 'kay9ddmo': 10876, 'n3taraf,': 10877, 'lkhdma.': 10878, 'kan9edder': 10879, 'ykon': 10880, 't9riban...': 10881, 'lmasa3id': 10882, 'caisse': 10883, 'ghalyin.': 10884, 'l3afya': 10885, 'wow!': 10886, 'rajoul': 10887, 't3anfij': 10888, 'yarbi!': 10889, 'autorout': 10890, 'bik': 10891, 'bisalam': 10892, 'mjmou3in': 10893, 'kan9l3o': 10894, 'tlmrrat': 10895, 'makay3jbouch': 10896, 'rbe7t': 10897, 'nelbes': 10898, 'kantfella': 10899, 'chi': 10900, 'matwa9a3tch': 10901, 'male7': 10902, 'mo9errar': 10903, 'moul': 10904, 'l3alamiya': 10905, 'l7a9l': 10906, 'masafrtich?': 10907, 'tdarabt': 10908, 'katjaweb': 10909, 'akbar': 10910, 'sando9': 10911, 'yalah,': 10912, 'tagine': 10913, 'bcharik': 10914, 'l7al,': 10915, 'b7alach?': 10916, '7oriyat': 10917, 'janb': 10918, 'makaybdalch': 10919, 'chnahowa': 10920, 'nghnni': 10921, 'kridi': 10922, 'kayne9zzo': 10923, 'site': 10924, 'mimti': 10925, 'nghowwet': 10926, 'ch3elt': 10927, 'rasmi': 10928, 'lfachal?': 10929, 'bzarba,': 10930, 'omanfakrch': 10931, 'meftou7': 10932, '9litiha,': 10933, 'fik.': 10934, 'bjoj': 10935, 'la3eb': 10936, 'kimakan': 10937, 'lbsala': 10938, '7addi': 10939, '9ol': 10940, 'n7dr': 10941, '9isa': 10942, 'homa!': 10943, 'sou2al?': 10944, 'mab5ahch': 10945, 'ji8tek?': 10946, 'khdra,': 10947, 'tankhafo': 10948, 'ykherjo': 10949, 'kat7ettini': 10950, 'khla': 10951, 'teknologia': 10952, 'khwadria': 10953, 'katjri': 10954, 'emoji': 10955, 'tchfrat': 10956, 'ghda!': 10957, 'kanakol': 10958, 'kaytkhalso': 10959, 'm3andnach': 10960, 'fiha?': 10961, 'laa,': 10962, 'makanstajboch,': 10963, '7lib!': 10964, '9dr': 10965, 'aw9at.': 10966, 'kat3raf': 10967, 'taille?': 10968, 'mdall': 10969, 'kayejbek': 10970, 'mdlouma': 10971, 'mohamed': 10972, 'chchi3r': 10973, 'billah': 10974, 'wn8edro': 10975, 't9achrek': 10976, 'kay3ajboni': 10977, 'nbda?': 10978, '3arfk': 10979, 'lmada9?': 10980, 'mma': 10981, 'ssmou7at.': 10982, 'n9adrou': 10983, 'ldarajat': 10984, '3dna': 10985, 'katmchi': 10986, 'ma8': 10987, 'bsiftk': 10988, 'jahiza': 10989, 'nftr': 10990, '3refti,': 10991, 'ktabi': 10992, '7mar,kanchof': 10993, 'njarrab': 10994, 'ga3': 10995, 'ntnafas': 10996, 'mabghitch!': 10997, 'kat7ll': 10998, 'lbanka.': 10999, 'laft': 11000, 'wala': 11001, 'lien': 11002, 'drtiha': 11003, 'ta7drhom': 11004, 'katkhatat': 11005, 'tamchi?': 11006, 'foular?': 11007, 'ttout?': 11008, 'sma7lina': 11009, '3a9al': 11010, 'tedwi': 11011, 'kayna,': 11012, 'l9dam': 11013, 'marchi': 11014, '7awyj': 11015, 'lmasra7.': 11016, 'ykhalini': 11017, 'ssba7,': 11018, 'tenis?': 11019, 'chfti.': 11020, '3orod': 11021, 'tekmi': 11022, 'finek?': 11023, 'nwedde7': 11024, 'f3alam': 11025, 'kaybalia': 11026, '96': 11027, 'makanwjdoch': 11028, 'bzzerba': 11029, 'ji3anin,': 11030, 'makay8emmch': 11031, 'lhna': 11032, 'as2ila.': 11033, '8oa': 11034, 'sway3?': 11035, 'kaychwiw': 11036, 'glas.': 11037, 'okolchi': 11038, 'jjaya': 11039, '5dra': 11040, 'cheftha,': 11041, 'l3amal': 11042, 'din': 11043, 'debt?': 11044, 'l9ayloula': 11045, 'makan8drch': 11046, 'yghowet': 11047, 'kaytkal?': 11048, 'mawadi3': 11049, 'wajd?': 11050, '9erreb': 11051, 'lra9a2i9': 11052, 'merrat': 11053, 'tr7el': 11054, 'katsna3': 11055, '3andk': 11056, 'machftinich': 11057, 'nbniw': 11058, 'loubnan': 11059, 'jjaya,': 11060, 'tteyeb': 11061, 'sa7bek': 11062, 'mabghinach': 11063, '2ala': 11064, '3arfni,': 11065, 'lfrmaj?': 11066, 'kat5eyet': 11067, 'mo2kharan': 11068, 'nndader': 11069, \"lmoraba3a'\": 11070, 'mnak': 11071, '3edna': 11072, 'mam3wwlinch': 11073, 'mbarra3': 11074, 'lmontakhab': 11075, 'l2a7lam': 11076, 'jadd': 11077, 'saff!': 11078, 'ijabi!': 11079, 'rrasm': 11080, 'sghir?': 11081, 'kat3ejbek': 11082, 'glessna': 11083, 'makntch': 11084, 'ri7la': 11085, 'hakak,': 11086, 'manba8rtch': 11087, 'kantkhle3': 11088, 'm3amn': 11089, 'wajih': 11090, 'mra,': 11091, 'hadchi...': 11092, 'katkhddm': 11093, 'twerini': 11094, 'n3amalalla': 11095, '7aja': 11096, 'twe7echt': 11097, 'l7ari9': 11098, 'ljanoub,': 11099, 'kayjiw': 11100, 'katrddha': 11101, 'khwa': 11102, 'douchat': 11103, '3le9': 11104, 'jah': 11105, 'metcherrfin': 11106, 'l5essm': 11107, 'kat3awd': 11108, 'khassha': 11109, 'ssttinat,': 11110, 'ddolar': 11111, 'rasna': 11112, 'kat8dar?': 11113, 'lsse7ra': 11114, 'menou': 11115, 'kannakhoud': 11116, 'lgroupat': 11117, 'lmawad': 11118, 'bsla?': 11119, 'machftakch': 11120, 'laykhllik?': 11121, 'balak!': 11122, 'anni': 11123, 'jbal': 11124, 'archibald': 11125, 'fdmaghk': 11126, 'wa9f': 11127, 'makay9oulch': 11128, 'y3emmerha': 11129, '8adou': 11130, 'l5ssarat': 11131, 'll7m': 11132, 'wladk': 11133, 'lfalfla': 11134, 'katdereb': 11135, 'likay3jbok': 11136, 't': 11137, 'miladi!': 11138, '7el': 11139, 'drab': 11140, 'mmm,': 11141, 'lm3rodin.': 11142, 'to9b': 11143, '7int': 11144, 'jem3a': 11145, 'mata7if': 11146, 'dir?': 11147, 'abdallah': 11148, 'te3limat': 11149, 'magltich': 11150, 'kaygolo!': 11151, 'tri9': 11152, 'tl9a': 11153, 'teyyeb': 11154, '5at7jez': 11155, 'fwa9t': 11156, 'fer7ana': 11157, 'lformaj': 11158, 'makhdmch': 11159, 'kat9rah,': 11160, 'emma?': 11161, 'kayo93': 11162, 'mgheyysin': 11163, 'it7rg': 11164, 'achnahowa': 11165, '3ada': 11166, 'khoud': 11167, 'nle3bou': 11168, 'jou3': 11169, '9derti': 11170, 'chchams': 11171, 'kanjreb': 11172, 'ssnan': 11173, 'l7amed': 11174, 'ikhlef': 11175, 'ghedda': 11176, 'kay3azfo': 11177, 'macheftekch': 11178, 'lcartona': 11179, 'ttib': 11180, 'mirikan': 11181, 'lhih,': 11182, 'hwa.': 11183, 'chwia?': 11184, 'm3atal': 11185, 'fiddik': 11186, 'lppirmi': 11187, 'chnou?': 11188, 'tterjama': 11189, 'tkon': 11190, 'bsadma?': 11191, '9r9b': 11192, 'mochkila': 11193, '3lina': 11194, 'lmodifa': 11195, 'llebsa': 11196, 'myya': 11197, 'nfkrou': 11198, '9al': 11199, 'cameraman': 11200, 'tla9na': 11201, 'tari5iyin?': 11202, 'pisin': 11203, 'ldakchi': 11204, '9elle3': 11205, '3emmi': 11206, 'so3obat': 11207, 'likaykhasni': 11208, 'awlla,': 11209, 'maymoutouch': 11210, 'afdal': 11211, 'lifat': 11212, 'kaysta7a9': 11213, 'ighra9': 11214, '3jbouna': 11215, 'berhouch,': 11216, 'hna?': 11217, '3lia.': 11218, 'ma3na?': 11219, 'lmorra': 11220, 'fchms': 11221, '8okka': 11222, 'los': 11223, 'khassna': 11224, 'mab9it': 11225, 'ltayata': 11226, 'nhdro': 11227, 'agadir': 11228, 'dir': 11229, 'ssinjab': 11230, 'tfddl': 11231, 'maykon': 11232, 'tchouf': 11233, 'ntkllf': 11234, 'aandak': 11235, 'lhajj': 11236, 'joulian': 11237, '7na': 11238, 'irddo': 11239, 'dialo.': 11240, 'i3awnna': 11241, 'mamt2akad': 11242, 'l9tot': 11243, 'ngolchi': 11244, 'jjo3': 11245, 'cherraf': 11246, 'bhado': 11247, 'lkarim': 11248, 'ota7': 11249, 'tam,': 11250, 'hiyya': 11251, 'nhark,': 11252, 'tri9?': 11253, 'camera': 11254, 'o3chrin.': 11255, 'lmt7af': 11256, 'lkliyeb': 11257, 'drt': 11258, 'nnadira': 11259, 'makhasakch': 11260, 'lkhlas': 11261, 'galo': 11262, 'sghira?': 11263, 'nta9lo': 11264, 'mnsad': 11265, 'tfo,': 11266, '3a2iltek?': 11267, 'nhar?': 11268, 'kaykhsr': 11269, 'hak,': 11270, 'tchreb': 11271, 'zzitoun.': 11272, 'oustadna': 11273, 'ntjm3och': 11274, 'katfer7ek': 11275, 'denya': 11276, 'nawbat': 11277, 'nbi3o': 11278, 'ftour': 11279, 'kaychrb': 11280, 'kankheles': 11281, 'khwatat.': 11282, 'l9walb': 11283, 'plakar': 11284, 'llown': 11285, 'alah': 11286, 'tkherrej': 11287, '8a8owwa': 11288, 'dwztiha': 11289, 'lppantofa': 11290, 'man3estich': 11291, '7ssassin': 11292, 'tmma3': 11293, 'katl9a': 11294, 'bl3ya': 11295, 'mat3essebnich': 11296, 'pissin': 11297, 'blkheff': 11298, 'lw9at': 11299, 'ssta7': 11300, 'khatir.': 11301, 'tless9o': 11302, 'kayhdar': 11303, 'sinjab': 11304, 'o3ziz': 11305, 'l9idis': 11306, 'na3sa': 11307, 'kays7ab': 11308, 'kanfekrek': 11309, 'tdreb': 11310, 'kolchi.': 11311, 'ghanoslo': 11312, '7bibti': 11313, 'ya3la': 11314, 'katchof': 11315, 'kay5ress': 11316, 'talaba': 11317, 'flmosta9bal': 11318, 'l2ayam': 11319, 'makan7malch': 11320, 'fbzaf': 11321, 'tsana....': 11322, 'tayara,': 11323, 'mataymregch': 11324, 'mrta7a?': 11325, 'fdar.': 11326, 'mouri7': 11327, 'lassenseur': 11328, '9bel': 11329, 'a7dat': 11330, 'mabghit': 11331, 'berra,': 11332, 'fiddih': 11333, 'tl3': 11334, 'wslena': 11335, 'katjbad': 11336, 'kan7ma9!': 11337, 'sbbni!': 11338, 'ddar?': 11339, 'lflos,': 11340, 'me9li': 11341, 'sak': 11342, 'n8ark?': 11343, 't7ato': 11344, 'ssinima': 11345, 'karwasa': 11346, 'man3ich': 11347, 'fhadouk': 11348, 'ingenieur': 11349, 'miknasa': 11350, '9llbt': 11351, 'brra': 11352, 'nnilo': 11353, 'flbarria': 11354, 'tlj?': 11355, 'machrobat': 11356, 'lyoum': 11357, 'l7mir': 11358, 'rb3yyam': 11359, 'kankoun': 11360, 'nje7t': 11361, 'maghadich?': 11362, 'l9issas': 11363, 'majerbti': 11364, 'wa3ra': 11365, 'tamand': 11366, 'dialk.': 11367, 'chrajam': 11368, 'ghatsoum?': 11369, 'bzaf': 11370, 'chch9i9a': 11371, 'mabghach,': 11372, 'makayfhamch': 11373, 'dmm': 11374, 'lmasar': 11375, '3eyye9ti': 11376, 'maklitch': 11377, 'atay!': 11378, 'tgaddo': 11379, 'a9sa': 11380, 'makan7asch': 11381, 'tyye9ha': 11382, 'flmktaba': 11383, 'telt': 11384, 'mneha': 11385, 'mzyan!': 11386, '7asasiyya?': 11387, 'kanbki': 11388, 'l7alat,': 11389, 'rideau': 11390, 'machftha': 11391, 'mrid?': 11392, 'blama': 11393, 'raghba': 11394, 'makan3edch': 11395, 'n7atoha': 11396, 'sa7bt': 11397, 'kantra3ad': 11398, 'kat3ref': 11399, 'n3rf': 11400, 'mmouskhin': 11401, 'l9el3a': 11402, 'drbtha': 11403, 'skhona': 11404, 'finek': 11405, 'lkhotwa': 11406, 'ltma': 11407, '8drto': 11408, 'khdmti': 11409, 'lzouj': 11410, '3azizati!': 11411, 'lbatat!': 11412, 'yawmiyyan': 11413, 'hakkak,': 11414, 'ya9in': 11415, 'nchofok': 11416, 'dyal?': 11417, 'kandenn.': 11418, 'zeffan': 11419, 'mech': 11420, '7adara': 11421, 'llkhrin': 11422, 'liknti': 11423, 'jit!': 11424, 'maknchbhch': 11425, 'wojodi': 11426, 'jedatha': 11427, 'kidayra': 11428, 'aykhsek': 11429, 'ta8ada': 11430, 'tkbtha': 11431, 'ghatla7d': 11432, '3en9o': 11433, 'aya5oud': 11434, 'lkhota': 11435, 'lfarmaj,': 11436, 'gltha': 11437, '7ader': 11438, '3lib.': 11439, 'chchrif': 11440, 'tlila': 11441, 'treb7ou': 11442, 'fihoum.': 11443, 'l7mar': 11444, 'prezentasion': 11445, 'yji': 11446, 'nreje3': 11447, 'ankhrj': 11448, 'l3chia': 11449, 'drbni': 11450, 'ijtima3i': 11451, 'kantmena': 11452, 'sael': 11453, 'na3tih': 11454, 'liha': 11455, 'makankhtatch': 11456, 'b9ahwtak?': 11457, 'fte7': 11458, 'limchfthach': 11459, 't9er': 11460, 'r9i9': 11461, 'm2ezem': 11462, 'djaj?': 11463, 'sa3,': 11464, 'moughnniya': 11465, 'jupe': 11466, 'kay3jbou8': 11467, 'l3adiyya': 11468, 'l7idda': 11469, 'kayselli': 11470, 'fl': 11471, 'llila?': 11472, 'l7ayat': 11473, 'bmokawin': 11474, 'kantafa9': 11475, 'ttbib?': 11476, 'kalkin': 11477, 'aswat': 11478, 'afak': 11479, 'fl7a9iba': 11480, 'khask': 11481, 'lbzar': 11482, 'tar': 11483, 'presentation?': 11484, 'tberzit': 11485, 'dyl': 11486, 'walakin': 11487, 'mltazmin': 11488, 'lay3mmr8a': 11489, 'riyadat': 11490, 'nta.': 11491, 'lmowsim': 11492, 'menu?': 11493, 'khasak': 11494, 'l3tch': 11495, 'n7at': 11496, 'mat9lla9ch!': 11497, 'w7alt': 11498, 'le79i9i': 11499, 'drayef': 11500, 'matkemmel': 11501, '7iyyed': 11502, 'ti9a': 11503, 'lase9': 11504, 'tl3eb?': 11505, 'kansm3': 11506, 'dowal': 11507, 'tghawt': 11508, 'chrbti': 11509, 'modda': 11510, 'fjjrda,': 11511, 'klima': 11512, 'dehri': 11513, 'lwad,': 11514, 'lchewt': 11515, 'kankhdam': 11516, 'nsme2': 11517, 'tylo7o': 11518, 'lkanisa': 11519, \"'irsal'\": 11520, '5nrebi': 11521, 'nstaghllo': 11522, 'on9dro': 11523, 'kookizat': 11524, 'triko': 11525, 'mon3icha': 11526, 'skhoniya?': 11527, 'atay?': 11528, 'nnas?': 11529, 't9a3ad': 11530, 'rrich': 11531, 'dirasat': 11532, 'syebt': 11533, 'katnchr': 11534, 'imkn': 11535, 't9al': 11536, 'n9drou': 11537, 'ytchekkaw': 11538, 'nrta7': 11539, '3lia!': 11540, 'ysra9o': 11541, 'nes': 11542, 'makat3jebnich': 11543, '9eddi': 11544, 'mamzyanch': 11545, 'ta': 11546, 'kanmdegh': 11547, 'makayde77ekch': 11548, 'mti99en?': 11549, 'kanghowet': 11550, 'lay7fdek.': 11551, 'mmossekh': 11552, 'lfransawia?': 11553, 'namodaji': 11554, 'nsme3': 11555, 'mouri7in': 11556, 'darouri.': 11557, 'kayjibo': 11558, 'lbiti': 11559, 'ljbl?': 11560, 'blkasal!': 11561, 't3almi': 11562, 'tsbe7': 11563, 'ta9ss': 11564, 'ftabi3a': 11565, 'afkarkom?': 11566, 'ktab:': 11567, 'ssaba7': 11568, 'chemch': 11569, 'ljomhour': 11570, 'tl9na!': 11571, 'khayri': 11572, 'ba5ya': 11573, 'ch5ss': 11574, 'gbila': 11575, 'bak': 11576, 'tbznisa': 11577, 'mkhtalfin,': 11578, '3amr': 11579, 'tla3': 11580, '3emyin': 11581, 'bch3er': 11582, 'l3ars': 11583, 'sorori': 11584, 'mafiha': 11585, 'l7ob': 11586, 'fl7issa': 11587, 'litaj': 11588, 'lkbda': 11589, 'lba7ara...': 11590, 'n7awel': 11591, 'lkadr': 11592, 'olmanga': 11593, '8ddentini': 11594, 'trowwenti': 11595, 'lmdina!': 11596, 'l7awd': 11597, '9tira7at': 11598, 'ltyor': 11599, 'tgolia': 11600, 'rachid.': 11601, 'zzin': 11602, 'wselni': 11603, 'fatira': 11604, 'tbaznisa': 11605, 'kanl3b': 11606, 'mou8ndis': 11607, 'n3es.': 11608, 'ttiyyara': 11609, 'pissin.': 11610, 'jina.': 11611, '7arra': 11612, 'lib9at': 11613, 'janoub': 11614, 'lwsekh': 11615, 'mach8oura': 11616, 'masmou7?': 11617, '7ot': 11618, 'tyabek': 11619, '3taha': 11620, '9aren': 11621, 'llila.': 11622, 'mou8im': 11623, 'lmada': 11624, 'rizo.': 11625, 'katl3ab?': 11626, 'kay3ejebk': 11627, '3emert': 11628, 'hakima': 11629, 'ddar,': 11630, 'tahoa,': 11631, 'mchmach': 11632, 'chwiya...': 11633, 'l7ad,': 11634, 'ndwz': 11635, 'makay3arfohomch': 11636, 'katnedem': 11637, 'lisar': 11638, 'kaynin': 11639, 'blasto': 11640, 'nkhorjo?': 11641, 'mkllef': 11642, '9atelk': 11643, 'albari.': 11644, 'i7taflo': 11645, 'tbasl': 11646, 'lghis': 11647, 'yl9ana': 11648, 'kaddir?': 11649, 'kan9cheb': 11650, 'msali': 11651, '3andhoum': 11652, 'tanta,': 11653, 'makayench': 11654, 'waylii,': 11655, 'tfakart': 11656, 'djaja': 11657, 'katfella?': 11658, '3erram': 11659, 'it7rgo.': 11660, 'hakkak.': 11661, 'mafahim': 11662, 'nrakzo': 11663, 'sa8la': 11664, 'y9di': 11665, 'permis': 11666, 'kay3ejbouni': 11667, 'lmatar?': 11668, 'nsebn': 11669, 'sba7atek': 11670, 'tabi3i': 11671, 'faqat': 11672, 'odima': 11673, 'nwaklo': 11674, \"ntkonikta?'\": 11675, 't9allb': 11676, 'm3aha': 11677, 'katl3b': 11678, 'ddisir': 11679, 't9achri?': 11680, '3rfti': 11681, 'jjayya?': 11682, 'madert': 11683, 'hoea': 11684, 'tlyamat': 11685, 'i9ad': 11686, 'rahom': 11687, 'ahlan,': 11688, 'lfarachat': 11689, '5anreservi': 11690, 'chokran': 11691, 'baraka': 11692, 'katfer7rek': 11693, '3echra': 11694, 'ncherbo': 11695, 'lkhodra': 11696, 'asasan': 11697, 'mtwada3': 11698, 'e-mail.': 11699, 'namchi': 11700, 'm3el9a': 11701, 'ttebakh': 11702, 'tle9na': 11703, '7atha': 11704, 'doyof,': 11705, 'romatizm': 11706, 'bl7a9': 11707, 'ghadya': 11708, 'rou7': 11709, 'l3iyba': 11710, 'm9ala9': 11711, 'flma,': 11712, 'ssekkar?': 11713, '3zaz': 11714, 'sora': 11715, 'lanformatik': 11716, 'lguitar': 11717, '5an9der': 11718, 'le3aba': 11719, 'imta': 11720, 'chmch?': 11721, 'ddersa': 11722, 'makatbghikch?': 11723, 'l7e99.': 11724, 'dakhla': 11725, 'ghat3ttlna': 11726, 'l9aswa': 11727, 'smka': 11728, 'mou2a5aran': 11729, 'sa3a.': 11730, '5out': 11731, 'hah--': 11732, 'tackle': 11733, 'anshita': 11734, 'mazal,': 11735, 'nnakhdou': 11736, 'nteyyb': 11737, 'tab3an.': 11738, 'lmat3am?': 11739, 'katakhd8om': 11740, 'flil?': 11741, 'kantna9cho.': 11742, 'lbiskwi?': 11743, 'lkoumidiyya': 11744, 'rbat': 11745, 'bghti': 11746, 'lfraise?': 11747, 'khsna': 11748, 'wodou7': 11749, 'lda2ira': 11750, 'm9ewwes': 11751, 'ismemoni': 11752, 'llah': 11753, 'chte7': 11754, 'jina': 11755, 'chouka': 11756, 'walakin...': 11757, 'tfhm': 11758, 'telephoni': 11759, 'l3asabiya': 11760, 'dfel': 11761, 'ndadri': 11762, 'jjbal': 11763, 'khrja': 11764, 'chchamaliya': 11765, 'jjay?': 11766, 'tadrib': 11767, 'moghazalat': 11768, 'jm3a': 11769, 'mousi9i': 11770, 's5ir': 11771, 'tilifon': 11772, 'byota': 11773, 'maghaytzadnich': 11774, 'makayl3boch': 11775, '7adyani': 11776, 'flghaba': 11777, 'zagi': 11778, 'sppanya': 11779, 'ychoufou': 11780, 'rje3t': 11781, 'lmodaya9a.': 11782, 'ppil?': 11783, 'lb3diyatna': 11784, 'l5edma?': 11785, 'ntl3o.': 11786, 'lblanat': 11787, 'nit.': 11788, 'ghan7taj': 11789, 'l9r3a': 11790, 'tglss': 11791, 'ymchi': 11792, 'dowzna': 11793, 'makanchejj3ekch': 11794, 'khdma?': 11795, 'lkouri': 11796, 'goli': 11797, 'chkoun?': 11798, '2arika?': 11799, 'hanta': 11800, '9ritih': 11801, 'l2ala': 11802, 'bsse7?': 11803, 'khoya?': 11804, 'l7yati': 11805, 'bttat.': 11806, 'couloir.': 11807, 'lbas': 11808, 'fga3': 11809, 'jerbou': 11810, 'ma3ndkomch': 11811, 'lkridiat': 11812, 'fd9i9a': 11813, 'na9l': 11814, 'yakloh!': 11815, 'toulout': 11816, 's7abati': 11817, 'ra2y': 11818, 'fl2ijtima3': 11819, 'charlotte': 11820, 'marart': 11821, 'nharek': 11822, 'ttobbat': 11823, 'hna!': 11824, 'tebbozi': 11825, 'dolarat': 11826, 'siamana': 11827, 'l7adat': 11828, '7bsat': 11829, 'khellito?': 11830, 'lsikritira,': 11831, 's7i7,': 11832, 'fblastak': 11833, '9niya': 11834, 'ma3had': 11835, 'lmarida': 11836, 'lplastik': 11837, 'manchattiw': 11838, 'new3': 11839, 'jabti': 11840, 'chcharikat.': 11841, 'tlfaza?': 11842, 'lbrd.': 11843, 'ngliz.': 11844, 'tsrbini': 11845, 'lbtata?': 11846, 'sdd': 11847, 'achrita': 11848, 'ana?': 11849, '8abet': 11850, 'lla!': 11851, 'ch3el': 11852, '9yass': 11853, 'lwil...': 11854, 'alam.': 11855, 'lay3mmrha': 11856, 'mat9ate3nich': 11857, 'wsfa': 11858, 'kandour': 11859, 'ftbiss': 11860, 'l8ind': 11861, 'nah!': 11862, '911': 11863, 'blanit': 11864, 'ttari9a': 11865, 'twa7sht': 11866, 'nch3lo': 11867, '8owwa': 11868, 'kannchchef': 11869, 'lkra': 11870, 'llowla': 11871, 'twyyrat': 11872, 'li': 11873, 'chimi': 11874, 'khle3ni': 11875, 'zoyot': 11876, '3adil.': 11877, 'banjo,': 11878, 'olla': 11879, 'lmohim': 11880, 'esenmen': 11881, 'f2aflam': 11882, 'momill': 11883, 'tnj7o': 11884, 'akhaf': 11885, 'smit': 11886, 'kaydi': 11887, 'chch8er': 11888, 'bikhir--dertha!': 11889, 'fdi7a!': 11890, 'l7lawi': 11891, 'kighandir': 11892, 'jami3at': 11893, 'as8al.': 11894, 'idtirab': 11895, 'mathdarch': 11896, 'mafhmtch': 11897, 'l9etta': 11898, 't9ett3o': 11899, 'kifach...': 11900, 'tari9a': 11901, 'khdam?': 11902, 'kantsa2el': 11903, 't8lla': 11904, 'khdmt': 11905, 'ghant8ella': 11906, 'bztamou': 11907, 'awel': 11908, 'ri7t8oum': 11909, '3ayan': 11910, 'fchrajem': 11911, 'nmouto': 11912, 'fatt,': 11913, 'a7lam': 11914, 'dokhan': 11915, 'fiya': 11916, 'kantre33ed': 11917, 'l3icha': 11918, '7mmam': 11919, 't9achri': 11920, 'l7ajm': 11921, 'blmowdo3': 11922, 'ydi': 11923, '9elbek': 11924, 'tshrb': 11925, 'ki3ajbek': 11926, 'kmlat.': 11927, 'darek?': 11928, 'herbou': 11929, 'morhafa': 11930, '9tekni': 11931, 'flte7t': 11932, 'ra2i3a': 11933, '5dina': 11934, 'khsni': 11935, 'ghaybghi': 11936, 'bta3rif': 11937, 'lbal,': 11938, 'ytsnna': 11939, 'mbrouk': 11940, 'ttanya': 11941, 'dewez': 11942, 'matb9ach': 11943, 'kayban': 11944, '8ala3': 11945, 'khrjat': 11946, 'fidlah': 11947, '3ndhoum': 11948, 'l9arib': 11949, 'ghda?': 11950, 'laysser': 11951, 'emails': 11952, 'machfti': 11953, 'babbagha2?': 11954, 'majmo3in!': 11955, 'nefsi': 11956, 'ghatkuni': 11957, 'momtaz.': 11958, 'nabo': 11959, 'chjem': 11960, 'tsnnaw': 11961, 'hia': 11962, 'kanchrb,': 11963, 'marat': 11964, 'rriyada': 11965, 'katkhyyli!': 11966, 'lmokawinat?': 11967, 'l3des': 11968, 'skkar': 11969, 'mkanch': 11970, 'wa7ed': 11971, 'na3ya': 11972, 'lma3dini': 11973, 'ghanmoutou': 11974, 'hamdolah': 11975, 'oghniyya?': 11976, 'khawi': 11977, 'lbira': 11978, '7atina': 11979, 'ntcalmaw': 11980, 'l7yot?': 11981, 'framy': 11982, 'ttasel': 11983, 'l8owiya': 11984, 'l3tech': 11985, 'stl?': 11986, 'mat9tare7ch': 11987, 'ppistach': 11988, 'jb8a': 11989, 'lmathematicien': 11990, 'tiramisu': 11991, 'lforsa': 11992, 'm3ttal': 11993, 'kaybghik': 11994, 'ohlala,': 11995, 'kan5ir': 11996, '9riba': 11997, 'mtwe99e3': 11998, 'nkherjo': 11999, 'charfin': 12000, '5atmchi': 12001, 'yakma': 12002, 'fhadshi': 12003, 'nb9aw': 12004, 'wa9a3?': 12005, 'sayd': 12006, 'abadan': 12007, 'ha7na': 12008, 'l7asasiyya': 12009, 'ttebla': 12010, 'sidi?': 12011, 'm9ess': 12012, 'llekher.': 12013, 'be3diyyat8oum': 12014, 'tdrahem': 12015, 'fer9tkom': 12016, 'aflam': 12017, 'christie': 12018, 'jihtk?': 12019, 'mamt2kadch,': 12020, '3o9ouba': 12021, '3ma?': 12022, '3llmada': 12023, 'netlakaw': 12024, 'nkounou': 12025, 'tlmdrasa!': 12026, 'l9as7a': 12027, '7ssen': 12028, 'kansawb': 12029, '3lliser': 12030, 'ourika': 12031, 'ttasmim': 12032, 'ichkal': 12033, 'n2akd': 12034, 'kat3elem': 12035, 'foursssa': 12036, 'omaghadi': 12037, 'flmactch': 12038, '3azizi!': 12039, 'cash': 12040, 'grade': 12041, 'lmataf!': 12042, 'la.': 12043, 'fcharika?': 12044, 'bkri': 12045, 'bra': 12046, 'oghniyya': 12047, 'kayabn': 12048, 'mra': 12049, '3chti': 12050, 'ntmnnaw': 12051, 'lmofddal': 12052, '9ti3': 12053, 'la7sab': 12054, 'makay8derch': 12055, 'ddir?': 12056, 'sourya': 12057, 'talt,': 12058, 'l9ehwa.': 12059, 'kifkrouk': 12060, '7ell': 12061, 'n3rd?': 12062, 'mderongi': 12063, 'tawfir': 12064, 'berred': 12065, 'nredd': 12066, 'lkwaffour': 12067, 'lfrmlyat': 12068, '5awi': 12069, 'parachute?': 12070, '20': 12071, \"l'etage\": 12072, 'kan3cha9': 12073, '5ayri': 12074, 't3alamti': 12075, 'oktoubr': 12076, 'lay3awn': 12077, 'khdamtak,': 12078, 'kabda': 12079, 'matgoul': 12080, 'mrttb.': 12081, 'okranya?': 12082, 'lmara': 12083, 'ijrriw': 12084, '39elti?': 12085, '9tisadia?': 12086, 'mal9ach': 12087, 'makanchreb': 12088, 'fta': 12089, '7yatha': 12090, '7arb': 12091, 'sonit': 12092, 'nkhllik': 12093, 'ntneffes': 12094, '3ad': 12095, 'awwalan': 12096, '3tah': 12097, 'mtkonch': 12098, 'kankhrj': 12099, 'ch3ar': 12100, 'rjlin': 12101, 'blmous': 12102, 'malabesch': 12103, 'bsaboun': 12104, '3lih?': 12105, 'stamte3t': 12106, 'kay7ttoh': 12107, 'l3chiya,': 12108, 'zorni': 12109, 'hit': 12110, 'kharaj': 12111, 'gerard': 12112, 'postal': 12113, 'jjdoura': 12114, 'fi8om': 12115, '3ndi': 12116, 'l3atifia': 12117, 'zine': 12118, 'kamchi': 12119, 'sslat': 12120, 'lhih': 12121, 'mgadda': 12122, 'ftaba9': 12123, 'ma3rftich': 12124, 'katkon': 12125, 'ghatkhelles': 12126, 'lgharib?': 12127, 'ysawal': 12128, 'chejra': 12129, 'ddi9a': 12130, 'nnata2ij': 12131, 'chghlk': 12132, 'ba3d.': 12133, 'bl3id': 12134, 'chkon': 12135, 'tyab,': 12136, 'mzyan.': 12137, 't9ra': 12138, 'ma3ndna': 12139, 'bse77a!': 12140, 'l8ndasa': 12141, 'ayeh.': 12142, 'trump': 12143, 'fn3as': 12144, 'msa2': 12145, 'galoulik': 12146, 'driyef': 12147, 'ra2is,': 12148, 'mat8azch': 12149, 'ma3ndou': 12150, 'nzyen': 12151, 'bl2a3chab': 12152, 'oh': 12153, 'lmdoubla': 12154, 'film?': 12155, 'bel7lib': 12156, 'mab9inach': 12157, 'nnour': 12158, 'beztami?': 12159, 'mabghitkch': 12160, 'inta9l': 12161, 'kbart': 12162, 'skotch': 12163, 'khlli8': 12164, 'ttyye9': 12165, 'kantalb': 12166, 'l7amra': 12167, 'chhar': 12168, 'l2awal': 12169, 'ssda3': 12170, 'lhossein,': 12171, '2asra3': 12172, 'lounhom': 12173, 'n3awnak': 12174, 'aslan,': 12175, 'msoldi': 12176, '3': 12177, 'tbeddel': 12178, 'namosiya': 12179, 'ntayyib': 12180, 'makadanch': 12181, '7m9?': 12182, 'ich8ar': 12183, 'mkta2eb!': 12184, 'ah...': 12185, 'nharak': 12186, 'l7louwwa': 12187, 'maadda': 12188, 'mkeffes': 12189, 'ndadri?': 12190, 'm3tal': 12191, 'n8ar': 12192, 'katjik': 12193, 'dafadi3': 12194, 'bawlo,': 12195, 'mab7alou': 12196, 'kollo': 12197, 'chno,': 12198, 'tsemi': 12199, '3ichrin': 12200, 'sedd': 12201, 'matsme3': 12202, '3imara': 12203, 'fnnhar': 12204, '7yati': 12205, 'sa3ida!': 12206, 'koun': 12207, 'mat2ked': 12208, 'assra3': 12209, 'l7okoma?': 12210, 'f9raya': 12211, 'kat3arfo': 12212, 'ngaddo!': 12213, 'blmantat': 12214, 'aaaaaaah': 12215, 'yanja7,': 12216, 'ibghiw': 12217, 'fi8a': 12218, 'l7ouloul': 12219, 'herban': 12220, 'dya': 12221, 'wrakt': 12222, 'lfraja': 12223, 'kikhdmti': 12224, 'ghayzadni': 12225, 'mdoblni': 12226, 'fjanbk': 12227, 'ghalat.': 12228, 'l9ddam!': 12229, 'y9alab': 12230, 'ghandowwer': 12231, 'annafsi': 12232, 'gales': 12233, 'khllini': 12234, 'nl3b': 12235, 'chchal': 12236, 'lmarron': 12237, 't7rak': 12238, 'tfkit': 12239, 'katsta799ha.': 12240, 'katjesses?': 12241, 'se77a': 12242, 'ddemm': 12243, 'tchmi': 12244, 'lonsombl': 12245, 'lbanan': 12246, 'jla5a': 12247, 'w9af!': 12248, 'kantkhna9': 12249, 'tla9ina': 12250, 'ki5etet': 12251, 'n7as': 12252, 'lw9t': 12253, 'talj': 12254, 'dkchu': 12255, 'lmossa3ada': 12256, 'dayer': 12257, '7izam': 12258, 'lkalmat': 12259, 'fatiha': 12260, 'makayb9ach': 12261, 'katfddel': 12262, 'm3ach': 12263, 'bzaf.': 12264, '7daya': 12265, 'mat9alle9ch.': 12266, 'tl7bs!': 12267, 'lkhadamat': 12268, '5irha': 12269, 'katmchi?': 12270, 'm3eseb': 12271, 'kayd77k': 12272, 'nt2akdo': 12273, 'bjjehd': 12274, 'joj': 12275, 'dollar?': 12276, 'tsennana': 12277, 'mrekez?': 12278, 'ghaykhssek': 12279, 'ma3a': 12280, 'kaydini': 12281, 'hder': 12282, 'sift': 12283, '2ila': 12284, 'kaykhdem': 12285, 'smou7at': 12286, 'chnahwa': 12287, 'likat9ra?': 12288, 'champagne?': 12289, 'tt7essen.': 12290, 'l8edra': 12291, 'katsm3': 12292, 'khlls': 12293, 'ne9it': 12294, 'ittifa9?': 12295, 'dalik': 12296, 'ltari9': 12297, 'mama': 12298, 'mse7t': 12299, 'snack.': 12300, 'ritm,': 12301, 'makantwe99e3ch': 12302, 'saferti': 12303, 'deri': 12304, 'gltiha': 12305, 'nnmoura': 12306, 'ftyara?': 12307, '3lih': 12308, 'mchina': 12309, 'taxi.': 12310, 'masm3tkch': 12311, 'katkoun': 12312, 'trini': 12313, 'llekhra': 12314, 'ttme3': 12315, 'riso': 12316, 'l2amira': 12317, 'europpa': 12318, 'mada9': 12319, 'lm5byahom': 12320, 'koura?': 12321, 'kaysom': 12322, 'bntek': 12323, 'tri9i': 12324, 'ma3reftch': 12325, 'masder': 12326, 'kanmchi': 12327, 'mohim': 12328, 'l7afl': 12329, 't9yass': 12330, 'tabghi': 12331, 'zzit': 12332, 'twedder': 12333, 'ma5an5liwkch': 12334, 'kay3tini': 12335, 'frmli': 12336, 'menha!': 12337, 'tfekk': 12338, 'l2a7mar': 12339, 'nl9aw': 12340, 'chchanti': 12341, 'amoulay.': 12342, 'matfewwe8ch': 12343, 'nchouf': 12344, 'restora': 12345, 'ywallef': 12346, 'nf8m': 12347, 'rani': 12348, 'ddyab': 12349, 'kaysoni': 12350, 'tatchmch': 12351, 'ba9a': 12352, 'lfrmliy': 12353, 'tay7al': 12354, 't8reb': 12355, 'makay3rfonich': 12356, 't9dimi': 12357, 't3jbek?': 12358, 'mosi9a': 12359, 'maghladch': 12360, 'ttswira': 12361, 'itkffes': 12362, 'loughat': 12363, 'lfada2': 12364, 'ttan': 12365, 'chwyia?': 12366, 'herbana': 12367, '9ism?': 12368, 'm3il9a': 12369, 'hwa': 12370, 'wr9a': 12371, 'ftyyara': 12372, 'afine': 12373, 'matwe77echtich': 12374, 'tijara,': 12375, 'kat5sel': 12376, 'ychaja3ni': 12377, '7ouriya': 12378, 'ghanbeddel': 12379, 'nafsiyan': 12380, 'rebbi!': 12381, 'chemch!': 12382, 'mada9at': 12383, 'y3ewed': 12384, 'li9adina': 12385, 'sa7bti': 12386, 'nfi9': 12387, 'ndadrek': 12388, 'twalit': 12389, '3tawna?': 12390, 'lme3da': 12391, 'golliha': 12392, 'lktab': 12393, 'martin': 12394, 'kayderni': 12395, 'mirikani?': 12396, 'derri?': 12397, 'krfsni': 12398, 'lkharita,aykhas': 12399, 'n9ayyam8om': 12400, 'b3ilm': 12401, 'frmaj': 12402, 'mnba8r': 12403, 'lppyano': 12404, 'chreb': 12405, 'idan,': 12406, 'blmalal': 12407, 'i7sa2ian,': 12408, 'klbi': 12409, 'nharek?': 12410, 'tsebb8a': 12411, 'itbssel': 12412, 'l2ewel': 12413, 'njiw': 12414, 'makan9derch': 12415, 'kat3awd?': 12416, 'dafya?': 12417, 'kandreb': 12418, 'flpilantiyat': 12419, 'sme3ni:': 12420, 'kay3ejbek?': 12421, '3osfourayn': 12422, 'zomala2,': 12423, 't9dr': 12424, 'bohdo': 12425, 'naskhaf': 12426, '3tawni': 12427, 'fibrayer': 12428, 'missajat': 12429, '9errebna': 12430, 'b5ir': 12431, 'lay7fdek!': 12432, 'llmdina': 12433, 'bingo': 12434, 'tifon': 12435, '7ta': 12436, 'd8rak': 12437, '5wadri': 12438, 'ntnaza8': 12439, 'matkhafch!': 12440, 'b3aid': 12441, 'n9ddo': 12442, 'tchyata': 12443, 'dyawlna': 12444, 'jdar': 12445, 'jraw': 12446, 'mwellefha': 12447, 'lkawn': 12448, 'mrtabta': 12449, 'chirashi!': 12450, 'ntab3o': 12451, 'ddfira?': 12452, 'mennek': 12453, 'mo2akad': 12454, '9sir?': 12455, 'ndmat': 12456, 'l2itirabat': 12457, 'itfawd': 12458, 'safi?': 12459, 'o3ndi': 12460, 'ghalyin': 12461, 'nemiw': 12462, 'tbe3ti': 12463, 'nn3ess': 12464, 'kaykar8oni': 12465, 'mo7amia': 12466, 'lghabya': 12467, 'snti7a': 12468, 'a7': 12469, 'kat9sed?': 12470, 'likayn': 12471, 'tgadd': 12472, 'fa': 12473, 'kat3rfo': 12474, 'temma': 12475, 'golia': 12476, 'maji3anch': 12477, 'machddit': 12478, 'masd9ouch': 12479, 'kay3ajboh': 12480, 'nne3so': 12481, 'tran,': 12482, 'yakhyab': 12483, 'mazyana?': 12484, 'se7a': 12485, 'mnnhom.': 12486, '9ar3a': 12487, 'lawal': 12488, '7lib': 12489, 'mzyan,': 12490, 'liglti': 12491, 'kif': 12492, 'torta': 12493, 'almanya': 12494, 'ltartib': 12495, 's7abni': 12496, '3awd': 12497, 'nkhaliwhom': 12498, 'khra,': 12499, 'nchoufou': 12500, 'wgfat.': 12501, '39l...': 12502, 'tfou.': 12503, 'brasek': 12504, 'khtira3': 12505, 'fiha,': 12506, 'nbda': 12507, 'ntlam': 12508, 'kat3erfiha.': 12509, 'lkharita?': 12510, 'miladou': 12511, 'ghancharek': 12512, 'tcalma': 12513, '3nne9ni': 12514, '5antla9a': 12515, 'tdiro': 12516, 'ma8ia': 12517, 'cha8ada': 12518, 'mghadich': 12519, '3assir': 12520, 'balisat': 12521, 'jeanat': 12522, 'zoj': 12523, 'drouj': 12524, 'ffas?': 12525, 'ma3ndhach': 12526, 'femmi': 12527, 'walo': 12528, 'm3aha,': 12529, 'olkhder': 12530, 'makaylbs': 12531, 'anchita?': 12532, 'matsewwelnich': 12533, 'lwa9i3': 12534, 'fl9a2ima?': 12535, 'wa9tna': 12536, 'ghda': 12537, 'madart': 12538, 'l3adl': 12539, 'ksida': 12540, 'kat9lleb?': 12541, 'tgol?': 12542, 'likaydwi\"': 12543, 'abred': 12544, 'katakhod': 12545, 'mch8our': 12546, 'kanjib': 12547, 'oropa': 12548, '3chrin': 12549, 'jame3': 12550, 'tani': 12551, 'bdakchi': 12552, 'i3awn': 12553, 'imti7an': 12554, 'fanni': 12555, 'fhmtek.': 12556, 'chwiya.': 12557, '7m9a!': 12558, 'ttmrin': 12559, 'chchklat': 12560, 'mab9ach': 12561, 'lkhdma!': 12562, 'kaydiro': 12563, 'drti': 12564, 'n3awnkom': 12565, 'kollo.': 12566, 'mtab3a': 12567, 'jibou': 12568, 'tswera': 12569, 'balek': 12570, 'fina': 12571, 'tfraj': 12572, 'soba,': 12573, '9arra': 12574, 'ftendance?': 12575, 'makatsalich': 12576, 't5rj': 12577, 'ki3rfk': 12578, 'kay7tafal': 12579, 'blwan': 12580, 'nt9tha': 12581, \"2a'khiran\": 12582, 'msta3edd': 12583, '2alam,': 12584, 'lla?': 12585, 'sme3ti?': 12586, 'ma5ay5demch': 12587, 'tbrzit': 12588, '5aymchi': 12589, '3tadart': 12590, 'fkora': 12591, 'mezyana': 12592, '3ytou': 12593, 'lkhalsa': 12594, 'hadik.': 12595, '3inia.': 12596, 'morse.\"': 12597, '7ayawiya': 12598, '7al': 12599, 'ndiroh?': 12600, 'ssder': 12601, '7amed': 12602, 'ddir8a': 12603, 'ltab': 12604, 'dyalmn': 12605, 'm3a': 12606, 'n3rdo': 12607, 'makatb8rakch': 12608, '4,': 12609, 'kay8der': 12610, '7ja': 12611, 'ndrbo': 12612, 'kadwi?!': 12613, 'kayjib': 12614, '7oudoud': 12615, 'momkin': 12616, 'maghankemmelch': 12617, 'nched': 12618, 'khayab': 12619, 'al3chran,': 12620, 'lstichara': 12621, 'katkouno': 12622, 'hcti': 12623, 'onsttfo': 12624, 'nit!': 12625, 'rrjal': 12626, 'kaymaradni': 12627, 'fllewwel': 12628, 'jwayh': 12629, 'maf8emtch': 12630, 'ga3ma': 12631, 'nsta3ml': 12632, 'bttawttor': 12633, 'ma3jebnich': 12634, 'l7afalat!': 12635, 'zagora': 12636, 'mathezch': 12637, '7bb': 12638, 'y3t9ona': 12639, 't9abel': 12640, 'sabt': 12641, 'mohim,': 12642, 'blayss': 12643, 'fl9ita': 12644, 'fl7sab!': 12645, 'lbarid': 12646, 'nal9a': 12647, 'dazet': 12648, 'lba7r': 12649, 'kaytmcha': 12650, 'laykhllik': 12651, 'skhoun,': 12652, 'lprojet': 12653, 'lfilm?': 12654, 'zwiin.': 12655, \"l'internet\": 12656, 'nt3chaw?': 12657, 'l9anoun': 12658, 'kat8der?': 12659, 'sba3i': 12660, '3tak': 12661, 'l3andalib': 12662, 'njerr': 12663, 'santim': 12664, 'waji': 12665, 'lmochkila': 12666, 'mafhamtch': 12667, 'ndoro': 12668, 'dwwzti': 12669, 'ysllefni': 12670, 'ghayl79': 12671, 'itsedd': 12672, '7wyaj': 12673, 'sandwich,': 12674, 'tikilaa': 12675, 's5ira': 12676, 'katteyeb': 12677, 'likay8am': 12678, 'lahna?': 12679, 'makan3esch': 12680, 'koumik': 12681, 'tmechcha.': 12682, 'chichawa': 12683, 'kima': 12684, 'chaftk': 12685, 'mouri7a': 12686, 'tfar9ti': 12687, '8akka?': 12688, 'mas2ala': 12689, 'chkarti': 12690, '5anmchi': 12691, 'bo7di,': 12692, 'ma3tanich': 12693, 'chre7': 12694, 'flfrran?': 12695, 'ki7ssen': 12696, 'khdrin?': 12697, '8zz': 12698, 'l8emm': 12699, 'mawad': 12700, 'contour': 12701, 'ldiyana': 12702, '7llit': 12703, 'matatfkkerch?': 12704, 'maba9ich': 12705, 'kaybor': 12706, 'adonis': 12707, 'lgarage': 12708, '7ouloul': 12709, 'fl9ent,': 12710, 'nnhar.': 12711, 'lmrrat': 12712, 'dyali...': 12713, '9ahwiya': 12714, 'brask': 12715, '7sen': 12716, 'wa3er': 12717, 'nt3ettel': 12718, '3raf': 12719, 'chrah': 12720, 'tewerna': 12721, '32': 12722, 'tal3a': 12723, 'ki7ssk': 12724, 'jilali': 12725, 'ttri9': 12726, 'ddrari': 12727, 'masabrch': 12728, 'mo7tamal': 12729, 'rra9s': 12730, 'ykheli': 12731, '5awya': 12732, 'olbyed?': 12733, 'ol9aha': 12734, 'tfernisa': 12735, '3yat': 12736, 't3alem': 12737, 'twguef': 12738, 'kadiro': 12739, 'bachwiya?': 12740, 'tsekhkhen': 12741, '3mmerha,': 12742, 'mbrok': 12743, 'tl3ou': 12744, 'tmata3': 12745, 't3awed?': 12746, 'annahom': 12747, 'ghaddouz': 12748, 'chile': 12749, 'bl7amd': 12750, 's8al,': 12751, 't9emmer': 12752, 'mam9la9': 12753, 'lbsla.': 12754, 'modirat': 12755, 'f8mt': 12756, 'kantbar8ach': 12757, 'chef.': 12758, 'katsowwer': 12759, '3a9laniya': 12760, '3awedt': 12761, 'dhab': 12762, 'bl3chia': 12763, 'jat': 12764, 'ksida.': 12765, 'tjwijat': 12766, 'ma7llito': 12767, 'khrjo': 12768, 'mat8dr': 12769, 'likay3icho': 12770, 'twe77echt': 12771, 'ntir': 12772, 'ttobis?': 12773, 'sajal': 12774, 'datay': 12775, 'lms2oliya?': 12776, 'nglso': 12777, 'sahel.': 12778, 'yaklna': 12779, 'madrbna': 12780, 'tlata?': 12781, 'maykonch': 12782, 'dila': 12783, 'l2osbo3ia?': 12784, 'ntkheyyel': 12785, '2oukla': 12786, 'nb9a': 12787, 'l8na,': 12788, 'bdheb': 12789, 'ngollih': 12790, 'web,': 12791, 'glna': 12792, 'mamzyanach': 12793, 'we7da': 12794, 'tahwa': 12795, 'solta': 12796, 'ldakhel': 12797, '2010': 12798, 'ma7chemtich?': 12799, '8adchchi?': 12800, 'n3rd': 12801, 'nrebiw': 12802, 'dialek': 12803, 'wa93?': 12804, 'llwan': 12805, 'liwllft': 12806, 'nsibtak': 12807, '7aflat': 12808, 'baf': 12809, 'lyadawiya': 12810, 'chfar': 12811, 'ghatjowwej': 12812, 'wah': 12813, 'nsta3ddo': 12814, 'touma': 12815, 'ma3ammrni': 12816, 'tfkrtih!': 12817, 'rrab7,': 12818, 'jamil!': 12819, 'matt9elle9ch': 12820, 'sme3': 12821, 'lmawdo3': 12822, '7essas': 12823, 'l7ajj': 12824, 'khassk': 12825, 'n7asno': 12826, 'kangoul?': 12827, 'raghabat': 12828, 'le5ra': 12829, 'lwojod': 12830, 'mziana!': 12831, 'bghiti': 12832, 'sansour?': 12833, '2ayf': 12834, 'nwslo': 12835, 'tsawel': 12836, 'ktira': 12837, 'dour': 12838, 'mliar.': 12839, 'bikhir.': 12840, 'm9tane3': 12841, '7bibi,': 12842, 'sbr': 12843, 'yl3bou': 12844, 'lmoftarad': 12845, 'jaya': 12846, 'silbiyat': 12847, 'okaydir': 12848, 'tsanna!': 12849, 'kolha': 12850, 'katferej': 12851, 'bal': 12852, 'farhan': 12853, '9ahwa': 12854, 'lhad': 12855, 'kayl3bo': 12856, 'zwiwna': 12857, 'katghrb': 12858, 'sbe3': 12859, 'lma7al': 12860, 'ssyda': 12861, 'matraddadch': 12862, 'bdelt': 12863, 'l2anwa3': 12864, 'ze3fan': 12865, 'fr7ana': 12866, 'japon': 12867, 'ghzal': 12868, 'w9af': 12869, '7essiti': 12870, 'mrtabet': 12871, 'nreb7ou': 12872, 'ma9addch': 12873, 'akhirih': 12874, 'lprogram': 12875, 'matandirch': 12876, 'tkerfest': 12877, 'nnbi!': 12878, 'jmiaa': 12879, 'lila?': 12880, 'mojito!': 12881, 'lbit?': 12882, 'ssifr': 12883, 'l7aja!': 12884, 'jenbi': 12885, 'sadi9?': 12886, 'ibddel': 12887, 'bkhir?': 12888, 'kiwlla': 12889, 'ta3almt': 12890, 'ghaykon': 12891, 'walaw': 12892, '3cha?': 12893, 'maydiroch': 12894, 'katkhelles': 12895, 'jjm3a': 12896, 'lewwel': 12897, 'matakol': 12898, 'sta': 12899, 'zwiwen': 12900, 'fzgt': 12901, 'staslem': 12902, 'lioma?': 12903, 'ttoma': 12904, 'tfter?': 12905, 'ghandiro': 12906, 'nharat': 12907, '3fak': 12908, 'kheddam?': 12909, 'tabe3': 12910, 'smitak': 12911, 'tfakarti': 12912, 'lmdowwer': 12913, 'kay7awal': 12914, 'ma7sch': 12915, 'nmchi,': 12916, 'wa7da?': 12917, 'richa': 12918, 'tchofoni': 12919, 'lik?': 12920, 'derna': 12921, 'tripadvisor': 12922, 'maydar': 12923, 'liom': 12924, 'ljamos': 12925, 'chhiwa': 12926, 'lmas2oul': 12927, '3lih,': 12928, 'tektachef': 12929, 'tkhle3ti?': 12930, 'l3shoub': 12931, 'nrba7': 12932, 'lmada9': 12933, 'ts3inat': 12934, 'l9e8wa?': 12935, 'n3en9ek': 12936, 'no9at': 12937, 'ghankteb': 12938, 'ra2issiya': 12939, 'sara7a...': 12940, 'ndoz': 12941, 'lmeghrib': 12942, 'maderna': 12943, 'katlemme7?': 12944, 'widiro': 12945, 'machr7och': 12946, 'wa9af': 12947, 'sa3at.': 12948, 'bernamaj': 12949, 'kaysta799o': 12950, 'wgf': 12951, '5adar': 12952, 'lfassl': 12953, 'meli': 12954, '3mmi,': 12955, 'mabin': 12956, 'berzettini': 12957, 'y3jabhom': 12958, 'riayada': 12959, 'pchaakh,': 12960, 'lpersonel': 12961, 'tdbber': 12962, 'katyeb': 12963, 'mazian': 12964, 'jjilali': 12965, 'tawari2.': 12966, 'ma7al': 12967, 'makaddwich': 12968, 'b7ali!': 12969, '3eyet': 12970, '3echrin': 12971, 'miladek,': 12972, 'nfhmo': 12973, 'nabatat': 12974, 'ta9riban': 12975, 'bgra': 12976, 'rah': 12977, '9ritiha': 12978, 'mamsalich': 12979, 'omli': 12980, 'yfar7k': 12981, 'ykhalas': 12982, 'ttichourt': 12983, 'lmachrob': 12984, '3ttelt': 12985, 'aandna': 12986, 'lmslouta': 12987, '3ejbou': 12988, 'logicielat': 12989, 'ooh': 12990, 'mstressyin': 12991, 'j3lek': 12992, 'sara7a,': 12993, 'bailey': 12994, 'lowwel!': 12995, 'lbronzage': 12996, 'baya': 12997, 'makay3aytoch': 12998, 'yjib': 12999, 'gallik': 13000, 'tahya': 13001, 'serwali': 13002, '3otla': 13003, 'ntyyeb': 13004, 'nchofoh': 13005, 'z8ar': 13006, 'rotoba': 13007, 'mamt2kdch': 13008, 'makhellestch': 13009, 't8der.': 13010, 'sketch': 13011, 'qarn': 13012, 'ndir?': 13013, 'fransa': 13014, 'nmchiw.': 13015, 'jam3': 13016, 'lba9iy': 13017, 'fso9': 13018, 'kmalti': 13019, 'lwosta': 13020, 'ngoulou': 13021, 'lmdrasa?': 13022, 'l7jer.': 13023, 'tonobil': 13024, 'flblad?': 13025, 'ssa3a?': 13026, 'fma7ll8a,': 13027, 'yserre7': 13028, 'm5eda': 13029, 'sa8el': 13030, 'annakom': 13031, 'ba3dyathom': 13032, 'bbat': 13033, 'lippat': 13034, 'kanji': 13035, 'ntbadlo': 13036, 'hotel': 13037, 't3erfi!': 13038, 'kaynbe7': 13039, 'fttri9': 13040, 'makhayfch': 13041, 'wejjed': 13042, 'd3i': 13043, '9ddam': 13044, 'dikrayat': 13045, 'makat7chmch': 13046, 'momti3\"': 13047, 'talib?': 13048, 'n2amlo': 13049, 'm3ak...': 13050, 'sa3tayn,': 13051, 'dar?': 13052, 'maderti': 13053, 'ljaw': 13054, '3lamn': 13055, 'l3alamia': 13056, 'l3adad': 13057, 'nriyeb': 13058, '7bbiti': 13059, 'maghalyach': 13060, '3llmek': 13061, 'mamndamch': 13062, 'khra?': 13063, 'lmedrassa?': 13064, 'lmola7adat': 13065, 'fdouli': 13066, 'na7ia,': 13067, 'nsawb': 13068, 'ddirha.': 13069, 't7atha': 13070, 'otmma': 13071, 'ti9': 13072, 'fsser': 13073, 'm3aya': 13074, 'sed9at': 13075, '3sa,': 13076, 'lmousi9a': 13077, 'mzyanin': 13078, 'mjehdin': 13079, 'onif': 13080, 'mdfour': 13081, 'mrta7.': 13082, 'kna3tader': 13083, 'lpreparation': 13084, '7ara': 13085, 'chi3r': 13086, 'bm3da': 13087, 'kat3jebni': 13088, 'ndo9o': 13089, 'ta7d': 13090, 'tchak': 13091, 'haja,': 13092, 'tchghil': 13093, 'sbah,': 13094, 'fhad': 13095, 'allougha': 13096, 'taniya': 13097, 'phisique,': 13098, 'ghattle3': 13099, 'mat': 13100, 'fya': 13101, 'ssghir,': 13102, 'boliciya?': 13103, 'floussek': 13104, 'namchiw': 13105, 'lmdigh': 13106, 'chchanta': 13107, 'ni8ayat': 13108, 'moraha': 13109, 'semta': 13110, 'rajli,': 13111, 'kayde99': 13112, 'tayo93': 13113, 'lmezianin?': 13114, 'matatkmich,': 13115, 'ntell': 13116, 'l2asasyat': 13117, 'smyyt': 13118, 'matgolch': 13119, 'alwatania': 13120, 'sowan?': 13121, 'hna': 13122, 'katbere3': 13123, 'fblasthom': 13124, 'kanstamta3': 13125, 'anl3b': 13126, 'kaytsnnaw': 13127, 'wjba': 13128, 'ki5lik': 13129, 'tarwa': 13130, 'kber': 13131, 'kat3rfha.': 13132, 'mokhtalita': 13133, 'jawz': 13134, 'maknch': 13135, 'katbi3': 13136, 'kaytra': 13137, 'olfar9a': 13138, 'kantmchcha': 13139, 'lwra9i': 13140, 'couzina': 13141, 'tawari2?': 13142, 'lmonatajat': 13143, 'n8ar?': 13144, 'khayba': 13145, 'y3tik': 13146, 'lfrigo': 13147, '5assha': 13148, '2atar': 13149, 'tsawer': 13150, 'tchrebha?': 13151, '7re9ti': 13152, 'ra9m': 13153, '2awja3': 13154, 'che3rou': 13155, 'tafkir': 13156, 'ikhtisasi': 13157, '3liyya?': 13158, 'dessert': 13159, 'kat3rf': 13160, 'nchoufk': 13161, 'bikhir?': 13162, 'rask!': 13163, 'kanwa3dk': 13164, 'ma3arefch': 13165, '11': 13166, 'tlflous': 13167, 'flmya': 13168, 'bezaf': 13169, 'lil2asaf,': 13170, 'bita9a,': 13171, 'fati7': 13172, 'ghan7ett': 13173, 'taytrma': 13174, 'katdenn': 13175, 'we9ti': 13176, 'bolis.': 13177, 'nwjdo': 13178, 'fhmtini': 13179, 'ytsna': 13180, 'paris': 13181, 't9tar7ha': 13182, 'nsowlk': 13183, \"'kayfakrni\": 13184, 'ghanmchi': 13185, 'sowelti': 13186, 'ssfer': 13187, 'lbernamaj': 13188, 'b7alma8okdaya': 13189, 'lsafar': 13190, 'blghorob': 13191, 'ykhsna': 13192, 'ki3tih': 13193, 'machaf': 13194, '3redt': 13195, 'w7din': 13196, 'fjib': 13197, 'ddayi9a': 13198, 'dlam.': 13199, 'ta7aja': 13200, 'ghansawb': 13201, 'sala': 13202, 'rromansiyya': 13203, 'tlabt': 13204, 'jtima3,': 13205, 'lays3d': 13206, 'mt2kked': 13207, 'nhdar': 13208, 'kayjibou': 13209, 'omaf8amnach': 13210, 'khdamtak': 13211, 'naksab': 13212, 'ma3eyyitich?': 13213, 'dial': 13214, 'tl3eb': 13215, 'ttelfaza': 13216, 'wow,': 13217, 'l3aba': 13218, 'sagou': 13219, 'rrbe7': 13220, 'khallaba': 13221, 'nfss': 13222, 'lbouquet': 13223, 'ghat3jbkom': 13224, 'ffi8': 13225, 'lkbir': 13226, 'uh...': 13227, 'ntfrrej': 13228, 'telfaza': 13229, '3lemni': 13230, 'llmatar': 13231, 'bl3aks,': 13232, 'rra2is': 13233, 'ghan3awd': 13234, 'kan9li': 13235, 'msbou9': 13236, 'lpiano?': 13237, 'rex': 13238, 'momila': 13239, 'lyoum,': 13240, 'nn3as': 13241, 'dialna': 13242, 'bnsba': 13243, 'lkhdra': 13244, 'i8ana,': 13245, 'kan3yat': 13246, 'f7alek': 13247, 'mobtadi2.': 13248, 'lko7ol!': 13249, 'ntgheddaw.': 13250, 'n3awno': 13251, 'achnahoma': 13252, 't3limat': 13253, 'blays.': 13254, 'mtafe9': 13255, 'a8yawina,': 13256, 'ana.': 13257, 'nlbess': 13258, 't3ettel?': 13259, 'jddou': 13260, 'lwajabat': 13261, 'lgaz': 13262, 'tfi': 13263, 'ljbal': 13264, '3ell': 13265, 'albat': 13266, 'mohandis?': 13267, 'dar': 13268, '9errini': 13269, 'pissine': 13270, 'nta': 13271, 'lfenni.': 13272, 'ssadi9a': 13273, 'pilot': 13274, 'labas': 13275, 'khfif,': 13276, 'd5ya': 13277, 'fhadchi.': 13278, 'ttout': 13279, 'ltama': 13280, '2achmen': 13281, 'tguless': 13282, 'khliti': 13283, 't5el3at': 13284, 'skkar,': 13285, 'nnass?': 13286, 'ntstamta3o': 13287, 'ghanakhod': 13288, 'kay3jbohom': 13289, 'rach9a': 13290, 'mazyanin': 13291, 'kaddir': 13292, 'flmsta9bal': 13293, 'bechchwiyya': 13294, '5awa': 13295, 'kan9lb': 13296, 'kisat': 13297, 'bih!': 13298, 'ta3tal': 13299, 'redd': 13300, 't9arar': 13301, 'nskhaf': 13302, 'bchamch': 13303, 'rajlik.': 13304, 'bchklito': 13305, 'l3mer.': 13306, 'bta2kid': 13307, 'fer7an': 13308, 'ikhlik': 13309, 'n9es': 13310, 'talyan': 13311, 'klat': 13312, 'gol': 13313, 'ntsnna!': 13314, 't7kem': 13315, 'saboura': 13316, '5antsdem': 13317, 'tjemmedt': 13318, 'khfifa': 13319, 'tri9,': 13320, 'tchrih': 13321, 'kayrekzou': 13322, 'lko7ol': 13323, 'maghdich': 13324, 'rasi': 13325, 'nl9ah!': 13326, 't7tafd': 13327, 'yabghi': 13328, '9at3an!': 13329, 'aykhasni': 13330, 'daba...': 13331, 'hadchi.': 13332, 'ras': 13333, 'kanfddel': 13334, 'lttaksi': 13335, 'sodfa!': 13336, 'bl2a3yad': 13337, 'dowzt': 13338, 'khalid?': 13339, '3ddo': 13340, 'mtkhasas!': 13341, 'hhhh!': 13342, 'riwayat': 13343, 'la5or': 13344, 'ddoyon': 13345, 'kay3jbouk': 13346, 'okan9tara7': 13347, 'matn3ess': 13348, 'ma3ndhom': 13349, '5aymchiw': 13350, 'kay7sabou': 13351, 'btawator': 13352, 'khrej': 13353, 'kankhaf': 13354, 'jjo3,': 13355, '3mmrni': 13356, 'aykono': 13357, 'f7alk': 13358, 'ttilifoun': 13359, 'bogos': 13360, 'msmomin': 13361, 'lblayas!': 13362, 'nadari': 13363, 'dawr': 13364, 'nwaffro': 13365, 'tta3lim': 13366, 'ynjer': 13367, 'wri9a': 13368, '5an3awed': 13369, 'kan9der': 13370, 'tebbakha': 13371, 'ba3da': 13372, 'motira': 13373, 'masellitch': 13374, 'routine': 13375, 'si7ria?': 13376, 'mamzowwejch': 13377, 'tfrrej': 13378, 'l3olama2': 13379, 'nachta?': 13380, 'darrek,': 13381, 'anahoum': 13382, 'ghankhrjo': 13383, 'secretaire': 13384, 'ktba3ni': 13385, 'm3ttala': 13386, 'jjakita': 13387, 'nfekkro': 13388, 'tchofhoum': 13389, 'dwwzt': 13390, 'amaanan': 13391, 'chnahoa': 13392, 'mbghitich': 13393, '7yyed': 13394, 'galliyya': 13395, 'lklyan!': 13396, 'bssa7?': 13397, 'fl2istablat?': 13398, 'darna': 13399, 'ttawado3': 13400, 'ssendala': 13401, 'kay3elle9': 13402, 'fbezzad': 13403, 'mayddar': 13404, 'lkhwami': 13405, 'tamaninat': 13406, 'nesyan,': 13407, 'kanbghihom': 13408, 'brbbi': 13409, 'finternet': 13410, 'pikala': 13411, 'fhemtek.': 13412, 'w9e3?': 13413, 'hya': 13414, 'mo9addas': 13415, 'twa7achtiha': 13416, 'nef3ouna': 13417, 'makan3raf': 13418, 'bghatna': 13419, 'tla9aw': 13420, 'wret': 13421, 'khatem': 13422, 'ghaliban,': 13423, 'matreddedch': 13424, 'kantmchaw': 13425, '3te9ni': 13426, 'massage?': 13427, 'tikiyat': 13428, 'ya9dar': 13429, 'iyeh,': 13430, 'n7el': 13431, 'katkhdam': 13432, 'kanfadlohom': 13433, 'lbar7,': 13434, 'n8ari': 13435, 'lfrmlia': 13436, 'l9alam': 13437, 'taarikhia': 13438, 'nchdd': 13439, 'lougha': 13440, '13': 13441, 'brasi': 13442, '5lina': 13443, 'ach': 13444, 'fnfs': 13445, 'katkmi?': 13446, 'tsowel': 13447, 'rasek': 13448, '7adir': 13449, 'smen': 13450, 'momtaz!': 13451, 'mitrou': 13452, 'lmowdo3': 13453, 'kanhdro': 13454, 't2khir,': 13455, 'drti?': 13456, 'ntmtta3': 13457, '2adna': 13458, '7wayji': 13459, '7awel': 13460, 'wow?': 13461, 'tt9iyya': 13462, '2ala9houm': 13463, 'mamt2akadch,': 13464, 'liha?': 13465, 'daya,': 13466, 'tlaft': 13467, 'blani8a,': 13468, 'kadderni': 13469, '150': 13470, 'olala': 13471, 'lwesfat': 13472, 'msllkni': 13473, 'makan3refch': 13474, '3chra': 13475, 'w93': 13476, 'lighadi': 13477, 'zir': 13478, 'mafhamch': 13479, '9damk.': 13480, 'skhan': 13481, 'l3chir': 13482, '3anida': 13483, 'tenz': 13484, 'lwatan': 13485, 'yd7ekou': 13486, 'kaymchi?': 13487, 'kaybano': 13488, 'kankhato': 13489, 'tb33d': 13490, 'christine,': 13491, 't3ellemt': 13492, 'kan9sed?': 13493, 'kaynin.': 13494, 'melhi.': 13495, 'l7ala': 13496, 'lou7da': 13497, 'kaykmi': 13498, 'lbarh': 13499, 'wsel': 13500, 'andhoum': 13501, 'ktebt': 13502, 'kaydir': 13503, 'lfikri': 13504, 'guarantie': 13505, 'lkouzina': 13506, 'oroppa': 13507, 'kan7awel': 13508, '9edder': 13509, 'kaydwi': 13510, 'makankhdemch': 13511, 'srbyaat': 13512, 'ybghi': 13513, 'srawel': 13514, '12:30...': 13515, 'obabagh2': 13516, 'illa': 13517, 't7akam': 13518, 'lbouki': 13519, 'nsed': 13520, 'banliya': 13521, 'fe5rek': 13522, 'takhraj': 13523, 'l7mer': 13524, 'mtrdded': 13525, 'ymkan': 13526, 'nghsel': 13527, 'tchof,': 13528, 'lmim7at': 13529, 'ljow?': 13530, 'kayna': 13531, 'lba7ria': 13532, 'mghiyssa.': 13533, 'miladek': 13534, 'i9tira7': 13535, 'f3a2ilti': 13536, 'bjemla': 13537, '7asasiya': 13538, 'ansekhkhen': 13539, 'lidazo': 13540, 'kat3ni': 13541, 'bezzaf.': 13542, 'rb7at': 13543, 'makanchrbch': 13544, 'yakhdam': 13545, '8adchi': 13546, 'fcharika': 13547, 'll7em,': 13548, 'be3ed': 13549, 't3tal': 13550, 'terta7': 13551, 'matfakar': 13552, 'mkhddamch': 13553, 'lmalik.': 13554, 'mochkil.': 13555, 'kan9ej9el': 13556, 'kan7ess': 13557, 'lkhl3a': 13558, 'ta9dar': 13559, 'fl9a2ima': 13560, 'barnamaj': 13561, 'l7ot,': 13562, 'm3na.': 13563, 'nihoum': 13564, 'compyotr': 13565, 'transport': 13566, 'sa8lin': 13567, 'metwade3': 13568, 'lglacon': 13569, 'kan2aman': 13570, 'twji8at': 13571, 'olkozina': 13572, 'chakwa': 13573, 'nkhrj': 13574, 'n8ar,': 13575, 'l5eyat': 13576, 'kat9sad?': 13577, '3achna': 13578, 'dssaboun': 13579, 'mdalla': 13580, 'ibadlah': 13581, 'kibanou': 13582, 'rassi': 13583, '3rfti,': 13584, 'bzaz': 13585, 'l3nab': 13586, 'drok': 13587, 'l2i7sass': 13588, 'tdwicha': 13589, 'ma9dartch': 13590, 'lioma.': 13591, 'fdouli?': 13592, 'sm7': 13593, 'lmosi9a': 13594, 'kaytlacha': 13595, 'rjli8': 13596, 'mbrrdin.': 13597, 'lboliciya': 13598, 'kan7tarm': 13599, 'nos': 13600, 'mou7it': 13601, 'blaskkar': 13602, 'ghatchoufk?': 13603, 'anglais': 13604, 'sskhoun!': 13605, 'mobachir': 13606, 'tarikhiya': 13607, 'mjhed': 13608, '9dert': 13609, 'bzrba.': 13610, 'nt7atto': 13611, 'b7wa7d': 13612, 'rdlbal': 13613, 'ousi9iya': 13614, 'ktrt': 13615, 'ta9afa!': 13616, 'llbar': 13617, 'kantsenna': 13618, 'rabb': 13619, 'ljazira,': 13620, 'l5ota': 13621, 'tt9acher': 13622, 'hassan?': 13623, 'nkhaliw': 13624, 'mat3esebch': 13625, 'dhs?': 13626, 'mikiat': 13627, 'bimowat': 13628, 'n8ark': 13629, 'khasr': 13630, 'fhemt': 13631, '5oya': 13632, 'maskin,': 13633, 'mezian': 13634, 'siftou8': 13635, 'lma9sora': 13636, 'poker!': 13637, 'rb7ti': 13638, 'yam': 13639, 'kanfkkar': 13640, 'ma3ndi': 13641, 'mochkil,': 13642, 'ntber3o': 13643, 'sebt': 13644, 'btikar': 13645, 'ah!': 13646, '9llaya': 13647, 'katghenni': 13648, '3osr': 13649, 'lblasa...': 13650, 'lppikala': 13651, 'lflouss': 13652, 'injliziya': 13653, 'bcarta': 13654, '9rn': 13655, 'we9tou': 13656, 'fs5rek': 13657, 'makennach': 13658, 'lmakina': 13659, 'n5liwhom': 13660, 'mawajedch': 13661, 'ddi8a': 13662, 'man3rf': 13663, 'ri7an': 13664, 'stita3tek.': 13665, 'aah.': 13666, 'chchrab': 13667, 'bllil': 13668, 'is': 13669, 'bzzaf.': 13670, 'onghwto': 13671, 'chkonahoma?': 13672, 'kbr': 13673, 'khsso': 13674, 't7tarm': 13675, 'bdlat': 13676, 'l7obb': 13677, '3andk?': 13678, 'jaketa': 13679, 'f7afla': 13680, '3llah': 13681, 'l3id': 13682, 'syara': 13683, 'asidi': 13684, 'jaytbdel': 13685, 'sda3tak': 13686, 'ou5niya': 13687, 'nddik': 13688, 'kaykhle3': 13689, 'lkham': 13690, 'almbda2': 13691, 'lmadrassa': 13692, 'twam': 13693, 'dok': 13694, 'atay': 13695, 'law7at': 13696, '3ndk': 13697, 'kandawz': 13698, 'sahd': 13699, 'mchit': 13700, 'ki5dem': 13701, 'day3a': 13702, 'lmohima!': 13703, 'shkun': 13704, 'l9issa': 13705, 'maftoun': 13706, 'lmdina.': 13707, '3rfo': 13708, 'kayz3aj': 13709, 's5ar': 13710, 'chchbka': 13711, 'lmsla7ti?': 13712, 't3nfij': 13713, 'nchad': 13714, 'fa9ir': 13715, 'masbou9': 13716, 'l5ibra': 13717, 'm3atla': 13718, 'tan3yet': 13719, 'werrini': 13720, 'machi': 13721, 'ltelescope': 13722, 'fljournal': 13723, 'nkhraj': 13724, 'lkorsi?': 13725, '3mmrek': 13726, 'a3chab': 13727, 'kat3raf,': 13728, '2:00,': 13729, 'tdi': 13730, 'itisal': 13731, 'labs': 13732, 'l2ikti2ab': 13733, 'lkhara2it': 13734, 'ntyb': 13735, 'nta!': 13736, 'k7al': 13737, 'kolchi': 13738, 'azwaj': 13739, 'mat3esseb': 13740, 'l7lawa': 13741, 'zabon': 13742, 'liddin': 13743, 'whiskey,': 13744, 'l3alam': 13745, 'zarafat': 13746, 'chchann': 13747, 'nswlk': 13748, 'khalona': 13749, 'nsayb': 13750, 'achmen': 13751, 'lfar9a': 13752, 'ssif?': 13753, 'jab8a': 13754, 'fl8edra': 13755, 'nlghiw': 13756, 'jlbana': 13757, 'asaasan': 13758, 'ba': 13759, 'matl3atch': 13760, 'llimoun.': 13761, 'fechchech': 13762, 'ikhelli': 13763, 'tayaran': 13764, 'lhla': 13765, 'ktr!': 13766, 'damnin': 13767, 'ghanjreb': 13768, 'ma3refch': 13769, 'bo7dkom': 13770, 'waje8': 13771, 'fihom,': 13772, 'kidaz': 13773, 'maghayl79och': 13774, '8adak': 13775, 'blkhouf': 13776, 'moulay.': 13777, 'hadak?': 13778, 'dyalkoum': 13779, 's5iwrin': 13780, 'fnmousitek': 13781, '7itach': 13782, 'sbeght': 13783, 'weslatni': 13784, 'salon': 13785, 'wa7el': 13786, 'call': 13787, 'safarti': 13788, 'n9arno': 13789, 'nl3ab': 13790, 'ftllaja': 13791, '8akkak': 13792, 'mofaja2a': 13793, 'dal': 13794, '9et3o': 13795, 'l39l': 13796, 'champanya': 13797, 'ydir8oum': 13798, 'tnnas': 13799, 'bazzaf': 13800, 'imkaniyat': 13801, 'kay9tel': 13802, 'sbbatha': 13803, '8adi2': 13804, 'lnas': 13805, 'm3ttlin': 13806, 'rajli': 13807, '9drt': 13808, 'khasha': 13809, 'lcorner': 13810, 'flma': 13811, 'lmke7ta': 13812, 'bjoj?': 13813, 'jjrda?': 13814, 'nkmmel': 13815, 'anb9a': 13816, 'kansa': 13817, 'hdrt': 13818, 'ttnach': 13819, 'sghir,': 13820, 'katkhalik': 13821, 'bbou7di': 13822, 'tilifoni': 13823, 'fina8ia': 13824, '9ader': 13825, 'afkar': 13826, 'makan3arfo.': 13827, 'ilbas': 13828, 'tal9a': 13829, 'khwwaf': 13830, 'za8ia!': 13831, 'gogh.': 13832, 'ghaliban': 13833, 'nechri': 13834, 'n9addo': 13835, 'm7eddeda': 13836, 'dyali,': 13837, '3yyan': 13838, 'yr7el': 13839, 'mnimta': 13840, 'mzian': 13841, 'lkorsiy': 13842, '3chiya': 13843, '7out': 13844, 'mabninach': 13845, 'zwina?': 13846, '3arf': 13847, 'n3tader': 13848, 'ssalama': 13849, 't3ajbak': 13850, 'k7el': 13851, 'fl9isa': 13852, 'matste3melch': 13853, '7adyin': 13854, 'rrbat?': 13855, 'mesla7tek': 13856, 'machghol': 13857, 'l2adan': 13858, 'mat3am?': 13859, 'maadi': 13860, 'm9sse7': 13861, 't5ssr': 13862, 'jddatou': 13863, 'fada2': 13864, 'fsfer': 13865, 'ma2i': 13866, 'nobthoum': 13867, 'ra2is': 13868, 'fjiha': 13869, 'ramliya,': 13870, 'chtwa': 13871, 'katkhals': 13872, 'ttmma3': 13873, 'tawakhir': 13874, 'glti': 13875, 'irtibat': 13876, 'kantfrj': 13877, 'mrta7in': 13878, 'wa7d?': 13879, 'wnta': 13880, 'douk': 13881, '9ta3ti': 13882, 'blati': 13883, 'sandwich': 13884, 'lkhoroj': 13885, 'besse8d': 13886, 'kanada': 13887, 'sso3od': 13888, 'l3a9liya': 13889, 'nnod.': 13890, 'lia,': 13891, 'stin': 13892, '3ndek?': 13893, 'riyada?': 13894, 'walidiyya': 13895, 'machfthomch': 13896, 'rfadt8a': 13897, 'lyoum?': 13898, 'chips': 13899, 'zzbib': 13900, '7ass': 13901, 'kay3ssbona': 13902, 'kika!': 13903, 'oliver': 13904, '3chiri': 13905, 'chari3,': 13906, 'me7taj': 13907, 'mostawa': 13908, '9rsat': 13909, 'makatbghich': 13910, '8akda?': 13911, 'likansafar': 13912, 'rj3t.': 13913, 'ghaliya': 13914, 'rdditih': 13915, 'nnasi7a': 13916, 'tsawli': 13917, 'makay3jbo': 13918, 'jrrbo': 13919, 'da9i9a': 13920, 'trbe7': 13921, 'tktb': 13922, 'lmchhour': 13923, 'ch3ri': 13924, 'lkbda.': 13925, 'ghadin': 13926, 'farmasian': 13927, 'man': 13928, 'lia!': 13929, 'kaatfker': 13930, 't8lat': 13931, 'tta9afia': 13932, 'sekran': 13933, 'beslama': 13934, 'lkhedma?': 13935, 'aamina': 13936, 'kay3jbouni': 13937, 'bariya': 13938, 'wera': 13939, 'bghiti,': 13940, '3ynih': 13941, 'bli': 13942, 'ntla9aw': 13943, 'nb7t': 13944, '3a2ila': 13945, 'kaywali': 13946, 'biti': 13947, 'ttakol': 13948, 'fr7anin': 13949, 'chaftak?': 13950, 'moufaja2a': 13951, 'awlla?': 13952, 'l9dim': 13953, 'bsse7...': 13954, 'kansawlk!!': 13955, 'wahd?': 13956, 'kan9rah': 13957, 'mzyana.': 13958, 't7taj': 13959, 'lktaba': 13960, 'shal!': 13961, 'faranciya': 13962, 'mbogssin.': 13963, 'fseriyat': 13964, 'lweekendy?': 13965, 'ddontist': 13966, 'sme3t': 13967, '7chouma': 13968, 'tgheddit': 13969, 'frask': 13970, 's7i7a?': 13971, 'mno': 13972, 'mostach?!': 13973, 'l9itak': 13974, 'f3mar': 13975, 'fra9i': 13976, 'tahia!': 13977, 'chchrifa': 13978, 'talt': 13979, 't3awenni': 13980, '3alama': 13981, 'msali,': 13982, 'lmedrasa': 13983, 'ta9afa': 13984, 'tit9asmo': 13985, '3amro': 13986, 'lwa7idin': 13987, 'tnabr': 13988, '8azz': 13989, 'na8tamo': 13990, 'l7ayawanat!': 13991, 'katchrab?': 13992, 'laho3lem': 13993, 'tamchiya': 13994, 'tchr7ha': 13995, 'nakhraj': 13996, 'chchb3a': 13997, 'sm7lia': 13998, 'kaydob': 13999, 'wakhda': 14000, 'dir8a': 14001, 'mwellef': 14002, 'bdabt': 14003, '7dahom': 14004, 'nl3eb': 14005, 'mt2akad': 14006, 'm39oul': 14007, '7alla': 14008, 'lmoudir': 14009, 'ljow.': 14010, 'bl8odo2.': 14011, 'nchofak': 14012, 'mi': 14013, 'tl9na': 14014, 'sam7na': 14015, 'lkhayba': 14016, 'ntsrkel': 14017, 'abad.': 14018, 'ntaka': 14019, 'berra.': 14020, 'liyam.': 14021, 'lasos': 14022, 'lavabo': 14023, 'nmrti': 14024, '2atba9': 14025, 'liya': 14026, 'chlada': 14027, 'lsnan': 14028, 'namrad': 14029, 'onti?': 14030, 'lkokiyyaj': 14031, 'galia': 14032, 'tla9iti': 14033, 'mamwellefch': 14034, 'ykhlles': 14035, 'kanchdd': 14036, 'katw9e3': 14037, '9chabto': 14038, 't9riban.': 14039, 'ma9adrch': 14040, 'ljanna': 14041, 'balcon,': 14042, 'stikhdam': 14043, 'ytmchcha': 14044, 'tyy9ha?': 14045, 'nabni': 14046, 'ochi': 14047, 'ftti9ar': 14048, 'me9foul': 14049, 'chfnak.': 14050, '7ed': 14051, 'taylandiya': 14052, 'ma2merna': 14053, 'hadi?': 14054, 'labssa': 14055, 'hah!': 14056, 'ghannzlo': 14057, 'mafiyyach': 14058, 'ghankhdmo': 14059, 'nrta7ou': 14060, 'sokar': 14061, 's3ib,': 14062, 'ijtima3': 14063, 'trumpet': 14064, 'mansour?': 14065, 'tijari': 14066, 'lmafasil!': 14067, 'ihda2': 14068, 'lmska': 14069, 'l9ten.': 14070, 'dayar': 14071, 'mezyan': 14072, 'tchka!': 14073, 'kat5eli': 14074, 'ghayjiw': 14075, 'kandowech...': 14076, 'monafi9': 14077, '7orr': 14078, 'ttejriba?': 14079, 'awlla': 14080, 'ydir8a': 14081, 'katmrrdni': 14082, 'tsara7.': 14083, 'lmoudakkirat': 14084, 'nida2': 14085, 'flous': 14086, 'achjar': 14087, 'mt2ekked,': 14088, 'maymchi': 14089, 'likhass8a': 14090, 'n9n3ak': 14091, 'mamsww9ch': 14092, 'bedelt': 14093, 'chchamali': 14094, 'chft,': 14095, 'n9raw': 14096, 'fsa3a': 14097, 'maykounch': 14098, 'cha7ib.': 14099, 'chaftini': 14100, 'bezzaaaf': 14101, 'tl3ala9at': 14102, 'lbosta?': 14103, 'bss7': 14104, 'kay3awed': 14105, 'ghocht': 14106, 'l7iyaka': 14107, 'ji3anin': 14108, 'blbrd': 14109, 'wikhlliwna': 14110, 'mnora': 14111, 'lmataf': 14112, 'nchofouk': 14113, 'nabil,': 14114, 'nadira': 14115, 'lraso': 14116, 'n7tajo': 14117, '3asr?': 14118, 'labsa': 14119, 'yddina': 14120, 'blw9t': 14121, 'ndadar': 14122, 'bo7di': 14123, 'bl7biss': 14124, 'lla2i7a': 14125, 'mou2a5aran?': 14126, 'anaha': 14127, 'ma9drtich': 14128, 'nt2ekked': 14129, 'rfe3t': 14130, 'kolchi...': 14131, 'lhamdolah': 14132, '9elebti': 14133, 'z3mi,': 14134, 'lghlaf': 14135, 'khaser': 14136, 'lksida.': 14137, 'dyalkom': 14138, 'chch3a': 14139, 'mo2sasa': 14140, 'contrat': 14141, 'mawsl': 14142, 'motivatna': 14143, 'kan9tara7': 14144, 'lmkan': 14145, 'sma7lia.': 14146, 'm3roufin': 14147, 'ouf...': 14148, 'tlma': 14149, 'aykhsak': 14150, 't9ila': 14151, 'amal,': 14152, 'kay3ti': 14153, 'dojanbir': 14154, 'katmrradni': 14155, 'radikali.': 14156, 'lkhatr?': 14157, 'douz': 14158, 'nsit.': 14159, 'sa8l': 14160, 'bchwiyya!': 14161, 'takhod': 14162, 'n': 14163, 'ma7rajnich': 14164, 'rryada?': 14165, 'lmo3dalat': 14166, 'lkhal': 14167, 't3tih': 14168, 'man3ref': 14169, 'asidi?': 14170, 'zyada,': 14171, 'skhon': 14172, 'wakha,w': 14173, 'mat8ezzch': 14174, 't3lamti': 14175, 'lmchkhara': 14176, 'mezian.': 14177, 'kan2mlo': 14178, '9lbi': 14179, '7lo': 14180, '3ala': 14181, 'tsta3mal': 14182, 'ness': 14183, 'lbasla': 14184, 'matjerrebo': 14185, 'lghabi': 14186, '7derti': 14187, 'tmchi': 14188, 'n8arach': 14189, 'an3way': 14190, 'bzaf?': 14191, \"l'invitation,\": 14192, 'mzyana!': 14193, 'zine.': 14194, 'fs5erna': 14195, 'dimari': 14196, 'flil': 14197, 'dert': 14198, 'dki...': 14199, 'lwil': 14200, 'ssoum': 14201, 'lm3na': 14202, 'nnadar': 14203, 'tkatbiha': 14204, 'cthre7': 14205, 'akhor!': 14206, 'l5na': 14207, 'ykhdm': 14208, 'nari!': 14209, 'tzawjo': 14210, 'bureau': 14211, 'lmawdo3,': 14212, 't9la9': 14213, 'nmchiw!': 14214, 'gbila!': 14215, 'na3raf': 14216, 'tjib.': 14217, 'tadribat': 14218, 'i3tibar': 14219, 'flwad': 14220, 'ballik': 14221, 'ddarb?': 14222, 'i3awnna?': 14223, 'ana!': 14224, 'lkhobz': 14225, 'chokolat': 14226, '3gzt!': 14227, 'khassin': 14228, 'tahowa': 14229, 'nakhad': 14230, 'otkon': 14231, 'lkomond': 14232, 'gher': 14233, 'ma3ando': 14234, 'mat7besch': 14235, 'ghan9tare7': 14236, 'bddl': 14237, 'douch': 14238, '2alam': 14239, 'ouf,': 14240, 'maslou9?': 14241, 'ghali': 14242, 'lmska!': 14243, 'nsaha': 14244, 'chaf': 14245, 'weldek?': 14246, 'fbar': 14247, 'di2b': 14248, 'khawa': 14249, 'ndir!': 14250, 'takoul': 14251, 'yanayr': 14252, 'pop': 14253, 'ssokhor': 14254, 'merra,': 14255, 'limoun': 14256, 'trta7.': 14257, 'ddoukha': 14258, 'f7alli': 14259, 'tkhrbi9': 14260, 'programmat': 14261, 'fecran': 14262, 'chche3bi': 14263, 'm9bol?': 14264, 'n7der': 14265, '9alamou': 14266, '8bil,': 14267, 'blaan!': 14268, 'fzgti': 14269, 'nosl': 14270, 'khalina': 14271, 'milad': 14272, 'l5otwa': 14273, 'awlawiat': 14274, 'knna': 14275, '9ate3tek': 14276, 'wajd': 14277, 'ghanmchi!': 14278, '3aksia': 14279, '3fett': 14280, 'mardditi': 14281, 'mal7': 14282, 'dwazti': 14283, '7yato': 14284, 'ghanghenni': 14285, '3mmi': 14286, 'ssawda2': 14287, 'tamchi': 14288, 'flmdrasa': 14289, 'l9amija': 14290, 'bchmicha!': 14291, 'tfeddel': 14292, 'lkhder': 14293, 'chjer...?': 14294, 'moghani': 14295, 'lyom': 14296, 'binmma': 14297, 'milad,': 14298, 'makayt3amloch': 14299, 'chchouf': 14300, 'dewwz': 14301, '7awl': 14302, 'nkhroj': 14303, 't8rib': 14304, 'makhditich': 14305, 'tghlebt': 14306, 'hakkak?': 14307, 'rjlik?': 14308, 'houa': 14309, '3reftiha!': 14310, '7ll': 14311, 'b': 14312, 'tabozi': 14313, 'liya?': 14314, 'katchouf': 14315, 'lso2': 14316, 'merra?': 14317, '5': 14318, 'tolot': 14319, 'yyih': 14320, 'frigo.': 14321, 'l2asdi9a2?': 14322, 'zwiyen.': 14323, 'lbnat': 14324, 'jit': 14325, 'kangolik': 14326, 'kantalab': 14327, 'lklyan': 14328, 'ykhalso': 14329, 'moumkin': 14330, 'lmilieu': 14331, 'swwelni': 14332, 'khddama!': 14333, 'makangolch': 14334, 'khser': 14335, 'kbira.': 14336, 'nkharjo': 14337, 'm3a9ad': 14338, 'hadya': 14339, 'm3ttl': 14340, 'afkari': 14341, 'bgha': 14342, '3lia,': 14343, 'bito': 14344, 'l7jar.': 14345, 'autographe': 14346, '7aris': 14347, 'dollar': 14348, 'lkanissa.': 14349, 'tjerri': 14350, 't3tihom': 14351, '9ette3t': 14352, 'kter,': 14353, 'ma3emmri': 14354, '3y9ti': 14355, '9oza7': 14356, 'a3mal': 14357, 'lmofddala': 14358, '5aytperima': 14359, 'mamno3': 14360, 'katjini': 14361, 'tol': 14362, 'maghankounch': 14363, 'kanakhod8a': 14364, 'lil9it!': 14365, 'mnfoukha': 14366, 'kaddouwez': 14367, 'li3ndak': 14368, 'tfakar': 14369, 'sosit': 14370, 'nktachfouha': 14371, 'ajyal': 14372, 'maytchaf': 14373, 'l3inin': 14374, '3nd8a': 14375, 'kankhadmo': 14376, 'tjma3': 14377, 'it9arn': 14378, 'latif,': 14379, 'dkyya': 14380, 'makhtalfa': 14381, 'bsara7a,': 14382, 'wsalna': 14383, 'lmockila': 14384, 'lma9adir': 14385, 'hkak,': 14386, 'm3emrek': 14387, 'achmn': 14388, '3amr,': 14389, 'kat5lini': 14390, 'l9wades': 14391, 'snank': 14392, 'kebbout': 14393, 'lithuania?': 14394, '5ay7bess': 14395, 'mchrobat?': 14396, 'tbib': 14397, 'ttayaran': 14398, 'nsoni': 14399, 'lwa7chia?': 14400, 'chanel': 14401, 'koadowat': 14402, 'brandy': 14403, 'z3fan': 14404, 'makanchoufch': 14405, 'chno': 14406, 'a9sam': 14407, 'mrta7': 14408, 'maz3emtch': 14409, 'pizza': 14410, 'yaklo': 14411, 'akfa2': 14412, 'flmti7an?': 14413, 'kansem3ou': 14414, 'mod8il': 14415, '7ayawanat': 14416, 'ghiba': 14417, 'tjakita': 14418, 'majash': 14419, 'fl7ayat?': 14420, 'bwata': 14421, 'windsor': 14422, 'chrmel': 14423, 'khddmtina': 14424, 'l9odorat': 14425, 'okanbghi': 14426, 'matfatta7': 14427, 'euuuh': 14428, 'toro9': 14429, 'ryada': 14430, 'itrowwen': 14431, 'bergag': 14432, 'bzzaf...': 14433, 'chwiya?': 14434, '9ri3a?': 14435, 's7abu': 14436, 'lmdina,': 14437, 'labas!': 14438, 'weddek': 14439, 'toloutsa3a': 14440, 'dyalkom,': 14441, 'likaywqa3': 14442, 'blmonaasaba': 14443, 'n9dr': 14444, 'khayria': 14445, '7rfyyan,': 14446, 'massaj': 14447, 'twadarna': 14448, 'lbet': 14449, 'lgolf': 14450, 'maana': 14451, 'sabora': 14452, 'skhoniya': 14453, 'kanrta7': 14454, 'ta9ra': 14455, 'chrito': 14456, 'sa7afi': 14457, 'kantfrej': 14458, 'kas': 14459, 'kaylme3': 14460, 'mektab': 14461, 'kaykhle3.': 14462, 'awla': 14463, 'marathon': 14464, 'nas': 14465, 'dazt!': 14466, 'ljar': 14467, 'hade': 14468, 'hahoma': 14469, 'tasni': 14470, 'w9itt': 14471, 'lmoksarat': 14472, 'bina': 14473, 'matbda': 14474, 'bta3adol': 14475, 'blm39ol': 14476, 'lntibah': 14477, 't7bas': 14478, '8': 14479, 'zzn9a': 14480, 'rrjou3.': 14481, 'wllft': 14482, 'khllitina': 14483, 'lmokawinat': 14484, 'tsket': 14485, 'lmarda': 14486, 'ntasl': 14487, 'ghdda.': 14488, 'lokhra': 14489, 'njrri': 14490, 'mtwetter': 14491, 'bsa7.': 14492, 'laho': 14493, 'nkhlik': 14494, 'ghlida.': 14495, 'kannemmem': 14496, 'makanbanch': 14497, 'ded': 14498, 'mrad': 14499, 'nchjj3o': 14500, 'kharj': 14501, 'tyabi': 14502, 'kantsannat': 14503, 'katrej3ek': 14504, '3odw': 14505, 'fhyati,': 14506, 'mtebbe3': 14507, 'makansta3melch': 14508, 'kheddmat': 14509, 'tzad': 14510, 'sport': 14511, 'm39ol': 14512, 'ma7amelch': 14513, 'bsbas,': 14514, 'jjapon': 14515, 'ina': 14516, 'l9arar': 14517, 'ntghedaw': 14518, 'lik': 14519, 'kansayab': 14520, 'fr7an': 14521, 'aandi': 14522, '2a9rab': 14523, 'kheddam': 14524, 'y3awnek': 14525, 'lk7al': 14526, 'bkhaybat': 14527, 'sadd': 14528, 'nzal': 14529, 'jadawil': 14530, 'dariba': 14531, '3nd8om': 14532, 'tdowwez': 14533, 'sarout': 14534, 'katkhrej': 14535, 'awdi,': 14536, 'hadart': 14537, 'um...sma7': 14538, 'kantla9aw.': 14539, 'derri': 14540, 'alla,': 14541, 'lm3roudin?': 14542, 'mmt': 14543, 'mfroud': 14544, 'chher': 14545, 'bond': 14546, 'nsr9o': 14547, 'lbachariyya': 14548, 'mo7bit': 14549, 'manb9aw': 14550, 'ftri9i,': 14551, 'ma3amrak': 14552, '39lytek': 14553, 'ondaf3o': 14554, 'mrrakchi': 14555, 't7awl': 14556, 'fazg': 14557, 'khit': 14558, 'mrrikh': 14559, 'khder': 14560, 'mirikani': 14561, 'ta5ed': 14562, 'ijrri': 14563, '3reft,': 14564, 'l7anan': 14565, 'lakhor?': 14566, 'zouj': 14567, 'lbtata': 14568, 'mitalia': 14569, 'wesfat': 14570, '7wayjek': 14571, 'ma7derti': 14572, 'akhir': 14573, 'kla': 14574, 'kigoul': 14575, 'ghan9der': 14576, 'w93o': 14577, 'sosio': 14578, 'bjo3,': 14579, 'sra7a,': 14580, 'briti': 14581, 'f3mr': 14582, '5edma': 14583, 'sir': 14584, 'tasawe9': 14585, 'fem': 14586, 'l2e7lam': 14587, 'kamlin!': 14588, 'ndawz': 14589, 't8addan,': 14590, 'trikkoya': 14591, 'kifkif?': 14592, 'kat7ss': 14593, 'tfddel': 14594, 'hrebt': 14595, 'likadwi': 14596, 'flkhizana': 14597, 'dela7': 14598, 'f3merna': 14599, 'kanhdar': 14600, 'lblastek': 14601, '7ayadtiha': 14602, '7yyin.': 14603, 'shno': 14604, 'minin': 14605, 'matmchiw': 14606, 'flw9t': 14607, 'finahoa?': 14608, 'rajl': 14609, 'tghedda': 14610, 'ryadyat?': 14611, 't9ada': 14612, 'ra9a2i9': 14613, 'fi8?': 14614, 'chouaib': 14615, 'majal': 14616, 'n9adra': 14617, 'jayin': 14618, 'chklat': 14619, 'mti7anatha': 14620, 'hak!': 14621, 'ddenya': 14622, 'fac': 14623, 'tgoliha': 14624, 'lmosi9ia': 14625, 'sse7.': 14626, 'tkebber': 14627, 'dmdouma?': 14628, 'talonat': 14629, 'ojoz2': 14630, 'nhadro': 14631, 'bso8ola': 14632, '5awi?': 14633, 'bya': 14634, 'rajlik?': 14635, 'lala,': 14636, 'lhind': 14637, 'lbosta': 14638, 'katsbb': 14639, 'kanfadal': 14640, 'ftyyara.': 14641, 'massage': 14642, 'dafi2': 14643, 'l3amma': 14644, 'flb7ar,': 14645, 'wrrini': 14646, '2awwel': 14647, 'lbka': 14648, 'sab3a': 14649, 'ghare9': 14650, 'swel': 14651, 'yweslou': 14652, 'hya,': 14653, 'darori.': 14654, 'fwe9thom': 14655, 'a3azz': 14656, 'la9ana': 14657, 't3echiti?': 14658, 'be3d': 14659, 'kay3jbo': 14660, 'omkat9darch': 14661, 'ghlad': 14662, 'nchrb': 14663, 'kanswer': 14664, 'lla,': 14665, 'lowla?': 14666, 'sari7...': 14667, 'ikounou': 14668, 'chrjm': 14669, 'tir': 14670, 'ma3ndo': 14671, 'l3ilaj.': 14672, 'makat3raf': 14673, 'ssda3?': 14674, 'ayeeh,': 14675, 'kaytyye7': 14676, 'krchi': 14677, 'lligat': 14678, 'l3chiyya': 14679, 'bwalo': 14680, 'tabzaz': 14681, 'jamda': 14682, 'hadchi?': 14683, 'dlam': 14684, 'ssghir': 14685, 'ma3ada': 14686, 'anna9l': 14687, 'rfdat': 14688, 'kt3ejbni': 14689, 'lmostawa': 14690, '7a9i9i': 14691, 'wardi?': 14692, 'ttlat': 14693, 't3awen': 14694, 'talyania': 14695, 'lmota7arika': 14696, 'chrif': 14697, 'makan7esch': 14698, 'ka3jebni': 14699, 'torkya': 14700, 'kayt3rad': 14701, 'sada9a': 14702, 'riyadiya': 14703, 'yadik': 14704, 'bnina': 14705, '3mrek': 14706, 'momti3': 14707, '3edma': 14708, 'ghat3jbk?': 14709, 'cheffara': 14710, 'rba7t': 14711, 'nnemra': 14712, '7ob': 14713, 'takhodha': 14714, 'ssba7?': 14715, 'achnahia': 14716, 'tkhsar': 14717, 'chari7a': 14718, 'lbarba?': 14719, 'cha3ar': 14720, 'lgitar.': 14721, 'ykoun': 14722, 'lmanga': 14723, 'ndkhol?': 14724, 'kanskon': 14725, 'rasa2il': 14726, 'lilah!': 14727, 'ch7al': 14728, 'nda7ko': 14729, 'lmo8rribin': 14730, 'likatchad': 14731, 'ktb': 14732, 'chfnak,': 14733, 'tchte7': 14734, 'n7bso': 14735, 'jarda.': 14736, 'nwe9ef': 14737, 'obla': 14738, '5li3': 14739, 'khasa?': 14740, 'mkhaddti': 14741, 'kwiyes': 14742, 'forchita?': 14743, 'daroria.': 14744, 'biha,': 14745, 'kaybyyen': 14746, 'zzbla': 14747, 'ddeniya': 14748, 'mnnk.': 14749, 'mn8na!': 14750, 'wladna': 14751, 'fechechtih': 14752, 'informatique,': 14753, 'tilifoun': 14754, 'blmonasaba': 14755, 'madame,': 14756, 'bsit:': 14757, 'mstock': 14758, 'maddirhach!': 14759, 'lwa9a7a': 14760, 'tanta': 14761, 'lmo3amala': 14762, 'nchedd': 14763, 'nddam': 14764, 'yalla8': 14765, 'l7tiram': 14766, 'mat3taderch': 14767, 'sa7bi?': 14768, 'tyara': 14769, 'tafe9na?': 14770, 'lmarkat': 14771, 'mohamed?': 14772, 'lm3rid': 14773, 'marra': 14774, 'flwa9i3,': 14775, 'fazguine.': 14776, 'bhal': 14777, 'cha8iya': 14778, 'wa9tak': 14779, 'wa7lin': 14780, 'nkhaffaf': 14781, 'kantmnaw': 14782, 'mrta7,': 14783, 'nkhddm': 14784, 'chaftni': 14785, 'ndaf3k': 14786, 'katfere7ni': 14787, 'tkkina': 14788, 'talbas': 14789, 'fahd': 14790, 't8nna': 14791, 'bimtyaz!': 14792, 'btlj': 14793, 'katwlli': 14794, 'matakol?': 14795, 'ma3endi': 14796, 'likhasa,': 14797, 'khasso': 14798, 'forchita': 14799, 'b2oghnia': 14800, 'oh,': 14801, 'nadariya': 14802, 'ntmcha': 14803, 'lmrat': 14804, 'fsba7': 14805, 'bat?': 14806, 't5dem': 14807, 'nt9ddaw!': 14808, 'sab3an.': 14809, 'mzyaana': 14810, 'nnatija': 14811, 'nata2ij': 14812, 't5yem': 14813, 'mttaf9.': 14814, '2a2iltek': 14815, 'lt7t': 14816, 'nd5l': 14817, 'ntber3oou': 14818, 'btawattor': 14819, '2anisa': 14820, 'jdad,': 14821, 'bzef': 14822, '3awdlia': 14823, 'katskhon': 14824, 'tyyeb': 14825, 'na8dar': 14826, 'fkolchi!': 14827, 'whda?': 14828, 'ndor': 14829, 'lhadaf': 14830, 'fiyya?': 14831, 'moda': 14832, 'l33ab': 14833, 'bllati': 14834, 'trifat': 14835, 'sef7a': 14836, 'ntjbbed': 14837, 'mbr8ch': 14838, 'flli9a2?': 14839, 'mandirch': 14840, 'tfkkr': 14841, 'w9a3': 14842, 'lbota': 14843, 'kay8err': 14844, 'lkhabar': 14845, 'bllil?': 14846, 'ghantkka': 14847, 'kat3zaf?': 14848, 'mghbribi': 14849, 'makrhctch': 14850, 'sbrdilat': 14851, 'nkhdm': 14852, 'tyy9tina': 14853, 'kayfekerni': 14854, 'nguelso': 14855, 'piano': 14856, 'nstaslmo.': 14857, 'a9all': 14858, 'matandennch': 14859, 'aatar?': 14860, 'taman': 14861, '8zzat': 14862, 'jradi': 14863, 'netzeb9ou': 14864, 'sbrdiltek.': 14865, 'ddar!': 14866, 'kayt8llaw': 14867, 'medher': 14868, 'hadi...?': 14869, 'n5sl': 14870, 'lfan.': 14871, 'fllor,': 14872, 'kan7wel': 14873, 'bjouj': 14874, 'ghadda': 14875, 'daba!': 14876, 'ta7iyati': 14877, '3ti8': 14878, '7etta': 14879, 'tteffa7a': 14880, 'ndirouh': 14881, 'lkelb': 14882, 'chayi9a': 14883, 'nation': 14884, 'ymkn': 14885, 'kellefti': 14886, 'franssa': 14887, '3erref': 14888, 'kantt3elem': 14889, 'blma': 14890, 'fchkl': 14891, 'y9elebni': 14892, 'layak': 14893, 'hamajiyin': 14894, 'nisba': 14895, 'charika': 14896, 'kayzrbo!': 14897, '7lou': 14898, 'hey,': 14899, 'tlbwatat': 14900, '3adima!': 14901, 'asmit': 14902, 'i3ni': 14903, 'kat5yet': 14904, 'fictions': 14905, 'lay7fdek': 14906, 'fzher': 14907, 'sayid': 14908, '7me9': 14909, 'tsjjel': 14910, 'yak': 14911, 'kelb': 14912, 'decorassioun!': 14913, 'test.': 14914, 'nnachat': 14915, 'okhasni': 14916, 'wayah': 14917, 'l2ijtim3atat': 14918, 'nach': 14919, 'll3rs': 14920, 'kanban': 14921, 'mat3a9bnich': 14922, 'tomobila': 14923, 'khtisas': 14924, 'hdah': 14925, 'ghanchoufo': 14926, '5alina': 14927, 'kamlha': 14928, 'kadwez': 14929, 'maytmarkach': 14930, 'nffakhat,': 14931, 'dwez': 14932, '2amr': 14933, 'jaw': 14934, 'sadda': 14935, 'ki3jbna': 14936, 'mor8i9a': 14937, 'lkhasa': 14938, 'tab3ani': 14939, '7san': 14940, 'makan3rfoch': 14941, 'iryyeb': 14942, '3zwa': 14943, 'lmakla,': 14944, '3ezzi': 14945, 'lkawkab': 14946, 'lb7al': 14947, 'afkark': 14948, 'siya7i,nchofo': 14949, 'bl7lib': 14950, 'markhasch': 14951, 'aman.': 14952, 'a8': 14953, 'njarreb': 14954, 'not9': 14955, 'lmousa9i': 14956, 'mayoram': 14957, 'ay9der': 14958, 'sefro': 14959, 'sghira': 14960, 'kandn': 14961, 'ntfrrj': 14962, 'jazira': 14963, '3and': 14964, 'salle': 14965, 'nkhonek': 14966, 'otchri': 14967, 'mkellef?': 14968, 'sada': 14969, 'khass': 14970, 'l2akl': 14971, 'l9obbiyat': 14972, 't5erejhom': 14973, 'tlkhobz.': 14974, 'l9asabat': 14975, 'saba7': 14976, 's7ab,': 14977, 'a7jam': 14978, 'merhba': 14979, 'b3ida': 14980, 'b7al?': 14981, 'l9er3a': 14982, 'kaytkhayal': 14983, 'nglizia,': 14984, 'byed?': 14985, 'tgollihom?': 14986, 'nti?': 14987, 'noha': 14988, 'khrrej': 14989, 'ana,': 14990, 'kan3rfo': 14991, 'blkhel3a': 14992, 'lforchita': 14993, 'flwa9t!': 14994, 'ttyyeb?': 14995, 'lbnina': 14996, 'mazal': 14997, 'lkokh': 14998, 'fat,': 14999, 'm9tan3a': 15000, 'li3rad': 15001, 'merra.': 15002, 'chafa8ya': 15003, '3chia': 15004, 'kat7es': 15005, 'ow!': 15006, 'ma7tajin': 15007, 'tatbi9': 15008, 'ri7tou': 15009, 'lboita': 15010, 'ljor2a': 15011, 'mamak': 15012, 'morafi9at': 15013, 'wa9a3': 15014, 'tchofni': 15015, 'biha': 15016, 'n9t3oh': 15017, 'ndou9': 15018, 'mat7yedhach': 15019, '8alwasa?': 15020, 'mazwinch': 15021, 'mojito': 15022, 'kat7s': 15023, 'mokabir': 15024, 'maykfi': 15025, 'bar8ouch': 15026, 'dd9ay9': 15027, 'aljor3a': 15028, 'khet': 15029, 'kaywariwni': 15030, 'it7mmr': 15031, 'ywsel': 15032, 'kay3tamad': 15033, 'mabrouk': 15034, 'nkhzanha': 15035, 'rjl': 15036, 'i3mmrha': 15037, 'chnahia': 15038, 'sifto': 15039, 'lkhoubz': 15040, 'chmit': 15041, 'ntfrrjo': 15042, 'amira?': 15043, 'mamzyanch.': 15044, 'bihom': 15045, 'm3wwlin': 15046, 'tofola': 15047, 'ma3rft': 15048, 'temma.': 15049, 'marddinach': 15050, 'blktaba': 15051, 'sami,': 15052, 'galiyya': 15053, 'blkheff,': 15054, 'lcostume': 15055, 'f': 15056, 'bchmicha': 15057, 'khasna,': 15058, 'thezz': 15059, '8wwa': 15060, 'likayrb7o,': 15061, 'lmou3llim': 15062, 'lisser': 15063, 'makhaybach': 15064, 'lmoufadala': 15065, 'kay7sab': 15066, 'makay3jbonich': 15067, 't9tte3': 15068, '7orra?': 15069, 'l9yass': 15070, 'yamat!': 15071, 'kbchlaba9ich': 15072, 'idrak': 15073, 'zerba': 15074, 'merrakch.': 15075, 'wdan': 15076, 'kanghir!': 15077, 'ssir...': 15078, 't3llmti': 15079, 'kimma': 15080, 'lppiknik': 15081, 'ma3art': 15082, 'zaydoun,': 15083, 'ikhlliwni': 15084, 'l7ala?': 15085, \"'3adi'?\": 15086, 'kanhabto': 15087, 'tadwir,': 15088, 'ble3b': 15089, 'lkorsi': 15090, 'lw9ta': 15091, '5ansafer': 15092, 'an7tajo': 15093, 'kat2rej': 15094, 'sbbato': 15095, 'tn99i': 15096, 'tart': 15097, 'ikoun': 15098, 'y3ni': 15099, 'lfoug': 15100, 'ichara.': 15101, 'sakn': 15102, 'messajat': 15103, '3andak?': 15104, '9llb': 15105, 'l7is': 15106, 'mkhlou3': 15107, 'katkhettet': 15108, 'bl': 15109, 'lkhimat': 15110, 'stakchfna': 15111, 'lour': 15112, 'majitich': 15113, 'jme3': 15114, 'tkheles': 15115, 'anaho': 15116, 'twsal': 15117, 'tlyom,': 15118, '5essrat': 15119, 'mamtebbe3ch': 15120, 'ch7alma': 15121, 'kat5rs': 15122, 'kansafar': 15123, 'chirir': 15124, 'li8timam': 15125, 'lkhell': 15126, 'hiya': 15127, 'f7ala': 15128, 'khatmia': 15129, 'retbin': 15130, 'nktachef': 15131, 'katcherb': 15132, 'tlloghat': 15133, 'odyo': 15134, 'wj8o?': 15135, 'bte5yam': 15136, 'katn3es': 15137, 'kemmelti': 15138, 'malabis': 15139, 'khrejt': 15140, '3titini,': 15141, '7da8om': 15142, '3ndha': 15143, 'makatjawbch': 15144, 'ani9': 15145, 'ijawb': 15146, 'kat3tini': 15147, 'fdocumentaire': 15148, 'annaho': 15149, 'snan,': 15150, 'bssalama': 15151, 'khbark': 15152, 'tab3an': 15153, '...': 15154, 'twil': 15155, 'lktab?': 15156, 'bini': 15157, 'lkhbz': 15158, 'naghsal': 15159, 'mayakol': 15160, 'waslat': 15161, 'kat9bl': 15162, 'nchofhom': 15163, '3ta': 15164, '7tarm': 15165, 'safir': 15166, 'mohandis': 15167, '2ifri9ya,': 15168, 'nweslou': 15169, 'itkhffef': 15170, 'achnhiya': 15171, 'ddisir!': 15172, 'moz3ij': 15173, 'chta?': 15174, 'chdditi?': 15175, '7awlti': 15176, 'm3a8om': 15177, 'terbouchek': 15178, 'masi7ia': 15179, 'mt7ef': 15180, 'lkhater.': 15181, 'ch8oura': 15182, 'tgoliya': 15183, 'wsfat': 15184, 'khelini': 15185, 'kaydeyy3': 15186, 'l7ayawanat,': 15187, '2a7san': 15188, 'hiwayat': 15189, 'lblays?': 15190, 'new': 15191, 'ta3tiha': 15192, 'jrida': 15193, '8akda': 15194, 'zbda?': 15195, 'kou': 15196, 'la7dti': 15197, 'nmertk': 15198, 'l2abad': 15199, 'oh...': 15200, 'chitat': 15201, 'tanl3eb': 15202, 'lfrmaj': 15203, 'ch3er': 15204, 'masterchef': 15205, 'kabos': 15206, 'nzaynoh': 15207, 'ma9adohch': 15208, 'lflos': 15209, 'dderra': 15210, 'cherjem.': 15211, 'lwi': 15212, 'zzher': 15213, 'nchofo': 15214, 'fserbia': 15215, 'masa2': 15216, 'lkhar': 15217, 'mdel': 15218, 't9edd': 15219, 'alkarta': 15220, 't9na3': 15221, 'lyabaniyya': 15222, '3awtani.': 15223, '3arf.': 15224, 'flmyya': 15225, 'flos8a': 15226, 'tbedlat': 15227, 'b3adam': 15228, 'n9ddmo': 15229, 'ms2ala': 15230, 'mmoskhin': 15231, 'blmonasaba,': 15232, 'balk,': 15233, 'werrekt': 15234, 'na7tajo': 15235, 'tkhdem': 15236, 'nsekhen': 15237, 'mechghoul': 15238, 'ndader': 15239, 'ch9a': 15240, 'mesdoum': 15241, 'llkher': 15242, 'lftour,': 15243, 'lm3lomat!': 15244, 'f8emtk': 15245, 'toma': 15246, 'bhaka': 15247, 'fatra': 15248, 'doctor': 15249, 'jo3': 15250, 'wad7in': 15251, 'kayd7ek?': 15252, 'tb33ed': 15253, 'kat7essi?': 15254, 'robo3sa3a': 15255, 'l7ya': 15256, 'l5youm': 15257, 'bond.': 15258, 'ayeh!': 15259, 'momilla': 15260, 'njahzo': 15261, 'sm7i': 15262, 'kat3bbr': 15263, 'sstok': 15264, 'lizar': 15265, 'lakhar': 15266, 'sa7bak': 15267, 'dayr': 15268, 'wslna.': 15269, 'lmaktab': 15270, 'mach': 15271, 'ttmer': 15272, 'ktret': 15273, 'moutarjim?': 15274, 'lhojom': 15275, 'halloween': 15276, 'fsi7.': 15277, 'dkchi': 15278, 'rachida,': 15279, 'nnifa9': 15280, 'lob': 15281, 'jawk': 15282, 'kloun': 15283, 'ssba7': 15284, 'ballik?': 15285, 'kna': 15286, 'ymken': 15287, 'lgharad.': 15288, 'mayb9ach': 15289, 'makanwssich': 15290, 'lcognac': 15291, 'lsayf': 15292, 'sba7?': 15293, 'mkandnch': 15294, 'blil?': 15295, 'lbeztam': 15296, 'kan9dar': 15297, 'khosousan': 15298, 'mab9atch': 15299, 'balid?': 15300, 'kaytir,': 15301, '3aref': 15302, 'tma?': 15303, 'hia,': 15304, 'kadowwez': 15305, 'ssa3a.': 15306, 'nblaniw': 15307, 'chabaka?': 15308, 'ryoshom': 15309, 'awa': 15310, 'dimaa': 15311, '3wacher': 15312, 'fhmt': 15313, 'anahom': 15314, 'bzzez': 15315, 'nnass': 15316, 'mo9raj': 15317, 'ghadia': 15318, 'ttrikkowat?': 15319, '3inya': 15320, 'noubtkoum': 15321, 'ala': 15322, 'whda': 15323, 'dor': 15324, 'talabat.': 15325, 'sbghat': 15326, 'mannsawch': 15327, 'yawdi!': 15328, 'ddroj': 15329, 'kaysaybo': 15330, 'idrbek': 15331, 'zer9a': 15332, 's7i7.': 15333, 'hahowa': 15334, 'aslan': 15335, 'iyakl': 15336, 'match': 15337, 'mori7a': 15338, 'chchinwiyya': 15339, 'kwari': 15340, 'a7fadk': 15341, 'mgadd': 15342, 'w9e3': 15343, 'berra': 15344, '2abyad': 15345, 'daraja': 15346, 'ma3bed': 15347, 'l7boub': 15348, 'kansta3mel': 15349, 'ja': 15350, 'de3na': 15351, 'brra7a': 15352, 'bsse7,': 15353, 'l7rb': 15354, '?': 15355, 'as3ab': 15356, 'kankhdm': 15357, 'saliti?': 15358, 'lbareh': 15359, 'l5emsa': 15360, 'de99': 15361, 'ssabona': 15362, 'ktr?': 15363, 'nal9aha?': 15364, 'n3ardo': 15365, 'chhor': 15366, 'lkhodra,': 15367, 'dwwez': 15368, 'ni8a2iyyan': 15369, 'ssebt': 15370, 'mamadiha': 15371, 'maghanakolhomch.': 15372, 'yakhad': 15373, 'takhroj': 15374, 'bssa7!': 15375, 'ghaykoun': 15376, 'li3ndk?': 15377, 'nkhddmha': 15378, 'l9odam,': 15379, 'mo7alch.': 15380, 'ftandim': 15381, 'ot3ich': 15382, 'khllina': 15383, 'kollchi': 15384, 'ntsenaw': 15385, 'contra': 15386, 'gps,': 15387, 'wa5a,': 15388, 'kan3ra9': 15389, 'lbar7': 15390, 'n3ich': 15391, 'yttekla?': 15392, 'l9elb': 15393, '5ayzourou': 15394, 'ttyyara': 15395, 'nwa3dak': 15396, 'bll7em': 15397, 'noubthom': 15398, 'tsizit': 15399, 'anania': 15400, 'nsm3': 15401, 'makhssnich': 15402, 'tti9': 15403, 'mafi8ach': 15404, 'drebni': 15405, 'm3tamd': 15406, 'yahdar': 15407, 'wa3ra,': 15408, 'dwwr': 15409, '9rit': 15410, 'tberre3': 15411, 'manakhad': 15412, 't9llb': 15413, 'ila7do': 15414, 'eafak': 15415, 'kand7k': 15416, 'l9iti': 15417, 'rakeb': 15418, '7adartk': 15419, 'mkhbbyin': 15420, 'tkhasemt': 15421, 'khouya?': 15422, 'ghan7ell': 15423, 'tchrab': 15424, 'mkllkha': 15425, 'd7kt': 15426, 'momkina': 15427, 'tsnna': 15428, 'khdmtek': 15429, 'ma7dd': 15430, 'w7da!': 15431, 'omakandnch': 15432, 'kaysme3': 15433, 'jdida?': 15434, 'dourat': 15435, 'skhana': 15436, 'llowel': 15437, 'yttasel': 15438, 'tdirha': 15439, 'dyali': 15440, '3adaad': 15441, 'bnat': 15442, 'day9a': 15443, 'bl3arbiyya': 15444, 'mnni?': 15445, 'ddakira': 15446, 'wa93a': 15447, 'matnsach': 15448, 's7abna': 15449, 'sb3.': 15450, 'lghara9': 15451, 'manj7atch?': 15452, 'makaddir': 15453, 'llte7t': 15454, 'firan': 15455, 'machrebtch': 15456, 'mamt2kkedch': 15457, 'ttot': 15458, 'lftat': 15459, 'makaydkholch': 15460, 'ki9etlou': 15461, 'wer9a?': 15462, '3omrek?': 15463, 'chwa?': 15464, 'lmat?': 15465, 'bent': 15466, '7aja:': 15467, 'matfekkerch': 15468, 'tkhroj': 15469, 'rasou': 15470, 'braso': 15471, 'btkhbia': 15472, 'rrbi3': 15473, 'magoult8ach': 15474, 'afin': 15475, 'rbe7': 15476, 'cho99a': 15477, 'nsa': 15478, 'msafr': 15479, 'b7ali': 15480, '3ssebtini': 15481, 'kat3ta9d': 15482, 'yne99ez!': 15483, 'tjriba.': 15484, 'makan7mlhach': 15485, 'katghamri': 15486, 'nkhalik': 15487, 'ra2yak': 15488, 'kantsna': 15489, 'kaytsenna': 15490, 'mojoda': 15491, 'flmosatawa': 15492, 'kansta79oha,': 15493, '3amrin': 15494, 'l2itisal': 15495, 'nasim': 15496, 'tchreb?': 15497, 'romansia': 15498, 'wa9i3i': 15499, 'tlimoun?': 15500, 'nl9achi': 15501, 'imane,': 15502, 'tsat7t': 15503, 'makafich': 15504, 'dakhelch': 15505, 'm3sor,': 15506, 'katchreb?': 15507, '3lik?': 15508, 'katerta7': 15509, 'ta9dr': 15510, 'bmakan': 15511, '9ablak': 15512, 'lflous': 15513, '9nitra': 15514, 'n9at3ek?': 15515, 'la3bin': 15516, 'kantsnnak': 15517, 'mcha': 15518, 'daka2': 15519, 'tanbrztk,': 15520, 'kaywsslou': 15521, 'katl3ab': 15522, 'kan9ra?': 15523, 't3ettel': 15524, 'piscine,': 15525, 'katinspiri': 15526, 'lwa7ed': 15527, 'bio': 15528, 'btab3': 15529, 'gordon': 15530, 'fl7afa': 15531, 'se77': 15532, 'bso8ola?': 15533, 'lrobot': 15534, 'ma3emerna': 15535, 'moufid': 15536, '3nd': 15537, 'awili!': 15538, 'kidewecht': 15539, 'nsrbiw!': 15540, 'zad': 15541, 'kaydina': 15542, 'kayn99i': 15543, 'mouchaji3': 15544, 'bregime': 15545, 'dari,': 15546, 'mnasb': 15547, 'takka': 15548, 'khddemnah?': 15549, 'lpuzzle': 15550, 'tedribat': 15551, 'kay3ni': 15552, '7abibi?': 15553, 'mwedder?': 15554, 'lih...': 15555, 'kansme3': 15556, 'kayn.': 15557, 'khs': 15558, 't3aml': 15559, '7asasiyya': 15560, 'ssansour': 15561, 'igollik': 15562, 'projet': 15563, 'kasol': 15564, '3ini8': 15565, '9abli': 15566, '5ayjik': 15567, 'choklat?': 15568, 'rajl?': 15569, 'ma9dertch': 15570, 'tl3waser': 15571, 'i9tisad': 15572, 'rb3a': 15573, 'kaymrrdo': 15574, 'kamlo!': 15575, 'jjem3a': 15576, 'mamnasbach': 15577, '3in': 15578, 'bchakal': 15579, 'ma39ltch': 15580, 'far7an': 15581, 'n5sel': 15582, 'restorat': 15583, 'makanf8emch': 15584, 'lwa9t': 15585, 'b3dyatna': 15586, 'el': 15587, 'tan7as': 15588, 'llme7kama': 15589, 'wslo': 15590, '2asya': 15591, 'mamat2akadch': 15592, 'mrra': 15593, 'wjjedti': 15594, 'ajarakom': 15595, 'katchbeh': 15596, 'l3isaba': 15597, 'n3wnak': 15598, 'kaydrbo': 15599, '7awlt': 15600, 'n7awl': 15601, 'ttilifoun?': 15602, 'kalkulatris': 15603, 'biha.': 15604, 'a9rab': 15605, 'kay9oulo': 15606, 'chfnah': 15607, 't3atal': 15608, 'rassek': 15609, 'nhar!': 15610, '9rib,': 15611, 'l2isti3mar': 15612, 'tdewez': 15613, 'n9leb?': 15614, 'lembouteillage': 15615, 'fikri': 15616, 's5ouna': 15617, 'kadnn': 15618, 'tilifon?': 15619, 'khessna': 15620, 'tsber': 15621, 'mo3arada': 15622, 'ra8a': 15623, 'matchrab': 15624, 'masmo7': 15625, 'tajine,': 15626, '9dima': 15627, 'latras': 15628, 'ttri9,': 15629, 'ta8oa': 15630, 'yasalam': 15631, 'ssout': 15632, 'tran': 15633, 'tantsnna': 15634, 'l3arad': 15635, 'kandor': 15636, 'matkhafich,': 15637, 'tjerreb': 15638, 'kerhek...': 15639, 'kanti': 15640, 'kansebben': 15641, 'fl2atar': 15642, 'lwla': 15643, 'nchoufo': 15644, 'l3ayinat': 15645, 'joumla': 15646, 'kanmchiw': 15647, 'zwin,': 15648, 'ssbe3': 15649, 'tahjaj': 15650, 'lerd': 15651, 'ibki': 15652, 'hadok,': 15653, 'ssffara': 15654, 'n7ebes': 15655, 'lm3lm?': 15656, 'kat3rfha?': 15657, 'mjliya.': 15658, 'kankmi': 15659, 'itara': 15660, 'maf8emtekch': 15661, 'kayw9a3': 15662, 'seb3a': 15663, 'ewa,': 15664, 'likanl9a': 15665, 'bouldan': 15666, 'champagne': 15667, 'kay3rfha': 15668, '2amina,': 15669, 'makandanch': 15670, 'ma3mrha': 15671, 'kelma': 15672, 'la7dt': 15673, 'tari9': 15674, 'photocopieuse!': 15675, 'mach8our': 15676, 'flgharb!': 15677, '2ilti8ab': 15678, 'bl3chiya': 15679, '.': 15680, 'kaytayab': 15681, 'hamburger': 15682, 'kanelbes': 15683, 'bas,': 15684, 'kaychouf': 15685, '2imam': 15686, 'fsma': 15687, 'wenta': 15688, 'wa5a': 15689, 'ghanjawb': 15690, 'bkkitini': 15691, 'kay3jbhom': 15692, 'kan7ma9': 15693, 'm39oula': 15694, 'mofida': 15695, 'mat7e99e9ch': 15696, 'lsa9': 15697, 'nabatiyin': 15698, 'aykhsk': 15699, 'kidwwzt': 15700, 'ldakhal?': 15701, 'flousso': 15702, 'kaykhli': 15703, 'fn3aso.': 15704, 'zzebda': 15705, 'lhadaba': 15706, 'kayseyyed': 15707, 'chef!': 15708, 't8ezz': 15709, 'bchat7a': 15710, 'trikko': 15711, '3:00!': 15712, 'makat9derch': 15713, 'bch': 15714, 'kay3ebdou': 15715, '8dra': 15716, 'n3ass': 15717, 'rimaya,': 15718, 'annhom': 15719, 'lrradyo': 15720, 'bghiti!': 15721, '5tar': 15722, 'makay3jbounich': 15723, 'lkhbarat': 15724, 'molat': 15725, 'l9awa3id': 15726, '3afak': 15727, 'ma3arfch': 15728, 'intaj': 15729, 'ma39eltch': 15730, 'makayjich': 15731, 'nftard': 15732, 'mliar': 15733, 'lmontazah?': 15734, 'lbttat': 15735, 'lghaba?': 15736, 'na7it': 15737, 'tkhessess': 15738, 'fer9tek': 15739, 'kesswa': 15740, 'jab': 15741, 'ktabi,': 15742, 'tjib': 15743, 'ikmmlo': 15744, 'tarikh': 15745, 'aji,': 15746, 'f3ibad': 15747, 'adghal': 15748, 'mbrouk.': 15749, 'fle3bek': 15750, 'asra3': 15751, '3tani': 15752, 'aatar': 15753, 'chakhsyat': 15754, 'jatk': 15755, '2akid': 15756, 'nsn3oha': 15757, 'katmena': 15758, 'mt2aked': 15759, 'n3as?': 15760, 'lmchach?': 15761, 'ykhasak': 15762, 't5ater': 15763, 'aghlab': 15764, 'hahiya': 15765, 'galt': 15766, 'rex!': 15767, 'mazyan': 15768, 'sout': 15769, 'lmsra7.': 15770, 'lotilat': 15771, 'm3ahom?': 15772, 'remdan?': 15773, 'atjib': 15774, 'katmenna': 15775, 'caipirinha': 15776, 'nadafa': 15777, 'ghaykhl9': 15778, 'bjoujna!': 15779, 'basl': 15780, 'bnsbalik': 15781, 'flghalib': 15782, 'khesshom': 15783, 'chouf': 15784, 'niit': 15785, 'taybniw': 15786, 'mora': 15787, 'zwiyen': 15788, '7sen,': 15789, 'khatat': 15790, 'l7amd': 15791, 'makhtalaf': 15792, 'siria': 15793, 'khssek': 15794, 'dafa3': 15795, 'kantcherret': 15796, 'kan3tader': 15797, 'ila': 15798, 'frestora': 15799, 's5orna': 15800, 'khefti?': 15801, 'darori': 15802, 'mouderrib': 15803, 'chabba': 15804, 'nak8at': 15805, 'me7tar': 15806, 'anglais?': 15807, 'tkhraj?': 15808, 'sbbatk': 15809, 'lfou9': 15810, 'lmajal?': 15811, 'mr7ba!': 15812, 'wikand': 15813, 'journanat': 15814, 'l9a8wi': 15815, '9add': 15816, 'ncharjih': 15817, 'ghafla': 15818, 'bebstisama': 15819, '2abad': 15820, 'mafih': 15821, 'khtek?': 15822, '9leb': 15823, 'maw9e3': 15824, 'francais': 15825, 'maklat': 15826, 'drbna': 15827, '9arar': 15828, 'ayeh': 15829, 'tmma.': 15830, 'bi': 15831, 'tlou7': 15832, 'lbalad,': 15833, 'nthadan': 15834, 'mank': 15835, 'belmounasaba': 15836, 'lbaja3': 15837, 'kaytraw': 15838, 'kanchaj3ak': 15839, 'mrt': 15840, 'fdak': 15841, '3inin': 15842, 'fasl': 15843, 'bl7yat': 15844, 't9sd': 15845, 'nna9ch8a': 15846, 'massage,': 15847, '3am.': 15848, 'lkarta': 15849, '9ne3tini': 15850, 'kanwejjed': 15851, 'tkri': 15852, 'ssalib': 15853, 'ki': 15854, 'mandir': 15855, 'york.': 15856, 's5er': 15857, 'bzarba!': 15858, 'lplizir': 15859, 'khayba!': 15860, 'ssabanikh': 15861, 'lmohandiss': 15862, 'nsaybo': 15863, 'lwa7d': 15864, 'kat39al': 15865, 'tatghbr': 15866, 'flfikra': 15867, 'ra7ti': 15868, 'blm39ol,': 15869, 'ghandir': 15870, 'dakchi,': 15871, 'n7taj': 15872, 'dessert!': 15873, 'katakol': 15874, 'kayda7ek': 15875, 'bant': 15876, 'bddbt': 15877, 'fnikich': 15878, 'nkherjo?': 15879, '2inna': 15880, 'vin': 15881, 'rrijim': 15882, 'tilifonek?': 15883, 'tswal': 15884, 'mangddch': 15885, 'lmsdoudin!': 15886, 'n9adam': 15887, 'bariss': 15888, '9dro': 15889, 'ykatbo': 15890, 'mat2akad': 15891, 'mt7amas': 15892, 'nogfo': 15893, 'kn7es': 15894, 'grenadine': 15895, 'malek': 15896, 'diyyana': 15897, '5less': 15898, 'madrti': 15899, 'walidik': 15900, 'mamak?': 15901, 'mno,': 15902, 'kat7wwel': 15903, 'jdoudhom': 15904, 'kayddina': 15905, 'kifma': 15906, 'hlow': 15907, 'man9ssiw?': 15908, 'tsoni': 15909, 'makay9rach': 15910, 'fmjmo3a': 15911, 'demm': 15912, 'bttarikh': 15913, 'b7al8a': 15914, 'vodka': 15915, 'saken?': 15916, 'maysta8lch': 15917, 'sa8la,': 15918, 'te7ti': 15919, 'w9ef?': 15920, 'aktarya': 15921, 'ghayakhod': 15922, '2akhiran': 15923, 'kizidou': 15924, 'lkisan': 15925, 'bel': 15926, 'lmosta9bal': 15927, 'n7tafdo': 15928, 'ntfrej': 15929, 'njm3': 15930, 'makanfhmech': 15931, 'anmchi': 15932, 'rri7a': 15933, 'disco': 15934, 'maja': 15935, '2:00': 15936, '5edda': 15937, 'mamaha': 15938, 'castaway': 15939, 'lsf7a,': 15940, 'm3ah!': 15941, 'fblasti': 15942, 'n7iyed': 15943, 'nsini': 15944, 'b5ii': 15945, 'rasso': 15946, 'kaywjjdo': 15947, 'l3chiyya?': 15948, 'yeddi8a': 15949, 'kanl3b,': 15950, 'janoubiya': 15951, 'kaykhemmem': 15952, 'kasrona': 15953, 'lmchichat': 15954, 'chrifa': 15955, 'kanb9aw': 15956, 'bougous': 15957, 'tfa7a': 15958, 'l7al!': 15959, 'nkhali': 15960, 'flkher': 15961, 'tle3': 15962, 'anfos': 15963, 'kmml': 15964, 'nbddl': 15965, 'bo7dk': 15966, 'chamaliya': 15967, 'al': 15968, 't3elem': 15969, 'n3awd': 15970, 'khti': 15971, 'whad': 15972, '7fidi': 15973, 'younyou': 15974, 'tawani': 15975, '3a2iltna': 15976, '5andem': 15977, 'simanat.': 15978, 't7amrha': 15979, 'londres': 15980, 'bghitina': 15981, 'khlini': 15982, 'zayed?': 15983, 'dirha': 15984, 's7i7?': 15985, 'kat2eter': 15986, 'attiyara': 15987, 'i3awenna.': 15988, 'dyalo?': 15989, 'n7tafl': 15990, 'nakhroj': 15991, 'twsel': 15992, 'nnjoum!': 15993, 'lelma7etta': 15994, 'sewbou': 15995, 'nketbou': 15996, 'tmecha': 15997, 'ntsnnaw': 15998, 'btt': 15999, 'l3atriya': 16000, 'sa7b': 16001, 'makaykheliwch': 16002, '3dami': 16003, 'wladi': 16004, 'taybano': 16005, 'n3ikas': 16006, '5ayfa': 16007, 'kanz': 16008, 'darajat': 16009, '3ardin': 16010, 'te9lidi': 16011, 'l2osbo3': 16012, 'karim?': 16013, 'kan9ad': 16014, 'onta,': 16015, 'lkharita': 16016, 'i3tibar,': 16017, 'chark': 16018, 'l2oustad': 16019, 'khatir': 16020, 'nt8dden!': 16021, 'katsafar?': 16022, 'lkbar,': 16023, 'nj3lohom': 16024, 'kandouwwzo': 16025, 'bared': 16026, 'mar5ess': 16027, '7da8a': 16028, 'tfkir': 16029, 'jama3i': 16030, 'oh...chkon': 16031, '2armal': 16032, 'karta': 16033, 'fizik': 16034, 't9edya': 16035, 'nzor': 16036, 'layla,': 16037, 'ara': 16038, 'natchawfou': 16039, 'dyra': 16040, 'lme9la': 16041, 'nkhroj?': 16042, 'n3rfo': 16043, 'khadam': 16044, 'kanrkab': 16045, 'kansken': 16046, 'mabghtich': 16047, 'sikritira': 16048, 'bin': 16049, 'danoun': 16050, 'a8amm': 16051, 'jaraf': 16052, 'chft?': 16053, 'khashom': 16054, 'asfi': 16055, 'lmo3jabin': 16056, 'ghaykber.': 16057, 'khaliha': 16058, 'makat8derch?': 16059, 'aysm3na': 16060, 'galou': 16061, 'sahemt': 16062, 'nchreb': 16063, 'lmakla.': 16064, 'ljomgor': 16065, 'chrabt': 16066, 'kan9elbo': 16067, 'sayara?': 16068, 'kaytchaf': 16069, 'tnin': 16070, 'hadak': 16071, 't3ich': 16072, 'flmonasabt': 16073, 'ghebra': 16074, 'jri': 16075, 'tdris': 16076, 'otaklo?': 16077, 't8edden': 16078, 'lmrid': 16079, 'lklma': 16080, 'tgles': 16081, 'l7al.': 16082, 'cha5ss': 16083, 'ltihab': 16084, 'hbila,': 16085, 'twal': 16086, 'lmkteb': 16087, 'kantsnnaw': 16088, 'awl': 16089, 'lkas': 16090, 'kaykhdmo': 16091, 'lmi7fada': 16092, 'tdir': 16093, 'ayeh,': 16094, 'wtzaw9ha': 16095, 'tandour': 16096, 'n7bs': 16097, 'mzewwer': 16098, 'rabit': 16099, 'yamat': 16100, 'tilifon.': 16101, '3ti': 16102, 'boudi': 16103, 'tnz': 16104, 'ndkhal.': 16105, 'kan3zef': 16106, 'katswwel?': 16107, '9liha': 16108, 'katghowwet': 16109, 'ilahi.': 16110, 'rroz.': 16111, 'ttesbegh': 16112, 'fdarha': 16113, 'syal': 16114, 'an9tara7': 16115, 'mchat': 16116, 'kalima': 16117, 'bsor3a': 16118, 'l3od': 16119, 'nban': 16120, 'sber': 16121, 'tl7isas': 16122, 'tmchi?': 16123, 'nabdaw': 16124, 'm3ttel': 16125, 'tgyyebt': 16126, 'mrizirvi': 16127, 'masa8la': 16128, 'nsedd3k': 16129, 'sirto': 16130, 'wa7d,': 16131, 'stid3a2at': 16132, '2ittisal': 16133, 'mnou': 16134, 's5er,': 16135, 'man9ol': 16136, 'ghany': 16137, 'jjdida': 16138, 'matberztnich': 16139, 'lkhosos': 16140, 'fel7ebs': 16141, 'bnti.': 16142, 'ta7aja.': 16143, 'dllimoun': 16144, 'bbo7di': 16145, '7bess': 16146, 'ochaft': 16147, 'ma3emerha': 16148, '7essit': 16149, 'nt7r9': 16150, 'lbirra': 16151, 'mamsowwe9ch': 16152, 'lmawa3id': 16153, 'zz8er': 16154, 'ghariba': 16155, 'chfti!': 16156, 'mok33ab': 16157, 'kaybred': 16158, 'makatlebch': 16159, '9yyes': 16160, 'ssiba7a': 16161, 'twe99e3t8a': 16162, 'ksksou': 16163, 'kantmenna': 16164, 'lfoum': 16165, 'dewa': 16166, 'ndiro': 16167, 'khayb': 16168, '8indi': 16169, 'ghat3awenni': 16170, 'frasou': 16171, 'katzala9': 16172, 'ghan3awnk': 16173, 'atrja3': 16174, 'mkalmi': 16175, 'ghezza': 16176, 'ki3ni': 16177, 'korat': 16178, 'tayab': 16179, 'bennaj': 16180, 'mn5ale9': 16181, 'sakhiba': 16182, 'l9awha': 16183, 'ngoul': 16184, 'l9aw': 16185, 'madert8ach': 16186, 'ssl3a': 16187, '9niyet': 16188, '9mer': 16189, 'noukta': 16190, 'fanadarek': 16191, 'them': 16192, '3ajbni': 16193, '3ma': 16194, 'nchre7': 16195, 'm3ttel!': 16196, 'khirk': 16197, '3am!': 16198, 'spectacle.': 16199, '9tte3t': 16200, 'kan5mem': 16201, 'n9llb': 16202, 'lnejm': 16203, 'malk': 16204, 'lora9': 16205, 'n3red': 16206, 'okan9lab': 16207, 'katsenna?': 16208, 'f7yati': 16209, 'if8am': 16210, 'lmawdo3at': 16211, 'nstrj3ou': 16212, 'twaslini': 16213, 'mosta3ara': 16214, 'laila': 16215, 'l8edra?': 16216, 'jabk': 16217, 'lemails': 16218, 'swebt': 16219, 'l3ard': 16220, 'club': 16221, 'ti7': 16222, 'kt3arfo': 16223, '7ayawan': 16224, \"l'mirikan?\": 16225, 'lbar7!': 16226, 'b3ad': 16227, 'nt3elem': 16228, 'tilmid.': 16229, 'kaydrroni': 16230, 'aamina?': 16231, 'osafi...': 16232, 'zitounk': 16233, 'lmchach': 16234, 'at7taj': 16235, 'fl2akhir': 16236, 'radi': 16237, '8oma': 16238, 'kays7ablihoum': 16239, '9aws9oza7': 16240, 'itro': 16241, 'm3ettel': 16242, 'nkhli': 16243, 'na7jaz': 16244, 'l3asima': 16245, 'mchehi': 16246, 'kay7sbo': 16247, 'lghalat': 16248, 't3tlt': 16249, 'tekya': 16250, 't8adn': 16251, 'ntna9ch': 16252, 'modakira': 16253, 'fachal?': 16254, 'l3a9lia': 16255, 'l3asal': 16256, 'dikor,': 16257, 'kirak': 16258, 'joz2iyan': 16259, 'boulisi': 16260, 'katw99e3': 16261, '5a': 16262, 'flowel': 16263, 'n9i': 16264, 'kadereb': 16265, 'ktab': 16266, 'kheddama': 16267, 'lte7t': 16268, 'jdad': 16269, 'katghrob': 16270, 'kanb5ik': 16271, 'ma3emru': 16272, 'mntacher': 16273, 't7reg': 16274, 'matkhl3ch': 16275, '9issass': 16276, '9albouk': 16277, 'ghat7der': 16278, 'sangria.': 16279, 'rab3a': 16280, 'bzrba': 16281, 'nhari,': 16282, 'l3assir': 16283, 'rriyadiyyat': 16284, 'obdit': 16285, 'tchrabha': 16286, 'combo': 16287, 'lasi9': 16288, 'tandenn': 16289, 'kantferrej': 16290, '5rej': 16291, 'd8ar8a': 16292, 'kaytre3do': 16293, 'tti9a': 16294, 'lbar?': 16295, 'lkhir,': 16296, 'nnakol': 16297, 's5en': 16298, '7ari9!': 16299, 'moberzit': 16300, 't9tar7': 16301, 'jouj': 16302, 'fchamch': 16303, 'fe9t': 16304, 'sou9': 16305, 'mma3en': 16306, 'nadarek?': 16307, 'ghan3eyyit': 16308, 's7ab': 16309, 'kayswa': 16310, 'li9a2': 16311, 'mlli': 16312, 'kaydoz': 16313, '7dana': 16314, 'kena': 16315, 'machakil?': 16316, '8naya': 16317, 't3awnha?': 16318, 'kat9tare7': 16319, 'ijiw!': 16320, 'nsarbiw': 16321, 'jbna': 16322, 'chokran,': 16323, 'lmzyan': 16324, 'bsse77a': 16325, 'ghberti?': 16326, 'la5rin': 16327, 'n7e99o': 16328, 'ma3alyach': 16329, 'khdem': 16330, 'mat9is': 16331, 'madi': 16332, 'pfft': 16333, 'tarikh?': 16334, 'ola': 16335, 'lmya': 16336, 'bdat': 16337, 'lhajja': 16338, 'nmoutou': 16339, 'ah,': 16340, 'sne3': 16341, 't9adha': 16342, 'lkhbar': 16343, 'tllaft': 16344, 'ghanjerreb': 16345, 'al9iyasat': 16346, 'salamon': 16347, 'sda3.': 16348, 'fay9': 16349, 'najm': 16350, 'wajbat': 16351, 'ollah': 16352, 't8dm!': 16353, 'kollna': 16354, 'l7ot?': 16355, 'l3chra': 16356, '3ma.': 16357, 'mrabi!': 16358, '9tlou': 16359, 'kmel': 16360, 'lghoz': 16361, 'dedd': 16362, 'latifa': 16363, 'lcadeau': 16364, 'malay9in': 16365, 'tkon?': 16366, 'fine': 16367, 'bche7al': 16368, 'achnou': 16369, 'khawf': 16370, 'lghold': 16371, 'n9ssro': 16372, 'lma9liya': 16373, 'hchicha,': 16374, 'ddir': 16375, 'tlghat': 16376, 'yakhdou': 16377, 'tana': 16378, 'cheftek': 16379, 'lburou': 16380, 'mkhtalf': 16381, 'cha7ror': 16382, 'i3awnok': 16383, 'ghanl9i': 16384, 'assaf.': 16385, 'l3mer,': 16386, 'dmaghek': 16387, 'l7awayant': 16388, 'amal': 16389, 'itsajal': 16390, 'maghalich': 16391, 'mosi9a.': 16392, 'ghtta': 16393, 'abderrahim': 16394, 't9adit': 16395, 'lstimara': 16396, 'lalbum': 16397, 'tl': 16398, 'mekhlou9': 16399, 'fadik': 16400, 'ghadyin': 16401, 'tkhellih': 16402, 'chefti?': 16403, 'kantfehem': 16404, 'nhdr': 16405, 'ba3d,': 16406, 'ppilot': 16407, 'l9aylola': 16408, 'nfakar': 16409, 'sstaj': 16410, 'bjad': 16411, '7a9i9iya': 16412, 'hderti': 16413, 'deja': 16414, 'nn8ar': 16415, 'slmat': 16416, 'mtaf9in,': 16417, 'may3awed': 16418, 'l3a9d?': 16419, 'chrab': 16420, 'khra!': 16421, 'ml3ouba': 16422, 't3aweni': 16423, '9riti?': 16424, 'mamnou3': 16425, 'youm': 16426, '9sedt': 16427, 'lpplakar': 16428, 'm7taj': 16429, 'achnahya': 16430, 'ddi': 16431, 'mat2akd': 16432, 'n3es?': 16433, 'kan7ma9?': 16434, 'lik,': 16435, '3a9lani': 16436, 'hachi': 16437, 'jhdak': 16438, 'twe77cht': 16439, 'kanchkrk': 16440, 'lgri': 16441, 'kaddowez': 16442, 'lfrchita': 16443, '7adra,': 16444, 'ghdi': 16445, 'brba7': 16446, 'dbber': 16447, 'barid': 16448, 'kay3awdou': 16449, 'l7bob': 16450, 'motivi': 16451, 'lbra!': 16452, 'sme7li': 16453, 'glas': 16454, 'bdokhan': 16455, '7mmamat': 16456, 'cinema': 16457, 'soyya7': 16458, 'lghariba': 16459, 'bsara7a': 16460, 'lmath': 16461, 'ykhser.': 16462, 'afen': 16463, 'zzayda': 16464, 'fazg,': 16465, 'asas': 16466, 'tsm7': 16467, 'lmi2at': 16468, 'mabadi2,': 16469, 'nobtna': 16470, 'fiyya': 16471, 'tlw9t': 16472, 'n7awlo?': 16473, 'tl7wayj': 16474, 'ssefli': 16475, 'kat3a9bni?': 16476, 'asli7a': 16477, 'ma8arat': 16478, 'm3mmer': 16479, 'rkhes?': 16480, 'nzour': 16481, 'mwelf': 16482, '3yyana': 16483, 'ga3!': 16484, 'l7el9': 16485, 'hmm.': 16486, '7er9a': 16487, 'knchof': 16488, 'ja?': 16489, 'l3sel': 16490, 'daw3i': 16491, 'koull8a': 16492, 'bhadik': 16493, 'w7da?': 16494, '98wa,': 16495, 'n7al': 16496, 'l9hwa.': 16497, 'breton,': 16498, 'tanta?': 16499, 'ghaykhssk': 16500, 'n7tafal': 16501, 'fakhour': 16502, 'hreb': 16503, 'w7lt,': 16504, 'kant3elem': 16505, 'tnnas,': 16506, 'dka': 16507, 'ni9at': 16508, 'khyab': 16509, 'zelzal': 16510, 'kayseb5ou': 16511, 'terbouch8a': 16512, '7ench': 16513, 'ykhasna': 16514, '5ariba': 16515, 'otsma3': 16516, 'na9dro': 16517, 'ntsana': 16518, 't7ssen': 16519, 'ddissir,': 16520, 'bladek': 16521, 'likat9sad': 16522, 'meziana.': 16523, 'charikat': 16524, 'nadiro': 16525, 'motir?': 16526, 'tkhalih': 16527, 'chaft': 16528, 'tyyara?!': 16529, '5adda?': 16530, 'makaynsbch': 16531, 'ma9derch': 16532, 'kanstmte3': 16533, 'alklimat': 16534, 't7awal': 16535, 'tzyan': 16536, 'flkhdma?': 16537, 'lmra': 16538, '5atir': 16539, 'chedd': 16540, 'bdaw,': 16541, 'kadirou': 16542, '8adaf': 16543, 'f3alemna': 16544, 'ghzala.': 16545, 'idtirabat!': 16546, 'bs7abi': 16547, 'kat3awan': 16548, 'cheft': 16549, 'lebssa': 16550, 'btasem': 16551, 'achnahoma?': 16552, 'mo2kharan?': 16553, 'ma3rftouch': 16554, 'baramij': 16555, 'kitjm3ou': 16556, 'bkhdma': 16557, 'dl7lib': 16558, 'lfanni': 16559, 'ma8azch': 16560, 'khlastiha': 16561, 'nsbboha': 16562, 'lmrtabta': 16563, 'lbal': 16564, 'a7ssan': 16565, 'y3awnha': 16566, 'mchkouk': 16567, 'wa9fa.': 16568, 'kays7ablik': 16569, 'chash': 16570, 'mkhbia...': 16571, 'lmosi9iyin.': 16572, 'fl8adm,': 16573, 'mohimm': 16574, 'makantsewwe9ch': 16575, 'b3ini': 16576, '7amra': 16577, 'nsayfto': 16578, 'ressmou': 16579, 'kan8dr': 16580, 'kandwzo': 16581, 'mirikan.': 16582, 'zwinin': 16583, 'lkbir!': 16584, 'makbirach': 16585, 'chihab': 16586, 'sb3': 16587, 'likat3ni?': 16588, 'omar': 16589, 'idir': 16590, '8ad': 16591, 'mnnek?': 16592, 'bl2asi2ila': 16593, 'n3st': 16594, 'm3esseb': 16595, 'o3chrin': 16596, 'nbe7': 16597, 'n7lem,': 16598, 'hamid,': 16599, 'kat9sadi': 16600, 'flma9la': 16601, 'nfsser': 16602, 'kati9': 16603, '3ejbatni': 16604, 'lkbira': 16605, 'kaysoni....': 16606, 'lpiplantiyat': 16607, 'n3as': 16608, 'blwa3y': 16609, 'wslna': 16610, 'ttomobil?': 16611, 'kat9der': 16612, 'katnchchet': 16613, 'alkhir': 16614, 'crwasa': 16615, 'mdey9a': 16616, 'jack': 16617, 'mamtwe993ach': 16618, 'pescatorian?': 16619, 'mtwatar': 16620, 'jiha': 16621, 'omor': 16622, 'bfaki8a': 16623, 'ntferrej': 16624, '7jbanou': 16625, 'doctor.': 16626, 'zomala2': 16627, 'makaynlach.': 16628, 'l8dra': 16629, 'lkbar.': 16630, '7ala': 16631, 'koura': 16632, 'ta9alid': 16633, 'tta3biri': 16634, 'lderi': 16635, 'bariz': 16636, 'n3na3?': 16637, 'l3dad': 16638, 'kay3yyi': 16639, 'droka': 16640, 'fl3mer': 16641, 'kbir': 16642, 'matanfhem': 16643, 'hoa?': 16644, 'koktilat': 16645, 'n9eddem': 16646, 'lbracelet': 16647, 'chb3t.': 16648, 'kanwa3dek': 16649, 'khlit': 16650, 'ghalya': 16651, 'mosi9iya': 16652, '2oroppa?': 16653, 'ntmenna': 16654, 'bsbabek': 16655, '3mri...': 16656, 'sawwebt': 16657, 'makat9darch': 16658, 'mkta2eb': 16659, 'concert': 16660, 'w7ad': 16661, 'lelkhedma': 16662, 'sou7ba': 16663, 'kan3raf': 16664, 'kankhtafi': 16665, 'ta5ayt3etel': 16666, 'tmas': 16667, 'ndowech': 16668, 'lflous?': 16669, 'ba9ia': 16670, '8owwa?': 16671, 'lmostachar': 16672, 'yalah': 16673, '3ayalh!': 16674, 'lwe9t?': 16675, 'lba7ara,': 16676, 'tourist?': 16677, 'mohima.': 16678, '9bel.': 16679, 't9rirk': 16680, 'nt7rrko': 16681, 'bmagret': 16682, 'n5roj': 16683, 'nba3adhom': 16684, 'tglas': 16685, 'kay7nno': 16686, 'safi9': 16687, 'farmlia': 16688, 'manl9ach': 16689, 'wslat.': 16690, 'dkhlat': 16691, 'y8der': 16692, 'atakhoud': 16693, '7azina': 16694, 'matnod': 16695, 'kay3jabni': 16696, '9tt3hom': 16697, 'namosyti': 16698, 'ma3mmerni': 16699, 'jjackita': 16700, 'm3echchechin': 16701, 'fl3chiya,': 16702, 'ssa3a': 16703, 'limen,': 16704, 'nw9ef?': 16705, 'matar?': 16706, 'y7at': 16707, 'gollia,': 16708, 'n5rej': 16709, '2': 16710, 'coca.': 16711, 'l7dach': 16712, 'wjouhna': 16713, 'm3ahom.': 16714, 'samfonia': 16715, '7ad': 16716, 'blghalat': 16717, 'tla9ina.': 16718, 'fada2,': 16719, 'nt3ellem': 16720, 'frit': 16721, 'katfham': 16722, 'kaygolliyya': 16723, 'fik?': 16724, 'nbrztek': 16725, 'bnasba': 16726, 'kan3rfha,': 16727, 'kijak': 16728, 'mat3china': 16729, 'layesser.': 16730, 'lmochtarak,': 16731, '7sana': 16732, 'lmdrasa': 16733, 'femmek': 16734, 'nreserviw': 16735, 'ttriyya': 16736, 'tzourha': 16737, 'lmissaj': 16738, 'hond...': 16739, 'alb7riya': 16740, 'on7taflo': 16741, 'kan8dar': 16742, 'tla3bo': 16743, 't3awn': 16744, 'makentich': 16745, 'beztam8a': 16746, 'lklasikiyya': 16747, 'w9a3?': 16748, 'law7a': 16749, 'sskhoun,': 16750, 'ytla9a': 16751, 'aslia,': 16752, 'y7tajo': 16753, 'fre9tou': 16754, 'zer9in': 16755, 'nemchiw!': 16756, 'latrousa': 16757, 't3awd': 16758, '3adim': 16759, 'kanterjem': 16760, 'ahya': 16761, 'rra9m?': 16762, 'zzif': 16763, 'ichri': 16764, 'lmt3ll9a': 16765, 'dam,': 16766, 'kat3ich': 16767, 'golliya': 16768, '3ajb8om': 16769, 'kant3atef': 16770, 'tiyeb': 16771, 'mwllfin': 16772, 'kadir?': 16773, 'takhtar': 16774, 'dde7k': 16775, 'kanseyye9': 16776, '2amina': 16777, 'achna8owa': 16778, 'nawy3': 16779, 'kask': 16780, 'kay3jbou': 16781, 'ghanst3ml': 16782, 'lkhlsa': 16783, 'l9hwa?': 16784, 'bfadal': 16785, '39el': 16786, 'tabta': 16787, 'y5rej': 16788, '3echtiha': 16789, 'bmarra': 16790, 'kayderro': 16791, '5atwe9fna': 16792, 'lilat': 16793, 'kherjou': 16794, '7:00.': 16795, 'ntta8mek': 16796, 'tsali': 16797, 'makatfhm': 16798, 'lahoma': 16799, 'ssa3i9a': 16800, 'ppartma?': 16801, 'manta': 16802, 'lportabl': 16803, 'wasfa': 16804, 'll3ba': 16805, 'tzayanha': 16806, 'bl7adir': 16807, 'malak': 16808, 'nsaydo': 16809, 'katnsa7ni?': 16810, 'lfra5': 16811, 'lfamila': 16812, 'jo9': 16813, 'bbak?': 16814, '7ayat': 16815, 'l2alifa': 16816, 'ssfli': 16817, 'kaykhas': 16818, 'cha3biya': 16819, '3ndek...': 16820, '7fadna': 16821, 'ikono,': 16822, '3adil!': 16823, 'n3yt': 16824, 'thalla': 16825, 'si7riya,': 16826, 'ntla3,': 16827, 'alwa9t.': 16828, 'bda.': 16829, 'binatna?': 16830, 'swisra': 16831, 'lotto,': 16832, 'tkhdam': 16833, 'dyalhom.': 16834, 'google?': 16835, 'f...': 16836, 'z3ma': 16837, 'katfakarni': 16838, 'iddi': 16839, 'n3yyet': 16840, 'choufat': 16841, 'burger': 16842, 'lwa9t?': 16843, 'kankon': 16844, 'bnffakhat': 16845, 'na9sad': 16846, 'lmitalia': 16847, 'nsbbn': 16848, '5adya': 16849, 'lkhotat': 16850, '8rrbo': 16851, 'be7ra': 16852, 'o2alam': 16853, 'nif,': 16854, 'nsiti': 16855, 'khaybin': 16856, 'kaysoum': 16857, 'youmek?': 16858, '7chchoumi': 16859, 'bih?': 16860, 'na7taj': 16861, 'ntlfo': 16862, 'fras8a': 16863, 'kaytkal,': 16864, 'lgoul': 16865, 'ljomhor': 16866, 'mnnk': 16867, 'diak': 16868, 'ghalta': 16869, 'tbbakh': 16870, 'kliti': 16871, 'fblast8a': 16872, 'l7arb': 16873, 'zinin,': 16874, 'tta7do': 16875, 't8ella': 16876, '3arefni': 16877, 'n9ddam': 16878, 'kay7mik': 16879, 'l7amam': 16880, 'mochkil': 16881, 'khassana.': 16882, 'l3cha?': 16883, 'sa7bo': 16884, 'atmosphera,': 16885, 'khfaf,': 16886, 'ltanamor': 16887, '7ad?': 16888, 'nchrihom.': 16889, 'ntaybo': 16890, 'zreb': 16891, 't7ekmna': 16892, 't3etel': 16893, 'matgoulch': 16894, '3amalian': 16895, 'kat7enzez': 16896, 'ys8al': 16897, 'lframlia': 16898, 'maghaderrch': 16899, 'fanid': 16900, 'chghli': 16901, 'nddi': 16902, 'flous?': 16903, 'joker': 16904, 'kan2mal': 16905, 'lw9t.': 16906, 'nsiftha': 16907, '3endha': 16908, 'dyalha?': 16909, 'chokra': 16910, 'maghadi': 16911, 'batata': 16912, 'ka3i': 16913, 'partma,': 16914, 'hdaha': 16915, 'yl3eb': 16916, '3rft': 16917, 'chkhsyyan,': 16918, 'kebb': 16919, 'mjowwej': 16920, 'ma3arafch': 16921, 'chi3r.': 16922, 'nzar3o': 16923, 'imkank': 16924, 'ddyaf': 16925, 'ghzalin': 16926, 'guelti': 16927, 'l3oliya': 16928, 'sahl': 16929, 'lwel': 16930, 'tan9tar7': 16931, 'dwwzna': 16932, 'lmonasabat': 16933, 'sila': 16934, 'n7alo': 16935, 'chghlo!': 16936, 'onss': 16937, '3ndkoun': 16938, 'm7tajek': 16939, 'kyan': 16940, 't8jaj': 16941, 'brasi?': 16942, '3a9el': 16943, 'fl5ota': 16944, 'kade77ekhom,': 16945, 'fjanb?': 16946, 'momkin?': 16947, 'ndir,': 16948, 'f8emti': 16949, 'ytghllef': 16950, 'katgoul': 16951, 'i9awmo': 16952, 'chari3': 16953, 'liw93': 16954, 'lotel?': 16955, 'n9al9ohom': 16956, 'ma3adyyach': 16957, 'khamsa': 16958, 'tcha3al': 16959, '7dahoum': 16960, 'dialk': 16961, 'sasha': 16962, 'lkrafas': 16963, 'bba': 16964, '8rrs': 16965, 'tchado': 16966, '3sel': 16967, 'bskkar?': 16968, 'yy5eymou': 16969, 'flkharj': 16970, 'nadi!': 16971, 'tahwa?': 16972, 'ghanzid': 16973, 'mamchitich?': 16974, 'matet': 16975, 'lwachm': 16976, 'trta7': 16977, 'ntzewwej': 16978, 'benti.': 16979, 'kollha': 16980, 'ch7a': 16981, 'mezian,': 16982, 'mnhom!': 16983, 'mj88d?': 16984, 'dghya!': 16985, 'khli': 16986, 'ghanrdd': 16987, '3jbatk': 16988, 'w7da': 16989, 'lmonada': 16990, 'l3ankabout': 16991, 'khasatan': 16992, 'l9ouwa': 16993, 'lbni?': 16994, 'hania': 16995, 'chrabk': 16996, 'kayt7errek!': 16997, '3tih': 16998, 'ghaby': 16999, 'makaysme3ch': 17000, 'lweldou': 17001, 'atar,': 17002, 'i9dar': 17003, 'mkhedda': 17004, 'paille': 17005, 'hadak!': 17006, 'l3rbiya': 17007, 'awlla!': 17008, 'ghanchof': 17009, 'ndreb': 17010, '7aja,': 17011, 'asaf': 17012, 'ghbourate': 17013, 'm3allam': 17014, 'matghdditch': 17015, '9dim,': 17016, 'a5rab': 17017, 'l8i8': 17018, '98iwa': 17019, 'mabghatch': 17020, 'dwezta': 17021, 'lmofadala': 17022, '2ay': 17023, '7aja.': 17024, 'email?': 17025, 'tiki': 17026, 'idirha,': 17027, '7lmti': 17028, '7da...': 17029, 'ch8ar': 17030, 'soror': 17031, 'nchir': 17032, 'lmoufaja2a': 17033, 'ngls': 17034, 'kika': 17035, 'lfen': 17036, 'yalah!': 17037, 'nkhdmo?': 17038, 'tchr7': 17039, 'n9tte3': 17040, 's3iba': 17041, 'lma2i': 17042, 'fatni': 17043, 'kantkheliwha': 17044, 'kised9at': 17045, 'nak8a': 17046, 'lflla7': 17047, 'annafsi.': 17048, '3ajbok': 17049, 'tgdd': 17050, 'onti,': 17051, 'gahdi': 17052, 'doctour': 17053, 'wakha...': 17054, 'tandim': 17055, 'yak?': 17056, 'chikaya': 17057, 'hadchii': 17058, '3alim': 17059, '3lach,': 17060, 's7a7': 17061, 'bsa7?': 17062, 'yeddik': 17063, 'trabch.': 17064, 'aawttani': 17065, 'dyof': 17066, 'basket': 17067, 'ntfadaw': 17068, 'hamdollah!': 17069, 'makay7emlouch': 17070, 'tbyen': 17071, 'fsalon': 17072, 'mbrr3a': 17073, 'fl3mr': 17074, 'chef?': 17075, 'tnta9l': 17076, '7azin': 17077, 'fddrouj': 17078, 'likhs8a': 17079, 'mat3oumch': 17080, 'ysali': 17081, 'chef': 17082, 'd9aya9': 17083, 'remontada': 17084, 'khss': 17085, 'fi': 17086, 'anwa3': 17087, 'katfrej': 17088, 'forsa': 17089, 'nzid': 17090, 'tkherbi9': 17091, 'daribi': 17092, 'driss!': 17093, 'ykhelles': 17094, 'chkoun': 17095, 'kayghnniw': 17096, 'w9tna': 17097, 'masawltkch': 17098, 'hna.': 17099, 'm39oul!': 17100, 'mawhiba': 17101, 'lavantaj': 17102, 'nbadal': 17103, 'n9lou': 17104, 'tla9in': 17105, 'wslek': 17106, 'masa8lach,': 17107, 'code': 17108, 'nafs': 17109, 'wahd!': 17110, 'mostawayat': 17111, 'bithom': 17112, 'ma9belch': 17113, 'b9a': 17114, 'lk7el': 17115, 'kolo': 17116, '2etter': 17117, 'n5dem': 17118, 'kollhom': 17119, 'ldari': 17120, 'rabbat': 17121, 'm9l9ani.': 17122, 'malika?': 17123, 'kathder': 17124, 'kadir': 17125, 'matkhafoch': 17126, 'kitab': 17127, 'wj8ou': 17128, 'kayakhod': 17129, 'chti': 17130, 'l3afia?': 17131, 'mofadal?': 17132, 'l7out': 17133, 'sse7': 17134, 'khllani': 17135, 'ahaa...': 17136, 'n3sfo': 17137, '3yana': 17138, 'ttania': 17139, 'litajat.': 17140, 'mat9darch': 17141, 'ramz': 17142, 'barra': 17143, 'tsar9ou': 17144, 'lmender': 17145, 'lconcept': 17146, 'lyouma?': 17147, 'metkabbar': 17148, 'z3er': 17149, 'ndiroha': 17150, 'tilifoni?': 17151, 'allah!': 17152, 'bghitini': 17153, 'sawalt': 17154, 'lmchicha': 17155, 'met7ef': 17156, 'n7awal': 17157, 'chchkel': 17158, 'jghmat': 17159, 'ch3ria.': 17160, 'katzourni': 17161, 'kankhalsk': 17162, 'kandnn': 17163, '9yasi': 17164, 'blbit': 17165, 'kherjou8': 17166, 'kass': 17167, 'flkhadma': 17168, 'majmo3a': 17169, '2amad': 17170, 'l8imri': 17171, 'ikhllik': 17172, 'ma3ndach': 17173, 'katchte7': 17174, 'tlberd': 17175, 'zit': 17176, '7sit': 17177, 'yb9a': 17178, 'set': 17179, 'smayti': 17180, 'khas8a': 17181, 'gore': 17182, 'dyalha.': 17183, 'ycharji': 17184, 'dda': 17185, 'tcof': 17186, 'salirat': 17187, 'ma3raft': 17188, '9ariban': 17189, 'flmidna': 17190, 'n3tih': 17191, 'l3ajil': 17192, 'mkan3raf': 17193, 'sda3?': 17194, 'lakhmis': 17195, 'mbark': 17196, 'l': 17197, 'm3ayach': 17198, 'super': 17199, 'y9dr': 17200, 'masebbench': 17201, 'l3triya': 17202, 'makaynch': 17203, 'nbyyen': 17204, 'fl7abs': 17205, 'lcasketa': 17206, 'tablet': 17207, 'itijah?': 17208, 'khkhouti': 17209, 'wayeeh,': 17210, 'flfla': 17211, 'l3ala9a': 17212, 'contour,': 17213, 'do9o,': 17214, 'lmsla7tak': 17215, 'lmosi9yin': 17216, 'a5iran': 17217, 'khdamina': 17218, 'iw9a3': 17219, 'ochno': 17220, 'jjb8a': 17221, 'l...': 17222, 'wednin': 17223, 'lmocha': 17224, 'ttalyaniyya': 17225, 'ntfakkar': 17226, 'ntfi': 17227, 'howa?': 17228, 'nsrrf': 17229, 'makaynach': 17230, 'o7ta': 17231, 'ni8a2iyan!': 17232, 'sard,': 17233, 'makay3refch': 17234, 'mrekkeb': 17235, 'mamsmo7ch': 17236, 'ssafar': 17237, 'tmaninat': 17238, 'l3amala': 17239, 'tkhrj': 17240, 'atta3limat': 17241, 'katsla7': 17242, 'mjowwej?': 17243, 'kanchouf': 17244, 'ta8ia': 17245, 'n7dar': 17246, '9tta3ha': 17247, 'mlwwna': 17248, 'mabgha8ch': 17249, 'lakhor': 17250, 'iltihab': 17251, 'salat': 17252, 'sanawat.': 17253, 'reseau': 17254, 'ttold': 17255, 'kay5erssou': 17256, 'temtil': 17257, 'lksida': 17258, 'lsamantha': 17259, 'rak': 17260, '9bal?': 17261, 'bima': 17262, 'di2b?': 17263, 'me3rouda': 17264, 'lmos3ifin': 17265, 'fara7': 17266, 'katsta7a9': 17267, 'lmontajat': 17268, 'reje3t': 17269, 'wakin': 17270, 'so2alek': 17271, 'mtelle9': 17272, 'ndbbr': 17273, 'mwllfa?': 17274, 'zid,': 17275, 'chabakat': 17276, 'lewel': 17277, 'lmos3da': 17278, 'dwina': 17279, 'ma7eddek': 17280, 'dowwezt': 17281}\n"
          ]
        }
      ],
      "execution_count": null
    },
    {
      "cell_type": "markdown",
      "source": [
        "The code creates a dictionary, eng_to_ix, which maps each unique word in the English vocabulary to a unique numerical index. It iterates through all words in the english_vocab and assigns an index to any word not already in the dictionary, using the current size of eng_to_ix as the index. This ensures that every word in the English vocabulary has a distinct numeric representation, which is essential for processing the data in machine learning models. The resulting word-to-index mapping is then printed."
      ],
      "metadata": {
        "id": "u95Yq0hjbODX"
      }
    },
    {
      "cell_type": "code",
      "source": [
        "eng_to_ix = {}\n",
        "\n",
        "for word in english_vocab:\n",
        "  if word not in eng_to_ix:\n",
        "    eng_to_ix[word] = len(eng_to_ix)\n",
        "\n",
        "print(eng_to_ix)"
      ],
      "metadata": {
        "trusted": true,
        "execution": {
          "iopub.status.busy": "2024-12-06T21:49:29.392629Z",
          "iopub.execute_input": "2024-12-06T21:49:29.392863Z",
          "iopub.status.idle": "2024-12-06T21:49:29.405500Z",
          "shell.execute_reply.started": "2024-12-06T21:49:29.392840Z",
          "shell.execute_reply": "2024-12-06T21:49:29.404644Z"
        },
        "colab": {
          "base_uri": "https://localhost:8080/"
        },
        "id": "f1GpnXiEgwFM",
        "outputId": "f402bf70-721c-4ba6-f195-5dbdcfce4c14"
      },
      "outputs": [
        {
          "output_type": "stream",
          "name": "stdout",
          "text": [
            "{'then?': 0, 'setting,': 1, 'hilarious': 2, 'entered': 3, 'fed': 4, 'sandal': 5, 'mend': 6, 'snagged': 7, 'building!': 8, 'stomach': 9, 'destinations': 10, 'comfortable.': 11, 'scene': 12, 'close': 13, 'right!': 14, 'tolerance': 15, 'cultures': 16, 'right': 17, 'refreshed.': 18, 'weather.': 19, 'how...': 20, 'scarf,': 21, 'reception': 22, 'american.': 23, 'disconnect': 24, 'engineer': 25, 'sped': 26, 'home,': 27, 'interested.': 28, 'pepper': 29, 'garlic': 30, 'day.': 31, 'would,': 32, 'light': 33, 'alcoholic': 34, 'caroline,': 35, 'horses': 36, 'chores': 37, 'demanding': 38, 'possibly': 39, 'thankfully': 40, 'company': 41, 'personnel': 42, 'solde': 43, 'people,': 44, 'flavors': 45, 'beyond': 46, 'its': 47, 'simo': 48, 'names': 49, 'scandal!': 50, 'forward': 51, 'countries?': 52, 'meanwhile,': 53, 'dancer': 54, 'cooking?': 55, 'bad?': 56, 'staff': 57, 'olives': 58, 'stove': 59, 'ideas?': 60, 'stars!': 61, 'pronounciation': 62, 'double': 63, 'typically': 64, 'breakfast': 65, 'haunted': 66, 'machine': 67, 'actor': 68, 'sizes,': 69, 'change': 70, 'cognac': 71, 'love': 72, 'giraffe': 73, 'honey': 74, 'annoy': 75, 'basics': 76, 'summer?': 77, 'underground': 78, 'falls': 79, 'glued': 80, 'compete': 81, 'pimples': 82, 'teacher?': 83, 'perhaps?': 84, 'responded': 85, 'had': 86, 'earlier': 87, 'aquatic': 88, 'inspiring': 89, 'everywhere?': 90, 'success,': 91, 'fun': 92, 'varied.': 93, 'like?': 94, 'couch?': 95, 'talk.': 96, 'do.': 97, 'listens': 98, 'scrolling': 99, 'dear': 100, 'their': 101, 'forgets': 102, 'exam!': 103, 'setbacks': 104, 'news!': 105, 'mortar.': 106, 'poker?': 107, 'list?': 108, 'drained': 109, 'perfect!': 110, 'planing': 111, 'hearing': 112, 'idea.': 113, 'refresh': 114, 'okay?': 115, 'map.': 116, 'rolling': 117, 'reporting': 118, 'doctor,': 119, 'affected': 120, 'cancelled': 121, 'diffrentely?': 122, 'protection': 123, 'window': 124, 'departure': 125, 'above': 126, 'my...': 127, 'rotten': 128, 'first?': 129, 'grandma!': 130, 'oldman': 131, 'homework?': 132, 'together,': 133, 'remedy': 134, 'souad.': 135, 'temperature': 136, 'eleven': 137, 'available': 138, 'trip,': 139, 'yougurt': 140, 'deadline': 141, 'build': 142, 'liar': 143, 'find': 144, 'shit': 145, 'dogs': 146, 'cds.': 147, 'neighbourhood?': 148, 'things?': 149, 'samples': 150, 'solution.': 151, 'plays': 152, 'sandra,': 153, 'along?': 154, 'prioritise': 155, 'financial': 156, 'exercising?': 157, 'almost.': 158, 'mathematics': 159, 'jester!': 160, 'trees?': 161, 'filled': 162, 'states': 163, 'person?': 164, 'turing': 165, 'amina.': 166, 'short-term': 167, 'period': 168, 'photo': 169, 'famous': 170, 'mound': 171, 'to': 172, 'dishes': 173, 'up...': 174, 'practiced': 175, 'boxes': 176, 'fascinate': 177, 'favorites': 178, 'man?': 179, 'so,': 180, 'loud': 181, 'toilet?': 182, 'triggers': 183, 'romance': 184, 'world.': 185, 'located': 186, 'probably.': 187, 'however': 188, 'religious': 189, 'frankness': 190, 'spray': 191, 'closed,': 192, 'cheating': 193, 'seek': 194, 'serve': 195, 'step..': 196, 'reminisce': 197, 'tagine!': 198, 'myelf?': 199, 'lovely.': 200, 'checked': 201, 'protect': 202, 'recognise': 203, 'that.': 204, 'caramalised': 205, 'yourself,': 206, 'naps': 207, '12/20': 208, 'over!': 209, 'durability': 210, 'train,': 211, 'dinner.': 212, 'group,': 213, 'lesley': 214, 'cinema?': 215, 'eager': 216, 'appreciated': 217, 'departments': 218, 'selected': 219, 'supplies?': 220, 'relationship': 221, 'almost': 222, 'bithday?': 223, 'model': 224, 'key': 225, 'cake,': 226, 'distant': 227, 'dad': 228, 'hand!': 229, 'seeds': 230, 'policy?': 231, 'suiteble': 232, 'brain': 233, 'together!': 234, 'kick': 235, 'history?': 236, 'dust': 237, 'vegans,': 238, 'happen!': 239, 'immediately.': 240, 'friendly': 241, 'weeks': 242, 'folk': 243, 'voice': 244, 'kids,': 245, 'compensate': 246, 'camping': 247, 'possible': 248, 'accept?': 249, 'unhappy': 250, 'menu.': 251, 'instrument?': 252, 'available.': 253, 'everything!': 254, 'per': 255, 'color?': 256, 'decisions?': 257, '300': 258, 'reservation,': 259, 'appointment': 260, 'rule.': 261, 'ran': 262, 'over': 263, 'engeneer': 264, 'politeness': 265, 'surrounded': 266, 'anas,': 267, 'alan': 268, 'whole': 269, 'develop': 270, 'practical': 271, \"o'clock.\": 272, 'chapter': 273, 'wishes': 274, 'mouth': 275, 'understands': 276, 'knitted': 277, 'peel': 278, 'and': 279, \"nabil's\": 280, \"tonight's\": 281, 'fanta': 282, \"elevator's\": 283, 'novel.': 284, 'concentrated': 285, 'riddles': 286, 'writing?': 287, 'mark': 288, 'ticket': 289, 'excited': 290, 'experiments': 291, 'florist': 292, 'obey': 293, \"'80s,\": 294, 'sort': 295, 'online': 296, 'tomatoes': 297, 'come': 298, 'band': 299, 'summer': 300, 'cooking': 301, 'sneezes': 302, 'turtles!': 303, 'favourites': 304, 'loans': 305, 'withheels': 306, 'turkish': 307, 'onto': 308, 'test': 309, 'demand': 310, 'sleeps': 311, '½': 312, 'mean?': 313, 'well': 314, 'special.': 315, 'route': 316, 'kill': 317, 'call?': 318, 'purpose': 319, '85': 320, 'parking': 321, 'eventually': 322, 'comedy': 323, 'head': 324, 'bookshop': 325, 'grab': 326, 'someone': 327, 'nights': 328, 'breast': 329, 'organised': 330, 'celebration': 331, 'alien': 332, 'waitresses': 333, 'pickle': 334, 'firms': 335, 'x?': 336, 'lot': 337, 'car.': 338, 'for?': 339, 'samantha': 340, 'months': 341, 'add': 342, 'flag?': 343, 'walks...?': 344, 'ourselves?': 345, 'felt,': 346, 'questions?': 347, 'while!': 348, 'well!': 349, 'wealthy': 350, 'garden,': 351, 'big?': 352, 'pears': 353, 'hygienic': 354, 'meaning': 355, 'paris?': 356, 'mineralogy?': 357, 'drinking,': 358, 'organization': 359, 'locked': 360, 'arthritis': 361, 'evening?': 362, 'asia': 363, 'on': 364, 'rich,': 365, 'starter': 366, 'pictures': 367, 'support,': 368, 'sound.': 369, 'maths,': 370, 'fault': 371, 'moments?': 372, 'community': 373, 'john': 374, 'by?': 375, 'succeeded': 376, 'risotto': 377, 'board': 378, 'cab.': 379, 'headache': 380, 'potion,': 381, 'plate!': 382, 'other': 383, 'spirits': 384, 'called?': 385, 'quiet,': 386, 'mating': 387, 'are,': 388, 'conversation.': 389, 'tire': 390, 'canada': 391, 'down!': 392, 'means?': 393, 'nature': 394, 'deducted': 395, 'classes.': 396, 'tetouan': 397, 'beauty': 398, 'nurse,': 399, 'combination': 400, 'grow?': 401, 'perceived': 402, 'inconsistency': 403, 'rabbit': 404, 'soared': 405, 'said': 406, 'ha!': 407, 'donkey': 408, 'lecturer': 409, 'street': 410, 'younger': 411, 'entering': 412, 'bothered': 413, 'firstly,': 414, 'japanese': 415, 'tables...': 416, 'sun?': 417, 'hi,': 418, 'wear': 419, 'blew?': 420, 'emotional': 421, 'thinking': 422, 'cathedral.': 423, '50': 424, 'dentist': 425, 'sad!': 426, 'effects': 427, 'glasses': 428, 'activity': 429, 'renewing': 430, 'harassed.': 431, 'freshen': 432, 'nervous?': 433, 'case?': 434, 'believe': 435, 'awkward': 436, 'conversations': 437, 'yet': 438, 'owe?': 439, 'paranoid.': 440, 'cake': 441, 'coolest': 442, 'soon.': 443, 'concerned': 444, 'forty': 445, 'think.': 446, 'depending': 447, 'aww': 448, 'took': 449, 'six': 450, 'salt.': 451, 'george': 452, 'deal': 453, 'blankets,': 454, 'so.': 455, 'guess': 456, 'pleasant.': 457, 'euros?': 458, 'toucan': 459, 'terrible': 460, 'pictures.': 461, 'pancakes': 462, 'aim': 463, 'nibble?': 464, 'taxi': 465, 'applied': 466, 'vomit': 467, 'whispering': 468, 'musicians.': 469, 'suicide': 470, 'classy.': 471, 'challengesfor': 472, 'nothing,': 473, 'gym': 474, 'object': 475, 'word.': 476, 'painting': 477, 'einstein': 478, 'dull': 479, 'beard': 480, 'charged': 481, 'arriving': 482, 'horse': 483, 'long,': 484, 'lalaa!': 485, 'differentiation': 486, 'minutes.': 487, 'friendship': 488, \"'friend'\": 489, 'bye': 490, 'retired': 491, 'jeannine': 492, 'carrot': 493, 'works.': 494, 'rats': 495, 'win!': 496, 'secretly,': 497, 'home-cooked': 498, 'gift': 499, 'now.': 500, 'flat!': 501, 'cigar,': 502, 'misspoke': 503, 'tohis': 504, 'beets': 505, 'accidentally': 506, \"they'll\": 507, 'aware': 508, 'network': 509, 'properly!': 510, 'alps': 511, 'gossiping': 512, 'updating': 513, 'rottweiler': 514, 'bit,': 515, 'heights,': 516, 'scotch': 517, 'hello,': 518, 'bagpipe': 519, 'kale': 520, 'close!': 521, 'pharmacy': 522, 'posters': 523, 'essential!': 524, 'awful.': 525, 'affect': 526, 'next?': 527, 'oh!': 528, 'get': 529, 'worry.': 530, 'secure': 531, 'co-workers?': 532, 'km': 533, 'ifran': 534, 'self-employed': 535, 'disappoint': 536, 'behavior': 537, 'agatha': 538, 'intend': 539, 'hard!': 540, 'windows': 541, 'promotion': 542, 'instrument.': 543, 'chill': 544, 'teeth': 545, 'cafe?': 546, \"1960's,\": 547, 'picked': 548, 'exaggeration': 549, 'instagram': 550, 'hence': 551, 'smoking': 552, 'biscuits': 553, 'portrai': 554, 'lighting': 555, 'extreme.': 556, 'nose': 557, 'affection': 558, 'clouds...': 559, 'enough?': 560, 'onions.': 561, 'table': 562, 'lite,': 563, 'met.': 564, 'modest': 565, 'bath?': 566, 'tequila': 567, 'cant': 568, 'tonight?': 569, 'serious?': 570, 'russian': 571, 'quit': 572, 'painted': 573, \"weather's\": 574, 'slides': 575, 'today,': 576, 'guests?': 577, 'resourceful': 578, 'angel': 579, 'mailman': 580, 'librarian': 581, 'hair?': 582, \"ma'am.\": 583, 'hide': 584, 'three': 585, 'formal': 586, 'stadiums': 587, 'mondays': 588, 'adopted': 589, 'stones': 590, 'borrowed': 591, 'irritates': 592, 'theater.': 593, 'photographs?': 594, 'swim?': 595, 'zone': 596, 'dog?': 597, 'is..': 598, 'temple': 599, 'photographs': 600, 'reasons,': 601, 'jam.': 602, 'frogs': 603, 'slow': 604, 'those': 605, 'design': 606, 'produce': 607, 'roasting': 608, 'groceries?': 609, 'fine.': 610, 'case': 611, 'education': 612, 'gone': 613, 'unless': 614, 'burning': 615, 'doubtful': 616, 'operation': 617, 'drinks?': 618, 'soup': 619, 'cakes.': 620, 'cross': 621, 'boiling': 622, \"'90s\": 623, 'tape?': 624, 'character,': 625, 'organization,': 626, 'shape': 627, 'farmer': 628, 'yoga?': 629, 'engineering,': 630, 'character!': 631, 'including': 632, 'think': 633, 'laid': 634, \"saturday's\": 635, 'wake': 636, 'picture?': 637, 'experiment.': 638, 'development,': 639, 'lions': 640, 'shining!': 641, 'fair': 642, 'grown': 643, 'butterflies': 644, 'snowfall': 645, 'slap': 646, 'speaking': 647, 'sir?': 648, 'edge': 649, 'scissors?': 650, 'frisbee!': 651, 'cares': 652, 'ever!': 653, 'cozy,': 654, 'archery,': 655, 'sand': 656, 'mood...': 657, 'scary.': 658, 'practice?': 659, 'anywhere': 660, 'night': 661, 'journey?': 662, 'showtimes': 663, 'make?': 664, 'something.': 665, 'intrupt': 666, 'sausages': 667, 'delayed?': 668, 'becomes': 669, 'fairs': 670, 'talent': 671, 'bit': 672, 'rich': 673, 'usually': 674, 'punch?': 675, 'need': 676, 'insult': 677, 'defend': 678, 'inviting': 679, 'length': 680, 'roots': 681, 'pasta': 682, 'snake': 683, 'pin': 684, 'attractive...': 685, 'date': 686, 'vacation?': 687, 'darling.': 688, 'spirit?': 689, 'depth': 690, 'media?': 691, 'thanks!': 692, 'mushy': 693, 'honeymoon!': 694, 'plane': 695, 'up,': 696, 'method': 697, 'organize': 698, 'universe': 699, 'samples,': 700, 'did,': 701, 'science': 702, 'yesterday': 703, 'cruel!': 704, 'compromise?': 705, 'dhs': 706, 'together.': 707, 'affordable,': 708, 'fall,': 709, 'boots': 710, 'help,': 711, 'cry!': 712, 'careful,': 713, 'interesting,': 714, 'flavours': 715, 'score': 716, 'skill?': 717, 'motorbike': 718, 'me': 719, 'remembered': 720, 'nosy?': 721, 'america.': 722, \"malika's?\": 723, 'regret': 724, 'us.': 725, 'lollies,': 726, 'superpower,': 727, 'easy!': 728, 'green': 729, 'wi-fi': 730, 'like.': 731, 'logic': 732, 'depend': 733, 'state': 734, 'corporate': 735, 'sociological': 736, 'neighborhood?': 737, 'sweat': 738, \"i'll\": 739, 'diffrence': 740, 'cheers': 741, 'fish.': 742, 'strawberries?': 743, 'lina': 744, 'pulled': 745, 'gump.': 746, 'smelt': 747, 'hopeless': 748, 'eyesight': 749, 'moan': 750, 'contract?': 751, 'pay?': 752, 'much?': 753, 'reached': 754, 'chance,': 755, 'messing': 756, 'orgniser': 757, 'compass...': 758, 'hull,': 759, 'forever.': 760, 'fact,': 761, 'explored': 762, 'expect': 763, 'series?': 764, 'occasions': 765, 'pond,': 766, 'any': 767, 'refuse': 768, 'amount': 769, 'cuisines': 770, 'subtle...': 771, 'hmmmm!': 772, 'ok': 773, 'scream': 774, 'stupid': 775, 'growonions?': 776, 'laps': 777, 'sometimes.': 778, 'slowed': 779, 'plastered.': 780, '70': 781, 'yeah': 782, 'cute...': 783, 'essaouira': 784, 'teeth?': 785, 'cost': 786, 'imprssive': 787, 'terrain': 788, 'cruise': 789, 'bone': 790, 'forget?': 791, 'defense': 792, 'why': 793, 'security?': 794, 'brothers': 795, 'pm': 796, 'started?': 797, 'u.s.': 798, 'unhappy.': 799, 'english.': 800, 'death': 801, 'particular.': 802, \"there'll\": 803, 'station?': 804, 'texas?': 805, 'free?': 806, 'fans': 807, 'relied': 808, 'rest': 809, 'pepper,': 810, 'newborn': 811, 'bikes': 812, 'tag': 813, 'sec': 814, 'personality': 815, 'on...': 816, 'grown-ups': 817, 'first.': 818, 'psychiatrist!': 819, 'exercise?': 820, 'caught': 821, 'line': 822, 'greography': 823, 'saxophone': 824, 'note': 825, 'system': 826, 'castles,': 827, 'broccoli': 828, 'badminton': 829, 'weather?': 830, 'barrel': 831, 'goal?': 832, 'fair.': 833, 'castle.': 834, 'mediocrity.': 835, 'dont': 836, 'spying': 837, 'located.': 838, 'reflection': 839, 'soaked': 840, 'old?': 841, 'kitten': 842, 'bi-located.': 843, 'with?': 844, 'director?': 845, 'genealogist': 846, 'both!': 847, 'mind?': 848, 'here!': 849, 'starts': 850, \"anyone's\": 851, 'tomorrow': 852, 'alias': 853, 'candles': 854, \"commentator's\": 855, 'gnawa': 856, 'large': 857, 'kilometers': 858, 'depends': 859, 'people?': 860, 'flashlight.': 861, 'cigars': 862, 'icecream': 863, 'afraid.': 864, 'charge': 865, 'properly': 866, 'tiara,': 867, 'smiles': 868, 'eyelashes': 869, 'inspired?': 870, 'in!': 871, 'tired': 872, 'laughing': 873, 'doors': 874, 'everybody': 875, 'wear!': 876, 'perhaps': 877, 'facial': 878, 'future': 879, 'traveling': 880, 'yanis': 881, 'eye?': 882, 'building': 883, 'role': 884, 'ihssan,': 885, 'cards.': 886, 'suppose,': 887, 'past': 888, 'beef?': 889, 'tennis': 890, 'sheet': 891, 'argument': 892, 'leaves': 893, 'lean': 894, 'away.': 895, 'water?': 896, 'spit': 897, 'thirty-five': 898, 'fillet': 899, 'stimulation': 900, 'it': 901, 'lit': 902, 'books?': 903, 'danced': 904, 'france?': 905, 'apologised': 906, \"customer's\": 907, 'bill': 908, 'rabbits': 909, 'invitations': 910, 'beginning': 911, 'december': 912, 'be,': 913, 'imagine!': 914, 'eccentric': 915, 'son?': 916, 'money': 917, 'residents': 918, 'travel': 919, 'different': 920, \"chemist's\": 921, 'arrange': 922, 'clearance': 923, 'fixed.': 924, 'punishment': 925, 'garage': 926, 'otherwise?': 927, 'buddhist': 928, 'hear': 929, 'television.': 930, 'cultural': 931, 'sir,': 932, 'london': 933, 'thai?': 934, 'psychological': 935, 'scissor': 936, 'screening': 937, 'people': 938, 'ago': 939, 'long.': 940, 'seashells': 941, 'in?': 942, 'croisant': 943, 'through': 944, 'get...': 945, 'meeting': 946, 'nightdreams': 947, 'recognized': 948, 'garden.': 949, 'else': 950, 'pleasure.': 951, 'clothes': 952, 'ate': 953, 'had?': 954, 'lunch.': 955, 'past?': 956, 'drove': 957, 'please?': 958, 'blue': 959, 'appear': 960, 'car?': 961, 'cream?': 962, 'sausage': 963, 'wood': 964, 'laguira': 965, 'done!': 966, 'contract': 967, 'needs': 968, 'walks,': 969, 'repeat,': 970, 'arranged': 971, 'hahaha,': 972, 'duck': 973, 'maps?': 974, 'all.': 975, 'map': 976, 'hurry.': 977, 'immense': 978, 'rainbow': 979, 'jealous!': 980, 'times?': 981, 'stop': 982, 'leggings': 983, 'hiding': 984, 'strict': 985, 'calling': 986, 'idea': 987, 'bustle': 988, 'protractor': 989, 'darknes': 990, 'skill,': 991, 'hop': 992, 'illuminated': 993, 'further': 994, 'deafness,': 995, 'monsters': 996, 'thik': 997, 'professional': 998, 'homemade!': 999, 'learnt': 1000, 'domaines': 1001, 'goalkeeper': 1002, 'yes--by': 1003, 'tv': 1004, \"charlotte's\": 1005, 'teaches': 1006, 'soup,': 1007, 'easier.': 1008, 'cookies?': 1009, 'spirit': 1010, 'stronger?': 1011, 'assume': 1012, 'attention': 1013, 'teaher': 1014, '26': 1015, 'consciousness': 1016, 'technical': 1017, 'nephews': 1018, 'aggressive': 1019, 'included': 1020, 'milk...?': 1021, 'disappointment,': 1022, 'fill': 1023, 'lighter': 1024, '2,000': 1025, \"i'ii\": 1026, 'laughing?': 1027, 'ultimate': 1028, 'miles': 1029, 'water!': 1030, 'better.': 1031, 'breath,': 1032, 'frustrated': 1033, 'hear?': 1034, 'loved': 1035, 'eat?': 1036, 'catering!': 1037, 'mon': 1038, 'crosswords': 1039, 'set?': 1040, 'arrogant': 1041, 'gained': 1042, 'receipt,': 1043, 'crispy': 1044, 'killed': 1045, 'i': 1046, 'elders?': 1047, 'skin': 1048, 'genealogist.': 1049, 'newyork': 1050, 'easily': 1051, 'false': 1052, 'skills': 1053, 'faith': 1054, 'tied': 1055, 'no.': 1056, 'group.': 1057, 'introvert': 1058, 'armagnac': 1059, 'pond.': 1060, 'isr': 1061, 'hurls': 1062, 'rational': 1063, 'drinks': 1064, 'nothing.': 1065, 'ice-cream': 1066, 'get?': 1067, 'alcohol': 1068, 'expecting': 1069, 'bojm3a': 1070, 'talented': 1071, 'actually,': 1072, 'around,': 1073, 'heavely': 1074, 'show?': 1075, 'prepare': 1076, 'dream?': 1077, 'planet': 1078, 'business?': 1079, 'let': 1080, 'yell': 1081, 'omar,': 1082, 'feeling?': 1083, 'looking': 1084, 'puppies': 1085, 'debts': 1086, 'fruits': 1087, 'red': 1088, 'floor': 1089, 'ice.': 1090, 'quite': 1091, 'later!': 1092, 'wooden': 1093, 'squashed': 1094, 'boys': 1095, 'beginner...': 1096, 'field?': 1097, 'branch': 1098, 'tomorrow?': 1099, 'animal': 1100, 'appartment': 1101, 'brushes': 1102, 'bar.': 1103, 'repeat?': 1104, 'hungry.': 1105, 'hangry': 1106, 'officer': 1107, 'lumps': 1108, 'risk': 1109, 'focused?': 1110, 'course': 1111, 'years.': 1112, 'depression': 1113, 'friends.': 1114, 'offside': 1115, 'continue': 1116, 'preparing': 1117, 'usa': 1118, 'repercussions': 1119, 'salary': 1120, 'audience': 1121, 'electrifying': 1122, 'card.': 1123, 'leaders': 1124, 'language.': 1125, 'shield': 1126, 'getting': 1127, 'idea?': 1128, 'ok...': 1129, 'relax.': 1130, 'basketball?': 1131, 'phone,': 1132, 'airplanes,': 1133, 'too,': 1134, 'glasses?': 1135, 'italy': 1136, 'debt': 1137, 'coal.': 1138, 'full,': 1139, 'touch': 1140, 'laundry': 1141, 'beautifully': 1142, 'listen,': 1143, 'often': 1144, 'childhood?': 1145, 'job.': 1146, 'liver,': 1147, 'smokes': 1148, 'opinion!!': 1149, 'sleep?': 1150, 'ridiculous': 1151, 'eggs?': 1152, 'syria': 1153, 'address?': 1154, 'anybody': 1155, 'seagulls': 1156, 'fat': 1157, 'learned': 1158, 'wrong': 1159, 'favor': 1160, 'nothing': 1161, 'okay.': 1162, \"aren't\": 1163, 'toiletries': 1164, 'warm,': 1165, 'recently': 1166, 'key,': 1167, 'blink': 1168, 'money.': 1169, 'whiskey': 1170, 'alone': 1171, 'minutes,': 1172, 'faces': 1173, 'eaten': 1174, 'saturday': 1175, 'octopussy!': 1176, 'authentic': 1177, 'week.': 1178, 'now...': 1179, 'bend': 1180, 'days!': 1181, 'gallery.': 1182, 'about?!': 1183, 'time?': 1184, 'succeed.': 1185, 'settled': 1186, 'throws': 1187, 'scientist': 1188, 'stays': 1189, 'settings?': 1190, 'drawer,': 1191, 'white?': 1192, 'appartment?': 1193, 'providing': 1194, 'path?': 1195, 'collect': 1196, 'discuss': 1197, 'factual': 1198, 'deep': 1199, 'speak': 1200, 'can.': 1201, 'yourself.': 1202, 'legs.': 1203, 'star!': 1204, 'sir.': 1205, 'eye': 1206, 'too.': 1207, 'impressed': 1208, 'short?': 1209, 'camping?': 1210, 'musical': 1211, 'talk,': 1212, 'skin!': 1213, 'roads': 1214, 'offer?': 1215, 'unable': 1216, 'linguists': 1217, 'fine,': 1218, 'cupcake': 1219, 'low': 1220, \"that's\": 1221, 'weekends': 1222, 'names.': 1223, 'manage': 1224, 'windy': 1225, 'wil': 1226, \"would've\": 1227, 'app': 1228, 'courage.': 1229, 'social': 1230, 'plated': 1231, 'dolphins?': 1232, 'laugh,': 1233, 'forgetfulness,': 1234, 'reminded': 1235, 'anya': 1236, 'pr': 1237, 'ego': 1238, 'storm': 1239, 'last.': 1240, 'wrinkles': 1241, 'feelings': 1242, 'above,': 1243, 'contractor,': 1244, 'fly': 1245, 'race': 1246, 'morning.': 1247, 'suggested': 1248, 'appears': 1249, 'bearing': 1250, 'well,': 1251, 'anti-trump': 1252, 'factors?': 1253, 'housewife': 1254, \"team's\": 1255, 'global': 1256, 'productivity': 1257, 'turbulence!': 1258, 'edible?': 1259, 'outside!': 1260, 'defeats': 1261, 'heathen': 1262, '6': 1263, 'deadline?': 1264, 'cute': 1265, 'high': 1266, 'middle': 1267, 'overheat': 1268, 'joke?': 1269, 'concept': 1270, '200': 1271, 'blackboard': 1272, 'thirsty': 1273, 'fit': 1274, 'traditional': 1275, 'your': 1276, 'leave?': 1277, 'singer': 1278, 'college': 1279, 'mint.': 1280, 'wedding!': 1281, 'radio,': 1282, 'god': 1283, 'until': 1284, 'debated': 1285, 'preferences?': 1286, 'intelligence.': 1287, 'anything.': 1288, 'ditching': 1289, 'clean': 1290, 'age': 1291, 'historically': 1292, 'advance': 1293, 'clogged': 1294, 'dreams.': 1295, 'swans.': 1296, 'hand': 1297, 'knows': 1298, 'shoot': 1299, 'daniel,': 1300, 'sandra:': 1301, 'procrastinating': 1302, 'placebo': 1303, 'scheduled.': 1304, 'studying!': 1305, 'polite': 1306, 'homie': 1307, 'whisky?': 1308, 'lift!': 1309, 'lover?': 1310, 'aicha': 1311, 'stupid,': 1312, 'esther': 1313, 'caressed': 1314, 'lake': 1315, 'lips': 1316, 'dumps?': 1317, 'much.': 1318, 'been': 1319, 'tasty': 1320, 'look,': 1321, 'known': 1322, 'equation': 1323, 'clue': 1324, 'capital': 1325, 'laugh': 1326, 'funeral': 1327, 'goodness': 1328, 'please!': 1329, 'side': 1330, 'specialize': 1331, 'solution:': 1332, 'telling': 1333, 'appreciate': 1334, 'warn': 1335, 'amazon': 1336, 'orange?': 1337, 'care?': 1338, 'chic!': 1339, 'team': 1340, 'examination': 1341, '15': 1342, 'daughter!': 1343, 'honestly,': 1344, 'suddenly': 1345, 'pull': 1346, 'visit': 1347, 'jail': 1348, 'worship': 1349, 'today?': 1350, 'requires': 1351, \"woudn't\": 1352, 'yours,': 1353, 'unblock': 1354, 'cell': 1355, 'waking': 1356, 'hour.': 1357, 'happy.': 1358, 'coach': 1359, 'plaster.': 1360, 'something': 1361, 'moss': 1362, \"ma'am\": 1363, 'show,': 1364, 'groceries': 1365, 'lifestyle': 1366, 'cube': 1367, 'tongue': 1368, 'animals': 1369, 'cook': 1370, 'meeting,': 1371, 'emotions!': 1372, 'degrees': 1373, 'they': 1374, 'tempo': 1375, 'omg!': 1376, 'sleeping,': 1377, 'tried': 1378, 'shame': 1379, 'galsses?': 1380, 'occupied.': 1381, 'castles!': 1382, 'slower': 1383, 'nah,': 1384, 'outside,': 1385, 'opinions?': 1386, 'necessities,': 1387, 'mentality?': 1388, 'lose': 1389, 'mathematician': 1390, 'item?': 1391, 'whiskey?': 1392, 'vinegar': 1393, 'noise': 1394, 'cross...': 1395, 'shocked': 1396, 'friendship?': 1397, 'tallest': 1398, 'manufactured.': 1399, 'speakers!': 1400, 'body': 1401, 'sleeve': 1402, 'working?': 1403, 'recipe': 1404, 'potion': 1405, \"shouldn't\": 1406, 'floors.': 1407, 'shower': 1408, 'responsibilities': 1409, 'amazed': 1410, 'cleverer': 1411, 'arabia': 1412, 'number?': 1413, 'others?': 1414, 'pub': 1415, 'discussion': 1416, 'shock': 1417, 'prudent': 1418, \"she'll\": 1419, 'idiot.': 1420, 'today.': 1421, 'stock': 1422, 'else.': 1423, 'suppose': 1424, 'cheating?': 1425, 'ah.': 1426, 'again': 1427, 'customers': 1428, 'works!': 1429, 'achieved': 1430, 'invites.': 1431, 'meat,': 1432, 'of...': 1433, 'usa?': 1434, \"days'\": 1435, 'beautiful!': 1436, 'revisit': 1437, 'basement': 1438, 'button!': 1439, 'sailors,': 1440, 'morocco?': 1441, 'sweets': 1442, 'blocked': 1443, 'specializes': 1444, 'met': 1445, 'freshly': 1446, 'animals,': 1447, 'stronger': 1448, 'can': 1449, 'told': 1450, 'sous': 1451, 'lifetime': 1452, 'noisy': 1453, 'smocking': 1454, 'conflicts': 1455, 'admire': 1456, 'within': 1457, 'sir!': 1458, 'nine': 1459, 'overwhelmed': 1460, 'year.': 1461, 'surely': 1462, 'spinach': 1463, 'jazz': 1464, 'maryam': 1465, 'hostess!': 1466, 'today': 1467, 'shelf': 1468, 'alright.': 1469, 'saw,': 1470, 'jobs': 1471, 'spontaneously?': 1472, 'beets.': 1473, 'bitten': 1474, 'movies?': 1475, 'everywhere!': 1476, 'photos?': 1477, 'whenever': 1478, 'meals': 1479, 'wall': 1480, 'belong': 1481, 'train': 1482, 'jmiaa,': 1483, 'head.': 1484, 'city!': 1485, 'master': 1486, 'scarf': 1487, 'men!': 1488, 'hook': 1489, 'cope': 1490, 'quality': 1491, 'uncle': 1492, 'word': 1493, 'personally': 1494, 'seriously,': 1495, 'dried': 1496, 'mascerating': 1497, 'feet!': 1498, 'lately?': 1499, 'nod': 1500, 'healthy': 1501, 'walks': 1502, 'toddler!!': 1503, 'immigrants': 1504, 'abused': 1505, 'correct.': 1506, 'tolerate': 1507, 'mrs.': 1508, 'hamza': 1509, 'imagines': 1510, 'chaotic': 1511, 'rosé?': 1512, 'dynamics': 1513, 'shortly': 1514, 'midfield': 1515, 'unwind': 1516, 'umbrella?': 1517, 'block': 1518, 'dish!': 1519, 'refuse!': 1520, 'this...': 1521, 'swiftly': 1522, 'friendships': 1523, 'side,': 1524, 'lecture': 1525, 'ok,': 1526, 'waste': 1527, 'imagine': 1528, 'mountaintop': 1529, '10': 1530, 'treasure': 1531, 'rather': 1532, 'embarrassing': 1533, 'effective': 1534, 'lower': 1535, 'natioanl': 1536, 'level?': 1537, 'gallery': 1538, 'll': 1539, 'water.': 1540, 'shooting': 1541, 'corner!': 1542, 'at': 1543, 'weapons': 1544, 'watching?': 1545, 'guys,': 1546, 'maps...': 1547, 'excellent!': 1548, \"i'm\": 1549, 'muslim': 1550, 'holidays?': 1551, 'hopeful': 1552, 'church': 1553, 'birdhouse': 1554, 'transportation': 1555, 'instrument': 1556, 'lagouira': 1557, 'unbearable.': 1558, 'odds': 1559, 'trip': 1560, 'whilst': 1561, 'crisps,': 1562, 'species?': 1563, 'agree': 1564, 'menu': 1565, 'direct': 1566, 'initiative': 1567, 'after?': 1568, 'waved': 1569, 'trial?': 1570, 'stressed': 1571, 'pronounce': 1572, 'isolate': 1573, 'grant': 1574, \"you've\": 1575, 'rephrase': 1576, 'could': 1577, 'texting?': 1578, 'flat': 1579, 'programmes': 1580, 'trouble': 1581, 'mature': 1582, 'mix!': 1583, 'unashamed': 1584, 'seat': 1585, 'unlike': 1586, 'running': 1587, 'quieter': 1588, 'mole': 1589, 'mosque': 1590, 'some.': 1591, 'irrelevant': 1592, 'misled': 1593, 'rings': 1594, 'lights': 1595, 'kitchen,': 1596, 'criminal': 1597, 'quick,': 1598, 'afterwards.': 1599, 'sold': 1600, 'earth,': 1601, 'forth': 1602, 'harassing': 1603, 'studied': 1604, 'spring,': 1605, 'stopped.': 1606, 'youtube,': 1607, 'heal': 1608, 'rode': 1609, 'opinions': 1610, 'haircut': 1611, 'communicate?': 1612, 'normal': 1613, 'vegetarian.': 1614, 'bite?': 1615, 'exam.': 1616, 'vegan?': 1617, 'picchu': 1618, 'tease': 1619, 'case.': 1620, 'singer.': 1621, 'scissors': 1622, 'feed': 1623, 'helped': 1624, 'chocolate': 1625, 'good,': 1626, 'council,': 1627, 'heaven.': 1628, 'distubance': 1629, 'louis': 1630, 'missing.': 1631, 'begin': 1632, 'taste.': 1633, 'ask': 1634, 'cafe': 1635, 'odd.': 1636, 'bees!': 1637, 'them.': 1638, 'healthful': 1639, 'clients,': 1640, 'everything,': 1641, 'quiet': 1642, 'adult?': 1643, 'egypt.': 1644, 'believed': 1645, 'spices': 1646, 'climate': 1647, 'jeans': 1648, 'parents?': 1649, 'marvellous': 1650, 'devices': 1651, 'activities,': 1652, 'anyway!': 1653, 'leftovers': 1654, 'book.': 1655, 'response': 1656, 'phones': 1657, 'ruins?': 1658, 'invitation,': 1659, 'two': 1660, 'olives,': 1661, 'now': 1662, 'retrace': 1663, 'fork': 1664, 'serious': 1665, 'gets': 1666, 'seats': 1667, 'fishy': 1668, 'apply': 1669, 'deliver': 1670, 'nicknames': 1671, 'dollars?': 1672, 'ruins': 1673, 'africa,': 1674, 'expensive,': 1675, 'bengrir': 1676, 'amcharging': 1677, 'strange': 1678, 'evasion': 1679, 'drink...': 1680, 'south,': 1681, 'office': 1682, 'wait.': 1683, 'quran': 1684, 'mathilde': 1685, 'fired': 1686, 'escape': 1687, 'paperwork': 1688, 'fried': 1689, 'ignatius,': 1690, \"referee's\": 1691, 'groundbreaking': 1692, 'boys?': 1693, 'close?': 1694, 'urgently.': 1695, 'office,': 1696, 'subjects,': 1697, 'lend': 1698, 'drowsy': 1699, 'late?': 1700, 'bush': 1701, '14': 1702, '3yyet': 1703, 'remember?': 1704, 'beautiful': 1705, 'bullying': 1706, 'shorter': 1707, 'ball!': 1708, 'organizing': 1709, 'blackberry': 1710, 'worry': 1711, 'space': 1712, 'discoveries': 1713, 'recognize.': 1714, 'into': 1715, 'everybody.': 1716, 'football?': 1717, 'hawaii.': 1718, 'best': 1719, 'vacations': 1720, 'cleaned': 1721, 'flapping': 1722, 'worried,': 1723, 'pacific': 1724, 'improve': 1725, 'one.': 1726, 'photography?': 1727, 'translate': 1728, 'bun': 1729, 'criticism': 1730, 'conditioning': 1731, 'large-scale': 1732, 'recipe.': 1733, 'bit!': 1734, 'football': 1735, 'left.': 1736, 'helmet': 1737, 'typo': 1738, 'secretary,': 1739, 'late': 1740, 'moisture': 1741, 'especially!': 1742, 'organized': 1743, 'windy.': 1744, 'sartre?': 1745, 'leash': 1746, 'wedding?': 1747, 'foot?': 1748, 'early!': 1749, 'concepts': 1750, 'recent': 1751, 'woman': 1752, 'counting': 1753, 'waitress': 1754, 'cocktails': 1755, 'earlier?': 1756, 'skirt': 1757, 'fan': 1758, 'absurd': 1759, 'right.': 1760, 'huge': 1761, 'pear,': 1762, 'biggest': 1763, 'informal': 1764, 'cool,': 1765, 'then.': 1766, 'accepting': 1767, 'crossed': 1768, 'favorite.': 1769, 'movie': 1770, 'political': 1771, \"we'll\": 1772, 'miss': 1773, 'medicine?': 1774, 'territory': 1775, 'philosopher': 1776, 'rag': 1777, 'greedy': 1778, 'rocks,': 1779, 'traveled': 1780, 'equality': 1781, 'amazing': 1782, 'whistling': 1783, 'boss,': 1784, 'refused': 1785, 'to,': 1786, 'characters': 1787, 'wear?': 1788, 'disappeared': 1789, 'spot': 1790, 'beside': 1791, 'off,': 1792, 'uhhhh,': 1793, 'guitar': 1794, 'wealth?': 1795, 'horror': 1796, 'conclusion': 1797, 'further.': 1798, 'in': 1799, \"he'll\": 1800, 'out': 1801, 'god?': 1802, 'trade': 1803, 'understand': 1804, 'wrong?': 1805, 'orange': 1806, 'stick': 1807, 'home': 1808, 'coincidence': 1809, 'scottish': 1810, 'jungle.': 1811, 'e-mails,': 1812, 'curious': 1813, 'platter': 1814, 'cleaner': 1815, 'popped': 1816, 'free': 1817, 'apartment,': 1818, 'bear!': 1819, 'erm,': 1820, 'mutual': 1821, 'pilot,': 1822, 'garnish': 1823, 'divorced': 1824, \"ma'am,\": 1825, 'many': 1826, 'library?': 1827, 'loyal': 1828, 'physicality': 1829, 'sisters': 1830, 'absolutely': 1831, 'purchase': 1832, 'resolved': 1833, 'recored': 1834, 'screwed': 1835, 'arabic': 1836, 'society?': 1837, 'surprising!': 1838, 'rock': 1839, 'guessed': 1840, 'field': 1841, 'hurry': 1842, 'miscounting!': 1843, 'real': 1844, 'pirate?': 1845, 'baseball': 1846, 'saturday?': 1847, 'point': 1848, 'luck,': 1849, 'girls': 1850, 'many?': 1851, 'gym?': 1852, 'remembered!': 1853, 'example,': 1854, 'actually': 1855, 'liqueur': 1856, 'dreaming': 1857, 'happened?': 1858, 'lovely,': 1859, 'such': 1860, 'kidding!': 1861, 'website?': 1862, 'fees': 1863, 'ability': 1864, 'balcony,': 1865, 'hundredth': 1866, 'forbidden': 1867, 'dislike': 1868, 'transport.': 1869, 'appetite': 1870, 'wait,': 1871, 'where': 1872, 'grandfather': 1873, 'reasons': 1874, \"city's\": 1875, 'supper?': 1876, 'liked': 1877, 'before!': 1878, 'hours.': 1879, 'room?': 1880, 'chairman': 1881, 'catering': 1882, 'nuts': 1883, 'e-mails': 1884, 'unfortunately!': 1885, 'work': 1886, 'rottweiler,': 1887, 'modesty': 1888, 'unpleasant': 1889, 'lunchtime': 1890, 'spell': 1891, 'lady,': 1892, 'fits': 1893, 'probebly': 1894, 'following': 1895, 'marathon?': 1896, 'adore': 1897, 'tuesday': 1898, 'hopefully': 1899, 'julie!': 1900, 'watery': 1901, 'absurd.': 1902, 'culture!': 1903, 'lock': 1904, 'students?!': 1905, 'just': 1906, 'spill': 1907, 'volunteered': 1908, 'dog...': 1909, 'celebrating': 1910, 'loubna': 1911, 'insults': 1912, 'delivery?': 1913, 'listened': 1914, 'british': 1915, 'continuation': 1916, 'birthday': 1917, 'darija': 1918, 'committed': 1919, 'sorry.': 1920, \"car's\": 1921, 'review': 1922, 'comes?': 1923, 'yours.': 1924, 'were!': 1925, 'shaking': 1926, 'offering': 1927, 'oven': 1928, 'indigestion': 1929, 'outdoor': 1930, 'strong,': 1931, 'anyone!': 1932, 'both.': 1933, 'overthinking': 1934, 'expiration': 1935, 'breathing': 1936, 'stamps': 1937, 'power': 1938, 'tables?': 1939, 'reviews': 1940, 'jealous': 1941, 'symbol': 1942, 'respect': 1943, 'suitable': 1944, 'lucky!': 1945, 'pocket': 1946, 'barbecue.': 1947, 'amp': 1948, 'bream': 1949, 'exam': 1950, 'tourists': 1951, 'wolf': 1952, 'calls': 1953, 'mme': 1954, 'nylon': 1955, 'jacket': 1956, 'gravity,': 1957, \"you'ill\": 1958, 'view,': 1959, 'organized?': 1960, 'finished.': 1961, \"philosopher's\": 1962, 'class?': 1963, 'subject,': 1964, 'chances': 1965, 'hat': 1966, 'maintenance': 1967, 'diy': 1968, 'sisters.': 1969, 'cheaper?': 1970, 'chop': 1971, 'year': 1972, 'restless': 1973, 'beach?': 1974, 'too...': 1975, 'responsibility': 1976, 'collecting': 1977, 'salmon': 1978, 'rabbits,': 1979, 'maths': 1980, 'lying': 1981, 'necessarily': 1982, 'younger...': 1983, 'anyone?!': 1984, 'invitations.': 1985, 'laughter': 1986, 'toys': 1987, 'memory?': 1988, 'advantage': 1989, 'ducks?': 1990, 'invite': 1991, 'llike': 1992, 'agreed,': 1993, 'gang': 1994, 'orphan': 1995, 'in...': 1996, 'drown': 1997, 'finsh': 1998, 'coming!': 1999, 'parrots': 2000, 'gambling?': 2001, 'math': 2002, 'appetite!': 2003, 'jeans,': 2004, 'smith': 2005, 'scrutinized': 2006, 'came,': 2007, 'alot': 2008, 'christian': 2009, 'typical': 2010, 'quarter': 2011, 'saint': 2012, 'soon,': 2013, 'holidays': 2014, 'quickly': 2015, 'donated': 2016, 'afternoon': 2017, 'bu': 2018, 'sharper': 2019, 'am!': 2020, 'cleared': 2021, 'again?': 2022, 'pains.': 2023, 'again!': 2024, 'abroad,': 2025, 'sadly.': 2026, 'harm': 2027, 'tobacco?': 2028, 'dilemma.': 2029, 'chasing': 2030, 'seven': 2031, 'transport,': 2032, 'intriguing': 2033, 'good?!': 2034, 'effort': 2035, 'sandwich?': 2036, 'succeeding': 2037, 'late,': 2038, 'sauce?': 2039, 'genre?': 2040, 'service!': 2041, 'salmon,': 2042, 'essay': 2043, 'cubes,': 2044, 'card,': 2045, 'internship': 2046, 'steps.': 2047, 'visibility': 2048, 'forgotten': 2049, 'did?': 2050, 'toughest': 2051, '93': 2052, 'there,': 2053, 'advanced': 2054, 'anya,': 2055, 'hahahaha': 2056, 'upside': 2057, 'matters': 2058, 'bordeaux': 2059, 'barbecue!': 2060, 'attached': 2061, 'appartement': 2062, 'fatima': 2063, 'then,': 2064, 'hairdresser?': 2065, 'of': 2066, 'country,': 2067, 'teach': 2068, 'little,': 2069, 'playing': 2070, 'seeing': 2071, 'bringing': 2072, 'two.': 2073, 'managed': 2074, 'sound': 2075, 'obviously.': 2076, 'seen': 2077, 'superfluous': 2078, 'brazil': 2079, 'climbing?': 2080, 'daughter?': 2081, 'improvement': 2082, '7:00': 2083, 'one,': 2084, 'efficiency': 2085, 'rabbits!': 2086, 'tadla?': 2087, 'spanish': 2088, 'freezer': 2089, 'four': 2090, '100%': 2091, \"doesn't\": 2092, 'behave': 2093, 'tested': 2094, 'explaining': 2095, 'knowledgeable': 2096, 'next-door': 2097, 'cookies': 2098, 'chocolate,': 2099, 'louder': 2100, 'rum': 2101, 'replenish': 2102, '(expensive)?': 2103, 'booming': 2104, 'bad': 2105, 'go,': 2106, 'galleries.': 2107, 'courts': 2108, 'journalsit': 2109, 'awesome.': 2110, 'fear': 2111, 'context': 2112, 'bed!': 2113, 'extraordinary': 2114, 'soften': 2115, 'alcoholics!': 2116, 'arthritic': 2117, 'lentilles': 2118, 'hang': 2119, 'great.': 2120, 'reason': 2121, 'mojito,': 2122, 'cab': 2123, 'for,': 2124, 'precision': 2125, 'useful': 2126, 'fruits?': 2127, 'sorry,': 2128, 'enjoyed': 2129, 'ice': 2130, 'ok?': 2131, 'date,': 2132, 'chaos': 2133, 'free!': 2134, 'burgers,': 2135, \"h've\": 2136, 'shopping!': 2137, 'entertainment': 2138, 'holy': 2139, 'parties?': 2140, 'down?': 2141, 'heaven': 2142, 'tuesday,': 2143, '-': 2144, 'resting.': 2145, 'identity': 2146, 'fast!': 2147, 'repairs': 2148, 'loaded': 2149, 'said?': 2150, 'unique?': 2151, 'failure': 2152, 'party,': 2153, 'targets?': 2154, 'sure!': 2155, 'amina': 2156, 'you!!': 2157, 'expired': 2158, 'problem.': 2159, 'bar': 2160, 'xx': 2161, 'collaborating': 2162, 'camel': 2163, 'disturbed': 2164, 'meat': 2165, 'meet': 2166, \"don't!\": 2167, 'smarter': 2168, 'sri': 2169, 'wine': 2170, 'luckily': 2171, 'shoulder': 2172, 'again.': 2173, 'snails.': 2174, 'company?': 2175, 'airport': 2176, 'you!': 2177, 'arrived?': 2178, 'talks': 2179, 'forget,': 2180, 'minutes!': 2181, 'restaurant?': 2182, 'while.': 2183, 'eggs.': 2184, 'valued?': 2185, 'happened.': 2186, 'choose?': 2187, 'embrace': 2188, 'fridge': 2189, 'primitive,': 2190, 'pistachios': 2191, 'job,': 2192, 'anything!': 2193, 'before': 2194, 'girl.': 2195, 'hate': 2196, \"squirrel's\": 2197, 'noise?': 2198, 'laying': 2199, 'wash': 2200, 'certain!': 2201, 'crisis': 2202, 'pool.': 2203, 'player,': 2204, 'assia,': 2205, 'determination': 2206, 'company.': 2207, 'lasting?': 2208, 'fragrance': 2209, 'halloween?': 2210, 'you,': 2211, 'adequate': 2212, 'dance!': 2213, 'spontaneous': 2214, 'gps': 2215, 'town?': 2216, 'plenty': 2217, 'grandkids': 2218, 'steak': 2219, 'therapy': 2220, 'unfortunate': 2221, 'politics?': 2222, 'rubbish...': 2223, 'strategies?': 2224, 'lie?': 2225, 'india': 2226, 'bars': 2227, 'fell': 2228, 'reaction.': 2229, 'copy.': 2230, 'student?': 2231, 'small,': 2232, 'offensive': 2233, 'forest': 2234, 'library': 2235, 'teammates': 2236, 'decorations?': 2237, 'meaningful': 2238, 'well?': 2239, 'glue': 2240, 'country': 2241, 'activities': 2242, 'whether': 2243, 'midday': 2244, 'stomch': 2245, 'shaken,': 2246, 'keys?': 2247, 'wide': 2248, 'presume': 2249, 'station': 2250, 'beating': 2251, 'hesitate': 2252, 'purchasing': 2253, 'criticize': 2254, 'create': 2255, 'raise': 2256, 'businessman': 2257, 'blackmail': 2258, 'judy': 2259, 'casual': 2260, 'along': 2261, 'hippy!': 2262, 'yesterday,': 2263, 'gel': 2264, 'prison?': 2265, 'spiders': 2266, 'parrot': 2267, 'strangest': 2268, 'less,': 2269, 'map?': 2270, 'shouted': 2271, 'universal': 2272, 'already...': 2273, 'elixir': 2274, 'international': 2275, 'goodness,': 2276, 'suggestion:': 2277, 'belgium': 2278, 'bumping': 2279, 'blood': 2280, 'farthest': 2281, 'karaoke!': 2282, 'ready': 2283, 'rang': 2284, 'mostly': 2285, 'boyfriend?': 2286, 'survive': 2287, 'crowd?': 2288, 'aerophobia': 2289, 'today!': 2290, \"you'd\": 2291, 'france,': 2292, 'grandfather,': 2293, 'york': 2294, 'fryer': 2295, 'scan': 2296, 'changed': 2297, 'blow': 2298, 'movements': 2299, 'institute': 2300, 'pakistan': 2301, 'level,': 2302, 'assessed': 2303, 'relaxing': 2304, 'fixed': 2305, 'spaceship': 2306, 'discret': 2307, 'unhealthy': 2308, 'secretary': 2309, 'literally,': 2310, 'rescue': 2311, 'school?': 2312, 'plan!': 2313, 'upset': 2314, 'born': 2315, 'smoke': 2316, 'salad?': 2317, 'socks?': 2318, 'chips,': 2319, 'novel?': 2320, 'poison': 2321, 'weaknesses?': 2322, 'carpet!': 2323, 'boots?': 2324, 'too?': 2325, 'busy,': 2326, 'mouse': 2327, 'driver': 2328, 'polluting.': 2329, 'go.': 2330, 'save': 2331, 'beasts': 2332, 'mistakes': 2333, 'anyway?': 2334, 'unique': 2335, 'opposed': 2336, 'heard': 2337, 'ideas.': 2338, 'humid': 2339, 'haha,': 2340, 'things,': 2341, 'rights': 2342, 'grass': 2343, 'better': 2344, 'winner,': 2345, 'throughout': 2346, 'river,': 2347, 'up': 2348, 'stage?': 2349, 'than': 2350, 'dominant': 2351, 'snails': 2352, 'reduce': 2353, 'noise.': 2354, 'scheduled': 2355, 'home.': 2356, 'up?': 2357, 'poker.': 2358, 'stuff': 2359, 'mirror': 2360, 'anywhere,': 2361, 'how': 2362, 'unpredictable': 2363, 'morning,': 2364, 'wish': 2365, 'paper': 2366, 'remember,': 2367, 'sailors...': 2368, 'advises': 2369, 'vacation': 2370, 'machu': 2371, 'whispered': 2372, 'doesn‟t': 2373, 'ourselves.': 2374, 'restored?': 2375, 'atlas': 2376, 'hatim,': 2377, 'familiar': 2378, 'ears': 2379, 'civilisation': 2380, 'eats': 2381, 'mary': 2382, 'reasonable': 2383, 'second-floor': 2384, 'deserts': 2385, 'totally': 2386, 'board?': 2387, 'sunday.': 2388, 'up!': 2389, 'remotely': 2390, 'eye,': 2391, 'month!': 2392, 'want.': 2393, 'blinds?': 2394, 'pleasures.': 2395, 'read': 2396, 'number': 2397, 'rooms': 2398, 'kettle': 2399, 'bricks': 2400, 'costed': 2401, 'security': 2402, 'repeats': 2403, 'folks': 2404, '9': 2405, 'pizza?': 2406, 'marrakchi': 2407, 'redecorating': 2408, 'bills.': 2409, 'skill': 2410, 'till': 2411, 'in-between': 2412, 'seem': 2413, 'warning': 2414, 'second': 2415, 'mini-bus': 2416, 'fiction': 2417, 'quick': 2418, 'luggage': 2419, 'accident': 2420, 'thais': 2421, 'beige': 2422, 'hairs,': 2423, 'evening!': 2424, 'calling?': 2425, 'condors': 2426, 'asking!': 2427, 'rely': 2428, 'quickest': 2429, 'guarantee/warranty?': 2430, 'well-known': 2431, 'traces': 2432, 'cutting': 2433, 'buy?': 2434, 'spying?': 2435, 'superior': 2436, 'curly': 2437, 'turtles?': 2438, 'historic': 2439, 'soaking': 2440, 'lady': 2441, 'omlette': 2442, 'primary': 2443, 'prepping': 2444, 'simple': 2445, 'nowhere.': 2446, 'relations': 2447, 'box': 2448, 'beers': 2449, 'aw': 2450, 'older': 2451, 'place?': 2452, 'languages': 2453, 'ignorence': 2454, 'revenge': 2455, 'eighty': 2456, \"was'nt\": 2457, 'mind': 2458, 'road,': 2459, 'ingredients?': 2460, 'with': 2461, 'moved': 2462, 'good!': 2463, 'air,': 2464, 'pets?': 2465, 'weekend': 2466, 'wet': 2467, 'not!': 2468, 'pet!': 2469, 'day-to-day': 2470, 'stress?': 2471, 'dinner': 2472, 'poisoned': 2473, 'led': 2474, 'teacher': 2475, 'mean,': 2476, 'explain': 2477, 'butter?': 2478, 'me.': 2479, 'reading?': 2480, 'possessor': 2481, 'englsh': 2482, 'clients!': 2483, 'rabat?': 2484, 'closed': 2485, 'climbing': 2486, 'building?': 2487, 'acts?': 2488, 'entrance!!': 2489, 'town.': 2490, 'medina': 2491, 'satisfied': 2492, 'orders': 2493, 'graduated': 2494, 'he': 2495, 'leftover': 2496, 'size': 2497, 'concerning': 2498, 'blast!': 2499, 'album': 2500, 'towards': 2501, 'questions,': 2502, 'upsetting': 2503, 'hossam': 2504, 'wine.': 2505, 'order': 2506, 'uh': 2507, 'try!': 2508, 'feets': 2509, 'upstairs': 2510, 'president': 2511, 'shopping': 2512, 'provoke': 2513, 'children?': 2514, 'attending': 2515, 'technique': 2516, 'unknown': 2517, 'tajine': 2518, 'impatient': 2519, 'raw': 2520, 'leaving': 2521, 'learns': 2522, 'anywhere?': 2523, 'please': 2524, 'instant,': 2525, 'pain': 2526, 'miniature': 2527, 'tap': 2528, 'hands.': 2529, 'scream?': 2530, 'article': 2531, 'books': 2532, 'popular': 2533, 'comfortable': 2534, 'calories,': 2535, 'sear': 2536, 'idiot': 2537, 'hut': 2538, 'american': 2539, 'fireworks': 2540, 'grumble': 2541, 'managers': 2542, 'learning?': 2543, 'retirement': 2544, 'true!': 2545, 'beets?': 2546, 'brand': 2547, 'worst': 2548, \"coffee's\": 2549, 'plumber': 2550, 'derivatives': 2551, 'friday?': 2552, 'scissiors': 2553, 'spiiled': 2554, 'physics': 2555, 'alright': 2556, 'smaller': 2557, 'wheels': 2558, 'bulk': 2559, 'badly': 2560, 'greet': 2561, 'melting': 2562, 'belongs': 2563, 'base': 2564, 'chased': 2565, 'thirty': 2566, 'anything?': 2567, 'socks': 2568, 'squirrel': 2569, 'guide': 2570, 'smile': 2571, 'marion': 2572, 'blind?': 2573, 'points!': 2574, 'animal?': 2575, 'respite': 2576, 'wherever': 2577, 'then!': 2578, 'received': 2579, 'souk': 2580, 'allergies?': 2581, 'whistle': 2582, 'herbs?': 2583, 'bass': 2584, 'intercepted': 2585, 'weddings': 2586, 'improve.': 2587, 'saved': 2588, 'marrakech': 2589, 'umbrella!': 2590, 'pale': 2591, 'brings': 2592, 'divided': 2593, 'connection?': 2594, 'employees,': 2595, 'war,': 2596, 'unreadable': 2597, 'pages,': 2598, 'shame,': 2599, 'trees': 2600, 'trips': 2601, 'heat': 2602, 'possession': 2603, 'beginner.': 2604, 'singing': 2605, 'recently?': 2606, 'product?': 2607, 'associate': 2608, 'dizzy': 2609, 'notebooks': 2610, 'important': 2611, 'reading': 2612, 'from?': 2613, 'likely': 2614, 'list': 2615, 'scratched': 2616, 'invaluable': 2617, 'readings?': 2618, 'oil?': 2619, 'roll': 2620, 'pinned': 2621, 'traveling?': 2622, 'zoned': 2623, 'once!': 2624, 'theses': 2625, 'upset!': 2626, 'cocktail': 2627, 'lonely.': 2628, 'howl?': 2629, 'they?': 2630, 'program?': 2631, 'birthdays': 2632, 'video': 2633, 'whatever': 2634, 'town!': 2635, 'rave': 2636, 'evil': 2637, 'rod,': 2638, 'plummet': 2639, 'bank.': 2640, 'chocolates': 2641, 'stirred?': 2642, 'background': 2643, 'halftime': 2644, 'egg': 2645, 'saudi': 2646, 'betty': 2647, 'reminds': 2648, 'haha': 2649, 'trip?': 2650, 'extension': 2651, 'rheumatologist': 2652, 'anyday': 2653, 'tonight,': 2654, 'he?': 2655, 'subject:': 2656, 'ex-husband': 2657, 'invite?': 2658, 'possible!': 2659, 'follow.': 2660, \"'hey,\": 2661, 'brother': 2662, 'poor': 2663, 'circumstances': 2664, 'message': 2665, 'drink': 2666, 'resisting': 2667, 'took?': 2668, 'have': 2669, 'hours?!': 2670, 'mean': 2671, 'showers': 2672, 'rice.': 2673, 'eraser': 2674, 'hmm,': 2675, 'events?': 2676, 'wants': 2677, 'yes': 2678, 'correctly?': 2679, 'ever,': 2680, 'complex': 2681, 'depressants': 2682, 'called': 2683, 'onions': 2684, 'theatre': 2685, 'lethal': 2686, 'forced': 2687, 'puff': 2688, 'advice.': 2689, 'quivering': 2690, 'parachute': 2691, 'drank': 2692, 'marking': 2693, 'capable': 2694, 'critical': 2695, 'carefree': 2696, 'vegetarians': 2697, 'sat': 2698, 'loose': 2699, 'golf': 2700, 'insect': 2701, 'tie': 2702, 'learning': 2703, 'me:': 2704, 'coming?': 2705, 'tam': 2706, 'been?': 2707, 'caused': 2708, 'rustling': 2709, 'speaks': 2710, 'coffee': 2711, 'fight': 2712, 'fault,': 2713, 'understand!': 2714, 'personal': 2715, 'aunt': 2716, 'children,': 2717, 'great!': 2718, 'form': 2719, 'paranoid?': 2720, 'original,': 2721, 'bracelet': 2722, 'inconvenient!': 2723, 'little.': 2724, 'share': 2725, 'forget.': 2726, 'anymore?': 2727, 'have!': 2728, 'yeah.': 2729, 'future?': 2730, 'youtube': 2731, 'martini': 2732, 'exhausted': 2733, 'deserves': 2734, 'scarf?': 2735, 'dye': 2736, 'travels': 2737, 'exacltly': 2738, 'sugar': 2739, 'holiday!': 2740, 'companies.': 2741, 'white,': 2742, 'science.': 2743, 'aeroplane': 2744, 'settat': 2745, \"brother's\": 2746, 'checkers': 2747, 'flirting': 2748, 'understood': 2749, 'completed': 2750, 'showing': 2751, 'news?': 2752, 'sure?!': 2753, 'rejected': 2754, 'player?': 2755, \"parents'\": 2756, 'suitcase': 2757, 'spotify?': 2758, 'raise?': 2759, 'noises': 2760, 'ready?': 2761, 'switch': 2762, 'years?': 2763, 'finger': 2764, 'midnight': 2765, 'say.': 2766, 'texted': 2767, 'written': 2768, 'hi': 2769, 'blender': 2770, 'exactly,': 2771, 'sure,': 2772, 'pains,': 2773, 'justice': 2774, 'hung': 2775, 'volunteer': 2776, 'situation': 2777, 'loan': 2778, 'saw': 2779, \"father's\": 2780, 'doctor?': 2781, 'absolutely!': 2782, 'iit': 2783, 'peed': 2784, 'drinking?': 2785, 'a': 2786, 'available,': 2787, 'injuries': 2788, 'activity?': 2789, 'beautiful.': 2790, 'luck!': 2791, 'scallops.': 2792, 'good': 2793, 'overthinks': 2794, 'happening!': 2795, 'hurrying': 2796, 'paramedics': 2797, 'deciding': 2798, 'weird.': 2799, 'pencil?': 2800, 'invited': 2801, ',it': 2802, 'minced': 2803, 'kid': 2804, 'smithereens': 2805, 'forhead': 2806, \"name's\": 2807, 'yawn': 2808, 'tea': 2809, 'keeps': 2810, 'tomorrow!': 2811, 'teams': 2812, 'agile': 2813, 'game?': 2814, 'indian.': 2815, 'crackers!': 2816, 'from.': 2817, \"plane's\": 2818, 'schedule.': 2819, 'house?': 2820, 'making': 2821, 'snow': 2822, '100dhs': 2823, 'twig': 2824, 'bath': 2825, 'monuments,': 2826, 'pet': 2827, 'same': 2828, 'remote,': 2829, 'swim': 2830, 'melon': 2831, 'built': 2832, 'tall': 2833, '10:30': 2834, 'service': 2835, 'mis,': 2836, 'sales': 2837, 'film': 2838, 'pigeon.': 2839, 'yes,': 2840, 'hassan': 2841, 'jellaba': 2842, 'bare': 2843, 'arthritis?': 2844, \"we're\": 2845, 'not': 2846, 'compared': 2847, 'underrated?': 2848, 'portrait': 2849, 'easily?': 2850, 'boss': 2851, 'reach': 2852, 'did.': 2853, 'meeting.': 2854, 'environment?': 2855, 'commit': 2856, 'lot!': 2857, 'village.': 2858, 'introduced': 2859, 'annoying': 2860, 'electrician': 2861, 'traditionally': 2862, 'kamal': 2863, 'them,': 2864, 'mud': 2865, 'unlock': 2866, 'chats?': 2867, 'cream': 2868, 'no!': 2869, 't.v': 2870, 'players': 2871, 'ha': 2872, 'hope?': 2873, 'glass': 2874, 'lenses': 2875, 'watch.': 2876, 'support': 2877, 'expectations': 2878, 'corner': 2879, 'act': 2880, 'amazing.': 2881, 'did...': 2882, 'presence': 2883, 'repressed': 2884, 'staying': 2885, 'kindness': 2886, 'plates': 2887, 'frightened': 2888, 'dogs?': 2889, 'away!': 2890, 'steps?': 2891, 'pigeon': 2892, 'met?': 2893, 'objects': 2894, 'bright': 2895, 'saves,': 2896, 'paranoid': 2897, 'hundred': 2898, 'construction': 2899, 'caliber!': 2900, 'discover': 2901, 'breadcrumbs.': 2902, 'rain.': 2903, 'james!': 2904, 'easier?': 2905, 'reputation': 2906, 'flyer.': 2907, 'date?': 2908, 'adventures': 2909, 'psychiatrist.': 2910, 'vanilla': 2911, 'sense': 2912, 'carry': 2913, \"king's\": 2914, 'aromatic': 2915, 'freedom?': 2916, 'dates': 2917, 'bag.': 2918, 'know.': 2919, 'nice': 2920, 'shootouts?': 2921, 'mother?': 2922, 'secret': 2923, 'particular': 2924, 'barmy.': 2925, 'required.': 2926, 'dowry': 2927, 'basil': 2928, 'foie.': 2929, 'someday': 2930, 'crack': 2931, 'legs': 2932, 'safer': 2933, 'approach?': 2934, '3lihom': 2935, 'week!': 2936, 'agreed': 2937, 'tomorrow.': 2938, 'bawlo': 2939, 'passionate': 2940, 'raised': 2941, 'misunderstood.': 2942, 'cabinet': 2943, 'mix': 2944, 'november': 2945, 'occupy': 2946, 'shift.': 2947, 'mini-skirt': 2948, 'tables.': 2949, 'train?': 2950, 'swing': 2951, 'web': 2952, 'flint?': 2953, 'cardiovascular': 2954, 'ordering': 2955, 'given': 2956, 'prank': 2957, 'milk': 2958, 'soukaina': 2959, 'educated': 2960, 'contact': 2961, 'sartre': 2962, 'road?': 2963, 'eyes?': 2964, 'castles': 2965, 'behaviour': 2966, 'suffer': 2967, 'knowledge': 2968, 'sugar,': 2969, 'sttati,': 2970, 'cruel?': 2971, 'gin': 2972, 'movie,': 2973, 'popsicles,': 2974, 'organise': 2975, 'these': 2976, 'thing': 2977, 'pretending': 2978, 'bars,': 2979, 'modern?': 2980, 'look': 2981, 'standing!': 2982, 'beautiful...': 2983, 'clearly': 2984, 'assemble': 2985, 'requirements': 2986, 'played?': 2987, 'feet': 2988, 'turned': 2989, 'interesting?': 2990, 'hurts': 2991, 'half-truth': 2992, 'favor?': 2993, 'hospital': 2994, 'smile!': 2995, 'remind': 2996, 'julian?': 2997, 'shot': 2998, 'play?': 2999, 'buffalo': 3000, 'asked': 3001, \"doesn't!\": 3002, 'delicious.': 3003, 'grammar.': 3004, 'south': 3005, 'bottle?': 3006, 'cold?': 3007, 'being': 3008, 'lisening': 3009, 'soak': 3010, 'meter,': 3011, 'clear': 3012, 'yourself!': 3013, 'arrogance': 3014, 'massages': 3015, 'stories': 3016, 'healthy!': 3017, 'roast': 3018, 'closed...': 3019, \"i'am\": 3020, 'dancing,': 3021, 'sport?': 3022, 'wrap': 3023, 'reassuring': 3024, 'veggies': 3025, 'costs': 3026, 'police.': 3027, 'easy.': 3028, 'fault!': 3029, 'was?': 3030, 'ot': 3031, 'chicago': 3032, 'hotels': 3033, 'failed': 3034, 'carrots?': 3035, 'hallucinogenic': 3036, 'offense': 3037, 'realized': 3038, 'move!': 3039, 'connection.': 3040, 'hot?': 3041, 'kinds': 3042, 'apple': 3043, 'epic': 3044, 'swimming': 3045, 'gambling': 3046, 'pressure': 3047, 'story': 3048, 'qatar': 3049, 'weigh': 3050, 'intrusion.': 3051, 'far?': 3052, 'regular?': 3053, 'sneeze': 3054, 'ride': 3055, 'delicious!': 3056, 'careful!': 3057, 'see?': 3058, 'birthmark': 3059, 'sea-fishing,': 3060, 'o': 3061, 'scary': 3062, 'feeding': 3063, 'expressions': 3064, 'engine': 3065, 'artwork': 3066, 'will.': 3067, 'fashion?': 3068, 'three?': 3069, 'blanket': 3070, 'honor': 3071, 'trust': 3072, 'theme.': 3073, 'bored': 3074, 'congratulations,': 3075, 'sun': 3076, 'total': 3077, 'guy.': 3078, 'on!': 3079, 'dog.': 3080, 'handy': 3081, 'american?': 3082, 'solitary': 3083, 'locate': 3084, 'musicians?': 3085, 'old,': 3086, 'mint?': 3087, 'daniels.': 3088, 'mexico': 3089, 'attending,': 3090, 'underwears': 3091, 'documentaries?': 3092, 'consider': 3093, 'pushed': 3094, 'feasible': 3095, 'happiness': 3096, 'hoodies': 3097, 'be?': 3098, 'change?': 3099, 'sings': 3100, 'not.': 3101, 'sleep,': 3102, 'scuba': 3103, 'embarrassed': 3104, 'parties': 3105, 'we?': 3106, 'jesus.': 3107, 'send': 3108, \"today's\": 3109, 'necessary!': 3110, 'later': 3111, 'tea?': 3112, 'tough': 3113, 'neighbours': 3114, 'also!': 3115, 'songs?': 3116, 'downstairs': 3117, 'memory,': 3118, 'giraffes': 3119, 'followed': 3120, 'us?': 3121, 'agree,': 3122, 'person': 3123, 'sued': 3124, 'full?': 3125, 'acne': 3126, 'disturbed.': 3127, 'recorded\"': 3128, 'douaa,': 3129, 'position?': 3130, 'wading': 3131, 'god.': 3132, 'course.': 3133, 'pickup?': 3134, 'have?': 3135, 'uneasy': 3136, 'chain.': 3137, 'town,': 3138, 'mentioned': 3139, 'photos': 3140, 'lived': 3141, 'moving': 3142, 'programme': 3143, 'resignation.': 3144, 'fatna': 3145, 'hire': 3146, 'letter?': 3147, 'atmosphere?': 3148, 'marcel,': 3149, 'luggage,': 3150, 'voice.': 3151, 'calms': 3152, 'loyalty': 3153, 'landmarks': 3154, 'designing': 3155, 'fastest': 3156, 'pilot!': 3157, 'fork?': 3158, 'suits': 3159, 'sirloin': 3160, 'sleep': 3161, 'month,': 3162, 'fasting': 3163, 'going': 3164, 'co-exist': 3165, 'fishing': 3166, 'vacuum': 3167, 'macaroons': 3168, 'twin': 3169, 'stroke': 3170, 'maybe,': 3171, \"would've,\": 3172, 'several': 3173, 'recipes?': 3174, 'off': 3175, 'bouquet': 3176, 'mornings?': 3177, 'intimidating': 3178, 'problems?': 3179, 'town': 3180, 'customers!': 3181, 'instargram': 3182, 'owner': 3183, 'penny': 3184, 'him!': 3185, 'offense,': 3186, 'lawyer': 3187, 'jar': 3188, 'him...': 3189, 'stress': 3190, 'gorilla': 3191, 'sorted.': 3192, 'should': 3193, 'recovery': 3194, 'tea,': 3195, 'face?': 3196, 'suggestions': 3197, 'culture': 3198, 'all': 3199, 'stolen': 3200, 'provided': 3201, 'weird?': 3202, 'happen': 3203, 'cool': 3204, 'art': 3205, 'admit': 3206, 'evolved': 3207, 'argentina': 3208, 'skinny': 3209, 'leg,': 3210, 'charge?': 3211, 'pie.': 3212, 'shows...?': 3213, 'endless': 3214, 'chickens': 3215, 'maria!': 3216, 'puzzle': 3217, 'gifts': 3218, 'male': 3219, 'somewhere': 3220, 'forgiven!': 3221, 'english': 3222, 'cats': 3223, '(male)': 3224, 'scared?': 3225, 'all!': 3226, 'challenging': 3227, 'gathering': 3228, 'away': 3229, 'cars': 3230, 'amused': 3231, 'lord,': 3232, 'means,': 3233, 'translation': 3234, 'frisbee': 3235, 'visits': 3236, 'biscuits...': 3237, 'fans?': 3238, 'exactly': 3239, 'coud': 3240, 'tapping': 3241, 'persevered': 3242, 'walked': 3243, 'unfortunate!': 3244, \"'square\": 3245, 'forgetting': 3246, 'artistry?': 3247, 'office.': 3248, 'yes.': 3249, 'pathetic': 3250, 'ended': 3251, 'spoiled': 3252, 'course!': 3253, 'nor': 3254, 'maybe?': 3255, 'times!': 3256, 'solved': 3257, 'difference': 3258, 'pack': 3259, 'next': 3260, 'elsewhere': 3261, 'office?': 3262, 'work.': 3263, 'bees': 3264, 'handbag': 3265, 'garlic!': 3266, 'wait!': 3267, 'button.': 3268, 'traveled?': 3269, 'repeating': 3270, 'assist': 3271, 'plus': 3272, 'do!': 3273, 'ringing': 3274, 'question?': 3275, 'bet': 3276, '911.': 3277, 'that,': 3278, 'tour': 3279, 'tastes': 3280, 'safe.': 3281, 'instantly': 3282, 'curse': 3283, 'wonderful.': 3284, 'whale': 3285, 'deal?': 3286, 'received?': 3287, 'anaesthetist': 3288, 'visiting': 3289, 'cathedral': 3290, 'answer': 3291, 'wings': 3292, 'make': 3293, 'bad!': 3294, 'difficult': 3295, 'people.': 3296, 'concentrate': 3297, 'predict': 3298, 'aches': 3299, 'crossword': 3300, 'white-mouth': 3301, 'parakeets.': 3302, 'result': 3303, 'alone!': 3304, 'james?': 3305, 'happening?': 3306, 'authority': 3307, 'serve,': 3308, 'virtually': 3309, 'during!': 3310, 'shoes,': 3311, 'idiot,': 3312, 'living': 3313, 'pronouncing': 3314, 'leg': 3315, 'water': 3316, 'see,': 3317, 'added': 3318, 'there.': 3319, 'vital': 3320, 'gardening': 3321, 'smililng': 3322, 'west': 3323, 'probably!': 3324, 'painting?': 3325, '8:00': 3326, 'bathing': 3327, 'heavy': 3328, 'mean.': 3329, 'writing.': 3330, 'moroccans': 3331, 'wife': 3332, 'related': 3333, 'assistant': 3334, 'sister': 3335, 'meat?': 3336, 'coordinated': 3337, 'full-time': 3338, 'drums,': 3339, 'especially': 3340, 'practice': 3341, 'engineers': 3342, 'rugby': 3343, 'pool': 3344, 'ball': 3345, 'hell': 3346, 'holidays.': 3347, 'him': 3348, 'july': 3349, 'party?': 3350, 'avoid': 3351, 'burns!': 3352, 'paid': 3353, 'far!': 3354, 'ducks,': 3355, 'print': 3356, 'higher': 3357, 'mountains': 3358, 'cheers!': 3359, 'steps!': 3360, 'really?': 3361, 'mars': 3362, 'dream,': 3363, 'frequently': 3364, 'down?!': 3365, 'weeks.': 3366, 'bake': 3367, 'stamp': 3368, 'team!': 3369, 'sunning': 3370, 'tasted': 3371, 'dressed': 3372, 'without': 3373, 'huh?': 3374, 'legs,': 3375, 'figure': 3376, 'experimenting': 3377, 'pairs': 3378, 'eid': 3379, 'fascinating': 3380, \"driver's\": 3381, \"couldn't\": 3382, 'wait?': 3383, 'taste?': 3384, 'medicinal': 3385, 'common': 3386, 'top.': 3387, 'email': 3388, 'feel?': 3389, 'vegetables': 3390, 'disappearance': 3391, 'unavoidable,': 3392, 'difficult?': 3393, 'reliable?': 3394, 'deluded': 3395, 'bully': 3396, 'weeks?': 3397, 'started': 3398, 'straight.': 3399, 'beetroot?': 3400, 'sunsets.': 3401, 'parts': 3402, 'coat': 3403, 'aid': 3404, 'sure?': 3405, 'way.': 3406, 'snakes': 3407, 'thanks': 3408, 'himself,': 3409, 'flesh': 3410, 'nonsense': 3411, 'directions.': 3412, 'ouch!': 3413, 'cost?': 3414, 'mother,': 3415, 'another': 3416, 'couple': 3417, 'males.': 3418, 'facebook': 3419, 'crumbs': 3420, 'cousin,': 3421, 'calendar': 3422, \"goat's\": 3423, 'allowed?': 3424, 'defrost': 3425, 'phone.': 3426, 'there!': 3427, 'more.': 3428, 'whatsoever.': 3429, 'damn.': 3430, 'lie': 3431, 'neighbor': 3432, 'participate': 3433, 'peculiar': 3434, 'quantities?': 3435, 'other.': 3436, 'possibility': 3437, 'offer': 3438, 'intense!': 3439, 'case,': 3440, 'advice,': 3441, 'weekend.': 3442, 'consolation,': 3443, 'corner?': 3444, 'foreign': 3445, 'recipient': 3446, 'sunday': 3447, 'heading': 3448, 'miracle': 3449, 'smugglers': 3450, 'benefit?': 3451, 'kitchen?': 3452, 'driss': 3453, 'costume': 3454, 'knocking': 3455, 'edible': 3456, 'all?': 3457, 'pleasant': 3458, 'butter': 3459, 'perfect.': 3460, 'soothing': 3461, 'stressed,': 3462, 'pages': 3463, 'objective': 3464, 'living?': 3465, 'ahead,': 3466, 'rickshaw!': 3467, 'shy': 3468, 'mocking': 3469, 'bored,': 3470, 'wanted.': 3471, 'honest,': 3472, 'keeping': 3473, 'outta': 3474, 'live': 3475, 'professor': 3476, 'tourists?': 3477, 'great': 3478, 'clearly.': 3479, 'volume': 3480, 'celebrated': 3481, 'child?': 3482, 'shootout': 3483, 'expensive.': 3484, 'she?': 3485, 'neighbor.': 3486, 'cheap': 3487, 'happier': 3488, 'invited?': 3489, 'largest': 3490, 'hopefully,': 3491, 'sacred': 3492, 'already': 3493, 'introspective': 3494, 'hated': 3495, 'performance': 3496, 'questions.': 3497, 'thai': 3498, 'complexion,': 3499, 'wax': 3500, 'experience': 3501, 'bite': 3502, 'priorities': 3503, 'tripped!': 3504, 'stash': 3505, 'decide': 3506, 'traditions': 3507, 'to?': 3508, 'think!': 3509, 'loud,': 3510, 'open-minded,': 3511, 'ideas!': 3512, 'hero?': 3513, 'perfect': 3514, \"you're\": 3515, \"won't\": 3516, 'season': 3517, 'care': 3518, 'marshmallows': 3519, 'protects': 3520, 'brighter': 3521, 'rubbish': 3522, 'fancy': 3523, 'know!': 3524, 'hill.': 3525, 'definitely': 3526, 'dirham': 3527, 'what': 3528, \"don't\": 3529, 'hats.': 3530, 'm': 3531, 'infuriate': 3532, 'pizza...': 3533, 'autograph': 3534, 'doctors.': 3535, 'classmate': 3536, 'even': 3537, 'bedsheets': 3538, 'waiting': 3539, 'taxi?': 3540, 'entrance.': 3541, 'benefit': 3542, \"your're\": 3543, 'plate': 3544, 'journalist,': 3545, 'dark': 3546, 'adopting': 3547, 'money-grabber': 3548, 'flavour': 3549, 'awesome,': 3550, 'bell': 3551, 'moving.': 3552, 'statistically,': 3553, 'sells': 3554, 'eyebrows': 3555, 'feasts': 3556, 'allowed': 3557, 'messages': 3558, 'before,': 3559, 'living.': 3560, 'vegetation,': 3561, 'help': 3562, 'once': 3563, 'amina,': 3564, 'rabbit!': 3565, 'trading': 3566, 'daughters?': 3567, 'lithuanian?': 3568, 'school': 3569, 'sick': 3570, 'think?': 3571, 'problems': 3572, 'boss!': 3573, 'heads': 3574, 'account': 3575, 'mention,': 3576, 'safest': 3577, 'lay': 3578, 'wears': 3579, 'pigs': 3580, 'meter': 3581, 'crayons': 3582, 'manga': 3583, 'darling': 3584, 'traffic': 3585, 'faint': 3586, 'sorted': 3587, 'prayer': 3588, 'examined': 3589, 'pulling': 3590, 'attitude': 3591, 'ali': 3592, 'rules': 3593, 'experiences': 3594, 'kitchen': 3595, 'dominate': 3596, 'an': 3597, 'mint': 3598, 'provide': 3599, 'combine': 3600, 'finish': 3601, 'hurting': 3602, 'explanations': 3603, 'good?': 3604, 'underwater': 3605, 'meal,': 3606, 'remember': 3607, 'heron': 3608, 'america?': 3609, 'targets.': 3610, 'interupt': 3611, 'nice-looking': 3612, 'wi-fi?': 3613, 'woods?': 3614, 'thrilling': 3615, 'hammam': 3616, 'employees': 3617, 'office!': 3618, 'addicted': 3619, 'potatoes': 3620, 'somebody': 3621, 'worms': 3622, 'pie?': 3623, 'failure?': 3624, 'freedom.': 3625, 'bliss': 3626, 'book:': 3627, 'earthquake': 3628, \"weren't\": 3629, 'charity': 3630, 'read?': 3631, 'cake!': 3632, \"friend's\": 3633, 'door': 3634, 'most?': 3635, 'mansour': 3636, 'promote': 3637, 'possible.': 3638, 'representing': 3639, '12': 3640, 'braziil': 3641, 'our': 3642, 'fall': 3643, 'she': 3644, 'shells': 3645, 'monday': 3646, 'subjects': 3647, 'slowly': 3648, 'allows': 3649, 'breaks': 3650, 'sports': 3651, 'pouring': 3652, 'saved!': 3653, 'prophet': 3654, 'absent': 3655, 'worst,': 3656, 'mask': 3657, 'chamomile': 3658, 'viral': 3659, 'ihsan.': 3660, 'women': 3661, 'boredom': 3662, 'means': 3663, '!': 3664, 'seeking': 3665, 'injury': 3666, 'job': 3667, 'amazing!': 3668, 'realistic': 3669, 'passed': 3670, 'powers': 3671, 'matter': 3672, 'compare': 3673, 'resolve': 3674, 'durty': 3675, 'button': 3676, 'slices.': 3677, 'pizza,': 3678, 'co-worker': 3679, 'regularly?': 3680, 'socioeconomic': 3681, 'yeah,': 3682, 'sour': 3683, 'principles': 3684, 'house,': 3685, 'landed.': 3686, 'softly': 3687, 'smuggling': 3688, 'birthday,': 3689, 'looked': 3690, 'landscapes': 3691, 'opens': 3692, 'regular': 3693, 'hike': 3694, 'tone,': 3695, 'wet.': 3696, 'always': 3697, 'pretty,': 3698, 'time.': 3699, '30': 3700, 'froze': 3701, 'stubborn': 3702, 'inspire': 3703, 'socializing': 3704, 'hasna': 3705, 'extrovert': 3706, 'fun,': 3707, 'forgot.': 3708, 'caipirinha!': 3709, 'brother!': 3710, 'hypocrite?': 3711, 'café': 3712, '3liha': 3713, 'happen.': 3714, 'rides': 3715, 'moonlight': 3716, 'torch?': 3717, 'playground': 3718, 'sorcerers?': 3719, 'excellent': 3720, 'things!': 3721, 'merchant': 3722, 'sauce': 3723, 'dare': 3724, 'welcome.': 3725, 'bit.': 3726, 'snow,': 3727, 'by!': 3728, 'knows?': 3729, 'sugar?': 3730, 'slowly,': 3731, 'wrote': 3732, 'certainly,': 3733, 'essential': 3734, 'dood': 3735, 'full.': 3736, 'bartender': 3737, 'companion': 3738, 'birdsong,': 3739, 'garden': 3740, 'enough': 3741, 'courage,': 3742, 'joke': 3743, 'rent': 3744, 'alias,': 3745, 'crackers': 3746, \"o'clock\": 3747, 'pass,': 3748, 'negatives': 3749, 'fling': 3750, 'rustled': 3751, 'bed?': 3752, 'diving?': 3753, 'son': 3754, 'bottle': 3755, 'nice,': 3756, 'fresh': 3757, 'dear?': 3758, 'comment': 3759, 'rush': 3760, 'pure': 3761, 'meet?': 3762, 'swan.': 3763, 'portuguese': 3764, 'performance?': 3765, 'toes': 3766, 'hill': 3767, 'desserts,': 3768, 'careful': 3769, 'tea!': 3770, 'icecream?': 3771, 'nice.': 3772, 'shenanigans': 3773, 'executed': 3774, 'thursday': 3775, 'saying?': 3776, 'magret,': 3777, 'bank': 3778, 'uh,': 3779, 'mine.': 3780, 'harbor': 3781, 'sink.': 3782, 'god!': 3783, 'plane.': 3784, 'welcome': 3785, 'designed': 3786, 'important,': 3787, 'buying': 3788, 'hungry,': 3789, 'wept': 3790, 'crisps': 3791, 'way?': 3792, 'pool,': 3793, 'perform': 3794, 'seminars': 3795, 'complain': 3796, 'suspicious': 3797, 'cat!': 3798, 'lamia.': 3799, 'wanting': 3800, 'gosh!': 3801, 'wonderful!': 3802, 'sibllings': 3803, 'day?': 3804, 'aperitif': 3805, 'morning': 3806, \"wouldn't\": 3807, 'mustache': 3808, 'specials?': 3809, 'booked': 3810, 'snack': 3811, 'forrest': 3812, 'migrations': 3813, 'public': 3814, 'gloves': 3815, 'know': 3816, 'stress,': 3817, 'barbecue': 3818, 'why!': 3819, 'alert': 3820, \"i'd\": 3821, 'shirt': 3822, 'itch': 3823, 'humor': 3824, 'counsellor': 3825, 'putting': 3826, 'moves': 3827, 'ground': 3828, 'correct,': 3829, 'cook,': 3830, 'city.': 3831, 'yourself': 3832, 'dead': 3833, 'everywhere': 3834, 'carrying': 3835, 'efficiently': 3836, 'voices': 3837, 'says': 3838, '9:00': 3839, 'riding': 3840, 'arrive.': 3841, 'colder': 3842, 'control': 3843, 'spills': 3844, 'prevent': 3845, 'search': 3846, 'rocks.': 3847, 'left': 3848, 'humble': 3849, 'effect': 3850, 'intellectually': 3851, 'landscape': 3852, 'increased?': 3853, 'reception.': 3854, 'deseve': 3855, 'gave': 3856, 'gum!': 3857, 'panic': 3858, 'engineer?': 3859, 'antiquated.': 3860, 'floating': 3861, 'fired!': 3862, 'inform': 3863, 'tactics': 3864, 'sauce!': 3865, 'boring.': 3866, 'store': 3867, 'around': 3868, 'daughter': 3869, 'papers': 3870, 'confident': 3871, 'stars': 3872, 'ask?': 3873, 'feathers': 3874, 'peas': 3875, 'poisoned!': 3876, 'classroom': 3877, 'kenitra': 3878, 'same?': 3879, 'comtemporary': 3880, 'dear,': 3881, \"son's\": 3882, 'pandas': 3883, '100': 3884, 'happiest': 3885, 'milk-free': 3886, 'student': 3887, 'store?': 3888, 'swift': 3889, 'freeze': 3890, 'discreet': 3891, 'allowing': 3892, 'insights': 3893, 'thermos': 3894, 'meters.': 3895, 'soon?': 3896, 'afterwards!': 3897, \"i's\": 3898, 'old': 3899, 'turbulence': 3900, 'ski': 3901, 'leader': 3902, 'treat': 3903, 'brilliant.': 3904, 'strawberries,': 3905, 'dogs.': 3906, 'rabat': 3907, 'venice': 3908, 'performances?': 3909, 'pan': 3910, 'bride': 3911, 'normally': 3912, 'know?': 3913, 'secret!': 3914, 'works,': 3915, 'mineral': 3916, 'shift': 3917, 'understand.': 3918, 'kidding': 3919, 'helps!': 3920, 'watch?': 3921, 'pie': 3922, 'piece': 3923, 'deal,': 3924, 'patch': 3925, 'teleport': 3926, 'away,': 3927, 'technology': 3928, 'compliments': 3929, 'mustaches': 3930, 'fee': 3931, 'going?': 3932, 'principle': 3933, 'experience?': 3934, 'steps': 3935, 'what!': 3936, 'controversial': 3937, 'lent': 3938, 'sure.': 3939, 'fragile': 3940, 'enthusiasm': 3941, 'stray': 3942, 'arrive!': 3943, 'substitute': 3944, 'smart': 3945, 'girlfriend?': 3946, 'off...': 3947, 'turbulence?': 3948, 'together': 3949, 'tip': 3950, 'twice': 3951, 'earth': 3952, 'moha': 3953, 'movies': 3954, 'rest.': 3955, 'break': 3956, 'sofa': 3957, 'show': 3958, 'whatever!': 3959, 'to.': 3960, 'karaoke': 3961, 'disturb': 3962, 'plaisir': 3963, 'would': 3964, 'lanka': 3965, 'goals': 3966, 'original': 3967, 'smoke?': 3968, 'tickled': 3969, 'injured!': 3970, 'awfully': 3971, 'rollercoaster': 3972, \"couldn't.\": 3973, 'existence': 3974, 'laundry?': 3975, 'morocco.': 3976, 'clothes?': 3977, 'dirt': 3978, 'ancient': 3979, 'besides,': 3980, 'caring': 3981, 'abroad': 3982, 'glee': 3983, 'digestion!': 3984, 'aisle': 3985, 'informative': 3986, 'class': 3987, 'farm': 3988, 'taken?': 3989, 'force': 3990, 'ducklings': 3991, 'picture': 3992, 'greatly': 3993, 'tagine,': 3994, 'embarrass': 3995, 'immediately': 3996, 'patience...': 3997, 'back?': 3998, 'apartment!': 3999, 'styles!': 4000, 'cleanser': 4001, 'laarbi': 4002, 'ease': 4003, 'maintained': 4004, 'basics!': 4005, 'want': 4006, 'discreetly': 4007, 'married?': 4008, 'animals?': 4009, 'games': 4010, 'bit?': 4011, 'watching': 4012, \"there's\": 4013, 'vulnerable': 4014, 'card': 4015, 'pencil': 4016, 'tend': 4017, 'baked': 4018, 'why,': 4019, 'prepared': 4020, 'bravest': 4021, 'keen': 4022, 'curtains': 4023, 'contribute': 4024, 'hug': 4025, 'bitter': 4026, 'ice?': 4027, 'preferred': 4028, 'maybe': 4029, 'plain': 4030, 'mother.': 4031, 'cause': 4032, 'played': 4033, 'generations?': 4034, 'distraction': 4035, 'generally': 4036, 'human': 4037, 'used?': 4038, 'wedding': 4039, 'big!': 4040, 'extra': 4041, 'spends': 4042, 'excursion': 4043, 'fetna,': 4044, 'kick?': 4045, 'learn': 4046, 'bread?': 4047, 'pies': 4048, 'solve': 4049, 'cover': 4050, 'take?': 4051, 'chefchaouen': 4052, 'trap': 4053, 'irrepressible': 4054, 'holiday?': 4055, 'guitar.': 4056, 'player': 4057, 'way!': 4058, 'mosque?': 4059, 'unemployed': 4060, 'levels': 4061, 'working.': 4062, 'condition?': 4063, 'croissants': 4064, 'practicing': 4065, 'shady': 4066, 'program.': 4067, 'nature?': 4068, 'surprised': 4069, 'reservations': 4070, 'eyes.': 4071, 'pint?': 4072, 'snack?': 4073, 'premature': 4074, 'assistance': 4075, 'tradition': 4076, 'questions...': 4077, 'job?': 4078, 'april': 4079, 'father': 4080, 'perfume': 4081, 'burgers': 4082, 'inappropriate': 4083, 'position.': 4084, 'each': 4085, 'team?': 4086, 'passed,': 4087, 'likelihood': 4088, 'flawed': 4089, 'turn': 4090, 'pirates.': 4091, 'watermelons': 4092, 'punish': 4093, 'balloon': 4094, 'cuts': 4095, 'move': 4096, 'obesity': 4097, 'while?': 4098, 'found': 4099, 'impressive': 4100, '\"pause\"': 4101, 'hospital?': 4102, 'suffice': 4103, 'ukrain?': 4104, 'theater': 4105, 'single': 4106, 'smartest': 4107, 'australia,': 4108, 'woods': 4109, 'cheeky': 4110, 'tailor': 4111, 'chain': 4112, 'on,': 4113, 'stingy': 4114, 'mango': 4115, 'electronic': 4116, 'messy': 4117, 'rightful': 4118, 'cloves': 4119, \"1980's\": 4120, 'uncomfortable.': 4121, 'else?': 4122, 'james': 4123, 'benefits': 4124, 'event?': 4125, 'now,': 4126, 'repeat': 4127, 'outside?': 4128, 'lucky': 4129, 'write,': 4130, 'whatsoever': 4131, 'according': 4132, 'interpreter?': 4133, 'either': 4134, 'men': 4135, 'made?': 4136, \"they've\": 4137, 'thesis.': 4138, 'naughty': 4139, 'joyfully': 4140, 'films': 4141, 'puts': 4142, 'recipe,': 4143, 'sunbath': 4144, 'food?': 4145, 'argument.': 4146, 'accessible': 4147, 'karate': 4148, 'fears': 4149, 'mention': 4150, 'rest,': 4151, 'condolences': 4152, 'five': 4153, 'courteous': 4154, 'horrible?': 4155, 'nails': 4156, 'burn.': 4157, 'bound': 4158, 'revealed': 4159, 'shoes': 4160, 'seminar': 4161, 'carrots,': 4162, 'go': 4163, 'stewardess': 4164, 'breaking': 4165, 'later?': 4166, 'new?': 4167, 'truthful...': 4168, 'fun?': 4169, 'forest?': 4170, 'hers.': 4171, 'soon': 4172, 'balloon?': 4173, 'time!': 4174, 'mine!': 4175, 'wonder': 4176, '1': 4177, 'frown': 4178, 'sun.': 4179, 'study': 4180, 'lyoussfi': 4181, 'more?': 4182, 'special,': 4183, 'balloons,': 4184, 'small': 4185, 'local?': 4186, 'inevitable': 4187, 'voted': 4188, 'tier': 4189, 'moment,': 4190, 'advice': 4191, 'khounifra?': 4192, 'drunk,': 4193, 'hanging': 4194, 'allergic': 4195, 'symphony': 4196, 'coping': 4197, 'wrong.': 4198, 'long!': 4199, 'sight': 4200, 'work!': 4201, 'signal': 4202, 'besides': 4203, 'lessons': 4204, 'councilman,': 4205, \"how's\": 4206, 'relieved?': 4207, 'attend.': 4208, 'accompaniaments': 4209, 'north?': 4210, 'cold,': 4211, 'historical': 4212, 'asleep': 4213, 'um...': 4214, '50.': 4215, 'puzzles?': 4216, 'outside': 4217, 'maintain': 4218, 'mixed': 4219, 'afternoon!': 4220, 'her': 4221, 'full!': 4222, 'nearby?': 4223, 'makes': 4224, 'takeoff': 4225, 'politics': 4226, 'program': 4227, 'terrified': 4228, 'strict,': 4229, 'medication': 4230, 'medecine': 4231, 'treatment': 4232, 'celebrity?': 4233, 'toppings?': 4234, 'congratulations': 4235, 'lottery,': 4236, 'myself.': 4237, 'catching': 4238, 'gamble': 4239, 'employee': 4240, 'window?': 4241, '15.': 4242, 'afford': 4243, 'again,': 4244, 'her!': 4245, 'suppose...': 4246, 'aided': 4247, 'suspended': 4248, 'others': 4249, 'handsome': 4250, 'say!': 4251, 'original!': 4252, 'issues': 4253, 'hypocrisy': 4254, 'happens': 4255, 'area': 4256, 'leon': 4257, 'must': 4258, \"he's\": 4259, 'aspiring': 4260, \"loubna's\": 4261, 'drop,the': 4262, 'stores': 4263, 'worry!': 4264, 'sword,': 4265, 'utensils': 4266, 'seaweed': 4267, 'dollars': 4268, 'media': 4269, 'fixing': 4270, 'smiling': 4271, 'comfort': 4272, 'potatoes?': 4273, 'struggling': 4274, 'internet': 4275, 'tennis?': 4276, 'glassworks,': 4277, 'quick-witted': 4278, 'tail': 4279, 'closer': 4280, 'tv?': 4281, 'coming': 4282, 'peanuts': 4283, 'joking': 4284, 'children': 4285, 'beat': 4286, 'club?': 4287, 'africa': 4288, 'atlantic': 4289, 'disease': 4290, 'grumpy': 4291, 'member!': 4292, 'easy,': 4293, 'fish?': 4294, 'cappuccio?': 4295, 'tom': 4296, 'chantilly': 4297, 'hurry,': 4298, 'exciting!': 4299, 'randomly': 4300, 'particularly': 4301, 'movies,': 4302, 'limits': 4303, 'check-up': 4304, 'take-off?': 4305, 'stupid.': 4306, 'reality': 4307, 'cocktail.': 4308, 'cheered': 4309, 'personally,': 4310, 'museum': 4311, 'i?': 4312, 'sides': 4313, 'speech': 4314, 'pass': 4315, 'boss...': 4316, 'fishermen': 4317, \"it's\": 4318, 'choice': 4319, 'properly.': 4320, 'billion': 4321, \"math's\": 4322, 'subject': 4323, 'dolphins': 4324, 'dodgy': 4325, 'you': 4326, 'restaurant': 4327, 'fashion': 4328, 'course,': 4329, 'bear': 4330, 'same.': 4331, 'driving': 4332, 'letters,': 4333, 'apologies': 4334, 'government': 4335, 'stomachs': 4336, 'lost': 4337, 'dark?': 4338, 'park?': 4339, 'stay,': 4340, \"let's\": 4341, 'manager': 4342, 'arm': 4343, 'hisbike': 4344, 'choose.': 4345, 'sit': 4346, 'fish': 4347, 'stadium': 4348, 'thorough': 4349, 'truth': 4350, 'concidence!': 4351, 'example?': 4352, 'immigrate': 4353, 'thought': 4354, 'bus?': 4355, 'land?': 4356, 'toasted': 4357, 'criminals': 4358, 'age.': 4359, 'characters.': 4360, 'goodbye!': 4361, 'natural': 4362, 'hi!': 4363, 'thanks,': 4364, 'smile,': 4365, 'lives': 4366, 'abroad!': 4367, 'contradiction': 4368, 'quote': 4369, 'lately.': 4370, \"they'd\": 4371, 'fire': 4372, 'millions': 4373, 'kitted': 4374, 'flies': 4375, 'direction?': 4376, 'cupboard': 4377, 'gentle': 4378, 'milk?': 4379, 'none': 4380, 'sympathetic': 4381, 'sizes': 4382, 'laze': 4383, 'me!': 4384, 'refrigerator': 4385, 'experimental': 4386, 'alone.': 4387, 'her.': 4388, 'burn': 4389, 'shake': 4390, 'short': 4391, 'stir': 4392, 'heartwarming,': 4393, 'anymore': 4394, 'presentation': 4395, 'bottles': 4396, 'name': 4397, 'thing!': 4398, 'nerves.': 4399, 'backup': 4400, 'bar,': 4401, 'directly': 4402, 'various': 4403, 'enjoy?': 4404, 'full': 4405, 'hot...': 4406, 'sleeping.': 4407, 'constantly': 4408, 'luggage?': 4409, 'multiplication': 4410, 'heels': 4411, \"you'e\": 4412, 'pervert': 4413, 'fast': 4414, 'lights?': 4415, 'th': 4416, 'pot': 4417, 'knitting': 4418, 'precisely': 4419, 'below': 4420, 'likes': 4421, 'brandy.': 4422, 'argue': 4423, 'napkin?': 4424, 'fulfilling': 4425, 'world': 4426, 'bags!': 4427, 'mrs': 4428, 'previous': 4429, 'naughty,': 4430, 'bike': 4431, 'most': 4432, 'greeted': 4433, 'white': 4434, 'groom?': 4435, 'witnessed': 4436, 'stuck': 4437, 'bald': 4438, 'department,': 4439, 'fois': 4440, 'unexpected': 4441, 'recommened': 4442, 'crucial': 4443, 'fake': 4444, 'plans': 4445, 'village': 4446, 'food!': 4447, 'magic': 4448, 'secretly': 4449, 'raining': 4450, 'done?': 4451, 'apprentice': 4452, 'cuisine': 4453, 'bed.': 4454, 'round': 4455, 'lot,': 4456, 'suitable?': 4457, 'morse': 4458, 'golden': 4459, 'barked': 4460, 'couscous?': 4461, 'lovers': 4462, 'marriage': 4463, 'wasting': 4464, 'depressive!': 4465, 'doing??': 4466, 'best.': 4467, 'my': 4468, 'day': 4469, 'brands': 4470, 'money,': 4471, 'sizes?': 4472, 'caipirinha,': 4473, 'pregnant': 4474, 'ball?': 4475, 'receiving?': 4476, 'when?': 4477, 'ducks!': 4478, 'morocco': 4479, 'plan': 4480, 'high-horse': 4481, 'quick!': 4482, 'cry': 4483, 'me?': 4484, 'paying': 4485, 'craving': 4486, \"can't\": 4487, 'binder': 4488, 'corn': 4489, 'eveything?': 4490, 'mosquitos.': 4491, 'friend.': 4492, 'depressed,': 4493, 'suggest?': 4494, 'aggressive.': 4495, 'improves': 4496, 'stuff,': 4497, 'died': 4498, 'print.': 4499, 'rise': 4500, 'confidence': 4501, 'jameson?': 4502, 'solution': 4503, 'impact': 4504, 'freckles': 4505, 'honoured': 4506, 'laps.': 4507, 'planning.': 4508, 'everybody!': 4509, 'mustache?!': 4510, 'based': 4511, 'atm?': 4512, 'oh?': 4513, 'preferences': 4514, 'recipes.': 4515, 'steaks': 4516, 'mind,': 4517, 'justified.': 4518, 'account?': 4519, 'stop?': 4520, 'infinite': 4521, 'inhabit': 4522, 'promotes': 4523, 'stunning': 4524, 'ear': 4525, 'members': 4526, 'profound': 4527, 'hired!': 4528, 'sentence': 4529, 'instance': 4530, 'history': 4531, 'bad.': 4532, 'island,': 4533, 'sunglasses': 4534, 'inner': 4535, 'adhere': 4536, 'artificial': 4537, 'report': 4538, 'suggested,': 4539, 'sunny': 4540, 'groups': 4541, 'favorites?': 4542, 'project': 4543, 'trauma': 4544, 'bones': 4545, 'blankets': 4546, 'brilliant!': 4547, 'bon': 4548, 'van': 4549, 'promotions?': 4550, 'fit?': 4551, 'homes': 4552, 'missed': 4553, 'swing?': 4554, 'suggest': 4555, 'manager?': 4556, 'okey?': 4557, 'confidence?': 4558, 'time...': 4559, 'diamonds!': 4560, 'already?': 4561, 'indonesian': 4562, 'salary?': 4563, 'uo': 4564, 'definition.': 4565, 'spaghetti': 4566, 'consequences': 4567, 'tracksuit': 4568, 'try': 4569, 'forehead': 4570, 'kidding?': 4571, 'fade': 4572, 'clothing': 4573, 'setting': 4574, 'drunks,': 4575, 'costumes!': 4576, 'theme,': 4577, 'renovating': 4578, 'aquarium': 4579, 'rachid': 4580, 'flight': 4581, 'winners': 4582, 'joining': 4583, 'operator.': 4584, 'chirashi?': 4585, 'seafood': 4586, 'prized': 4587, 'really': 4588, 'cyclist?': 4589, 'happy?': 4590, 'salaries!': 4591, 'basketball': 4592, 'cigarettes.': 4593, 'prefer,': 4594, 'fries': 4595, 'cozy': 4596, 'hairless': 4597, 'ocean': 4598, \"leg's\": 4599, 'main': 4600, 'satisfactory': 4601, 'writing': 4602, 'against': 4603, 'driven': 4604, 'incomprehensible': 4605, 'ones': 4606, 'changes': 4607, 'wow': 4608, \"coudn't\": 4609, 'that...?': 4610, 'recommend': 4611, 'costly': 4612, 'theatre.': 4613, 'spitting': 4614, 'supermarket': 4615, 'patient.': 4616, 'sunsets': 4617, 'think...': 4618, 'contribution': 4619, 'confined': 4620, 'scotland': 4621, 'burnt': 4622, 'era?': 4623, 'value': 4624, 'cows': 4625, 'precision.': 4626, 'queen': 4627, 'tricks': 4628, 'game,': 4629, 'internship.': 4630, 'wise': 4631, 'the': 4632, 'worried': 4633, 'patient': 4634, 'lanes': 4635, 'country.': 4636, 'kilo': 4637, 'cats!': 4638, 'passport': 4639, 'megaphone': 4640, 'scared.': 4641, 'racquets': 4642, 'ah': 4643, 'non': 4644, 'life?': 4645, 'start': 4646, 'draw,': 4647, 'biology': 4648, 'wish.': 4649, 'shopping?': 4650, 'growing': 4651, 'ahead.': 4652, '2000': 4653, 'stop!': 4654, 'co-workers': 4655, 'serene': 4656, 'democracy': 4657, 'im': 4658, 'delays,': 4659, 'so?': 4660, 'yesterday!': 4661, 'outdoors': 4662, 'torch': 4663, 'yawned': 4664, 'otherwise,': 4665, 'closet': 4666, 'dangerous': 4667, 'desserts.': 4668, 'used': 4669, 'was,': 4670, 'but,': 4671, 'princess': 4672, 'snowing': 4673, 'busker,': 4674, 'mr.': 4675, 'alone?': 4676, 'skip': 4677, '260': 4678, 'remember...': 4679, 'lonely': 4680, 'you...': 4681, 'nightmare.': 4682, 'turkey': 4683, 'songs': 4684, 'majestic': 4685, 'supplies': 4686, 'bottle!': 4687, 'old.': 4688, 'days?': 4689, 'ache': 4690, 'envy': 4691, 'exam?': 4692, \"you'\": 4693, 'museums?': 4694, 'sandcastles': 4695, 'last': 4696, 'frozen': 4697, 'garden?': 4698, 'fire!': 4699, 'melted': 4700, 'seems': 4701, 'coated': 4702, 'onions?': 4703, \"'send'\": 4704, 'fails': 4705, 'typing': 4706, 'further,': 4707, 'them...': 4708, 'light,': 4709, 'knight': 4710, 'twisted': 4711, \"where's\": 4712, 'novels': 4713, 'does': 4714, 'ugh': 4715, 'accordion,': 4716, 'zero': 4717, 'naive?': 4718, 'intellectual': 4719, 'see!': 4720, 'tree': 4721, 'thet': 4722, 'undergoing': 4723, \"wasn't\": 4724, 'dropped': 4725, 'friend?': 4726, 'celery,': 4727, 'mountains?': 4728, 'caviar,': 4729, 'battery': 4730, 'did': 4731, 'while': 4732, 'week': 4733, 'however,': 4734, 'text': 4735, \"eyes'\": 4736, \"didn't\": 4737, 'alarm': 4738, 'insulted': 4739, 'die': 4740, 'sister,': 4741, 'cliver': 4742, 'sure': 4743, 'diet': 4744, 'oils': 4745, 'yoga': 4746, 'throught': 4747, 'vosges.': 4748, 'liking': 4749, 'stink': 4750, 'anyone?': 4751, 'gives': 4752, 'side?': 4753, 'perfectly': 4754, 'decreased': 4755, 'disappear': 4756, 'ill': 4757, 'results': 4758, 'starving': 4759, 'hatch': 4760, 'bread': 4761, 'beer.': 4762, 'fixtures': 4763, 'damn': 4764, 'dream': 4765, 'forecast': 4766, 'imam': 4767, 'umbrella': 4768, 'jamila': 4769, 'contain': 4770, 'splendid.': 4771, 'anything': 4772, 'chose': 4773, 'salt!': 4774, 'outdated,': 4775, 'explain?': 4776, 'chickens?': 4777, 'handle': 4778, 'bus': 4779, 'teachers': 4780, 'computer': 4781, 'landmarks,': 4782, 'bless': 4783, 'decolation?': 4784, 'lyrics': 4785, 'later,': 4786, 'ideas,': 4787, 'hat?': 4788, 'amongst': 4789, \"country's\": 4790, \"she's\": 4791, 'since': 4792, 'blaming': 4793, 'notice': 4794, 'sounded': 4795, 'responsibly.': 4796, 'trees...?': 4797, 'fantastic': 4798, 'safety;': 4799, 'help?': 4800, 'selfishness.': 4801, 'bicycle': 4802, 'bedroom': 4803, 'third': 4804, 'mercy': 4805, 'hurt?': 4806, 'features': 4807, 'them!': 4808, 'rachid...': 4809, 'commercialised': 4810, 'cheese?': 4811, 'evenings?': 4812, 'disgrace.': 4813, 'landing.': 4814, 'bye!': 4815, 'documentory': 4816, 'overwhelming': 4817, 'entire': 4818, 'relief!': 4819, 'exchange': 4820, 'listen': 4821, 'held': 4822, 'elevator': 4823, 'longer': 4824, 'earrings': 4825, 'takes': 4826, 'old!': 4827, 'is.': 4828, 'france': 4829, 'sea': 4830, 'drunk': 4831, 'prophets': 4832, 'friends?': 4833, 'or,': 4834, 'quicker': 4835, 'week,': 4836, 'sometimes': 4837, 'popular?': 4838, 'cotton': 4839, 'decorations': 4840, 'life.': 4841, 'gas': 4842, 'everyone?': 4843, 'reads': 4844, 'attempting': 4845, 'walk,': 4846, 'talk': 4847, 'meantime,': 4848, 'impression': 4849, 'days': 4850, 'existentialist': 4851, 'wonders': 4852, 'staring': 4853, 'humour,': 4854, 'hourly': 4855, 'well.': 4856, 'butterfly': 4857, 'fouad,': 4858, 'rice': 4859, 'spain': 4860, 'tents.': 4861, 'light.': 4862, 'dyed': 4863, 'sweet': 4864, 'cheaper': 4865, 'opera': 4866, 'airport?': 4867, 'selection': 4868, 'this': 4869, 'wine?': 4870, 'foods': 4871, 'today...': 4872, 'greedy,': 4873, 'city,': 4874, 'wall,': 4875, 'patient,': 4876, 'purchase?': 4877, 'suspicions': 4878, 'encourage': 4879, 'falling': 4880, 'served': 4881, 'sick,': 4882, 'honest': 4883, 'stand': 4884, 'koutoubia?': 4885, 'guitar!': 4886, 'going.': 4887, 'appraisal!': 4888, 'consultation': 4889, 'cards': 4890, 'damn,': 4891, 'phone?': 4892, 'kept': 4893, 'chosen': 4894, 'beautiful,': 4895, 'principles,': 4896, 'spare': 4897, 'fetched': 4898, 'still': 4899, 'grace': 4900, \"about--i'm\": 4901, 'except': 4902, 'forever': 4903, 'sang': 4904, 'problem': 4905, 'mona...': 4906, 'silly,': 4907, 'smelly': 4908, 'decision?': 4909, 'timely': 4910, 'catastrophe': 4911, 'some?': 4912, 'innovative': 4913, 'crashed': 4914, 'starved,': 4915, 'anytime': 4916, 'recipes': 4917, 'best?': 4918, 'exercising': 4919, 'adjustments': 4920, 'account,': 4921, 'drains': 4922, 'about.': 4923, 'us!': 4924, 'flying': 4925, 'absolutely.': 4926, 'ruler': 4927, 'smart...': 4928, 'is?': 4929, 'stable': 4930, 'computer,': 4931, 'cent': 4932, 'digest': 4933, 'argan': 4934, 'tiger': 4935, 'dessert,': 4936, 'casa': 4937, 'alone,': 4938, 'thin': 4939, 'often!': 4940, 'communicate': 4941, 'sign.': 4942, 'abuse': 4943, 'tone': 4944, 'sewing': 4945, 'grade,': 4946, 'looks': 4947, 'answers': 4948, 'power,': 4949, 'check': 4950, 'huff': 4951, 'connected': 4952, 'sorry!': 4953, 'skiny': 4954, 'may': 4955, 'adventure?': 4956, 'inconvenience': 4957, 'ooh,': 4958, 'fatima,': 4959, 'nicer': 4960, 'gossip': 4961, 'trusted': 4962, 'bathrooms': 4963, 'weather': 4964, 'marinate': 4965, 'rome': 4966, 'cat': 4967, 'tigers': 4968, 'certain': 4969, 'furniture': 4970, 'jam': 4971, 'sliding': 4972, 'kind,': 4973, 'promotions': 4974, 'level': 4975, 'fellow': 4976, 'his': 4977, 'ancestors?': 4978, 'out!': 4979, 'loud?': 4980, 'disappointed': 4981, 'ingredients': 4982, \"should've\": 4983, 'tanned': 4984, 'basket.': 4985, 'nearby,': 4986, 'teenager': 4987, 'overall': 4988, 'drugs': 4989, 'ornithologist': 4990, 'ocassionally': 4991, 'slippery,': 4992, 'affects': 4993, 'cares.': 4994, 'meat!': 4995, 'do': 4996, 'casserole': 4997, 'trips?': 4998, 'shaped': 4999, 'worries.': 5000, 'wednesday': 5001, 'failing': 5002, 'sites': 5003, 'replace': 5004, 'traumatised?': 5005, 'in.': 5006, 'beer?': 5007, 'and,': 5008, 'unchanged': 5009, 'playlist': 5010, 'planning': 5011, 'picnic': 5012, 'convinced': 5013, 'crappy': 5014, 'end': 5015, 'orchestra': 5016, 'pants?': 5017, 'google': 5018, 'details': 5019, 'occurring': 5020, 'elders': 5021, 'classic': 5022, 'round-point': 5023, 'dislike?': 5024, 'here,': 5025, 'boring': 5026, 'diarrhea': 5027, 'cheer': 5028, 'suggestion.': 5029, 'sniffed': 5030, 'pirates?': 5031, 'me...': 5032, 'we': 5033, 'longest': 5034, 'anywhere!': 5035, 'ovens': 5036, 'house!': 5037, 'hole': 5038, 'road': 5039, 'sweet,': 5040, 'snowed': 5041, 'gold': 5042, 'son!': 5043, 'choose': 5044, 'bottom': 5045, 'crossroads': 5046, 'flattery': 5047, 'bodies,': 5048, 'ingredient': 5049, 'varied': 5050, 'next,': 5051, 'ludicrous!': 5052, 'policeman': 5053, 'establishment': 5054, 'over?': 5055, 'room!': 5056, 'everything.': 5057, 'finishing': 5058, 'crying': 5059, 'colonialism': 5060, 'paragraph?': 5061, 'down': 5062, 'raw?': 5063, 'terrible!': 5064, 'cliff': 5065, 'market': 5066, 'vincent': 5067, 'tired.': 5068, 'comics.': 5069, 'heart': 5070, 'soon!': 5071, 'research': 5072, 'young': 5073, \"crowd's\": 5074, 'bold': 5075, 'visited': 5076, 'behind': 5077, 'adventure': 5078, 'hhmmmn,': 5079, 'apart': 5080, 'succeful': 5081, 'doing!': 5082, 'plastic': 5083, 'guest': 5084, 'celebrity': 5085, 'steamed': 5086, 'ourselves': 5087, 'drinks,': 5088, 'enough.': 5089, 'seasoning': 5090, 'plates,': 5091, 'fork.': 5092, 'out.': 5093, 'least': 5094, 'meanwhile': 5095, 'creepers': 5096, 'game.': 5097, 'pity': 5098, 'accent': 5099, 'poolside': 5100, 'religion': 5101, 'gastric': 5102, 'batteries?': 5103, 'land': 5104, 'bunch': 5105, 'moment': 5106, 'direction.': 5107, 'wow!': 5108, 'frankly,and': 5109, 'projects': 5110, 'faster': 5111, 'meticulous': 5112, 'candle': 5113, 'singing?': 5114, 'bastard!': 5115, 'coconut': 5116, 'safe!': 5117, 'lithuanian,': 5118, 'sickens': 5119, 'socio-economic': 5120, 'chicken?': 5121, 'potatoes.': 5122, 'creates': 5123, 'map,': 5124, 'stood': 5125, 'saves': 5126, 'tagine': 5127, 'drop': 5128, 'nosy': 5129, 'cheeks': 5130, 'site': 5131, 'sent': 5132, 'yet?': 5133, 'jump!': 5134, 'exihibition': 5135, 'long': 5136, 'wife?': 5137, 'crazy!': 5138, 'emoji': 5139, 'true.': 5140, 'principal': 5141, 'compass': 5142, 'matches': 5143, 'discipline': 5144, 'shouting?': 5145, 'blender?': 5146, \"who's\": 5147, 'costs?': 5148, 'this.': 5149, 'juice': 5150, 'mohamed': 5151, 'infatuated': 5152, 'space.': 5153, 'jump': 5154, 'evening': 5155, 'income': 5156, 'random': 5157, 'moments': 5158, 'chiken,': 5159, 'lemon,': 5160, 'moroccan?': 5161, 'islamic': 5162, 'taller': 5163, 'attended': 5164, 'nursing': 5165, 'slippers': 5166, 'folded': 5167, 'croissant': 5168, \"he'd\": 5169, 'inside,': 5170, 'tenis?': 5171, 'latest': 5172, 'pleasure,': 5173, 'accidents': 5174, '96': 5175, 'irritable': 5176, 'taste': 5177, 'kind.': 5178, 'receipt?': 5179, 'type?': 5180, 'cap': 5181, 'persist': 5182, 'own': 5183, 'flying!': 5184, 'implying?': 5185, 'crossed.': 5186, 'down,': 5187, 'character': 5188, 'appétit,': 5189, 'emergency': 5190, 'font': 5191, 'really,': 5192, 'data!': 5193, 'cakes': 5194, 'minds': 5195, 'danger': 5196, 'pieces': 5197, 'slipped': 5198, 'some': 5199, 'contacted': 5200, 'clock': 5201, 'comic': 5202, 'strategy': 5203, 'cranberry': 5204, 'was': 5205, 'prove': 5206, 'videos': 5207, 'translator': 5208, 'day,': 5209, 'essay?': 5210, 'drops': 5211, '2nd': 5212, 'teasing': 5213, 'head,': 5214, 'belt?': 5215, 'magician': 5216, 'aspect': 5217, 'there': 5218, 'lunch...': 5219, 'archibald': 5220, 'pollution': 5221, 't': 5222, 'attacking': 5223, 'recover': 5224, 'dim': 5225, 'her,': 5226, 'sake,': 5227, 'patience': 5228, 'abdallah': 5229, 'advise': 5230, 'child,': 5231, 'stank': 5232, 'tradition?': 5233, 'aggression?': 5234, 'potential': 5235, 'chicken': 5236, 'problem,': 5237, 'keys': 5238, 'emma?': 5239, 'crown!': 5240, 'points': 5241, 'less': 5242, 'honeymoon': 5243, 'fields': 5244, 'sleep.': 5245, 'guy': 5246, 'lion.': 5247, 'hello!': 5248, 'creative': 5249, 'dancing?': 5250, 'shaking?': 5251, 'too': 5252, 'atmosphere': 5253, 'goodbye,': 5254, 'no': 5255, 'spend': 5256, 'songs.': 5257, 'unionised': 5258, 'sightseeing!': 5259, 'adult': 5260, 'civilizations?': 5261, '...steak': 5262, 'polluting?': 5263, 'cameraman': 5264, \"chihab's\": 5265, 'situations?': 5266, 'adventures?': 5267, 'diver': 5268, 'balcony': 5269, 'deadlines,': 5270, 'planting': 5271, 'feeling': 5272, 'greatest': 5273, 'los': 5274, 'dish': 5275, 'back.': 5276, 'documents...': 5277, 'agadir': 5278, 'opponents?': 5279, 'yellow': 5280, 'relationships': 5281, 'hobby?': 5282, 'peaceful': 5283, 'sundays': 5284, 'refreshed': 5285, 'korean': 5286, 'nap': 5287, 'sunbed': 5288, 'airline': 5289, 'tam,': 5290, 'sinks': 5291, 'p.m.': 5292, 'camera': 5293, 'during': 5294, 'yes!': 5295, 'lebanon': 5296, 'returned': 5297, 'kind': 5298, 'impressed.': 5299, 'spells': 5300, 'backbiting': 5301, 'materiels': 5302, 'friend,': 5303, 'eyes': 5304, 'thank': 5305, 'rid': 5306, 'moment.': 5307, 'uncomfortable': 5308, 'neighborhoods': 5309, 'day!!': 5310, 'in....': 5311, 'sheap': 5312, 'careful.': 5313, 'art?': 5314, \"emma's\": 5315, 'interested': 5316, 'fair!': 5317, 'surplus': 5318, 'hard': 5319, 'departs': 5320, 'discounted': 5321, 'inability': 5322, 'share.': 5323, 'qasbat': 5324, 'settles': 5325, 'air': 5326, 'brother?': 5327, 'circulation': 5328, 'later.': 5329, 'happened': 5330, 'wandered': 5331, 'joke.': 5332, 'size?': 5333, 'colors': 5334, 'plus,': 5335, 'barely': 5336, 'probably': 5337, 'keep': 5338, 'swallow': 5339, 'sicker!': 5340, 'food,': 5341, 'heard?': 5342, 'jump,': 5343, 'health?': 5344, 'cartoon?': 5345, 'garbage!': 5346, 'desk': 5347, \"hah--i've\": 5348, 'toothache': 5349, 'thoughtless': 5350, 'sensitive': 5351, 'that': 5352, 'thirsty?': 5353, 'opportunity': 5354, 'chatting.': 5355, 'mental': 5356, 'herbs': 5357, 'half?': 5358, 'efficient': 5359, 'hope': 5360, 'adhen': 5361, 'conservatives': 5362, 'card!': 5363, 'shower?': 5364, 'slices': 5365, 'god,': 5366, 'embassy': 5367, 'broken': 5368, 'swollowed': 5369, 'sports?': 5370, 'lollies': 5371, 'fish,': 5372, 'close.': 5373, 'coloring': 5374, 'kitchen!': 5375, 'weather,': 5376, 'poetic': 5377, 'ages!': 5378, 'asphyxiate': 5379, 'errands': 5380, 'marked': 5381, 'laptop': 5382, 'literature,': 5383, 'unrealistic.': 5384, 'presentation?': 5385, 'clown': 5386, 'manifest': 5387, 'balloons': 5388, 'first!': 5389, 'throat': 5390, 'neighbours?': 5391, 'question.': 5392, 'architecture': 5393, 'win': 5394, 'menu?': 5395, 'more': 5396, 'involve?': 5397, 'anyway,': 5398, 'is!': 5399, 'seminar.': 5400, 'bribe': 5401, 'pleasure!': 5402, 'dimples': 5403, 'indeed!': 5404, 'receipt': 5405, 'hobbies?': 5406, 'know,': 5407, 'out,': 5408, 'ascension': 5409, 'valuable': 5410, 'dating': 5411, 'apparently': 5412, 'exploit': 5413, 'helps': 5414, 'mystery': 5415, 'taunting': 5416, 'circles': 5417, 'lemons': 5418, 'sunday,': 5419, 'page': 5420, 'bites': 5421, 'pond?': 5422, 'municipal': 5423, 'outside.': 5424, 'teacher,': 5425, 'musician': 5426, \"media's\": 5427, 'spoil': 5428, 'offered': 5429, 'smoke,': 5430, 'back!': 5431, 'book': 5432, 'here': 5433, 'everyday?': 5434, 'chocolate?': 5435, 'not,': 5436, 'both': 5437, 'certainly': 5438, 'green,': 5439, 'path!': 5440, 'construction?': 5441, 'poetry': 5442, 'destination?': 5443, 'concern': 5444, 'sunshine!': 5445, 'vegetables?': 5446, 'example': 5447, 'rachid.': 5448, 'lorries': 5449, 'braided': 5450, 'winter': 5451, 'trained': 5452, 'onward': 5453, 'wishing': 5454, 'flavor?': 5455, 'dish.': 5456, 'rivals': 5457, 'bananas': 5458, 'medieval': 5459, 'hakima': 5460, 'chopping': 5461, 'flatulence': 5462, 'anyone': 5463, 'ready.': 5464, 'average': 5465, 'backwards': 5466, 'stressed.': 5467, 'considered': 5468, 'order?': 5469, 'boared': 5470, 'ever': 5471, 'baby,': 5472, 'lion': 5473, 'devil': 5474, 'husband': 5475, 'lunch?': 5476, 'comping': 5477, 'half': 5478, 'u.s.?': 5479, 'gold-diggers': 5480, 'wallet?': 5481, 'front': 5482, 'doubt': 5483, 'feel': 5484, 'recreate': 5485, 'scored': 5486, 'surpased': 5487, 'japan': 5488, 'hydrated': 5489, 'thought.': 5490, 'talking': 5491, 'meetings': 5492, 'touching': 5493, 'cup': 5494, 'sunrise': 5495, 'direction': 5496, 'cheated?': 5497, 'ask.': 5498, 'relate': 5499, 'match?!': 5500, 'architect': 5501, 'invitation': 5502, 'timing!': 5503, 'tattoos,': 5504, 'window!': 5505, 'cut': 5506, 'wine,': 5507, 'sentence,': 5508, 'represent': 5509, 'really.': 5510, 'wondered': 5511, 'mastered': 5512, 'paintings': 5513, 'twist': 5514, \"doctor's\": 5515, 'june?': 5516, 'dakhla': 5517, 'plans?': 5518, 'judge': 5519, 'tackle': 5520, 'evening,': 5521, 'argentina,': 5522, 'ruined': 5523, 'copies': 5524, 'eight': 5525, 'adults': 5526, 'sun!': 5527, 'commonly': 5528, \"trump's\": 5529, 'dairy': 5530, 'wait': 5531, 'couch': 5532, 'police': 5533, 'sunscreen': 5534, 'done': 5535, 'arrival?': 5536, 'china': 5537, 'twenty.': 5538, 'late.': 5539, 'throw': 5540, 'rainy': 5541, 'dog,': 5542, 'delivered': 5543, 'poems': 5544, 'oils.': 5545, 'need!': 5546, 'mountain': 5547, 'pressure?': 5548, 'mighty': 5549, 'screen': 5550, 'comforting': 5551, 'adulting': 5552, 'proud': 5553, 'carrots': 5554, 'prayed': 5555, 'steak.': 5556, 'families': 5557, 'sucked': 5558, 'minute!': 5559, 'creatures': 5560, 'ones?': 5561, 'mum': 5562, 'park,': 5563, 'brilliant?': 5564, 'from': 5565, 'chemistry': 5566, 'knew': 5567, 'delicate': 5568, 'pay': 5569, 've': 5570, 'relax': 5571, 'elevators': 5572, \"lord's\": 5573, 'got': 5574, 'interrupting': 5575, 'feelig': 5576, 'writer.': 5577, 'showed': 5578, 'afternoon,': 5579, 'noisy,': 5580, 'flower': 5581, 'interrupt': 5582, 'nah!': 5583, 'cow': 5584, 'spaces!': 5585, 'shall': 5586, 'refrigerator.': 5587, 'fiddle.': 5588, 'in,': 5589, 'banjo,': 5590, 'enjoys': 5591, 'supportive': 5592, 'beats': 5593, 'discount': 5594, 'planning?': 5595, 'sunday?': 5596, 'tricky': 5597, 'go!': 5598, 'outfit': 5599, 'incorrectly': 5600, \"malika's\": 5601, 'rubbish!': 5602, 'dared': 5603, 'off?': 5604, 'faced': 5605, 'relive': 5606, 'probability': 5607, 'bloomed': 5608, 'comrades': 5609, 'worth': 5610, 'suicidal,': 5611, 'chewing': 5612, 'slice': 5613, 'aziz.': 5614, 'words?': 5615, 'focus': 5616, 'indirectly': 5617, \"item's\": 5618, 'exact': 5619, 'everything': 5620, 'scared': 5621, 'anxious': 5622, 'but...': 5623, 'emails': 5624, 'studies': 5625, 'end?': 5626, 'volleyball?': 5627, 'awake': 5628, 'retarded': 5629, 'pair!': 5630, 'camp': 5631, 'rare': 5632, 'button?': 5633, 'organic': 5634, 'walking': 5635, 'pocket?': 5636, 'cabin': 5637, 'dirty': 5638, 'robot': 5639, 'complicated': 5640, 'luck.': 5641, 'diabetic': 5642, 'tiramisu': 5643, 'raining?': 5644, 'flight?': 5645, 'ducks': 5646, 'ohlala,': 5647, 'sources': 5648, 'worked': 5649, 'seen!': 5650, 'rains': 5651, 'finances?': 5652, 'ramadan?': 5653, 'sandwich!': 5654, 'spaces': 5655, 'journey': 5656, 'ourika': 5657, 'spoken': 5658, 'quiet.': 5659, 'peace': 5660, 'aperitif?': 5661, 'decisions': 5662, 'cash': 5663, 'grade': 5664, 'same,': 5665, 'neighbors': 5666, 'blackberries': 5667, 'prison': 5668, 'bra': 5669, \"i'm...old\": 5670, 'matter,': 5671, \"paul's\": 5672, 'breasts': 5673, 'closed.': 5674, 'tired?': 5675, 'navy,': 5676, 'final': 5677, 'website': 5678, 'sociable': 5679, 'empathize': 5680, '20': 5681, 'agree.': 5682, 'fitting': 5683, 'smelling': 5684, 'family': 5685, 'party': 5686, 'integration': 5687, 'statues,': 5688, 'things': 5689, 'noticed': 5690, 'culture?': 5691, 'young?': 5692, 'obvious': 5693, 'weird': 5694, 'completely': 5695, 'dumb': 5696, 'hit': 5697, 'climb': 5698, 'desert': 5699, 'gerard': 5700, 'widower': 5701, 'thief': 5702, 'satisfy': 5703, 'gatherings?': 5704, 'wounded': 5705, 'become': 5706, 'general': 5707, 'trump': 5708, 'cancel': 5709, 'have...': 5710, 'pool!': 5711, 'priest': 5712, 'oh': 5713, 'yeas': 5714, 'beef': 5715, 'lhossein,': 5716, 'dog!': 5717, 'euros': 5718, 'soy': 5719, 'stargazing': 5720, '3': 5721, 'give': 5722, 'funny': 5723, 'afraid?': 5724, 'claustrophobic': 5725, 'ah...': 5726, 'quickly.': 5727, 'moroccan': 5728, 'herself': 5729, 'see': 5730, 'feels': 5731, 'late!': 5732, 'forest,': 5733, 'yet,': 5734, 'crag': 5735, 'private': 5736, 'reduction': 5737, 'paint': 5738, 'lab': 5739, 'süpermarket': 5740, 'wore?': 5741, 'crude': 5742, 'across': 5743, 'bother': 5744, 'pitch': 5745, 'smartphone': 5746, 'fatiha': 5747, 'mistake': 5748, 'towel': 5749, 'door!': 5750, 'difficult!': 5751, 'troubling': 5752, 'egypt': 5753, 'laugh?': 5754, 'nurses': 5755, 'angeles': 5756, 'damp': 5757, 'seconds': 5758, 'cool.': 5759, 'champagne?': 5760, 'newspapers': 5761, 'strong': 5762, 'fine!': 5763, 'accessories?': 5764, 'leverage': 5765, 'fifth': 5766, 'female': 5767, 'rach': 5768, '25th': 5769, 'spider': 5770, 'everyone': 5771, '3lih': 5772, 'promise.': 5773, 'party!': 5774, 'corner,': 5775, 'fat-ass': 5776, 'sorcerer': 5777, 'fingers': 5778, 'mind.': 5779, 'louder?': 5780, 'allow': 5781, 'become?': 5782, 'aaaaaaah,': 5783, 'chance': 5784, 'marinade': 5785, 'participating': 5786, 'fix': 5787, 'map!': 5788, 'items': 5789, 'handshakes': 5790, 'not?': 5791, 'fries!': 5792, \"sister's\": 5793, 'bible?': 5794, 'barks': 5795, 'past.': 5796, 'correct?': 5797, 'help...': 5798, 'dance': 5799, 'beans': 5800, 'married': 5801, 'similar': 5802, 'give?': 5803, 'expect.': 5804, 'million': 5805, 'clouds': 5806, 'ideas': 5807, 'temperature?': 5808, 'display': 5809, 'home?': 5810, 'guests': 5811, 'day!': 5812, 'traditions?': 5813, 'salt': 5814, 'replacement': 5815, 'photography': 5816, 'literature': 5817, 'sorry...': 5818, 'nearby': 5819, 'post': 5820, 'relax!': 5821, 'instruments': 5822, 'process': 5823, 'computers': 5824, 'martin': 5825, 'scare': 5826, 'account!': 5827, 'admit,': 5828, 'drinking': 5829, 'hustle': 5830, 'dispiriting': 5831, 'animals!': 5832, 'sisters?': 5833, 'patients': 5834, 'headlines?': 5835, 'depressed': 5836, 'progress': 5837, 'i...': 5838, 'link': 5839, 'minded.': 5840, 'projects?': 5841, 'assuming': 5842, 'deserve': 5843, 'wicked': 5844, 'ingredients,': 5845, 'or': 5846, 'lamp': 5847, 'bingo': 5848, 'chair': 5849, 'crash': 5850, 'unwanted': 5851, 'believable.': 5852, 'swans': 5853, 'passing': 5854, 'megaphone.': 5855, 'succeded': 5856, 'chirashi!': 5857, 'promised': 5858, 'celebrates': 5859, 'receive': 5860, 'only': 5861, 'rucksack': 5862, \"we've\": 5863, 'shark': 5864, 'wallet': 5865, 'shaken': 5866, 'pond': 5867, 'tonight.': 5868, 'squeezed': 5869, 'ages': 5870, 'bother?': 5871, 'reservation': 5872, 'communicating': 5873, 'beds?': 5874, 'shopper': 5875, 'planes': 5876, 'atheist': 5877, 'entertain': 5878, 'well....': 5879, 'swollen': 5880, 'like': 5881, 'parallel,': 5882, 'uses': 5883, 'floats': 5884, 'great,': 5885, 'cooked': 5886, 'pains': 5887, 'quote?': 5888, 'letter': 5889, 'park': 5890, 'squeeze': 5891, 'extension?': 5892, 'shrimp': 5893, 'present': 5894, 'us,': 5895, 'extreme': 5896, 'schedule?': 5897, 'evaluate': 5898, 'coffee,': 5899, 'budget': 5900, 'exactly?': 5901, 'oldest': 5902, 'cashier': 5903, 'motivated?': 5904, 'colourful': 5905, 'tow': 5906, 'alternative': 5907, 'should,': 5908, 'partly': 5909, 'arogance': 5910, 'beer': 5911, 'tells': 5912, 'societals?': 5913, \"'no',\": 5914, 'meat.': 5915, 'wind': 5916, 'sink': 5917, 'is,': 5918, 'flying,': 5919, 'fears?': 5920, 'earlier!': 5921, 'suggestion': 5922, 'name?': 5923, 'done.': 5924, 'ruckus': 5925, 'twelve': 5926, \"dad's\": 5927, 'north': 5928, 'zagora': 5929, 'nonsense,': 5930, 'forgive': 5931, 'something,': 5932, 'rain,': 5933, 'domestic': 5934, 'spa': 5935, 'really?!': 5936, 'powerless': 5937, 'sixth': 5938, 'swear': 5939, 'idealogically': 5940, 'now?': 5941, 'strikes.': 5942, 'expected': 5943, 'brittany': 5944, 'sandwich,': 5945, 'kit': 5946, 'now!': 5947, 'chichawa': 5948, 'this,': 5949, 'germany': 5950, 'information': 5951, 'warranty': 5952, 'museum?': 5953, 'of?': 5954, 'night,': 5955, 'graduation': 5956, 'machines!': 5957, 'turning': 5958, 'adonis': 5959, 'color': 5960, '32': 5961, 'jilali': 5962, 'attended?': 5963, 'relax?': 5964, 'fennel,': 5965, 'delicious': 5966, 'swam': 5967, 'bus,': 5968, 'man.': 5969, 'twenty-five': 5970, 'roast?': 5971, 'goodbye': 5972, 'chile': 5973, 'eliminate': 5974, 'instead!': 5975, 'grilled': 5976, 'expensive': 5977, 'successfully': 5978, 'oliver,': 5979, 'babbling.': 5980, 'healthier': 5981, 'chef.': 5982, 'holiday': 5983, 'french': 5984, 'college!': 5985, 'tv,': 5986, 'won': 5987, 'created': 5988, 'friends,': 5989, 'nerves': 5990, 'status?': 5991, 'myself': 5992, 'ciao!': 5993, 'loves': 5994, 'discriminating': 5995, 'abroad?': 5996, 'begun': 5997, 'that!': 5998, 'declined': 5999, '2010': 6000, 'immigration': 6001, 'sing!': 6002, 'pleased': 6003, 'violin': 6004, 'much!': 6005, 'passes': 6006, 'anyway': 6007, 'clap': 6008, 'splashing': 6009, 'licence': 6010, 'place': 6011, 'blood,': 6012, 'colleagues,': 6013, \"tuesday's\": 6014, 'usual.': 6015, 'true,': 6016, 'bullied': 6017, 'tomorrow,': 6018, 'pants': 6019, 'guys': 6020, 'ballon': 6021, 'salads': 6022, 'soda': 6023, 'crystal': 6024, 'hot': 6025, 'hand?': 6026, 'electricity': 6027, 'limited': 6028, 'fixed?': 6029, 'tempted': 6030, 'sudden': 6031, 'mindful': 6032, 'shows': 6033, 'sophisticated?': 6034, 'details.': 6035, 'problem?': 6036, 'jmiaa': 6037, 'mojito!': 6038, 'tunisia': 6039, 'without?': 6040, 'something?': 6041, 'waiter': 6042, 'dietary': 6043, 'intense': 6044, 'near': 6045, 'united': 6046, 'open?': 6047, 'beer,': 6048, 'still,': 6049, 'lift': 6050, 'hawks': 6051, 'shoes?': 6052, 'bothering': 6053, 'advice!': 6054, 'self': 6055, 'incompetents': 6056, 'hike?': 6057, 'tripadvisor': 6058, 'are.': 6059, 'happening': 6060, 'theater?': 6061, 'thee': 6062, 'terribly': 6063, 'questions': 6064, 'arrived': 6065, 'pilots!': 6066, 'october': 6067, 'thinks': 6068, 'fry': 6069, 'obviously': 6070, 'conspiracy': 6071, 'falling,': 6072, 'right?': 6073, 'detective': 6074, 'haha!': 6075, 'cheese,': 6076, 'be': 6077, 'gras': 6078, 'crown?': 6079, 'part': 6080, 'backache': 6081, 'customer': 6082, 'honey?': 6083, 'ooh': 6084, 'bailey': 6085, 'weekly': 6086, 'cheated': 6087, 'because': 6088, 'court': 6089, 'want!': 6090, 'dancing': 6091, 'wonderful': 6092, 'adapt': 6093, 'covered': 6094, 'bag': 6095, 'hotel': 6096, 'liter': 6097, 'celebrate': 6098, 'little': 6099, \"'cause\": 6100, 'brought': 6101, 'hike.': 6102, 'participated': 6103, 'piano,': 6104, 'stairs!': 6105, 'face': 6106, 'birds': 6107, 'tobacco': 6108, 'gardener': 6109, 'physically?': 6110, 'quit!': 6111, 'could,': 6112, 'suffering': 6113, 'pineapple': 6114, 'better,': 6115, 'plants': 6116, 'approach': 6117, 'quickly!': 6118, 'are!': 6119, 'news': 6120, 'woman.': 6121, 'so': 6122, 'bedside': 6123, 'cheater!': 6124, 'days.': 6125, 'breath': 6126, 'bonkers,': 6127, 'onboard': 6128, 'consistent': 6129, 'chandelier': 6130, 'arrive': 6131, 'lifted': 6132, 'bully!': 6133, 'nose,': 6134, \"girls'\": 6135, 'mad': 6136, 'workload,': 6137, 'meters': 6138, 'good-bye': 6139, 'transaction?': 6140, 'song': 6141, 'june': 6142, 'apologies,': 6143, 'skin?': 6144, 'healthcare': 6145, 'item': 6146, 'seemed': 6147, 'went': 6148, 'war?': 6149, 'though': 6150, 'sleepy': 6151, 'catch': 6152, 'musician.': 6153, 'pour': 6154, 'that..': 6155, 'saying': 6156, 'dessert': 6157, 'mended': 6158, '11': 6159, 'week?': 6160, 'scared,': 6161, 'house.': 6162, 'purse': 6163, 'license': 6164, 'sick!': 6165, 'parent': 6166, 'sympathize': 6167, 'hey': 6168, 'rain': 6169, 'paris': 6170, 'finished': 6171, 'thousands': 6172, 'answers?': 6173, 'shoes.': 6174, 'landed': 6175, 'slung': 6176, 'changing': 6177, 'cartoons': 6178, 'basis': 6179, 'knocks': 6180, 'schedule': 6181, 'runs': 6182, 'moment?': 6183, 'shirt?': 6184, 'wow,': 6185, 'has': 6186, 'uh...': 6187, 'juice,': 6188, 'ashamed?': 6189, 'more,': 6190, 'rex': 6191, 'bad,': 6192, 'evacuate?': 6193, 'back': 6194, 'will': 6195, 'chair?': 6196, 'settling': 6197, 'writes': 6198, 'were': 6199, 'cheetah': 6200, 'student.': 6201, 'making?': 6202, 'sharp': 6203, 'after': 6204, 'this?': 6205, 'minimal': 6206, 'on?': 6207, 'indian': 6208, 'feelings?': 6209, 'pilot': 6210, 'clinic': 6211, 'puffed': 6212, 'belt': 6213, 'minute': 6214, 'fries?': 6215, 'hygiene': 6216, 'dark,': 6217, 'dish?': 6218, 'easy': 6219, 'crazy?': 6220, 'said.': 6221, 'damage': 6222, 'music?': 6223, 'darkness?': 6224, 'me,': 6225, 'field.': 6226, 'little!': 6227, 'unpleasant!': 6228, 'encouraging?': 6229, 'untroubled': 6230, 'twenty': 6231, 'swiming': 6232, 'success': 6233, 'pulldown': 6234, 'low?': 6235, \"sun's\": 6236, 'pilots': 6237, 'shut': 6238, 'knock': 6239, 'khalid?': 6240, 'vast': 6241, 'docter': 6242, 'harvest': 6243, 'clouds,': 6244, 'physical': 6245, 'unfortunately': 6246, 'polite!': 6247, 'matches!': 6248, 'louder,': 6249, 'ten': 6250, 'occasion': 6251, 'birthday?': 6252, 'humourous': 6253, 'mushrooms?': 6254, 'perfecty': 6255, 'nonsense.': 6256, 'him?': 6257, 'creepy!': 6258, 'routine': 6259, 'rocks': 6260, 'planet!': 6261, 'forget': 6262, 'damaged': 6263, 'translating': 6264, 'emotion': 6265, 'ever?': 6266, 'own.': 6267, 'kidding...': 6268, 'allergy': 6269, 'lolly?': 6270, 'theme': 6271, 'twinkled': 6272, 'partner': 6273, 'name,': 6274, 'balance,': 6275, 'powers?': 6276, 'europe': 6277, 'allmonds': 6278, 'slipping': 6279, 'salty.': 6280, 'juices': 6281, 'year!': 6282, 'clear.': 6283, 'massage?': 6284, 'anxiety': 6285, 'hobby': 6286, '13': 6287, 'scarf!': 6288, 'ignore': 6289, 'bought': 6290, 'discount?': 6291, 'monkey': 6292, 'slide': 6293, 'connecting': 6294, 'prep': 6295, 'foods?': 6296, 'wow?': 6297, 'shout': 6298, 'nervous!': 6299, 'no,': 6300, 'dreams': 6301, 'wanted': 6302, 'travelling': 6303, 'card?': 6304, 'home!': 6305, 'everywhere,': 6306, 'everyone...': 6307, 'lunch': 6308, 'stuffed': 6309, 'experienced': 6310, \"defender's\": 6311, 'solo': 6312, 'uk': 6313, 'yourself?': 6314, \"building's\": 6315, 'nests': 6316, 'christine,': 6317, 'software': 6318, 'generations': 6319, 'mr': 6320, 'games?': 6321, 'restorant': 6322, 'one': 6323, 'nearest': 6324, 'washing': 6325, \"mom's\": 6326, 'christianity': 6327, 'fainting': 6328, '12:30...': 6329, 'times,': 6330, 'liter!': 6331, 'position': 6332, 'couple,': 6333, 'volunteering': 6334, 'have...?': 6335, 'sunset': 6336, 'address': 6337, 'plotting': 6338, 'possession?': 6339, 'leads': 6340, 'prefer': 6341, 'push': 6342, 'colour': 6343, 'hotel?': 6344, 'nightmare': 6345, 'creature': 6346, 'transport': 6347, 'foundation': 6348, 'confusing.': 6349, 'supermarket!': 6350, 'chemicals': 6351, 'visible': 6352, 'robbers': 6353, 'entirely': 6354, 'cheering': 6355, 'apart,': 6356, 'ambassador': 6357, 'hope.': 6358, \"could've\": 6359, 'oooh': 6360, 'philosophy?': 6361, 'september': 6362, 'treated': 6363, 'here?': 6364, 'life,': 6365, 'safe,': 6366, 'hassan?': 6367, 'challenges?': 6368, 'dhs?': 6369, 'disciplined': 6370, 'evenings': 6371, \"smell's\": 6372, 'bettter': 6373, 'february': 6374, 'poker!': 6375, 'mother': 6376, 'dirhams': 6377, 'island': 6378, 'spending': 6379, 'inside?': 6380, 'ah!': 6381, 'sauce,': 6382, 'mother-in-law.': 6383, 'humans': 6384, 'flea': 6385, 'blackbird': 6386, 'war': 6387, 'arthritis,': 6388, 'company,': 6389, 'nurse': 6390, 'experience!': 6391, 'shave': 6392, 'about?': 6393, 'is': 6394, 'faced?': 6395, 'left?': 6396, 'knife': 6397, 'joy': 6398, 'beach': 6399, 'straight': 6400, 'productive': 6401, 'poking': 6402, 'cute!': 6403, 'coffee?': 6404, 'responsibility?': 6405, 'excellent.': 6406, 'studies?': 6407, 'sounds': 6408, 'something:': 6409, 'go?': 6410, 'worthy': 6411, 'stare': 6412, 'true...': 6413, 'royal': 6414, 'television': 6415, 'chat': 6416, \"bartender's\": 6417, 'else,': 6418, 'significance': 6419, 'that?': 6420, 'highway': 6421, '2:00,': 6422, 'lawyer?': 6423, 'divorce': 6424, 'chocolatier': 6425, 'archery?': 6426, 'enjoy': 6427, 'bream?': 6428, 'whiskey,': 6429, 'apprehensive': 6430, 'range': 6431, 'country?': 6432, 'lightly': 6433, 'lightning': 6434, '53': 6435, 'time': 6436, 'uplifting': 6437, 'cast': 6438, 'great--i': 6439, 'horrible!': 6440, 'degree': 6441, 'category': 6442, 'nothing?': 6443, 'burned': 6444, 'burn...': 6445, 'finish?': 6446, 'dealing': 6447, 'room,': 6448, 'vegetarian': 6449, 'toy': 6450, 'bird': 6451, 'ashamed': 6452, 'oral': 6453, 'needing': 6454, 'metres': 6455, 'blwoing': 6456, 'salon': 6457, 'maintaining': 6458, 'call': 6459, 'julien': 6460, 'medications': 6461, 'drives': 6462, 'enjoy!': 6463, 'available?': 6464, 'freezing': 6465, 'complete': 6466, 'relevant': 6467, 'stables?': 6468, 'mother!': 6469, 'masters,': 6470, 'cherished?': 6471, 'glad': 6472, 'employs': 6473, 'press.': 6474, 'turbulance': 6475, 'eat': 6476, 'meantime': 6477, 'cute.': 6478, 'gogh.': 6479, 'useless.': 6480, 'comes.': 6481, 'confess': 6482, 'smells': 6483, 'mixture': 6484, 'stressful': 6485, 'minutes': 6486, 'experiment': 6487, 'who?': 6488, 'studying?': 6489, 'everyday': 6490, 'slightly': 6491, 'forgot': 6492, 'enter': 6493, 'sandwich': 6494, 'speak?': 6495, 'stars.': 6496, 'breeze': 6497, 'entrance': 6498, 'january': 6499, 'offer,': 6500, 'drinlk': 6501, 'me?!': 6502, 'places...': 6503, 'owe': 6504, 'episode': 6505, 'unpack': 6506, '12:30.': 6507, 'chips': 6508, 'recommend?': 6509, 'cheats': 6510, 'use': 6511, 'climbed': 6512, 'instead?': 6513, 'record': 6514, 'to...': 6515, \"they're\": 6516, 'man': 6517, 'book,': 6518, 'competition': 6519, 'glasses,': 6520, 'electric': 6521, 'lemony?': 6522, 'elderly': 6523, 'time,': 6524, 'scoring': 6525, 'parcking': 6526, 'outdoors?': 6527, 'good.': 6528, 'absolutely,': 6529, 'jump?': 6530, 'gig': 6531, 'music': 6532, 'sorry': 6533, 'natural.': 6534, 'laughs,': 6535, 'couscous': 6536, 'arthritis!': 6537, 'season?': 6538, 'blackberries?': 6539, 'morning!': 6540, 'backpack': 6541, 'huh...': 6542, 'brown': 6543, 'thick': 6544, 'study?': 6545, 'habit': 6546, 'revise': 6547, 'taking': 6548, 'meke': 6549, 'pills': 6550, 'jumper': 6551, 'drive': 6552, 'cats?': 6553, 'promise,': 6554, 'breakfast?': 6555, 'easier': 6556, 'book?': 6557, 't-shirt': 6558, \"that'll\": 6559, 'concerns?': 6560, 'possible?': 6561, 'incorporates': 6562, 'juice?': 6563, 'walks.': 6564, 'radio': 6565, 'food': 6566, 'birth': 6567, 'age?': 6568, 'etc': 6569, 'buy': 6570, 'favourite': 6571, 'us': 6572, 'life': 6573, 'pricey': 6574, 'singers!': 6575, 'blew': 6576, 'free.': 6577, 'lamps': 6578, 'indeed': 6579, 'silly': 6580, 'inherited': 6581, 'choose,': 6582, 'felt': 6583, 'promise?': 6584, 'graduating': 6585, 'hah!': 6586, 'arthur.': 6587, 'buses.': 6588, 'eyeglasses': 6589, 'invincible': 6590, 'trumpet': 6591, 'charge!': 6592, 'opponent': 6593, 'might': 6594, 'thanked': 6595, 'afraid': 6596, 'surprise': 6597, 'part,': 6598, 'tiny': 6599, 'pets': 6600, 'cold.': 6601, 'exploring': 6602, 'arrive?': 6603, 'handicapped': 6604, 'class/group?': 6605, 'opened': 6606, 'calculator': 6607, 'handball...': 6608, 'stinks': 6609, 'river': 6610, 'worms.': 6611, 'wardrobe': 6612, 'earn': 6613, 'alive': 6614, 'wall.': 6615, 'grow.': 6616, 'notebook': 6617, 'him.': 6618, 'floors': 6619, 'fact': 6620, 'question': 6621, 'accepted': 6622, 'return': 6623, 'necessary': 6624, 'exam,': 6625, 'ouf...': 6626, 'mugged!': 6627, 'instead': 6628, 'fast?': 6629, \"hicham's\": 6630, 'shore': 6631, 'darkness': 6632, 'define': 6633, 'guessing': 6634, 'language': 6635, 'positive!': 6636, 'simpler?': 6637, 'friday': 6638, 'mornings': 6639, 'it!': 6640, 'nerve!': 6641, 'throwing': 6642, 'section': 6643, 'recording': 6644, 'longer?': 6645, 'dog': 6646, 'pale.': 6647, 'plane,': 6648, 'mermaid': 6649, 'walks?': 6650, 'dislikes': 6651, 'packs': 6652, 'decorating': 6653, 'nowadays': 6654, 'weekend?': 6655, 'adult,': 6656, 'theclothes': 6657, 'situation.': 6658, 'harry': 6659, 'thanks.': 6660, 'shaking,': 6661, 'department': 6662, 'bathroom': 6663, 'step!': 6664, 'as': 6665, 'comparison': 6666, 'peckish': 6667, 'glazed': 6668, 'serious.': 6669, 'thing,': 6670, 'quietly': 6671, 'specific': 6672, 'pop': 6673, 'apologize': 6674, 'bascket': 6675, 'wild': 6676, 'dr.': 6677, 'networks!': 6678, 'conspire': 6679, 'borrow': 6680, 'asks': 6681, 'giving': 6682, \"head's\": 6683, 'discouraged.': 6684, 'fasts': 6685, 'using': 6686, 'panda': 6687, 'message?': 6688, 'clarify': 6689, 'peak': 6690, 'decorations,': 6691, 'weird,': 6692, 'be.': 6693, 'counterattacks': 6694, 'desserts!': 6695, 'ducks.': 6696, 'eating': 6697, 'wait...': 6698, 'out?': 6699, '5': 6700, 'fresh!': 6701, 'list.': 6702, 'away?': 6703, 'important.': 6704, 'equations': 6705, 'icing': 6706, 'statistics': 6707, 'repair': 6708, 'fancier': 6709, 'solid': 6710, 'lifts': 6711, 'task': 6712, 'interesting': 6713, 'humor!': 6714, 'travelled': 6715, 'frames': 6716, 'it,': 6717, 'empty': 6718, 'gum': 6719, 'yours?': 6720, 'instructions': 6721, 'explained': 6722, 'remove': 6723, 'quater': 6724, 'smiled': 6725, 'bar?': 6726, 'alimony': 6727, 'obsession': 6728, 'song?': 6729, 'bled': 6730, 'coast': 6731, 'shopping.': 6732, 'serious,': 6733, 'hungry?': 6734, 'worm': 6735, 'money?': 6736, 'gathering,': 6737, 'travel?': 6738, 'chanel': 6739, 'brandy': 6740, 'hooked': 6741, 'noticeable': 6742, 'want?': 6743, 'taught': 6744, 'parties!': 6745, 'top': 6746, 'subject?': 6747, 'pizza': 6748, 'tax': 6749, 'tickets': 6750, 'family?': 6751, 'are?': 6752, 'london?': 6753, 'husband,': 6754, 'writer': 6755, 'windsor': 6756, 'glad.': 6757, 'cramps': 6758, '7': 6759, 'opinion': 6760, 'monthly': 6761, 'comparable': 6762, 'jilali?': 6763, 'working': 6764, 'doing?': 6765, 'reach?': 6766, 'ugly': 6767, 'hour': 6768, 'tapes': 6769, 'adorable': 6770, 'coffe': 6771, 'boyfriend': 6772, 'street,': 6773, 'english?': 6774, 'snacks?': 6775, 'bed,': 6776, 'marathon': 6777, 'really!': 6778, 'pray': 6779, 'slept': 6780, 'laughs...': 6781, 'comes': 6782, '8': 6783, 'ends': 6784, 'please?w': 6785, 'hypocrite': 6786, 'accuse': 6787, 'shared': 6788, 'hungry!': 6789, 'buttons': 6790, 'significant': 6791, 'mood': 6792, 'lifespan': 6793, 'marriages': 6794, 'sport': 6795, 'decided': 6796, 'homework': 6797, 'scrambled': 6798, 'noon': 6799, 'draw': 6800, 'otherwise': 6801, 'write': 6802, 'mademoiselle,': 6803, 'ramadan': 6804, 'juices.': 6805, 'favorite': 6806, 'bond': 6807, 'mute': 6808, 'leave!': 6809, 'what?': 6810, 'yeah?': 6811, 'nesting': 6812, 'win?': 6813, 'leather': 6814, 'whom': 6815, 'crocodile': 6816, 'spoon': 6817, 'photocopier!': 6818, 'exactly!': 6819, 'idea!': 6820, 'unusual': 6821, 'leave': 6822, 'network?': 6823, 'age,': 6824, 'countries': 6825, 'sir': 6826, 'attack': 6827, 'about': 6828, 'dessert.': 6829, 'game!': 6830, 'reflexes': 6831, 'romantic': 6832, 'first': 6833, 'drastically': 6834, 'gentlemen': 6835, 'lunchtime!': 6836, 'pen': 6837, 'secrect': 6838, 'idea,': 6839, 'chouaib': 6840, 'kids?': 6841, 'separately?': 6842, 'casablanca': 6843, 'grey': 6844, 'products': 6845, 'works': 6846, 'enjoying': 6847, 'milk!': 6848, 'awful': 6849, 'customers?': 6850, 'drink!': 6851, 'massage': 6852, 'birthday!': 6853, 'boss?': 6854, 'boot-licking': 6855, 'spent': 6856, 'fault...': 6857, 'work,': 6858, 'species': 6859, 'wrapped': 6860, 'euuuh!': 6861, 'supposed': 6862, 'location': 6863, \"kids'\": 6864, 'lime': 6865, 'crime': 6866, 'olives.': 6867, 'grandchildren?': 6868, 'comfortable,': 6869, 'stabbed': 6870, \"here's\": 6871, 'signal.': 6872, 'wraped': 6873, \"coran's\": 6874, 'indicates': 6875, 'it.': 6876, 'yours': 6877, 'desserts': 6878, 'management?': 6879, 'warm': 6880, 'dark.': 6881, 'one?': 6882, 'client': 6883, 'agility,': 6884, 'instragram': 6885, 'developing': 6886, 'drum': 6887, 'cotton.': 6888, 'junior': 6889, 'incredible': 6890, 'eating.': 6891, \"goalkeeper's\": 6892, 'aquarium?': 6893, 'sweater': 6894, 'holding': 6895, 'leaves.': 6896, 'bellow': 6897, 'take': 6898, 'watched': 6899, 'baby': 6900, 'weight': 6901, 'put': 6902, 'way': 6903, 'moon': 6904, 'buttring': 6905, 'ours': 6906, 'elevator,': 6907, 'movie?': 6908, 'muddy': 6909, 'accomplishment': 6910, 'grandson': 6911, 'aside': 6912, 'sick?': 6913, 'dolls': 6914, 'kidding,': 6915, 'english,': 6916, 'duck?': 6917, 'cursing': 6918, 'bigger': 6919, 'loan*': 6920, 'victory': 6921, \"i've\": 6922, 'oh,': 6923, 'retreat': 6924, 'weak': 6925, 'wrench': 6926, 'myself!': 6927, 'archery': 6928, 'pistachio': 6929, 'term': 6930, 'stuck.': 6931, 'worried.': 6932, 'lovely': 6933, 'stepped': 6934, 'massive': 6935, 'blonde': 6936, 'before?': 6937, 'sharpen': 6938, 'pooper,': 6939, 'convince': 6940, 'nightingales': 6941, 'linked': 6942, 'anymore!': 6943, 'usual': 6944, 'siblings': 6945, 'emotions': 6946, 'shop': 6947, 'piano': 6948, 'economy,': 6949, 'ipads': 6950, 'hurt': 6951, 'flight.': 6952, 'see.': 6953, 'services': 6954, 'crazy': 6955, 'expertise.': 6956, 'currently': 6957, 'poisonous': 6958, 'chamomile,': 6959, 'product': 6960, 'nation': 6961, 'stole': 6962, 'around?': 6963, 'grateful': 6964, 'two?': 6965, 'consume': 6966, 'turns': 6967, 'kayaking': 6968, 'ring': 6969, 'hey,': 6970, 'happy': 6971, 'prefer?': 6972, 'sweden?': 6973, 'dry': 6974, 'someone?': 6975, 'struggled': 6976, 'test.': 6977, 'tangier': 6978, 'cousin': 6979, 'called.': 6980, 'activities?': 6981, 'cannot': 6982, 'charm': 6983, 'resting': 6984, 'phone': 6985, 'intimate': 6986, 'right,': 6987, 'paper?': 6988, 'greed': 6989, 'resign': 6990, 'split': 6991, 'angry?': 6992, 'for.': 6993, 'morning?': 6994, 'diverting': 6995, 'friends': 6996, 'raisins': 6997, 'england!': 6998, 'prices': 6999, 'situation?': 7000, \"product's\": 7001, 'itself': 7002, 'achieve': 7003, 'straw': 7004, 'him,': 7005, 'chew': 7006, 'city?': 7007, 'sefro': 7008, 'safely': 7009, 'nah': 7010, 'cheek': 7011, 'materials': 7012, '180cm': 7013, 'students': 7014, 'noha': 7015, 'heated': 7016, 'price': 7017, 'doing.': 7018, 'pockets': 7019, 'fat,': 7020, 'whose': 7021, 'grades': 7022, 'inside': 7023, 'worse': 7024, 'helping': 7025, \"everyone's\": 7026, 'muddy.': 7027, 'ow!': 7028, '1000dh': 7029, 'slapped': 7030, 'cafe.': 7031, \"child's\": 7032, 'thoughts': 7033, 'mojito': 7034, 'meal.': 7035, 'vibrant': 7036, '$150': 7037, 'every': 7038, 'afterwards': 7039, 'afternoon?': 7040, 'parasol': 7041, 'signs': 7042, 'attractive': 7043, 'battles': 7044, 'flavor': 7045, 'ankle': 7046, 'nostalgic': 7047, 'introduce': 7048, 'chikhat': 7049, 'differential': 7050, 'dress': 7051, 'read,': 7052, 'sami,': 7053, 'inventing': 7054, 'cleaning': 7055, 'flowers,': 7056, 'frensh': 7057, 'elevator.': 7058, 'snacks': 7059, 'novels.': 7060, 'explanation': 7061, 'tent': 7062, \"it'll\": 7063, 'basic': 7064, 'americano?': 7065, 'transferred': 7066, 'condition': 7067, 'frankly,': 7068, 'send...': 7069, 'recognize': 7070, 'facts': 7071, 'owners?': 7072, 'wednesday?': 7073, 'memories': 7074, 'lost?': 7075, 'group': 7076, 'tart': 7077, 'regimen': 7078, 'ointment.': 7079, 'restaurants': 7080, 'stopping': 7081, 'which': 7082, 'attacks': 7083, 'theory': 7084, 'ok!': 7085, 'understanding': 7086, 'embarrassing,': 7087, 'jewish': 7088, 'companion.': 7089, \"boardwalk's\": 7090, 'bring': 7091, 'kids': 7092, 'often,': 7093, 'certianly': 7094, 'house': 7095, 'press': 7096, '...': 7097, 'doing': 7098, 'specialty': 7099, 'types': 7100, 'queueing': 7101, 'engineer,': 7102, 'mentally': 7103, 'positive?': 7104, 'negotiate': 7105, 'new': 7106, 'yelled': 7107, 'stopped,': 7108, 'sandwiches': 7109, 'angry': 7110, 'oh...': 7111, 'mouad': 7112, 'explore': 7113, 'much': 7114, 'accident.': 7115, 'masterchef': 7116, 'surely!': 7117, 'outrageous': 7118, 'counter': 7119, 'odor': 7120, 'stopped?': 7121, 'feel,': 7122, 'fabulous!': 7123, 'slippery': 7124, 'annoyed': 7125, 'material': 7126, 'minded!!': 7127, 'roads.': 7128, 'wore': 7129, 'teamwork': 7130, 'detract': 7131, 'toxic!': 7132, 'up.': 7133, 'start?': 7134, 'marriage,': 7135, 'complaining!': 7136, 'harder': 7137, 'sailors': 7138, 'thankful': 7139, 'doctor': 7140, 'urge': 7141, 'expert': 7142, 'homemade': 7143, 'all,': 7144, 'halloween': 7145, 'describe': 7146, 'rachida,': 7147, 'realised': 7148, 'canvas': 7149, 'cycle?': 7150, 'pick': 7151, 'nearly': 7152, 'say?': 7153, 'brutal': 7154, 'penalty': 7155, 'dining': 7156, 'for': 7157, 'marrakech.': 7158, 'wet,': 7159, 'problem!': 7160, 'blame': 7161, 'telephone': 7162, 'itchy': 7163, 'frequent': 7164, 'nice!': 7165, 'longer,': 7166, 'wins,': 7167, 'care.': 7168, 'successful': 7169, 'sense?': 7170, 'pigeons': 7171, 'restraining': 7172, 'problematic': 7173, 'stone': 7174, 'king': 7175, 'pasta.': 7176, 'continent': 7177, 'match': 7178, 'boss.': 7179, 'pressure,': 7180, 'stayed': 7181, 'cold': 7182, 'yesterday?': 7183, '?': 7184, 'intersection': 7185, 'path': 7186, 'challenge': 7187, 'threw': 7188, 'simple,': 7189, 'ringing....': 7190, 'together:': 7191, 'difficulty': 7192, 'far': 7193, 'shootouts,': 7194, 'crazy,': 7195, 'topics': 7196, 'find!': 7197, 'laxative!': 7198, 'gps,': 7199, 'though.': 7200, 'worthwhile': 7201, 'come.': 7202, 'positive': 7203, 'activities.': 7204, 'voice?': 7205, 'pissed': 7206, 'volcanoes': 7207, 'stay': 7208, 'conducted': 7209, 'strengths': 7210, 'astronomy': 7211, 'tears': 7212, 'understand?': 7213, 'pleasure': 7214, 'boiled': 7215, 'starting': 7216, 'year,': 7217, 'shown': 7218, 'also': 7219, 'with!!': 7220, 'please.': 7221, 'flying.': 7222, 'furious': 7223, 'big': 7224, 'one!': 7225, 'table?': 7226, 'invites': 7227, 'married,': 7228, 'saveour': 7229, 'blackouts': 7230, 'neck': 7231, 'cook.': 7232, 'apology': 7233, 'reschedule': 7234, 'university': 7235, 'star': 7236, 'special': 7237, 'handome': 7238, 'when': 7239, 'leg.': 7240, 'page?': 7241, 'cowardly': 7242, 'getaway': 7243, 'crossing': 7244, 'having': 7245, 'imane,': 7246, 'do?': 7247, 'cycling': 7248, 'grandmother': 7249, 'talking?': 7250, 'interest': 7251, 'made': 7252, 'sarah': 7253, 'specialist!': 7254, 'documentaries': 7255, 'smile?': 7256, 'reliance': 7257, 'drink?': 7258, 'deaf': 7259, 'wiped': 7260, 'stairs': 7261, 'compass?': 7262, 'goes': 7263, 'one-way': 7264, 'asthma': 7265, \"christie's\": 7266, 'meal': 7267, 'done,': 7268, 'tender': 7269, 'shower...': 7270, 'step': 7271, 'style.': 7272, 'clearing': 7273, \"isn't\": 7274, 'dinner?': 7275, 'hired': 7276, 'juice.': 7277, 'tattoos': 7278, 'if': 7279, 'sip': 7280, 'specialists': 7281, 'grow': 7282, 'zoo': 7283, 'demon': 7284, 'please,': 7285, 'make!': 7286, 'sake': 7287, 'true': 7288, 'geek': 7289, 'tajine,': 7290, 'strop': 7291, 'words': 7292, 'unwelcoming': 7293, 'stealing': 7294, 'type': 7295, 'solution?': 7296, 'child': 7297, 'music,': 7298, 'noticed.': 7299, 'peppers': 7300, 'carefully': 7301, 'drawing': 7302, 'promise': 7303, 'dominance': 7304, 'although': 7305, 'art.': 7306, 'absorb': 7307, 'flowers?': 7308, 'champagne': 7309, 'hamburger': 7310, 'airport,': 7311, 'plane?': 7312, 'mushrooms': 7313, 'what?!': 7314, 'asfi.': 7315, 'prays': 7316, 'accept': 7317, 'digestion,': 7318, 'bed': 7319, 'rather,': 7320, 'extremely': 7321, \"hadn't\": 7322, 'sleeping': 7323, 'desk.': 7324, 'beetroots': 7325, 'never': 7326, 'front!': 7327, 'game': 7328, 'potato': 7329, 'regretted': 7330, 'chef!': 7331, 'able': 7332, 'coffee.': 7333, 'local': 7334, '3:00!': 7335, 'experiment?': 7336, 'vouch': 7337, 'useless': 7338, \"haven't\": 7339, 'soul': 7340, 'employed': 7341, \"you'll\": 7342, 'expression': 7343, 'earliest': 7344, 'donkeys': 7345, 'language?': 7346, 'between': 7347, 'fruit': 7348, 'salad': 7349, 'downtown': 7350, 'soft': 7351, 'gorgeous': 7352, 'present?': 7353, 'start!': 7354, 'subscriptions!': 7355, 'rex!': 7356, 'lots': 7357, 'night?': 7358, 'download': 7359, 'caipirinha': 7360, 'bowl': 7361, 'karaoke?': 7362, 'no-one': 7363, 'her?': 7364, 'times': 7365, 'plate.': 7366, 'became': 7367, 'puffy': 7368, 'current': 7369, 'ruin': 7370, 'cruel': 7371, 'canceled': 7372, 'knee': 7373, 'taunt': 7374, 'interesting.': 7375, 'cookies,': 7376, 'allergies': 7377, 'dance?': 7378, 'century': 7379, 'way,': 7380, 'excessive': 7381, 'meant': 7382, 'box!': 7383, 'bill,': 7384, 'smelled': 7385, 'puzzles': 7386, 'attend': 7387, 'massage,': 7388, 'surprisingly': 7389, 'reserve': 7390, 'replanting': 7391, 'sign': 7392, 'york.': 7393, 'elaborate': 7394, 'say,': 7395, 'am': 7396, 'recorder!': 7397, 'mine': 7398, 'sneak': 7399, 'area.': 7400, 'flown': 7401, 'dessert!': 7402, 'honey,': 7403, 'complicate': 7404, 'arbitrary': 7405, 'dead.': 7406, 'calm': 7407, 'air.': 7408, 'something...': 7409, 'calmly.': 7410, 'fortune': 7411, 'sandals': 7412, 'gloves!': 7413, 'grenadine': 7414, 'dear!': 7415, 'asking': 7416, 'vodka': 7417, 'tell': 7418, 'helpful': 7419, 'down.': 7420, '2:00': 7421, 'castaway': 7422, 'grazed': 7423, 'communication,': 7424, \"don't,\": 7425, \"gordon's\": 7426, 'at?': 7427, 'never!': 7428, 'realize': 7429, 'mockery': 7430, 'studying': 7431, 'frog': 7432, 'obstacle': 7433, 'basically': 7434, 'decorations!': 7435, 'anxious.': 7436, 'thinking,': 7437, 'fun!': 7438, 'al': 7439, 'sky': 7440, 'vacancies': 7441, 'macaroons?': 7442, 'are': 7443, 'waiting?': 7444, 'attack.!': 7445, 'vegetable': 7446, 'engaged': 7447, 'discounts': 7448, 'options': 7449, 'tea.': 7450, 'discipline.': 7451, 'blind': 7452, 'arctic': 7453, 'scarft': 7454, 'scar': 7455, 'grandmothers': 7456, 'hello': 7457, 'view': 7458, 'help!': 7459, 'revision?': 7460, 'follow': 7461, 'complaint': 7462, 'karim?': 7463, 'fork!': 7464, 'polluted': 7465, 'friend': 7466, 'who': 7467, \"shoudn't\": 7468, 'seat.': 7469, 'breakfast,': 7470, 'believes': 7471, 'layla,': 7472, 'exams': 7473, 'resist': 7474, 'hungry': 7475, 'kpop': 7476, 'guidance': 7477, 'waves': 7478, 'black': 7479, 'crew': 7480, 'question,': 7481, 'bin': 7482, 'indeed,': 7483, 'priceless': 7484, 'thoughts?': 7485, 'think,': 7486, 'club!': 7487, 'disaster': 7488, 'hip': 7489, 'canapes?': 7490, 'outfit?': 7491, 'parents': 7492, 'europe?': 7493, 'saving': 7494, 'pressed': 7495, 'always,': 7496, 'noted,': 7497, 'grapes': 7498, 'ahead': 7499, 'exist': 7500, 'locked.': 7501, 'decide!': 7502, 'mechanic': 7503, 'got?': 7504, 'on.': 7505, 'majored': 7506, 'finally': 7507, 'knife,': 7508, 'accountant': 7509, 'woke': 7510, 'too!': 7511, 'shorts': 7512, 'replying': 7513, 'spicy': 7514, 'coke,': 7515, 'experimentation': 7516, 'together?': 7517, 'flowers': 7518, 'teaching': 7519, 'dialect': 7520, 'few': 7521, 'float': 7522, 'soccer': 7523, 'grave': 7524, 'grandchildren': 7525, 'bobbing': 7526, 'boy': 7527, 'drama': 7528, 'america': 7529, 'shopping,': 7530, 'everything?': 7531, 'hurry!': 7532, 'this!': 7533, 'high...': 7534, 'steal': 7535, 'nobody': 7536, 'shining': 7537, 'broke': 7538, 'tiptoes': 7539, 'conversation': 7540, 'girlfriend': 7541, 'them': 7542, 'lemon': 7543, 'mom': 7544, 'cook?': 7545, 'jungle': 7546, 'payment': 7547, 'terrifying': 7548, 'lies': 7549, 'play': 7550, 'appointment?': 7551, 'you?': 7552, 'classes': 7553, 'club': 7554, 'welcome!': 7555, 'survives': 7556, 'hands': 7557, 'stamina': 7558, 'capitalized': 7559, 'hair': 7560, 'nasty': 7561, 'sad': 7562, 'nothing!': 7563, \"naima's\": 7564, 'join': 7565, 'semester?': 7566, 'boat': 7567, 'bucket': 7568, 'event': 7569, 'senior': 7570, 'winching': 7571, 'pimply-faced': 7572, 'olive': 7573, 'drinks.': 7574, 'smell': 7575, 'mom?': 7576, 'paid?': 7577, 'sangria.': 7578, 'dresses': 7579, 'these?': 7580, 'ii.': 7581, 'express': 7582, 'combo': 7583, 'pretty': 7584, 'wolves': 7585, 'comrades.': 7586, 'loudly': 7587, 'vegetables,': 7588, 'talent?': 7589, 'deadlines': 7590, 'serving.': 7591, 'required': 7592, 'hoping': 7593, 'room': 7594, 'themselves': 7595, 'doors,': 7596, 'gaps': 7597, 'help.': 7598, 'wondering': 7599, 'beginning:': 7600, 'try?': 7601, 'dreams!': 7602, 'risk.': 7603, 'came': 7604, 'finding': 7605, 'transform': 7606, 'century!': 7607, 'pfft': 7608, 'can,': 7609, 'odd': 7610, 'weekends?': 7611, \"train's\": 7612, 'ah,': 7613, 'producing': 7614, 'silk': 7615, 'scent': 7616, 'march': 7617, 'documentary': 7618, 'addict': 7619, 'switzerland': 7620, 'pigtail?': 7621, 'strawberry?': 7622, 'tonight': 7623, 'peckish?': 7624, 'cyclist.': 7625, 'try,': 7626, 'latifa': 7627, 'explore?': 7628, 'fine': 7629, 'wander': 7630, 'head!': 7631, 'often.': 7632, 'perhaps,': 7633, 'sticking': 7634, 'competition?': 7635, 'easier,': 7636, 'oven?': 7637, 'recycling,': 7638, 'dimension': 7639, 'run': 7640, 'northern': 7641, 'gonna': 7642, 'journal': 7643, 'walls': 7644, 'compass.': 7645, 'roaches': 7646, 'grew': 7647, 'remain': 7648, 'abderrahim': 7649, 'immune': 7650, 'challenges': 7651, 'mind!': 7652, 'work?': 7653, 'napping': 7654, 'investigate': 7655, 'months,': 7656, 'awesome?': 7657, 'magical': 7658, 'sing': 7659, 'fault?': 7660, 'oily': 7661, 'circus?': 7662, 'sanitize': 7663, 'winning': 7664, 'abscent': 7665, 'telescope': 7666, 'screaming': 7667, 'a.m': 7668, 'availability': 7669, 'arms': 7670, 'mutiny': 7671, 'teeth,': 7672, 'turtles': 7673, 'cucumbers': 7674, 'eggs': 7675, 'cinema': 7676, 'presents': 7677, \"coach's\": 7678, 'pain,': 7679, 'stopped': 7680, 'off.': 7681, 'organization?': 7682, 'want,': 7683, 'laps?': 7684, 'daily': 7685, 'fortunately,': 7686, 'among': 7687, 'lazy': 7688, 'himself': 7689, \"money's\": 7690, 'hmm.': 7691, 'perspective': 7692, 'end.': 7693, 'track': 7694, 'pays': 7695, 'pillow': 7696, 'happen?': 7697, 'solutions': 7698, 'breton,': 7699, 'leagues': 7700, 'saw?': 7701, 'fruit.': 7702, 'introverted': 7703, 'comeback?': 7704, 'german': 7705, 'independence': 7706, 'audio': 7707, 'guests,': 7708, 'presented': 7709, 'team-members': 7710, 'eye.': 7711, 'instruments?': 7712, 'places': 7713, 'exciting': 7714, 'month': 7715, 'goal': 7716, 'shaving': 7717, 'training': 7718, 'seed': 7719, 'enjoyable': 7720, 'crowd': 7721, 'spinning': 7722, 'suit': 7723, 'omar': 7724, 'apricots': 7725, 'about...': 7726, 'sporting': 7727, 'polar': 7728, 'brush': 7729, 'young,': 7730, 'shop?': 7731, 't-shirt,': 7732, 'charity?': 7733, 'breathtaking': 7734, 'space,': 7735, 'hamid,': 7736, 'back,': 7737, 'grandparents': 7738, 'live?': 7739, 'but': 7740, 'stupid?': 7741, 'clients': 7742, 'luck': 7743, 'struggle': 7744, 'discovery': 7745, 'jack': 7746, 'woman...!': 7747, 'pescatorian?': 7748, 'letters': 7749, 'credit': 7750, 'doctor.': 7751, 'percent': 7752, 'loudly.': 7753, 'growth': 7754, 'salty': 7755, 'member': 7756, 'pirates': 7757, 'extroverted': 7758, 'count': 7759, 'serves': 7760, 'submarine': 7761, 'unfortunately,': 7762, 'memory': 7763, 'upcoming': 7764, 'importantly,': 7765, 'whistled': 7766, 'professor?': 7767, 'by': 7768, \"opponent's\": 7769, 'open': 7770, 'rooftop': 7771, 'rowdy': 7772, 'pain?': 7773, 'left!': 7774, 'cuisine?': 7775, 'mobile': 7776, 'needed': 7777, 'daughters': 7778, 'flight!': 7779, 'concert': 7780, 'losing': 7781, 'motivated': 7782, 'rot': 7783, 'tourist?': 7784, 'self-centred': 7785, 'whish': 7786, 'accident,': 7787, 'early': 7788, 'watch': 7789, 'highest': 7790, 'addressed': 7791, 'extreme!': 7792, 'upper': 7793, 'singer?': 7794, 'starve': 7795, 'inconsistent': 7796, 'taxes': 7797, 'parallel': 7798, '2': 7799, 'wanna': 7800, 'toxic': 7801, 'shots': 7802, \"karim's\": 7803, 'city': 7804, 'medicine': 7805, 'worry,': 7806, \"what's\": 7807, 'lesson': 7808, \"river's\": 7809, 'pair': 7810, 'happens.': 7811, 'italian': 7812, 'students?': 7813, 'anti': 7814, 'looking.': 7815, 'lipstick': 7816, 'cartoons,': 7817, 'rim.': 7818, 'fisherman': 7819, 'strategies': 7820, 'italians': 7821, 'cola.': 7822, 'pretend': 7823, 'nations': 7824, 'disturbing': 7825, 'match?': 7826, 'football,': 7827, 'account.': 7828, 'themselves?': 7829, 'spread': 7830, 'fes?': 7831, 'soap': 7832, 'serbia': 7833, 'opinion?': 7834, 'berries': 7835, 'craftsman': 7836, 'cheese': 7837, 'there?': 7838, 'rewarding': 7839, 'aimlessly': 7840, 'elsewhere?': 7841, 'hairdresser': 7842, 'taken': 7843, 'grandson.': 7844, '7:00.': 7845, 'last!': 7846, \"people's\": 7847, 'job!': 7848, 'lately': 7849, 'ok.': 7850, 'busy': 7851, 'schoolwork': 7852, 'sore': 7853, 'yearly': 7854, 'reluctant': 7855, 'baking': 7856, 'them?': 7857, \"life's\": 7858, 'tiring': 7859, 'health': 7860, 'collected': 7861, 'profession.': 7862, 'shelter': 7863, 'closest': 7864, 'handsoap': 7865, 'trash': 7866, 'friend...': 7867, 'warched': 7868, 'considering': 7869, 'events': 7870, 'burger': 7871, 'beneath': 7872, 'ironing': 7873, 'anybody,': 7874, 'shows?': 7875, 'impossible': 7876, 'unprecedented': 7877, 'balance': 7878, 'ad': 7879, 'musicien': 7880, \"don't.\": 7881, 'chourouq': 7882, 'games,': 7883, 'convenient': 7884, 'career': 7885, 'west!': 7886, 'cheat': 7887, 'involved': 7888, 'finger!': 7889, 'hold': 7890, 'refreshing': 7891, 'straight,': 7892, 'do,': 7893, 'business': 7894, 'plans.': 7895, 'broad': 7896, 'follows': 7897, 'point?': 7898, 'here.': 7899, 'buy.': 7900, 'walk?': 7901, 'atmosphera,': 7902, 'chief!': 7903, 'find?': 7904, 'safe': 7905, 'enough,': 7906, 'misunderstood': 7907, 'colleagues': 7908, 'food.': 7909, 'apples': 7910, 'tourist': 7911, 'recieved': 7912, 'plane?!': 7913, 'joke...': 7914, 'fire.': 7915, 'joker': 7916, 'chinese': 7917, 'closely': 7918, 'drawbacks': 7919, 'decision': 7920, 'classical': 7921, 'intelectual': 7922, 'hard,': 7923, 'swims': 7924, 'hearty': 7925, 'awesome!': 7926, 'national': 7927, 'reminder': 7928, 'sausage?': 7929, \"isn'\": 7930, 'heared': 7931, 'sasha': 7932, 'organising': 7933, 'gatherings': 7934, 'girl': 7935, \"'normal'?\": 7936, 'chess': 7937, 'admired': 7938, 'hours?': 7939, 'year?': 7940, 'handed': 7941, 'years': 7942, 'sell': 7943, 'worries': 7944, 'kissed': 7945, 'babies': 7946, 'delivery': 7947, 'england': 7948, 'philosophy': 7949, 'older?': 7950, 'often?': 7951, 'email?': 7952, 'august': 7953, 'parrot?': 7954, \"we'd\": 7955, 'upload': 7956, 'remote': 7957, 'energy': 7958, 'fox': 7959, 'chapter.': 7960, 'intriguing!': 7961, 'serving': 7962, 'exercise': 7963, 'okay,': 7964, '7ammam': 7965, 'stock?': 7966, 'hometown': 7967, 'code.': 7968, 'environment': 7969, \"there'd\": 7970, 'call.': 7971, 'sitting': 7972, 'basket': 7973, 'okay': 7974, 'brave': 7975, 'horrible': 7976, 'hits': 7977, 'chef?': 7978, 'daughter.': 7979, 'hours': 7980, 'both?': 7981, 'prescribed': 7982, 'extent': 7983, 'proper': 7984, 'chef': 7985, 'undertand': 7986, 'walk': 7987, 'tangier.': 7988, 'lively': 7989, 'pink': 7990, 'driss!': 7991, 'then': 7992, 'furtur': 7993, 'lift?': 7994, 'knowing': 7995, 'hunger': 7996, 'hour?': 7997, 'dying': 7998, 'library...': 7999, 'skipped': 8000, 'access': 8001, 'arrived.': 8002, 'code': 8003, 'water,': 8004, 'auto': 8005, 'tight': 8006, 'festivals?': 8007, 'gotta': 8008, 'circle': 8009, 'for...': 8010, 'e-mail,': 8011, 'sugar.': 8012, \"boyfriend's\": 8013, 'nervous': 8014, 'shouting': 8015, 'say': 8016, 'confirm': 8017, 'structured': 8018, 'women.': 8019, 'it?': 8020, 'eaten?': 8021, 'instructors': 8022, 'unnatural': 8023, 'were.': 8024, 'better?': 8025, 'like,': 8026, 'neither': 8027, 'under': 8028, 'childhood': 8029, 'missing': 8030, 'ideal': 8031, 'plant': 8032, 'calculator?': 8033, 't-shirts?': 8034, 'why?': 8035, 'area?': 8036, 'oil': 8037, 'marks': 8038, 'solving': 8039, 'set': 8040, 'gore': 8041, 'seating': 8042, 'picking': 8043, 'gone!': 8044, 'relationships?': 8045, 'bowls': 8046, 'cursus': 8047, '-i': 8048, \"hasn't\": 8049, \"everything's\": 8050, 'super': 8051, 'symptoms?': 8052, 'trial': 8053, 'apartment': 8054, 'match,': 8055, 'excuse': 8056, 'products?': 8057, 'individual': 8058, 'thing.': 8059, 'rethink': 8060, 'tablet': 8061, 'wearing': 8062, 'chips.': 8063, 'rarely': 8064, 'schools': 8065, 'honest.': 8066, 'favour': 8067, 'stapler': 8068, 'trying': 8069, 'treehouse': 8070, 'choice,': 8071, 'very': 8072, 'you.': 8073, 'deadline,': 8074, 'listening': 8075, 'car': 8076, 'dessert?': 8077, 'courage': 8078}\n"
          ]
        }
      ],
      "execution_count": null
    },
    {
      "cell_type": "markdown",
      "source": [
        "The code splits the dataset into training, testing, and validation sets using scikit-learn's train_test_split function. Initially, it divides the data into 80% training and 20% testing, ensuring reproducibility with a fixed random seed (random_state=4). Next, it further splits the training set into 80% training and 20% validation data. The sizes of the resulting splits are printed, showing the number of sequences in the training, testing, and validation sets. This ensures the data is properly partitioned for training the model, validating its performance, and testing its accuracy."
      ],
      "metadata": {
        "id": "VUzdVbyobSBh"
      }
    },
    {
      "cell_type": "code",
      "source": [
        "from sklearn.model_selection import train_test_split\n",
        "\n",
        "SPLIT_SIZE = 0.2\n",
        "\n",
        "X_train, X_test, Y_train, Y_test = train_test_split(X, Y, test_size=SPLIT_SIZE, random_state=4)\n",
        "\n",
        "X_train, X_val, Y_train, Y_val = train_test_split(X_train, Y_train, test_size=SPLIT_SIZE, random_state=4)\n",
        "\n",
        "print(\"TRAINING DATA\")\n",
        "print('Number of sequences: {}'.format(len(X_train)))\n",
        "print(\"-\"*50)\n",
        "print(\"TESTING DATA\")\n",
        "print('Number of sequences: {}'.format(len(X_test)))\n",
        "print(\"-\"*50)\n",
        "print(\"VALIDATION DATA\")\n",
        "print('Number of sequences: {}'.format(len(X_val)))"
      ],
      "metadata": {
        "trusted": true,
        "execution": {
          "iopub.status.busy": "2024-12-06T21:49:29.408024Z",
          "iopub.execute_input": "2024-12-06T21:49:29.408270Z",
          "iopub.status.idle": "2024-12-06T21:49:30.182160Z",
          "shell.execute_reply.started": "2024-12-06T21:49:29.408247Z",
          "shell.execute_reply": "2024-12-06T21:49:30.181335Z"
        },
        "colab": {
          "base_uri": "https://localhost:8080/"
        },
        "id": "-T31O_YugwFN",
        "outputId": "90a45a58-5e69-41d5-bb5f-d01f25aa2f6b"
      },
      "outputs": [
        {
          "output_type": "stream",
          "name": "stdout",
          "text": [
            "TRAINING DATA\n",
            "Number of sequences: 8155\n",
            "--------------------------------------------------\n",
            "TESTING DATA\n",
            "Number of sequences: 2549\n",
            "--------------------------------------------------\n",
            "VALIDATION DATA\n",
            "Number of sequences: 2039\n"
          ]
        }
      ],
      "execution_count": null
    },
    {
      "cell_type": "markdown",
      "source": [
        "The VanillaLSTMCell class implements a custom LSTM cell in PyTorch, defining the core computations for the input gate, forget gate, output gate, and candidate cell state. During initialization, linear transformations for the input and hidden states are set up, along with learnable bias parameters for each gate. In the forward pass, the gates are computed using sigmoid activations, and the candidate cell state is calculated with a tanh activation. The cell state is updated by combining the forget gate, input gate, and candidate state, while the hidden state is updated using the output gate and the updated cell state. This implementation provides flexibility for experimenting with LSTM behavior in neural networks."
      ],
      "metadata": {
        "id": "L9snzYO9bZ9l"
      }
    },
    {
      "cell_type": "code",
      "source": [
        "import torch\n",
        "import torch.nn as nn\n",
        "\n",
        "class VanillaLSTMCell(nn.Module):\n",
        "    def __init__(self, input_size, hidden_size):\n",
        "        super(VanillaLSTMCell, self).__init__()\n",
        "\n",
        "        # Définition des transformations linéaires pour chaque porte\n",
        "        self.W_hi = nn.Linear(hidden_size, hidden_size, bias=False)\n",
        "        self.W_xi = nn.Linear(input_size, hidden_size)\n",
        "        self.b_i = nn.Parameter(torch.zeros(hidden_size))  # Biais de la porte d'entrée\n",
        "\n",
        "        self.W_hf = nn.Linear(hidden_size, hidden_size, bias=False)\n",
        "        self.W_xf = nn.Linear(input_size, hidden_size)\n",
        "        self.b_f = nn.Parameter(torch.zeros(hidden_size))  # Biais de la porte d'oubli\n",
        "\n",
        "        self.W_ho = nn.Linear(hidden_size, hidden_size, bias=False)\n",
        "        self.W_xo = nn.Linear(input_size, hidden_size)\n",
        "        self.b_o = nn.Parameter(torch.zeros(hidden_size))  # Biais de la porte de sortie\n",
        "\n",
        "        self.W_hc = nn.Linear(hidden_size, hidden_size, bias=False)\n",
        "        self.W_xc = nn.Linear(input_size, hidden_size)\n",
        "        self.b_c = nn.Parameter(torch.zeros(hidden_size))  # Biais de la cellule candidate\n",
        "\n",
        "    def forward(self, x, hidden, cell):\n",
        "        # Calcul des portes d'entrée, d'oubli et de sortie\n",
        "        i = torch.sigmoid(self.W_xi(x) + self.W_hi(hidden) + self.b_i)\n",
        "        f = torch.sigmoid(self.W_xf(x) + self.W_hf(hidden) + self.b_f)\n",
        "        o = torch.sigmoid(self.W_xo(x) + self.W_ho(hidden) + self.b_o)\n",
        "\n",
        "        # Calcul de la cellule candidate\n",
        "        c_bar = torch.tanh(self.W_xc(x) + self.W_hc(hidden) + self.b_c)\n",
        "\n",
        "        # Mise à jour de la cellule et de l'état caché\n",
        "        cell_new = f * cell + i * c_bar\n",
        "        hidden_new = o * torch.tanh(cell_new)\n",
        "\n",
        "        return hidden_new, cell_new"
      ],
      "metadata": {
        "trusted": true,
        "execution": {
          "iopub.status.busy": "2024-12-06T21:49:30.183225Z",
          "iopub.execute_input": "2024-12-06T21:49:30.183662Z",
          "iopub.status.idle": "2024-12-06T21:49:30.192777Z",
          "shell.execute_reply.started": "2024-12-06T21:49:30.183634Z",
          "shell.execute_reply": "2024-12-06T21:49:30.191968Z"
        },
        "id": "OBmvl7g6gwFN"
      },
      "outputs": [],
      "execution_count": null
    },
    {
      "cell_type": "markdown",
      "source": [
        "The TextTrans class defines a neural network for text translation using embeddings, a custom LSTM cell (VanillaLSTMCell), and a linear output layer. It initializes word embeddings to convert input tokens into dense vectors, a custom LSTM cell to process sequential data, and a linear layer to map the LSTM's hidden state to the output vocabulary. In the forward pass, the input sentence is transformed into embeddings, and an LSTM processes each embedding sequentially, updating its hidden and cell states. The hidden state is passed through the linear layer to generate predictions for each word in the sequence, which are stacked and returned as the model's output. This design enables token-wise translation with customizable components."
      ],
      "metadata": {
        "id": "l8LtwiDPbde2"
      }
    },
    {
      "cell_type": "code",
      "source": [
        "class TextTrans(nn.Module):\n",
        "    def __init__(self, embedding_dim, hidden_dim, vocab_size, tagset_size):\n",
        "        super(TextTrans, self).__init__()\n",
        "        self.hidden_dim = hidden_dim\n",
        "\n",
        "        # Couche d'embedding pour les mots\n",
        "        self.word_embeddings = nn.Embedding(vocab_size, embedding_dim)\n",
        "\n",
        "        # Cellule LSTM personnalisée\n",
        "        self.lstm_cell = VanillaLSTMCell(embedding_dim, hidden_dim)\n",
        "\n",
        "        # Couche de sortie\n",
        "        self.fc = nn.Linear(hidden_dim, tagset_size)\n",
        "\n",
        "    def forward(self, sentence):\n",
        "        embeds = self.word_embeddings(sentence)\n",
        "        hidden, cell = torch.zeros(1, self.hidden_dim, device='cuda'), torch.zeros(1, self.hidden_dim, device='cuda')\n",
        "\n",
        "        outputs = []\n",
        "\n",
        "        for embed in embeds:\n",
        "            hidden, cell = self.lstm_cell(embed, hidden, cell)\n",
        "            output = self.fc(hidden)\n",
        "            outputs.append(output)\n",
        "\n",
        "        outputs = torch.stack(outputs)\n",
        "        return outputs"
      ],
      "metadata": {
        "trusted": true,
        "execution": {
          "iopub.status.busy": "2024-12-06T21:49:30.193905Z",
          "iopub.execute_input": "2024-12-06T21:49:30.194161Z",
          "iopub.status.idle": "2024-12-06T21:49:30.206238Z",
          "shell.execute_reply.started": "2024-12-06T21:49:30.194137Z",
          "shell.execute_reply": "2024-12-06T21:49:30.205514Z"
        },
        "id": "b9Mp1aKOgwFO"
      },
      "outputs": [],
      "execution_count": null
    },
    {
      "cell_type": "markdown",
      "source": [
        "The code handles variable-length sequences by preparing padded inputs and calculating loss while ignoring padding tokens. The prepare_padded_sequence function converts sequences into index tensors using a mapping (to_ix) and pads them to a fixed maximum length (max_len) with zeros for uniformity. The masked_loss function reshapes model outputs, targets, and a mask indicating non-padded elements, applying the loss function only to non-padded tokens to ensure padding does not affect training. Additionally, the maximum sequence length (max_len) is determined from the training data to standardize input sizes. This approach ensures efficient processing of variable-length data while maintaining training accuracy."
      ],
      "metadata": {
        "id": "xXEND4umbjt1"
      }
    },
    {
      "cell_type": "code",
      "source": [
        "import torch\n",
        "from torch.nn.utils.rnn import pad_sequence\n",
        "\n",
        "# Préparer les séquences avec padding\n",
        "def prepare_padded_sequence(seq, to_ix, max_len):\n",
        "    idxs = [to_ix[w] for w in seq]\n",
        "    idxs = torch.tensor(idxs, device='cuda')\n",
        "    return nn.functional.pad(idxs, (0, max_len - len(idxs)), value=0)\n",
        "\n",
        "# Calcul de la perte en ignorant les paddings\n",
        "def masked_loss(tag_scores, targets, mask, loss_function):\n",
        "    tag_scores = tag_scores.view(-1, tag_scores.size(-1))\n",
        "    targets = targets.view(-1)\n",
        "    mask = mask.view(-1)\n",
        "    loss = loss_function(tag_scores[mask], targets[mask])\n",
        "    return loss\n",
        "\n",
        "# Déterminer la longueur maximale des séquences\n",
        "max_len = max(len(seq) for seq in X_train + Y_train)\n"
      ],
      "metadata": {
        "trusted": true,
        "execution": {
          "iopub.status.busy": "2024-12-06T21:49:30.207083Z",
          "iopub.execute_input": "2024-12-06T21:49:30.207393Z",
          "iopub.status.idle": "2024-12-06T21:49:30.219821Z",
          "shell.execute_reply.started": "2024-12-06T21:49:30.207360Z",
          "shell.execute_reply": "2024-12-06T21:49:30.219040Z"
        },
        "id": "nKgfUYg6gwFO"
      },
      "outputs": [],
      "execution_count": null
    },
    {
      "cell_type": "markdown",
      "source": [
        "The code checks if a CUDA-enabled GPU is available for PyTorch by using the torch.cuda.is_available() function, which returns True if a compatible GPU is detected and properly configured, or False otherwise. The result is printed to confirm whether GPU acceleration can be utilized for faster training and inference. If True, PyTorch models and tensors can be moved to the GPU using device='cuda' for improved performance."
      ],
      "metadata": {
        "id": "Tb1C4pltbmwt"
      }
    },
    {
      "cell_type": "code",
      "source": [
        "import torch\n",
        "print(torch.cuda.is_available())"
      ],
      "metadata": {
        "colab": {
          "base_uri": "https://localhost:8080/"
        },
        "id": "slRfA607nepF",
        "outputId": "68c6314e-d04d-4088-de10-c4f6d467b607"
      },
      "execution_count": null,
      "outputs": [
        {
          "output_type": "stream",
          "name": "stdout",
          "text": [
            "True\n"
          ]
        }
      ]
    },
    {
      "cell_type": "markdown",
      "source": [
        "The code trains the TextTrans model for text translation using embeddings, a custom LSTM cell, and a linear output layer. It initializes key parameters such as embedding size, hidden size, vocabulary sizes, and the number of epochs. The model is moved to the GPU, and nn.CrossEntropyLoss is used as the loss function, with the Adam optimizer configured for parameter updates. During training, the data is processed in batches, with input and target sequences padded to a uniform length and a mask created to ignore padding during loss calculation. For each sequence, a forward pass generates predictions, and the masked loss is computed and backpropagated to adjust model weights. The average loss is calculated for each epoch, and progress is displayed using tqdm, providing insight into model performance over time."
      ],
      "metadata": {
        "id": "7yg6TSrsbwZf"
      }
    },
    {
      "cell_type": "code",
      "source": [
        "import torch.optim as optim\n",
        "import torch\n",
        "\n",
        "\n",
        "\n",
        "# Définition des paramètres\n",
        "EMBEDDING_DIM = 64\n",
        "HIDDEN_DIM = 32\n",
        "EPOCHS = 50\n",
        "vocab_size_darija = len(darija_to_ix)\n",
        "vocab_size_english = len(eng_to_ix)\n",
        "\n",
        "# Initialisation du modèle et de l'optimiseur\n",
        "model = TextTrans(EMBEDDING_DIM, HIDDEN_DIM, vocab_size_darija, vocab_size_english)\n",
        "model.cuda()\n",
        "\n",
        "loss_function = nn.CrossEntropyLoss()\n",
        "optimizer = optim.Adam(model.parameters(), lr=0.001)\n",
        "\n",
        "\n",
        "# Boucle d'entraînement\n",
        "from tqdm import tqdm\n",
        "\n",
        "for epoch in tqdm(range(EPOCHS)):\n",
        "    total_loss = 0\n",
        "    model.train()\n",
        "\n",
        "    for i in range(len(X_train)):\n",
        "        inputs = prepare_padded_sequence(X_train[i], darija_to_ix, max_len)\n",
        "        targets = prepare_padded_sequence(Y_train[i], eng_to_ix, max_len)\n",
        "\n",
        "        # Créer le masque pour ignorer les paddings\n",
        "        mask = (inputs != 0) & (targets != 0)\n",
        "\n",
        "        optimizer.zero_grad()\n",
        "\n",
        "        # Passage dans le modèle\n",
        "        tag_scores = model(inputs)\n",
        "\n",
        "        # Calcul de la perte masquée\n",
        "        loss = masked_loss(tag_scores, targets, mask, loss_function)\n",
        "        loss.backward()\n",
        "        optimizer.step()\n",
        "\n",
        "        total_loss += loss.item()\n",
        "\n",
        "    print(f'Epoch {epoch+1}/{EPOCHS}, Loss: {total_loss/len(X_train)}')"
      ],
      "metadata": {
        "trusted": true,
        "execution": {
          "iopub.status.busy": "2024-12-06T21:49:30.221032Z",
          "iopub.execute_input": "2024-12-06T21:49:30.221490Z"
        },
        "colab": {
          "base_uri": "https://localhost:8080/"
        },
        "id": "FIRcF9_cgwFO",
        "outputId": "f6e3bd9f-c0f5-4ece-f697-ba8548121feb"
      },
      "outputs": [
        {
          "metadata": {
            "tags": null
          },
          "name": "stderr",
          "output_type": "stream",
          "text": [
            "  2%|▏         | 1/50 [09:46<7:58:37, 586.08s/it]"
          ]
        },
        {
          "metadata": {
            "tags": null
          },
          "name": "stdout",
          "output_type": "stream",
          "text": [
            "Epoch 1/50, Loss: 6.535358639687281\n"
          ]
        },
        {
          "metadata": {
            "tags": null
          },
          "name": "stderr",
          "output_type": "stream",
          "text": [
            "\r  4%|▍         | 2/50 [19:54<7:59:11, 598.99s/it]"
          ]
        },
        {
          "metadata": {
            "tags": null
          },
          "name": "stdout",
          "output_type": "stream",
          "text": [
            "Epoch 2/50, Loss: 5.46733868851536\n"
          ]
        },
        {
          "metadata": {
            "tags": null
          },
          "name": "stderr",
          "output_type": "stream",
          "text": [
            "\r  6%|▌         | 3/50 [30:38<8:05:17, 619.53s/it]"
          ]
        },
        {
          "metadata": {
            "tags": null
          },
          "name": "stdout",
          "output_type": "stream",
          "text": [
            "Epoch 3/50, Loss: 4.9731728647984585\n"
          ]
        },
        {
          "metadata": {
            "tags": null
          },
          "name": "stderr",
          "output_type": "stream",
          "text": [
            "\r  8%|▊         | 4/50 [41:04<7:56:59, 622.16s/it]"
          ]
        },
        {
          "metadata": {
            "tags": null
          },
          "name": "stdout",
          "output_type": "stream",
          "text": [
            "Epoch 4/50, Loss: 4.576327598097681\n"
          ]
        },
        {
          "metadata": {
            "tags": null
          },
          "name": "stderr",
          "output_type": "stream",
          "text": [
            "\r 10%|█         | 5/50 [51:32<7:48:13, 624.30s/it]"
          ]
        },
        {
          "metadata": {
            "tags": null
          },
          "name": "stdout",
          "output_type": "stream",
          "text": [
            "Epoch 5/50, Loss: 4.249413510873357\n"
          ]
        },
        {
          "metadata": {
            "tags": null
          },
          "name": "stderr",
          "output_type": "stream",
          "text": [
            "\r 12%|█▏        | 6/50 [1:01:50<7:36:13, 622.12s/it]"
          ]
        },
        {
          "metadata": {
            "tags": null
          },
          "name": "stdout",
          "output_type": "stream",
          "text": [
            "Epoch 6/50, Loss: 3.9725637200356427\n"
          ]
        },
        {
          "metadata": {
            "tags": null
          },
          "name": "stderr",
          "output_type": "stream",
          "text": [
            "\r 14%|█▍        | 7/50 [1:12:12<7:25:51, 622.12s/it]"
          ]
        },
        {
          "metadata": {
            "tags": null
          },
          "name": "stdout",
          "output_type": "stream",
          "text": [
            "Epoch 7/50, Loss: 3.7375321355973243\n"
          ]
        },
        {
          "metadata": {
            "tags": null
          },
          "name": "stderr",
          "output_type": "stream",
          "text": [
            "\r 16%|█▌        | 8/50 [1:22:28<7:14:04, 620.11s/it]"
          ]
        },
        {
          "metadata": {
            "tags": null
          },
          "name": "stdout",
          "output_type": "stream",
          "text": [
            "Epoch 8/50, Loss: 3.532585414497246\n"
          ]
        },
        {
          "metadata": {
            "tags": null
          },
          "name": "stderr",
          "output_type": "stream",
          "text": [
            "\r 18%|█▊        | 9/50 [1:32:23<6:58:27, 612.38s/it]"
          ]
        },
        {
          "metadata": {
            "tags": null
          },
          "name": "stdout",
          "output_type": "stream",
          "text": [
            "Epoch 9/50, Loss: 3.356011094723955\n"
          ]
        },
        {
          "metadata": {
            "tags": null
          },
          "name": "stderr",
          "output_type": "stream",
          "text": [
            "\r 20%|██        | 10/50 [1:42:21<6:45:14, 607.86s/it]"
          ]
        },
        {
          "metadata": {
            "tags": null
          },
          "name": "stdout",
          "output_type": "stream",
          "text": [
            "Epoch 10/50, Loss: 3.1992926364247376\n"
          ]
        },
        {
          "metadata": {
            "tags": null
          },
          "name": "stderr",
          "output_type": "stream",
          "text": [
            "\r 22%|██▏       | 11/50 [1:52:13<6:31:54, 602.93s/it]"
          ]
        },
        {
          "metadata": {
            "tags": null
          },
          "name": "stdout",
          "output_type": "stream",
          "text": [
            "Epoch 11/50, Loss: 3.058962855918952\n"
          ]
        },
        {
          "metadata": {
            "tags": null
          },
          "name": "stderr",
          "output_type": "stream",
          "text": [
            "\r 24%|██▍       | 12/50 [2:02:01<6:19:00, 598.44s/it]"
          ]
        },
        {
          "metadata": {
            "tags": null
          },
          "name": "stdout",
          "output_type": "stream",
          "text": [
            "Epoch 12/50, Loss: 2.9324675884438904\n"
          ]
        },
        {
          "metadata": {
            "tags": null
          },
          "name": "stderr",
          "output_type": "stream",
          "text": [
            "\r 26%|██▌       | 13/50 [2:11:48<6:06:51, 594.92s/it]"
          ]
        },
        {
          "metadata": {
            "tags": null
          },
          "name": "stdout",
          "output_type": "stream",
          "text": [
            "Epoch 13/50, Loss: 2.8203749859136953\n"
          ]
        },
        {
          "metadata": {
            "tags": null
          },
          "name": "stderr",
          "output_type": "stream",
          "text": [
            "\r 28%|██▊       | 14/50 [2:21:33<5:55:18, 592.19s/it]"
          ]
        },
        {
          "metadata": {
            "tags": null
          },
          "name": "stdout",
          "output_type": "stream",
          "text": [
            "Epoch 14/50, Loss: 2.716171477578306\n"
          ]
        },
        {
          "metadata": {
            "tags": null
          },
          "name": "stderr",
          "output_type": "stream",
          "text": [
            "\r 30%|███       | 15/50 [2:31:33<5:46:43, 594.40s/it]"
          ]
        },
        {
          "metadata": {
            "tags": null
          },
          "name": "stdout",
          "output_type": "stream",
          "text": [
            "Epoch 15/50, Loss: 2.6204396650292234\n"
          ]
        },
        {
          "metadata": {
            "tags": null
          },
          "name": "stderr",
          "output_type": "stream",
          "text": [
            "\r 32%|███▏      | 16/50 [2:41:22<5:35:58, 592.89s/it]"
          ]
        },
        {
          "metadata": {
            "tags": null
          },
          "name": "stdout",
          "output_type": "stream",
          "text": [
            "Epoch 16/50, Loss: 2.5390808248615344\n"
          ]
        },
        {
          "metadata": {
            "tags": null
          },
          "name": "stderr",
          "output_type": "stream",
          "text": [
            "\r 34%|███▍      | 17/50 [2:51:07<5:24:39, 590.29s/it]"
          ]
        },
        {
          "metadata": {
            "tags": null
          },
          "name": "stdout",
          "output_type": "stream",
          "text": [
            "Epoch 17/50, Loss: 2.4605989550141096\n"
          ]
        },
        {
          "output_type": "stream",
          "name": "stderr",
          "text": [
            "\r 36%|███▌      | 18/50 [3:00:50<5:13:39, 588.09s/it]"
          ]
        },
        {
          "output_type": "stream",
          "name": "stdout",
          "text": [
            "Epoch 18/50, Loss: 2.3873931226361678\n"
          ]
        },
        {
          "output_type": "stream",
          "name": "stderr",
          "text": [
            "\r 38%|███▊      | 19/50 [3:10:38<5:03:53, 588.18s/it]"
          ]
        },
        {
          "output_type": "stream",
          "name": "stdout",
          "text": [
            "Epoch 19/50, Loss: 2.321869535959926\n"
          ]
        },
        {
          "output_type": "stream",
          "name": "stderr",
          "text": [
            "\r 40%|████      | 20/50 [3:20:32<4:54:59, 589.98s/it]"
          ]
        },
        {
          "output_type": "stream",
          "name": "stdout",
          "text": [
            "Epoch 20/50, Loss: 2.265700746398096\n"
          ]
        }
      ],
      "execution_count": null
    },
    {
      "cell_type": "markdown",
      "source": [
        "\n",
        "\n",
        "---\n",
        "\n",
        "\n",
        "## **Explanation**\n",
        "\n",
        "---\n"
      ],
      "metadata": {
        "id": "_4UCz3cZ-MLS"
      }
    },
    {
      "cell_type": "markdown",
      "source": [
        "### **Data Preparation:**\n",
        "\n",
        "\n",
        "Loaded and preprocessed the English-to-Darija dataset.\n",
        "\n",
        "Tokenized sentences and converted them into sequences of numerical values compatible with the LSTM model.\n",
        "\n",
        "---\n",
        "\n"
      ],
      "metadata": {
        "id": "aJpHFnuW-ai5"
      }
    },
    {
      "cell_type": "markdown",
      "source": [
        "### **Baseline Model Implementation:**\n",
        "\n",
        "\n",
        "\n",
        "Designed a vanilla LSTM network for text translation, ensuring a bidirectional architecture to handle sentence context effectively.\n",
        "Trained the model with basic hyperparameters to establish a performance baseline.\n",
        "\n",
        "\n",
        "---\n",
        "\n"
      ],
      "metadata": {
        "id": "Gbq7WLxd-gBK"
      }
    },
    {
      "cell_type": "markdown",
      "source": [
        "### **Advanced Model Proposals:**\n",
        "\n",
        "Extended the baseline by incorporating advanced LSTM cells, such as Peephole connections and Working Memory-based architectures.\n",
        "Modified the equations governing the gating mechanisms in LSTM layers to enhance learning capacity.\n",
        "\n",
        "---\n",
        "\n"
      ],
      "metadata": {
        "id": "Zp-BRsmd-gM5"
      }
    },
    {
      "cell_type": "markdown",
      "source": [
        "### **Hyperparameter Experiments:**\n",
        "\n",
        "Conducted experiments by varying parameters like:\n",
        "Optimizers (e.g., Adam, SGD).\n",
        "Learning rates.\n",
        "Initialization strategies.\n",
        "Batch sizes.\n",
        "Recorded and visualized results to identify optimal configurations.\n",
        "\n",
        "---\n",
        "\n"
      ],
      "metadata": {
        "id": "MvjNjNvA-gXs"
      }
    },
    {
      "cell_type": "markdown",
      "source": [
        "### **Evaluation and Analysis:**\n",
        "\n",
        "Compared models using metrics such as loss reduction, BLEU scores, and translation accuracy.\n",
        "Visualized results to analyze trends and trade-offs between complexity and performance.\n",
        "\n",
        "---\n",
        "\n"
      ],
      "metadata": {
        "id": "mR9CuBO8-gir"
      }
    },
    {
      "cell_type": "markdown",
      "source": [
        "### **Exploratory Data Analysis (EDA):**\n",
        "\n",
        "Analyzed dataset characteristics like vocabulary size, sequence lengths, and translation patterns to guide model design.\n",
        "\n",
        "---\n",
        "\n"
      ],
      "metadata": {
        "id": "Hw1GwFPn-gse"
      }
    }
  ]
}